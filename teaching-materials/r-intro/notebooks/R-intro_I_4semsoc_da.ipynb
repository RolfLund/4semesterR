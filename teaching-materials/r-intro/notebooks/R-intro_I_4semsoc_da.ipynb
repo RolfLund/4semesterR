{
 "cells": [
  {
   "cell_type": "markdown",
   "metadata": {
    "slideshow": {
     "slide_type": "slide"
    }
   },
   "source": [
    "# Introduktion til R (del 1)\n",
    "\n",
    "*4. semester sociologi, 2022*"
   ]
  },
  {
   "cell_type": "markdown",
   "metadata": {
    "slideshow": {
     "slide_type": "slide"
    }
   },
   "source": [
    "## Hvad er R?\n",
    "\n",
    "R er et gratis analyseprogram med sit eget kommandosprog.\n",
    "\n",
    "Programmet egner sig især til kvantiative analyser og visualiseringer af kvantitative data.\n",
    "\n",
    "R kan arbejde med mange forskellige dataformater. Da programmet er \"open source\", findes ufattelig mange udvidelser til programmet, der tilføjer funktioner."
   ]
  },
  {
   "cell_type": "markdown",
   "metadata": {
    "slideshow": {
     "slide_type": "slide"
    }
   },
   "source": [
    "## Dagens program\n",
    "\n",
    "- RStudio miljøet\n",
    "- At arbejde med R\n",
    "- Objekter i R \n",
    "- Funktioner i R\n",
    "- Indlæsning af funktioner fra andre pakker\n",
    "- Introduktion til tabeldata (dataframes)\n",
    "- Udforskning af tabeldata i R\n",
    "- Simpel datahåndtering i R: Subsetting, nye variable og rekodning"
   ]
  },
  {
   "cell_type": "markdown",
   "metadata": {
    "slideshow": {
     "slide_type": "slide"
    },
    "tags": []
   },
   "source": [
    "## Undervisningsformat\n",
    "\n",
    "I disse introduktioner vil vi variere mellem præsentation, demonstration og øvelser. I opfordres til at skrive med, som vi arbejder med R i lektionerne.\n",
    "\n",
    "- Hjælp hinanden\n",
    "- Sig til hvis I sidder fast\n",
    "- Vi kommer rundt og hjælper undervejs"
   ]
  },
  {
   "cell_type": "markdown",
   "metadata": {
    "slideshow": {
     "slide_type": "slide"
    }
   },
   "source": [
    "## RStudio\n",
    "\n",
    "R i sig selv er meget begrænset. RStudio tilføjer en brugerflade ovenpå R, der gør det rarere at arbejde med. \n",
    "\n",
    "Man arbejder typisk i RStudio, når man bruger R."
   ]
  },
  {
   "cell_type": "markdown",
   "metadata": {
    "slideshow": {
     "slide_type": "slide"
    }
   },
   "source": [
    "## At arbejde med R\n",
    "\n",
    "R har sit eget kodesprog. R fungerer ved at man skriver kommandoer i R sproget, som R derefter \"fortolker\". \n",
    "\n",
    "R (og RStudio) har en meget begrænset brugerflade. Det betyder, at næsten alt vi vil i R (statistik, visualisering osv.), skal ske ved at skrive koder i R sproget.\n",
    "\n",
    "### R som lommeregner\n",
    "Hvad menes med at R \"fortolker\" kode?\n",
    "\n",
    "\"Fortolkning\" i R er blot et spørgsmål om R forstår, hvad du forsøger at gøre. Man får R til at gøre ting ved at skrive kommandoer. Hvis R forstår det, gør R den ting. Hvis R ikke forstår det, får man en fejl.\n",
    "\n",
    "R kan fx forstå matematiske operationer:"
   ]
  },
  {
   "cell_type": "code",
   "execution_count": 1,
   "metadata": {
    "slideshow": {
     "slide_type": "fragment"
    }
   },
   "outputs": [
    {
     "data": {
      "text/html": [
       "42"
      ],
      "text/latex": [
       "42"
      ],
      "text/markdown": [
       "42"
      ],
      "text/plain": [
       "[1] 42"
      ]
     },
     "metadata": {},
     "output_type": "display_data"
    }
   ],
   "source": [
    "7 * 6"
   ]
  },
  {
   "cell_type": "code",
   "execution_count": 2,
   "metadata": {
    "slideshow": {
     "slide_type": "fragment"
    }
   },
   "outputs": [
    {
     "data": {
      "text/html": [
       "780"
      ],
      "text/latex": [
       "780"
      ],
      "text/markdown": [
       "780"
      ],
      "text/plain": [
       "[1] 780"
      ]
     },
     "metadata": {},
     "output_type": "display_data"
    }
   ],
   "source": [
    "912 - 132"
   ]
  },
  {
   "cell_type": "markdown",
   "metadata": {
    "slideshow": {
     "slide_type": "slide"
    },
    "tags": []
   },
   "source": [
    "R kan dog ikke forstå tilfældige kommandoer:"
   ]
  },
  {
   "cell_type": "code",
   "execution_count": 3,
   "metadata": {
    "slideshow": {
     "slide_type": "fragment"
    },
    "tags": []
   },
   "outputs": [
    {
     "ename": "ERROR",
     "evalue": "Error in parse(text = x, srcfile = src): <text>:1:5: uventet symbol\n1: lav min\n        ^\n",
     "output_type": "error",
     "traceback": [
      "Error in parse(text = x, srcfile = src): <text>:1:5: uventet symbol\n1: lav min\n        ^\nTraceback:\n"
     ]
    }
   ],
   "source": [
    "lav min eksamensopgave"
   ]
  },
  {
   "cell_type": "markdown",
   "metadata": {
    "slideshow": {
     "slide_type": "slide"
    }
   },
   "source": [
    "## Brug af R scripts\n",
    "\n",
    "Script filer er tekst filer med kode, som R kan forstå/fortolke.\n",
    "\n",
    "En script-fil kan forstås som en \"analyseopskrift\", der indeholder alle kommandoer nødvendige for at foretage en analyse. Det tillader også, at man nemt kan køre kommandoer igen.\n",
    "\n",
    "Man bør altid skrive de kommandoer, som man bruger, ind i et script. Brug derfor kun konsolvinduet til at finde frem til den rigtige kommando.\n",
    "\n",
    "- `#` kan bruges til kommentarer (ignoreres når man kører koden)\n",
    "- `Ctrl` + `Enter` (Windows), `Command` + `Enter` (Mac): Kører aktuel linje eller selektion\n",
    "\n",
    "***BEMÆRK!*** Der er ingen fortryd-knap i R! Når koden er kørt, er ændringen sket. Den eneste måde at \"fortryde\" er ved at genskabe det, som man har lavet, ved at køre tidligere kode igen. Netop derfor er scripts vigtige."
   ]
  },
  {
   "cell_type": "markdown",
   "metadata": {
    "slideshow": {
     "slide_type": "slide"
    }
   },
   "source": [
    "## R Sproget: Objekter og funktioner\n",
    "\n",
    "R fungerer ved at lagre værdier og information i \"objekter\". Disse objekter kan derefter bruges i forskellige funktioner. Funktioner kan være alt fra at udregne et gennemsnit, lave en figur, gemme et datasæt osv. \n",
    "\n",
    "Forsimplet sagt: Et objekt er en eller anden lagret information, mens en funktion er noget, som kan bearbejde eller gøre noget ved informationen i et objekt."
   ]
  },
  {
   "cell_type": "markdown",
   "metadata": {
    "slideshow": {
     "slide_type": "slide"
    }
   },
   "source": [
    "### Objekter\n",
    "\n",
    "At arbejde med R involverer kontinuerligt at definere objekter. Objekter er blot et navn til at kalde lagret information frem igen.\n",
    "\n",
    "Objekter kan være mange ting: \n",
    "- et ord\n",
    "- et tal\n",
    "- en talrække\n",
    "- et datasæt\n",
    "- en matematisk formel\n",
    "- et resultat\n",
    "- en filsti\n",
    "- en graf\n",
    "- og så videre...\n",
    "\n",
    "Når et objekt er defineret, er det tilgængeligt i det aktuelle arbejdsmiljø (dvs.: tilgængeligt indtil vi starter en ny R session eller fjerner det igen).\n",
    "\n",
    "Der er ingen grænser for mængden af objekter, som vi kan danne. Dette tillader at vi kan arbejde med meget forskellig information samtidig."
   ]
  },
  {
   "cell_type": "markdown",
   "metadata": {
    "slideshow": {
     "slide_type": "slide"
    }
   },
   "source": [
    "### Definér objekter\n",
    "\n",
    "Objekter dannes ved brug af `<-` (`Alt` + `-`):"
   ]
  },
  {
   "cell_type": "code",
   "execution_count": 4,
   "metadata": {
    "slideshow": {
     "slide_type": "fragment"
    }
   },
   "outputs": [],
   "source": [
    "year <- 1964"
   ]
  },
  {
   "cell_type": "code",
   "execution_count": 5,
   "metadata": {
    "slideshow": {
     "slide_type": "fragment"
    }
   },
   "outputs": [
    {
     "data": {
      "text/html": [
       "1964"
      ],
      "text/latex": [
       "1964"
      ],
      "text/markdown": [
       "1964"
      ],
      "text/plain": [
       "[1] 1964"
      ]
     },
     "metadata": {},
     "output_type": "display_data"
    }
   ],
   "source": [
    "year"
   ]
  },
  {
   "cell_type": "markdown",
   "metadata": {
    "slideshow": {
     "slide_type": "fragment"
    }
   },
   "source": [
    "Hvis objektet indeholder et tal, kan R arbejde med det som ethvert andet tal."
   ]
  },
  {
   "cell_type": "code",
   "execution_count": 6,
   "metadata": {
    "slideshow": {
     "slide_type": "fragment"
    }
   },
   "outputs": [
    {
     "data": {
      "text/html": [
       "1974"
      ],
      "text/latex": [
       "1974"
      ],
      "text/markdown": [
       "1974"
      ],
      "text/plain": [
       "[1] 1974"
      ]
     },
     "metadata": {},
     "output_type": "display_data"
    }
   ],
   "source": [
    "year + 10"
   ]
  },
  {
   "cell_type": "markdown",
   "metadata": {
    "slideshow": {
     "slide_type": "slide"
    }
   },
   "source": [
    "Bemærk at R behandler store og små bogstaver som forskellige:"
   ]
  },
  {
   "cell_type": "code",
   "execution_count": 7,
   "metadata": {
    "slideshow": {
     "slide_type": "fragment"
    }
   },
   "outputs": [
    {
     "ename": "ERROR",
     "evalue": "Error in eval(expr, envir, enclos): objekt 'Year' blev ikke fundet\n",
     "output_type": "error",
     "traceback": [
      "Error in eval(expr, envir, enclos): objekt 'Year' blev ikke fundet\nTraceback:\n"
     ]
    }
   ],
   "source": [
    "Year # Findes ikke"
   ]
  },
  {
   "cell_type": "markdown",
   "metadata": {
    "slideshow": {
     "slide_type": "slide"
    }
   },
   "source": [
    "Når man bruger `' '` eller`\" \"` fortæller man R, at inputtet skal behandles som tekst. *Dette gælder også tal!*"
   ]
  },
  {
   "cell_type": "code",
   "execution_count": 8,
   "metadata": {
    "slideshow": {
     "slide_type": "fragment"
    }
   },
   "outputs": [],
   "source": [
    "name <-  \"keenan\""
   ]
  },
  {
   "cell_type": "code",
   "execution_count": 9,
   "metadata": {
    "slideshow": {
     "slide_type": "fragment"
    }
   },
   "outputs": [
    {
     "data": {
      "text/html": [
       "'keenan'"
      ],
      "text/latex": [
       "'keenan'"
      ],
      "text/markdown": [
       "'keenan'"
      ],
      "text/plain": [
       "[1] \"keenan\""
      ]
     },
     "metadata": {},
     "output_type": "display_data"
    }
   ],
   "source": [
    "name"
   ]
  },
  {
   "cell_type": "code",
   "execution_count": 10,
   "metadata": {
    "slideshow": {
     "slide_type": "slide"
    }
   },
   "outputs": [],
   "source": [
    "year_now  <- '2021'"
   ]
  },
  {
   "cell_type": "code",
   "execution_count": 11,
   "metadata": {
    "slideshow": {
     "slide_type": "fragment"
    }
   },
   "outputs": [
    {
     "data": {
      "text/html": [
       "'2021'"
      ],
      "text/latex": [
       "'2021'"
      ],
      "text/markdown": [
       "'2021'"
      ],
      "text/plain": [
       "[1] \"2021\""
      ]
     },
     "metadata": {},
     "output_type": "display_data"
    }
   ],
   "source": [
    "year_now"
   ]
  },
  {
   "cell_type": "markdown",
   "metadata": {
    "slideshow": {
     "slide_type": "skip"
    },
    "tags": []
   },
   "source": [
    "Bemærk at tal lagret som tekst også har citationstegn om sig. Tal lagret som tekst kan ikke bruges som tal:"
   ]
  },
  {
   "cell_type": "code",
   "execution_count": 12,
   "metadata": {
    "slideshow": {
     "slide_type": "fragment"
    }
   },
   "outputs": [
    {
     "ename": "ERROR",
     "evalue": "Error in year_now - 5: non-numeric argument to binary operator\n",
     "output_type": "error",
     "traceback": [
      "Error in year_now - 5: non-numeric argument to binary operator\nTraceback:\n"
     ]
    }
   ],
   "source": [
    "year_now - 5"
   ]
  },
  {
   "cell_type": "markdown",
   "metadata": {
    "slideshow": {
     "slide_type": "fragment"
    }
   },
   "source": [
    "Ovenstående fejl sker fordi R adskiller mellem forskellige objekter ved at tildele dem en *class*. Objektets *class* bestemmer kort sagt, hvad der er muligt med objektet."
   ]
  },
  {
   "cell_type": "markdown",
   "metadata": {
    "slideshow": {
     "slide_type": "slide"
    }
   },
   "source": [
    "### Navngivning af objekter\n",
    "Objekter kan hedde næsten hvad som helst. En god tommelfingerregel er at bruge navne, der indikerer, hvad objektet indeholder.\n",
    "\n",
    "#### Restriktioner ved navngivning\n",
    "- De fleste specialtegn kan ikke bruges: `/`, `?`, `*`, `+` (mange af disse betyder noget i R)\n",
    "- Allerede eksisterende navne i R (overskriver den/det eksisterende funktion/objektet)\n",
    "\n",
    "#### Tips til navngivning \n",
    "- Brug '`_`': `my_object`, `room_number`\n",
    "\n",
    "Eller:\n",
    "\n",
    "- Lad hvert ord starte med stort bortset fra det første: `myObject`, `roomNumber`"
   ]
  },
  {
   "cell_type": "markdown",
   "metadata": {
    "slideshow": {
     "slide_type": "slide"
    }
   },
   "source": [
    "## Funktioner\n",
    "\n",
    "Funktioner er kommandoer brugt til at transformere objektet på en måde og give et output.\n",
    "\n",
    "Det, som man sætter i funktionen, kaldes et \"argument\" eller \"input\". Antallet af argumenter varierer mellem funktioner.\n",
    "\n",
    "Funktioner har alle den samme opbygning: `funktionsnavn(arg1, arg2, arg3)`. (funktionsnavn med argumenterne i parentes adskilt med kommaer).\n",
    "\n",
    "Nogle argumenter er krævet, mens andre er valgfrie."
   ]
  },
  {
   "cell_type": "markdown",
   "metadata": {
    "slideshow": {
     "slide_type": "skip"
    },
    "tags": []
   },
   "source": [
    "### Eksempler på funktioner\n",
    "\n",
    "Gør tekst til blokbogstaver:"
   ]
  },
  {
   "cell_type": "code",
   "execution_count": 13,
   "metadata": {
    "slideshow": {
     "slide_type": "fragment"
    }
   },
   "outputs": [
    {
     "data": {
      "text/html": [
       "'KILMISTER'"
      ],
      "text/latex": [
       "'KILMISTER'"
      ],
      "text/markdown": [
       "'KILMISTER'"
      ],
      "text/plain": [
       "[1] \"KILMISTER\""
      ]
     },
     "metadata": {},
     "output_type": "display_data"
    }
   ],
   "source": [
    "name <- 'kilmister'\n",
    "toupper(name) "
   ]
  },
  {
   "cell_type": "markdown",
   "metadata": {
    "slideshow": {
     "slide_type": "fragment"
    },
    "tags": []
   },
   "source": [
    "Erstat bogstaver i tekst:"
   ]
  },
  {
   "cell_type": "code",
   "execution_count": 14,
   "metadata": {
    "slideshow": {
     "slide_type": "fragment"
    }
   },
   "outputs": [
    {
     "data": {
      "text/html": [
       "'kilmistar'"
      ],
      "text/latex": [
       "'kilmistar'"
      ],
      "text/markdown": [
       "'kilmistar'"
      ],
      "text/plain": [
       "[1] \"kilmistar\""
      ]
     },
     "metadata": {},
     "output_type": "display_data"
    }
   ],
   "source": [
    "gsub(\"e\", \"a\", name)"
   ]
  },
  {
   "cell_type": "markdown",
   "metadata": {
    "slideshow": {
     "slide_type": "slide"
    }
   },
   "source": [
    "### Funktioner og output\n",
    "\n",
    "Bemærk at funktioner *aldrig* ændrer et objekt. Når man bruger en funktion, beder man R om at *se* et output, men ikke om at ændre noget.\n",
    "\n",
    "Hvis man vil ændre et objekt, skal man derfor lagre outputtet i et objekt (et nyt eller eksisterende)."
   ]
  },
  {
   "cell_type": "code",
   "execution_count": 14,
   "metadata": {
    "slideshow": {
     "slide_type": "fragment"
    }
   },
   "outputs": [
    {
     "data": {
      "text/html": [
       "'kilmister'"
      ],
      "text/latex": [
       "'kilmister'"
      ],
      "text/markdown": [
       "'kilmister'"
      ],
      "text/plain": [
       "[1] \"kilmister\""
      ]
     },
     "metadata": {},
     "output_type": "display_data"
    }
   ],
   "source": [
    "name # uændret selvom det er brugt i flere funktioner"
   ]
  },
  {
   "cell_type": "code",
   "execution_count": 15,
   "metadata": {
    "slideshow": {
     "slide_type": "fragment"
    }
   },
   "outputs": [],
   "source": [
    "name <- gsub(\"e\", \"a\", name) # overskriv objekt med ændringen"
   ]
  },
  {
   "cell_type": "code",
   "execution_count": 16,
   "metadata": {
    "slideshow": {
     "slide_type": "fragment"
    }
   },
   "outputs": [
    {
     "data": {
      "text/html": [
       "'kilmistar'"
      ],
      "text/latex": [
       "'kilmistar'"
      ],
      "text/markdown": [
       "'kilmistar'"
      ],
      "text/plain": [
       "[1] \"kilmistar\""
      ]
     },
     "metadata": {},
     "output_type": "display_data"
    }
   ],
   "source": [
    "name"
   ]
  },
  {
   "cell_type": "markdown",
   "metadata": {
    "slideshow": {
     "slide_type": "slide"
    }
   },
   "source": [
    "## ØVELSE 1: OBJEKTER OG FUNKTIONER\n",
    "\n",
    "1. Dan følgende objekter:\n",
    "\n",
    "    - `name1`: `\"araya\"`\n",
    "    - `name2`: `\"townsend\"`\n",
    "    - `year1`: `1961` (uden citationstegn)\n",
    "    - `year2`: `\"1972\"` (med citationstegn)\n",
    "\n",
    "2. Forsøg at udregn alderen for `year1` og `year2` (nuværende år - year-objekt). \n",
    "\n",
    "3. Brug funktionen `toupper()` til at ændre `name1` til blokbogstaver."
   ]
  },
  {
   "cell_type": "markdown",
   "metadata": {
    "slideshow": {
     "slide_type": "subslide"
    }
   },
   "source": [
    "## ØVELSE 1: DEFINING OBJECTS\n",
    "*Hvad sker der?*"
   ]
  },
  {
   "cell_type": "code",
   "execution_count": 17,
   "metadata": {
    "slideshow": {
     "slide_type": "fragment"
    }
   },
   "outputs": [],
   "source": [
    "name1 <- \"araya\"\n",
    "name2 <- \"townsend\"\n",
    "year1 <- 1961\n",
    "year2 <- \"1972\""
   ]
  },
  {
   "cell_type": "code",
   "execution_count": 19,
   "metadata": {
    "slideshow": {
     "slide_type": "subslide"
    }
   },
   "outputs": [
    {
     "data": {
      "text/html": [
       "60"
      ],
      "text/latex": [
       "60"
      ],
      "text/markdown": [
       "60"
      ],
      "text/plain": [
       "[1] 60"
      ]
     },
     "metadata": {},
     "output_type": "display_data"
    }
   ],
   "source": [
    "age1 <- 2021 - year1 # Virker fint\n",
    "\n",
    "age1"
   ]
  },
  {
   "cell_type": "code",
   "execution_count": 20,
   "metadata": {
    "slideshow": {
     "slide_type": "fragment"
    }
   },
   "outputs": [
    {
     "ename": "ERROR",
     "evalue": "Error in 2021 - year2: non-numeric argument to binary operator\n",
     "output_type": "error",
     "traceback": [
      "Error in 2021 - year2: non-numeric argument to binary operator\nTraceback:\n"
     ]
    }
   ],
   "source": [
    "age2 <- 2021 - year2 # Giver fejl - year2 er tekst"
   ]
  },
  {
   "cell_type": "code",
   "execution_count": 21,
   "metadata": {
    "slideshow": {
     "slide_type": "subslide"
    }
   },
   "outputs": [
    {
     "data": {
      "text/html": [
       "'ARAYA'"
      ],
      "text/latex": [
       "'ARAYA'"
      ],
      "text/markdown": [
       "'ARAYA'"
      ],
      "text/plain": [
       "[1] \"ARAYA\""
      ]
     },
     "metadata": {},
     "output_type": "display_data"
    }
   ],
   "source": [
    "name1 <- toupper(name1)\n",
    "\n",
    "name1"
   ]
  },
  {
   "cell_type": "markdown",
   "metadata": {
    "slideshow": {
     "slide_type": "slide"
    }
   },
   "source": [
    "## R Libraries (pakker) \n",
    "\n",
    "Fordi R er \"open source\", bliver der konstant tilføjet nye funktioner til R. Funktioner, som andre har lavet, kan læses ind via \"R pakker\", som kan gøres til del af ens \"R bibliotek\".\n",
    "\n",
    "Alle kommandoer indtil videre har været del af `base` pakken (del af R fra starten). \n",
    "\n",
    "Pakker kan installeres enten gennem konsolen eller gennem peg-og-klik.\n",
    "\n",
    "\n",
    "R adskiller mellem installation og indlæsning. Dette for at undgå konflikter mellem pakker.\n",
    "\n",
    "Funktioner fra en pakke læses ind i arbejdsmiljøet på følgende måde (pakkenavn *uden* citationstegn!):\n",
    "\n",
    "`library(packagename)` "
   ]
  },
  {
   "cell_type": "markdown",
   "metadata": {
    "slideshow": {
     "slide_type": "slide"
    },
    "tags": []
   },
   "source": [
    "### Installation gennem konsol\n",
    "\n",
    "Pakker kan installere på følgende måde (pakkenavn *med* citationstegn!): \n",
    "\n",
    "`install.packages('packagename')` "
   ]
  },
  {
   "cell_type": "markdown",
   "metadata": {
    "slideshow": {
     "slide_type": "slide"
    },
    "tags": []
   },
   "source": [
    "### Installation med peg og klik\n",
    "\n",
    "Gå i \"Packages\"-fanen i vinduet med \"Files, Plots, Packages, Help, Viewer\":\n",
    "\n",
    "![pckwin](./img/pckwin.png)\n",
    "\n",
    "Tryk \"Install\". Skriv navnet på pakkerne i andet felt adskilt med mellemrum og tryk \"Install\":\n",
    "\n",
    "![pckinst](./img/pckinst.png)"
   ]
  },
  {
   "cell_type": "markdown",
   "metadata": {
    "slideshow": {
     "slide_type": "slide"
    }
   },
   "source": [
    "## Indlæsning af data med `readr` (tidyverse)\n",
    "\n",
    "`readr` er en pakke til at indlæse forskellige datafiler i R.\n",
    "\n",
    "R har også basisfunktioner til dette, men `readr` er mere effektiv.\n",
    "\n",
    "`readr` er del af pakkesamlingen `tidyverse`: https://www.tidyverse.org/"
   ]
  },
  {
   "cell_type": "markdown",
   "metadata": {
    "slideshow": {
     "slide_type": "slide"
    },
    "tags": []
   },
   "source": [
    "I koden herunder indlæser vi data ind fra en csv-fil og gemmer i objektet `ess18`:"
   ]
  },
  {
   "cell_type": "code",
   "execution_count": 1,
   "metadata": {
    "slideshow": {
     "slide_type": "fragment"
    }
   },
   "outputs": [
    {
     "name": "stderr",
     "output_type": "stream",
     "text": [
      "Warning message:\n",
      "\"pakke 'readr' blev bygget under R version 4.1.2\"\n",
      "\u001b[1mRows: \u001b[22m\u001b[34m1285\u001b[39m \u001b[1mColumns: \u001b[22m\u001b[34m17\u001b[39m\n",
      "\n",
      "\u001b[36m--\u001b[39m \u001b[1mColumn specification\u001b[22m \u001b[36m------------------------------------------------------------------------------------------------\u001b[39m\n",
      "\u001b[1mDelimiter:\u001b[22m \",\"\n",
      "\u001b[31mchr\u001b[39m  (7): vote, prtvtddk, health, lvpntyr, tygrtr, gndr, edlvddk\n",
      "\u001b[32mdbl\u001b[39m (10): idno, netustm, ppltrst, yrbrn, eduyrs, wkhct, wkhtot, grspnum, frl...\n",
      "\n",
      "\n",
      "\u001b[36mi\u001b[39m Use \u001b[30m\u001b[47m\u001b[30m\u001b[47m`spec()`\u001b[47m\u001b[30m\u001b[49m\u001b[39m to retrieve the full column specification for this data.\n",
      "\u001b[36mi\u001b[39m Specify the column types or set \u001b[30m\u001b[47m\u001b[30m\u001b[47m`show_col_types = FALSE`\u001b[47m\u001b[30m\u001b[49m\u001b[39m to quiet this message.\n",
      "\n"
     ]
    }
   ],
   "source": [
    "library(readr)\n",
    "\n",
    "ess18 <- read_csv(\"https://github.com/RolfLund/4semesterR/raw/master/teaching-materials/r-intro/datasets/ESS2018DK_subset.csv\")"
   ]
  },
  {
   "cell_type": "markdown",
   "metadata": {
    "slideshow": {
     "slide_type": "slide"
    },
    "tags": []
   },
   "source": [
    "### Indlæsning med peg og klik\n",
    "\n",
    "Data kan også indlæses med peg-og-klik under \"File\"->\"Import dataset\". Her hjælper RStudio med importen af data:\n",
    "\n",
    "![impdat](./img/impdat.png)"
   ]
  },
  {
   "cell_type": "markdown",
   "metadata": {
    "slideshow": {
     "slide_type": "slide"
    }
   },
   "source": [
    "## Tabeldata i R: Data Frames\n",
    "\n",
    "`ess18` er nu et objekt, der indeholder et datasæt. Bemærk at måden vi danner objektet ikke er anderledes end andre måder, som vi har dannet objekter: `objectname <- somefunction(something)`.\n",
    "\n",
    "`ess18` er en \"data frame\". En \"data frame\" er måden R lagrer tabeldata (data struktureret i rækker og kolonner)."
   ]
  },
  {
   "cell_type": "markdown",
   "metadata": {
    "slideshow": {
     "slide_type": "slide"
    }
   },
   "source": [
    "### Data brugt i undervisningen: European Social Survey 2018\n",
    "\n",
    "Til R introduktionerne bruger vi et udsnit af European Social Survey fra 2018 (https://www.europeansocialsurvey.org/). Data indeholder kun den danske del af data, nogle udvalgte variable samt nogle få filtreringer.\n",
    "\n",
    "- Kodebog kan findes her: https://www.europeansocialsurvey.org/docs/round9/survey/ESS9_appendix_a7_e03_1.pdf\n",
    "- Spørgeskeamet brugt i undersøgelsen kan findes her: https://www.europeansocialsurvey.org/docs/round9/fieldwork/source/ESS9_source_questionnaires.pdf\n",
    "\n",
    "Datasættet indeholder følgende variable:\n",
    "\n",
    "|variabel | beskrivelse |\n",
    "|----|---|\n",
    "|idno|Respondent's identification number|\n",
    "|netustm |Internet use, how much time on typical day, in minutes|\n",
    "|ppltrst|Most people can be trusted or you can't be too careful|\n",
    "|vote|Voted last national election|\n",
    "|prtvtddk|Party voted for in last national election, Denmark|\n",
    "|health|Subjective general health|\n",
    "|lvpntyr|Year first left parents for living separately for 2 months or more|\n",
    "|tygrtr|Retire permanently, age too young. SPLIT BALLOT|\n",
    "|gndr|Gender|\n",
    "|yrbrn|Year of birth|\n",
    "|edlvddk|Highest level of education, Denmark|\n",
    "|eduyrs|Years of full-time education completed|\n",
    "|wkhct|Total contracted hours per week in main job overtime excluded|\n",
    "|wkhtot|Total hours normally worked per week in main job overtime included|\n",
    "|grspnum|What is your usual [weekly/monthly/annual] gross pay|\n",
    "|frlgrsp|Fair level of [weekly/monthly/annual] gross pay for you|\n",
    "|inwtm|Interview length in minutes, main questionnaire|\n"
   ]
  },
  {
   "cell_type": "markdown",
   "metadata": {
    "slideshow": {
     "slide_type": "slide"
    }
   },
   "source": [
    "## Udforskning af data frames\n",
    "For at få et overblik over data, kan man bruge funktionen `head()`:"
   ]
  },
  {
   "cell_type": "code",
   "execution_count": 25,
   "metadata": {
    "slideshow": {
     "slide_type": "slide"
    }
   },
   "outputs": [
    {
     "data": {
      "text/html": [
       "<table class=\"dataframe\">\n",
       "<caption>A tibble: 6 × 17</caption>\n",
       "<thead>\n",
       "\t<tr><th scope=col>idno</th><th scope=col>netustm</th><th scope=col>ppltrst</th><th scope=col>vote</th><th scope=col>prtvtddk</th><th scope=col>health</th><th scope=col>lvpntyr</th><th scope=col>tygrtr</th><th scope=col>gndr</th><th scope=col>yrbrn</th><th scope=col>edlvddk</th><th scope=col>eduyrs</th><th scope=col>wkhct</th><th scope=col>wkhtot</th><th scope=col>grspnum</th><th scope=col>frlgrsp</th><th scope=col>inwtm</th></tr>\n",
       "\t<tr><th scope=col>&lt;dbl&gt;</th><th scope=col>&lt;dbl&gt;</th><th scope=col>&lt;dbl&gt;</th><th scope=col>&lt;chr&gt;</th><th scope=col>&lt;chr&gt;</th><th scope=col>&lt;chr&gt;</th><th scope=col>&lt;chr&gt;</th><th scope=col>&lt;chr&gt;</th><th scope=col>&lt;chr&gt;</th><th scope=col>&lt;dbl&gt;</th><th scope=col>&lt;chr&gt;</th><th scope=col>&lt;dbl&gt;</th><th scope=col>&lt;dbl&gt;</th><th scope=col>&lt;dbl&gt;</th><th scope=col>&lt;dbl&gt;</th><th scope=col>&lt;dbl&gt;</th><th scope=col>&lt;dbl&gt;</th></tr>\n",
       "</thead>\n",
       "<tbody>\n",
       "\t<tr><td> 5816</td><td> 90</td><td>7</td><td>Yes</td><td>SF Socialistisk Folkeparti - Socialist People's Party</td><td>Good    </td><td>1994</td><td>60</td><td>Male  </td><td>1974</td><td>Mellemlang videregående uddannelse af 3-4 års varighed. Professionsbachelorer,</td><td>35</td><td>37</td><td>37</td><td>37000</td><td>35000</td><td>61</td></tr>\n",
       "\t<tr><td> 7251</td><td>300</td><td>5</td><td>Yes</td><td>Dansk Folkeparti - Danish People's Party             </td><td>Fair    </td><td>1993</td><td>40</td><td>Female</td><td>1975</td><td>Faglig uddannelse (håndværk, handel, landbrug mv.), F.eks. Faglærte, Social-  </td><td>13</td><td>32</td><td>34</td><td>22000</td><td>30000</td><td>68</td></tr>\n",
       "\t<tr><td> 7887</td><td>360</td><td>8</td><td>Yes</td><td>Socialdemokratiet - The Social democrats             </td><td>Fair    </td><td>1983</td><td>55</td><td>Male  </td><td>1958</td><td>Lang videregående uddannelse. Kandidatuddannelser af 5.-6. års varighed, F.eks</td><td>25</td><td>39</td><td>39</td><td>36000</td><td>42000</td><td>89</td></tr>\n",
       "\t<tr><td> 9607</td><td>540</td><td>9</td><td>Yes</td><td>Alternativet - The Alternative                       </td><td>Good    </td><td>1982</td><td>64</td><td>Female</td><td>1964</td><td>Mellemlang videregående uddannelse af 3-4 års varighed. Professionsbachelorer,</td><td>13</td><td>32</td><td>34</td><td>32000</td><td>   NA</td><td>50</td></tr>\n",
       "\t<tr><td>11688</td><td> NA</td><td>5</td><td>Yes</td><td>Socialdemokratiet - The Social democrats             </td><td>Very bad</td><td>1968</td><td>50</td><td>Female</td><td>1952</td><td>Faglig uddannelse (håndværk, handel, landbrug mv.), F.eks. Faglærte, Social-  </td><td> 2</td><td>37</td><td>37</td><td>   NA</td><td>   NA</td><td>77</td></tr>\n",
       "\t<tr><td>12355</td><td>120</td><td>5</td><td>Yes</td><td>Socialdemokratiet - The Social democrats             </td><td>Fair    </td><td>1987</td><td>60</td><td>Male  </td><td>1963</td><td>Faglig uddannelse (håndværk, handel, landbrug mv.), F.eks. Faglærte, Social-  </td><td>14</td><td>38</td><td>37</td><td>36000</td><td>38000</td><td>48</td></tr>\n",
       "</tbody>\n",
       "</table>\n"
      ],
      "text/latex": [
       "A tibble: 6 × 17\n",
       "\\begin{tabular}{lllllllllllllllll}\n",
       " idno & netustm & ppltrst & vote & prtvtddk & health & lvpntyr & tygrtr & gndr & yrbrn & edlvddk & eduyrs & wkhct & wkhtot & grspnum & frlgrsp & inwtm\\\\\n",
       " <dbl> & <dbl> & <dbl> & <chr> & <chr> & <chr> & <chr> & <chr> & <chr> & <dbl> & <chr> & <dbl> & <dbl> & <dbl> & <dbl> & <dbl> & <dbl>\\\\\n",
       "\\hline\n",
       "\t  5816 &  90 & 7 & Yes & SF Socialistisk Folkeparti - Socialist People's Party & Good     & 1994 & 60 & Male   & 1974 & Mellemlang videregående uddannelse af 3-4 års varighed. Professionsbachelorer, & 35 & 37 & 37 & 37000 & 35000 & 61\\\\\n",
       "\t  7251 & 300 & 5 & Yes & Dansk Folkeparti - Danish People's Party              & Fair     & 1993 & 40 & Female & 1975 & Faglig uddannelse (håndværk, handel, landbrug mv.), F.eks. Faglærte, Social-   & 13 & 32 & 34 & 22000 & 30000 & 68\\\\\n",
       "\t  7887 & 360 & 8 & Yes & Socialdemokratiet - The Social democrats              & Fair     & 1983 & 55 & Male   & 1958 & Lang videregående uddannelse. Kandidatuddannelser af 5.-6. års varighed, F.eks & 25 & 39 & 39 & 36000 & 42000 & 89\\\\\n",
       "\t  9607 & 540 & 9 & Yes & Alternativet - The Alternative                        & Good     & 1982 & 64 & Female & 1964 & Mellemlang videregående uddannelse af 3-4 års varighed. Professionsbachelorer, & 13 & 32 & 34 & 32000 &    NA & 50\\\\\n",
       "\t 11688 &  NA & 5 & Yes & Socialdemokratiet - The Social democrats              & Very bad & 1968 & 50 & Female & 1952 & Faglig uddannelse (håndværk, handel, landbrug mv.), F.eks. Faglærte, Social-   &  2 & 37 & 37 &    NA &    NA & 77\\\\\n",
       "\t 12355 & 120 & 5 & Yes & Socialdemokratiet - The Social democrats              & Fair     & 1987 & 60 & Male   & 1963 & Faglig uddannelse (håndværk, handel, landbrug mv.), F.eks. Faglærte, Social-   & 14 & 38 & 37 & 36000 & 38000 & 48\\\\\n",
       "\\end{tabular}\n"
      ],
      "text/markdown": [
       "\n",
       "A tibble: 6 × 17\n",
       "\n",
       "| idno &lt;dbl&gt; | netustm &lt;dbl&gt; | ppltrst &lt;dbl&gt; | vote &lt;chr&gt; | prtvtddk &lt;chr&gt; | health &lt;chr&gt; | lvpntyr &lt;chr&gt; | tygrtr &lt;chr&gt; | gndr &lt;chr&gt; | yrbrn &lt;dbl&gt; | edlvddk &lt;chr&gt; | eduyrs &lt;dbl&gt; | wkhct &lt;dbl&gt; | wkhtot &lt;dbl&gt; | grspnum &lt;dbl&gt; | frlgrsp &lt;dbl&gt; | inwtm &lt;dbl&gt; |\n",
       "|---|---|---|---|---|---|---|---|---|---|---|---|---|---|---|---|---|\n",
       "|  5816 |  90 | 7 | Yes | SF Socialistisk Folkeparti - Socialist People's Party | Good     | 1994 | 60 | Male   | 1974 | Mellemlang videregående uddannelse af 3-4 års varighed. Professionsbachelorer, | 35 | 37 | 37 | 37000 | 35000 | 61 |\n",
       "|  7251 | 300 | 5 | Yes | Dansk Folkeparti - Danish People's Party              | Fair     | 1993 | 40 | Female | 1975 | Faglig uddannelse (håndværk, handel, landbrug mv.), F.eks. Faglærte, Social-   | 13 | 32 | 34 | 22000 | 30000 | 68 |\n",
       "|  7887 | 360 | 8 | Yes | Socialdemokratiet - The Social democrats              | Fair     | 1983 | 55 | Male   | 1958 | Lang videregående uddannelse. Kandidatuddannelser af 5.-6. års varighed, F.eks | 25 | 39 | 39 | 36000 | 42000 | 89 |\n",
       "|  9607 | 540 | 9 | Yes | Alternativet - The Alternative                        | Good     | 1982 | 64 | Female | 1964 | Mellemlang videregående uddannelse af 3-4 års varighed. Professionsbachelorer, | 13 | 32 | 34 | 32000 |    NA | 50 |\n",
       "| 11688 |  NA | 5 | Yes | Socialdemokratiet - The Social democrats              | Very bad | 1968 | 50 | Female | 1952 | Faglig uddannelse (håndværk, handel, landbrug mv.), F.eks. Faglærte, Social-   |  2 | 37 | 37 |    NA |    NA | 77 |\n",
       "| 12355 | 120 | 5 | Yes | Socialdemokratiet - The Social democrats              | Fair     | 1987 | 60 | Male   | 1963 | Faglig uddannelse (håndværk, handel, landbrug mv.), F.eks. Faglærte, Social-   | 14 | 38 | 37 | 36000 | 38000 | 48 |\n",
       "\n"
      ],
      "text/plain": [
       "  idno  netustm ppltrst vote\n",
       "1  5816  90     7       Yes \n",
       "2  7251 300     5       Yes \n",
       "3  7887 360     8       Yes \n",
       "4  9607 540     9       Yes \n",
       "5 11688  NA     5       Yes \n",
       "6 12355 120     5       Yes \n",
       "  prtvtddk                                              health   lvpntyr tygrtr\n",
       "1 SF Socialistisk Folkeparti - Socialist People's Party Good     1994    60    \n",
       "2 Dansk Folkeparti - Danish People's Party              Fair     1993    40    \n",
       "3 Socialdemokratiet - The Social democrats              Fair     1983    55    \n",
       "4 Alternativet - The Alternative                        Good     1982    64    \n",
       "5 Socialdemokratiet - The Social democrats              Very bad 1968    50    \n",
       "6 Socialdemokratiet - The Social democrats              Fair     1987    60    \n",
       "  gndr   yrbrn\n",
       "1 Male   1974 \n",
       "2 Female 1975 \n",
       "3 Male   1958 \n",
       "4 Female 1964 \n",
       "5 Female 1952 \n",
       "6 Male   1963 \n",
       "  edlvddk                                                                       \n",
       "1 Mellemlang videregående uddannelse af 3-4 års varighed. Professionsbachelorer,\n",
       "2 Faglig uddannelse (håndværk, handel, landbrug mv.), F.eks. Faglærte, Social-  \n",
       "3 Lang videregående uddannelse. Kandidatuddannelser af 5.-6. års varighed, F.eks\n",
       "4 Mellemlang videregående uddannelse af 3-4 års varighed. Professionsbachelorer,\n",
       "5 Faglig uddannelse (håndværk, handel, landbrug mv.), F.eks. Faglærte, Social-  \n",
       "6 Faglig uddannelse (håndværk, handel, landbrug mv.), F.eks. Faglærte, Social-  \n",
       "  eduyrs wkhct wkhtot grspnum frlgrsp inwtm\n",
       "1 35     37    37     37000   35000   61   \n",
       "2 13     32    34     22000   30000   68   \n",
       "3 25     39    39     36000   42000   89   \n",
       "4 13     32    34     32000      NA   50   \n",
       "5  2     37    37        NA      NA   77   \n",
       "6 14     38    37     36000   38000   48   "
      ]
     },
     "metadata": {},
     "output_type": "display_data"
    }
   ],
   "source": [
    "head(ess18)"
   ]
  },
  {
   "cell_type": "markdown",
   "metadata": {
    "slideshow": {
     "slide_type": "fragment"
    },
    "tags": []
   },
   "source": [
    "`head()` viser de første seks rækker af data, og er god til at tjekke, om data ser ud, som det skal."
   ]
  },
  {
   "cell_type": "markdown",
   "metadata": {
    "slideshow": {
     "slide_type": "slide"
    }
   },
   "source": [
    "Vi kan tjekke kolonnenavnene (variabelnavnene) med `colnames`. `dim` returnerer antallet af rækker og kolonner/variable."
   ]
  },
  {
   "cell_type": "code",
   "execution_count": 26,
   "metadata": {
    "slideshow": {
     "slide_type": "slide"
    }
   },
   "outputs": [
    {
     "data": {
      "text/html": [
       "<style>\n",
       ".list-inline {list-style: none; margin:0; padding: 0}\n",
       ".list-inline>li {display: inline-block}\n",
       ".list-inline>li:not(:last-child)::after {content: \"\\00b7\"; padding: 0 .5ex}\n",
       "</style>\n",
       "<ol class=list-inline><li>'idno'</li><li>'netustm'</li><li>'ppltrst'</li><li>'vote'</li><li>'prtvtddk'</li><li>'health'</li><li>'lvpntyr'</li><li>'tygrtr'</li><li>'gndr'</li><li>'yrbrn'</li><li>'edlvddk'</li><li>'eduyrs'</li><li>'wkhct'</li><li>'wkhtot'</li><li>'grspnum'</li><li>'frlgrsp'</li><li>'inwtm'</li></ol>\n"
      ],
      "text/latex": [
       "\\begin{enumerate*}\n",
       "\\item 'idno'\n",
       "\\item 'netustm'\n",
       "\\item 'ppltrst'\n",
       "\\item 'vote'\n",
       "\\item 'prtvtddk'\n",
       "\\item 'health'\n",
       "\\item 'lvpntyr'\n",
       "\\item 'tygrtr'\n",
       "\\item 'gndr'\n",
       "\\item 'yrbrn'\n",
       "\\item 'edlvddk'\n",
       "\\item 'eduyrs'\n",
       "\\item 'wkhct'\n",
       "\\item 'wkhtot'\n",
       "\\item 'grspnum'\n",
       "\\item 'frlgrsp'\n",
       "\\item 'inwtm'\n",
       "\\end{enumerate*}\n"
      ],
      "text/markdown": [
       "1. 'idno'\n",
       "2. 'netustm'\n",
       "3. 'ppltrst'\n",
       "4. 'vote'\n",
       "5. 'prtvtddk'\n",
       "6. 'health'\n",
       "7. 'lvpntyr'\n",
       "8. 'tygrtr'\n",
       "9. 'gndr'\n",
       "10. 'yrbrn'\n",
       "11. 'edlvddk'\n",
       "12. 'eduyrs'\n",
       "13. 'wkhct'\n",
       "14. 'wkhtot'\n",
       "15. 'grspnum'\n",
       "16. 'frlgrsp'\n",
       "17. 'inwtm'\n",
       "\n",
       "\n"
      ],
      "text/plain": [
       " [1] \"idno\"     \"netustm\"  \"ppltrst\"  \"vote\"     \"prtvtddk\" \"health\"  \n",
       " [7] \"lvpntyr\"  \"tygrtr\"   \"gndr\"     \"yrbrn\"    \"edlvddk\"  \"eduyrs\"  \n",
       "[13] \"wkhct\"    \"wkhtot\"   \"grspnum\"  \"frlgrsp\"  \"inwtm\"   "
      ]
     },
     "metadata": {},
     "output_type": "display_data"
    }
   ],
   "source": [
    "colnames(ess18)"
   ]
  },
  {
   "cell_type": "code",
   "execution_count": 27,
   "metadata": {
    "slideshow": {
     "slide_type": "fragment"
    }
   },
   "outputs": [
    {
     "data": {
      "text/html": [
       "<style>\n",
       ".list-inline {list-style: none; margin:0; padding: 0}\n",
       ".list-inline>li {display: inline-block}\n",
       ".list-inline>li:not(:last-child)::after {content: \"\\00b7\"; padding: 0 .5ex}\n",
       "</style>\n",
       "<ol class=list-inline><li>1285</li><li>17</li></ol>\n"
      ],
      "text/latex": [
       "\\begin{enumerate*}\n",
       "\\item 1285\n",
       "\\item 17\n",
       "\\end{enumerate*}\n"
      ],
      "text/markdown": [
       "1. 1285\n",
       "2. 17\n",
       "\n",
       "\n"
      ],
      "text/plain": [
       "[1] 1285   17"
      ]
     },
     "metadata": {},
     "output_type": "display_data"
    }
   ],
   "source": [
    "dim(ess18)"
   ]
  },
  {
   "cell_type": "markdown",
   "metadata": {
    "slideshow": {
     "slide_type": "slide"
    }
   },
   "source": [
    "`summary()` bruges til at se deskriptive mål for variable i data (antal, middelværdi, standardafvigelse, minimum, maksimum, kvartiler)."
   ]
  },
  {
   "cell_type": "code",
   "execution_count": 29,
   "metadata": {
    "slideshow": {
     "slide_type": "fragment"
    }
   },
   "outputs": [
    {
     "data": {
      "text/plain": [
       "      idno           netustm          ppltrst          vote          \n",
       " Min.   :  5816   Min.   :   0.0   Min.   : 0.00   Length:1285       \n",
       " 1st Qu.: 93707   1st Qu.:  90.0   1st Qu.: 6.00   Class :character  \n",
       " Median :112877   Median : 150.0   Median : 7.00   Mode  :character  \n",
       " Mean   :110980   Mean   : 227.4   Mean   : 7.08                     \n",
       " 3rd Qu.:131072   3rd Qu.: 300.0   3rd Qu.: 8.00                     \n",
       " Max.   :150446   Max.   :1020.0   Max.   :10.00                     \n",
       "                  NA's   :151      NA's   :3                         \n",
       "   prtvtddk            health            lvpntyr             tygrtr         \n",
       " Length:1285        Length:1285        Length:1285        Length:1285       \n",
       " Class :character   Class :character   Class :character   Class :character  \n",
       " Mode  :character   Mode  :character   Mode  :character   Mode  :character  \n",
       "                                                                            \n",
       "                                                                            \n",
       "                                                                            \n",
       "                                                                            \n",
       "     gndr               yrbrn        edlvddk              eduyrs  \n",
       " Length:1285        Min.   :1929   Length:1285        Min.   : 0  \n",
       " Class :character   1st Qu.:1952   Class :character   1st Qu.:11  \n",
       " Mode  :character   Median :1966   Mode  :character   Median :14  \n",
       "                    Mean   :1967                      Mean   :14  \n",
       "                    3rd Qu.:1982                      3rd Qu.:17  \n",
       "                    Max.   :2003                      Max.   :40  \n",
       "                                                      NA's   :7   \n",
       "     wkhct           wkhtot         grspnum           frlgrsp      \n",
       " Min.   : 0.00   Min.   : 0.00   Min.   :      0   Min.   :     0  \n",
       " 1st Qu.:35.00   1st Qu.:35.00   1st Qu.:  26000   1st Qu.: 28375  \n",
       " Median :37.00   Median :37.00   Median :  32000   Median : 35000  \n",
       " Mean   :33.81   Mean   :36.44   Mean   :  43686   Mean   : 37255  \n",
       " 3rd Qu.:37.00   3rd Qu.:41.00   3rd Qu.:  41000   3rd Qu.: 40000  \n",
       " Max.   :80.00   Max.   :90.00   Max.   :3000000   Max.   :500000  \n",
       " NA's   :68      NA's   :27      NA's   :570       NA's   :1033    \n",
       "     inwtm       \n",
       " Min.   : 18.00  \n",
       " 1st Qu.: 51.00  \n",
       " Median : 59.00  \n",
       " Mean   : 63.32  \n",
       " 3rd Qu.: 70.00  \n",
       " Max.   :613.00  \n",
       " NA's   :5       "
      ]
     },
     "metadata": {},
     "output_type": "display_data"
    }
   ],
   "source": [
    "summary(ess18)"
   ]
  },
  {
   "cell_type": "markdown",
   "metadata": {
    "slideshow": {
     "slide_type": "slide"
    }
   },
   "source": [
    "## Data frames og \"vectors\"\n",
    "\n",
    "Data frames består af rækker og kolonner. R forventer typisk at rækkerne indeholder \"observationer\" (fx personer), mens kolonner indeholder variable (information omkring observationerne).\n",
    "\n",
    "R behandler en enkelt kolonne/variabel som en \"vector\". En \"vector\" er en samling af værdier af den samme *class* (fx tal eller tekster).\n",
    "\n",
    "Man udpeger en enkelt kolonne i en data frame med `$` (en \"vector\")."
   ]
  },
  {
   "cell_type": "code",
   "execution_count": 30,
   "metadata": {
    "slideshow": {
     "slide_type": "fragment"
    }
   },
   "outputs": [
    {
     "data": {
      "text/html": [
       "<style>\n",
       ".list-inline {list-style: none; margin:0; padding: 0}\n",
       ".list-inline>li {display: inline-block}\n",
       ".list-inline>li:not(:last-child)::after {content: \"\\00b7\"; padding: 0 .5ex}\n",
       "</style>\n",
       "<ol class=list-inline><li>1974</li><li>1975</li><li>1958</li><li>1964</li><li>1952</li><li>1963</li></ol>\n"
      ],
      "text/latex": [
       "\\begin{enumerate*}\n",
       "\\item 1974\n",
       "\\item 1975\n",
       "\\item 1958\n",
       "\\item 1964\n",
       "\\item 1952\n",
       "\\item 1963\n",
       "\\end{enumerate*}\n"
      ],
      "text/markdown": [
       "1. 1974\n",
       "2. 1975\n",
       "3. 1958\n",
       "4. 1964\n",
       "5. 1952\n",
       "6. 1963\n",
       "\n",
       "\n"
      ],
      "text/plain": [
       "[1] 1974 1975 1958 1964 1952 1963"
      ]
     },
     "metadata": {},
     "output_type": "display_data"
    }
   ],
   "source": [
    "head(ess18$yrbrn) # første seks værdier i yrbrn"
   ]
  },
  {
   "cell_type": "markdown",
   "metadata": {
    "slideshow": {
     "slide_type": "slide"
    }
   },
   "source": [
    "Hver værdi i en variabel har et indeks, som afspejler rækkenummeret i data.\n",
    "\n",
    "Man udpeger et specifikt rækkenummer med `[]`:"
   ]
  },
  {
   "cell_type": "code",
   "execution_count": 31,
   "metadata": {
    "slideshow": {
     "slide_type": "fragment"
    }
   },
   "outputs": [
    {
     "data": {
      "text/html": [
       "1958"
      ],
      "text/latex": [
       "1958"
      ],
      "text/markdown": [
       "1958"
      ],
      "text/plain": [
       "[1] 1958"
      ]
     },
     "metadata": {},
     "output_type": "display_data"
    }
   ],
   "source": [
    "ess18$yrbrn[10] # Giver 10. værdi (række 10) af yrbrn variabel"
   ]
  },
  {
   "cell_type": "code",
   "execution_count": 32,
   "metadata": {
    "slideshow": {
     "slide_type": "fragment"
    }
   },
   "outputs": [
    {
     "data": {
      "text/html": [
       "<style>\n",
       ".list-inline {list-style: none; margin:0; padding: 0}\n",
       ".list-inline>li {display: inline-block}\n",
       ".list-inline>li:not(:last-child)::after {content: \"\\00b7\"; padding: 0 .5ex}\n",
       "</style>\n",
       "<ol class=list-inline><li>1975</li><li>1958</li><li>1964</li><li>1952</li><li>1963</li><li>1991</li><li>1984</li><li>1966</li><li>1958</li></ol>\n"
      ],
      "text/latex": [
       "\\begin{enumerate*}\n",
       "\\item 1975\n",
       "\\item 1958\n",
       "\\item 1964\n",
       "\\item 1952\n",
       "\\item 1963\n",
       "\\item 1991\n",
       "\\item 1984\n",
       "\\item 1966\n",
       "\\item 1958\n",
       "\\end{enumerate*}\n"
      ],
      "text/markdown": [
       "1. 1975\n",
       "2. 1958\n",
       "3. 1964\n",
       "4. 1952\n",
       "5. 1963\n",
       "6. 1991\n",
       "7. 1984\n",
       "8. 1966\n",
       "9. 1958\n",
       "\n",
       "\n"
      ],
      "text/plain": [
       "[1] 1975 1958 1964 1952 1963 1991 1984 1966 1958"
      ]
     },
     "metadata": {},
     "output_type": "display_data"
    }
   ],
   "source": [
    "ess18$yrbrn[2:10] # Giver række 2 til 10 af yrbrn (begge inkluderet)"
   ]
  },
  {
   "cell_type": "markdown",
   "metadata": {
    "slideshow": {
     "slide_type": "slide"
    }
   },
   "source": [
    "R indeholder en række funktioner til at regne specifikke deskriptive mål, fx `min()` (minimum), `max()` (maksimum), `mean()` (middelværdi), `sd()` (standardafvigelse) og `length()` (antal værdier/rækker)."
   ]
  },
  {
   "cell_type": "code",
   "execution_count": 34,
   "metadata": {
    "slideshow": {
     "slide_type": "fragment"
    }
   },
   "outputs": [
    {
     "data": {
      "text/html": [
       "1929"
      ],
      "text/latex": [
       "1929"
      ],
      "text/markdown": [
       "1929"
      ],
      "text/plain": [
       "[1] 1929"
      ]
     },
     "metadata": {},
     "output_type": "display_data"
    },
    {
     "data": {
      "text/html": [
       "2003"
      ],
      "text/latex": [
       "2003"
      ],
      "text/markdown": [
       "2003"
      ],
      "text/plain": [
       "[1] 2003"
      ]
     },
     "metadata": {},
     "output_type": "display_data"
    },
    {
     "data": {
      "text/html": [
       "1967.04747081712"
      ],
      "text/latex": [
       "1967.04747081712"
      ],
      "text/markdown": [
       "1967.04747081712"
      ],
      "text/plain": [
       "[1] 1967.047"
      ]
     },
     "metadata": {},
     "output_type": "display_data"
    },
    {
     "data": {
      "text/html": [
       "18.2944100607406"
      ],
      "text/latex": [
       "18.2944100607406"
      ],
      "text/markdown": [
       "18.2944100607406"
      ],
      "text/plain": [
       "[1] 18.29441"
      ]
     },
     "metadata": {},
     "output_type": "display_data"
    },
    {
     "data": {
      "text/html": [
       "1285"
      ],
      "text/latex": [
       "1285"
      ],
      "text/markdown": [
       "1285"
      ],
      "text/plain": [
       "[1] 1285"
      ]
     },
     "metadata": {},
     "output_type": "display_data"
    }
   ],
   "source": [
    "min(ess18$yrbrn) # Mindste værdi\n",
    "max(ess18$yrbrn) # Største værdi\n",
    "mean(ess18$yrbrn) # Middelværdi\n",
    "sd(ess18$yrbrn) # Standardafvigelse\n",
    "length(ess18$yrbrn) # Antal værdier i variabel (svarer til antal rækker)"
   ]
  },
  {
   "cell_type": "markdown",
   "metadata": {
    "slideshow": {
     "slide_type": "slide"
    },
    "tags": []
   },
   "source": [
    "Husk at vi med R kan lagre hvad som helst som et objekt. Hvis vi fx løbende får brug for at kalde et mål frem, kan vi lagre det som et objekt for sig:"
   ]
  },
  {
   "cell_type": "code",
   "execution_count": 35,
   "metadata": {
    "slideshow": {
     "slide_type": "fragment"
    },
    "tags": []
   },
   "outputs": [],
   "source": [
    "mean_yrbrn <- mean(ess18$yrbrn)"
   ]
  },
  {
   "cell_type": "code",
   "execution_count": 36,
   "metadata": {
    "slideshow": {
     "slide_type": "fragment"
    },
    "tags": []
   },
   "outputs": [
    {
     "data": {
      "text/html": [
       "1967.04747081712"
      ],
      "text/latex": [
       "1967.04747081712"
      ],
      "text/markdown": [
       "1967.04747081712"
      ],
      "text/plain": [
       "[1] 1967.047"
      ]
     },
     "metadata": {},
     "output_type": "display_data"
    }
   ],
   "source": [
    "mean_yrbrn"
   ]
  },
  {
   "cell_type": "markdown",
   "metadata": {
    "slideshow": {
     "slide_type": "slide"
    }
   },
   "source": [
    "`unique()` giver de unikke værdier i en variabel:"
   ]
  },
  {
   "cell_type": "code",
   "execution_count": 37,
   "metadata": {
    "slideshow": {
     "slide_type": "fragment"
    }
   },
   "outputs": [
    {
     "data": {
      "text/html": [
       "<style>\n",
       ".list-inline {list-style: none; margin:0; padding: 0}\n",
       ".list-inline>li {display: inline-block}\n",
       ".list-inline>li:not(:last-child)::after {content: \"\\00b7\"; padding: 0 .5ex}\n",
       "</style>\n",
       "<ol class=list-inline><li>'Good'</li><li>'Fair'</li><li>'Very bad'</li><li>'Very good'</li><li>'Bad'</li><li>NA</li></ol>\n"
      ],
      "text/latex": [
       "\\begin{enumerate*}\n",
       "\\item 'Good'\n",
       "\\item 'Fair'\n",
       "\\item 'Very bad'\n",
       "\\item 'Very good'\n",
       "\\item 'Bad'\n",
       "\\item NA\n",
       "\\end{enumerate*}\n"
      ],
      "text/markdown": [
       "1. 'Good'\n",
       "2. 'Fair'\n",
       "3. 'Very bad'\n",
       "4. 'Very good'\n",
       "5. 'Bad'\n",
       "6. NA\n",
       "\n",
       "\n"
      ],
      "text/plain": [
       "[1] \"Good\"      \"Fair\"      \"Very bad\"  \"Very good\" \"Bad\"       NA         "
      ]
     },
     "metadata": {},
     "output_type": "display_data"
    }
   ],
   "source": [
    "unique(ess18$health)"
   ]
  },
  {
   "cell_type": "markdown",
   "metadata": {
    "slideshow": {
     "slide_type": "slide"
    }
   },
   "source": [
    "## Missing-værdier\n",
    "\n",
    "Data vil ofte indeholde missing-værdier. Missing-værdier angiver ikke-gyldige værdier; fx et manglende svar, ugyldigt svar, information der ikke kunne skaffes eller lignende.\n",
    "\n",
    "Missing-værdier bruges til at give en værdi uden at give en værdi (cellerne skal indeholde *noget*). Missing-værdier angives som `NA` i R.\n",
    "\n",
    "BEMÆRK: Det er ikke givet at missing-værdier er kodet som missing på forhånd i et datasæt. Hvordan missing-værdier kodes varierer mellem programmer. Derfor bruger man ofte specifikke talværdier (fx 777777 eller 888888) til at indikere missing-værdier. Man kan også stå i situationer, hvor visse kategorier er irrelevante for analysen, hvor man så koder disse til missing."
   ]
  },
  {
   "cell_type": "markdown",
   "metadata": {
    "slideshow": {
     "slide_type": "slide"
    },
    "tags": []
   },
   "source": [
    "`summary()`-funktionen inkluderer antallet af missing-værdier i variablen:"
   ]
  },
  {
   "cell_type": "code",
   "execution_count": 38,
   "metadata": {
    "slideshow": {
     "slide_type": "fragment"
    }
   },
   "outputs": [
    {
     "data": {
      "text/plain": [
       "   Min. 1st Qu.  Median    Mean 3rd Qu.    Max.    NA's \n",
       "  18.00   51.00   59.00   63.32   70.00  613.00       5 "
      ]
     },
     "metadata": {},
     "output_type": "display_data"
    }
   ],
   "source": [
    "summary(ess18$inwtm)"
   ]
  },
  {
   "cell_type": "markdown",
   "metadata": {
    "slideshow": {
     "slide_type": "slide"
    }
   },
   "source": [
    "Missing-værdier er hverken høje eller lave i R. Dette betyder at det ikke er muligt at lave beregninger med missing-værdier."
   ]
  },
  {
   "cell_type": "code",
   "execution_count": 39,
   "metadata": {
    "slideshow": {
     "slide_type": "fragment"
    }
   },
   "outputs": [
    {
     "data": {
      "text/html": [
       "&lt;NA&gt;"
      ],
      "text/latex": [
       "<NA>"
      ],
      "text/markdown": [
       "&lt;NA&gt;"
      ],
      "text/plain": [
       "[1] NA"
      ]
     },
     "metadata": {},
     "output_type": "display_data"
    },
    {
     "data": {
      "text/html": [
       "&lt;NA&gt;"
      ],
      "text/latex": [
       "<NA>"
      ],
      "text/markdown": [
       "&lt;NA&gt;"
      ],
      "text/plain": [
       "[1] NA"
      ]
     },
     "metadata": {},
     "output_type": "display_data"
    },
    {
     "data": {
      "text/html": [
       "&lt;NA&gt;"
      ],
      "text/latex": [
       "<NA>"
      ],
      "text/markdown": [
       "&lt;NA&gt;"
      ],
      "text/plain": [
       "[1] NA"
      ]
     },
     "metadata": {},
     "output_type": "display_data"
    }
   ],
   "source": [
    "min(ess18$inwtm) # NA is neither high or low - returns NA\n",
    "max(ess18$inwtm) # NA is neither high or low - returns NA\n",
    "mean(ess18$inwtm) # NA is neither high or low - returns NA"
   ]
  },
  {
   "cell_type": "markdown",
   "metadata": {
    "slideshow": {
     "slide_type": "fragment"
    }
   },
   "source": [
    "Ofte er man nødt til at håndtere missing-værdier i sit analysearbejde; enten ved at erstatte dem eller ved at fjerne rækker, som har missing-værdier.\n",
    "\n",
    "Nogle funktioner har indbyggede argumenter til at håndtere missing-værdier."
   ]
  },
  {
   "cell_type": "markdown",
   "metadata": {
    "slideshow": {
     "slide_type": "slide"
    }
   },
   "source": [
    "## Brug af hjælpe-funktionen\n",
    "\n",
    "Alle R funktioner og kommandoer er dokumenteret, så du behøver ikke at huske hvordan hver enkelt funktion fungerer.\n",
    "\n",
    "Alle funktioner har sin egen \"hjælpefil\". Hjælpefilen beskriver hvordan funktionen bruges, og hvad de forskellige argumenter gør.\n",
    "\n",
    "Man åbner hjælpefilen for en funktion ved at skrive `?` foran."
   ]
  },
  {
   "cell_type": "markdown",
   "metadata": {
    "slideshow": {
     "slide_type": "slide"
    },
    "tags": []
   },
   "source": [
    "### Kan vi fjerne missing i vores beregning?\n",
    "\n",
    "Ved at kigge på hjælpefilen for `max()`, kan vi finde argumentet `na.rm`. Dette argument bruges til at fjerne missing, når R laver beregningen.\n",
    "\n",
    "Bemærk at argumentet i hjælpefilen er skrevet `na.rm = FALSE`. Dette angiver standardindstillingen for funktionen. Det vil sige, at hvis ikke man specificerer andet, så er det den måde, som funktionen køres. I dette tilfælde er argumentet som standard sat til `FALSE` (missing-værdier fjernes ikke).\n",
    "\n",
    "Ved at ændre argumentet, når vi bruger funktionen, fjernes missing-værdierne inden beregning:"
   ]
  },
  {
   "cell_type": "code",
   "execution_count": 40,
   "metadata": {
    "slideshow": {
     "slide_type": "fragment"
    }
   },
   "outputs": [
    {
     "data": {
      "text/html": [
       "613"
      ],
      "text/latex": [
       "613"
      ],
      "text/markdown": [
       "613"
      ],
      "text/plain": [
       "[1] 613"
      ]
     },
     "metadata": {},
     "output_type": "display_data"
    }
   ],
   "source": [
    "max(ess18$inwtm, na.rm = TRUE)"
   ]
  },
  {
   "cell_type": "markdown",
   "metadata": {
    "slideshow": {
     "slide_type": "slide"
    }
   },
   "source": [
    "## ØVELSE 2: DESKRIPTIVE MÅL\n",
    "\n",
    "Brug forskellige funktioner til at udregne følgende:\n",
    "\n",
    "- Middelværdien (`mean()`) for tid brugt på internettet om dagen (`netustm`)\n",
    "- Den højeste værdi (`max()`) for tid brugt på internettet om dagen (`netustm`)\n",
    "- Medianen (`median()`) for brutto månedsløn (`grspnum`)\n",
    "\n",
    "BEMÆRK! Variablene indeholder muligvis missing-værdier. Tjek hjælpefilerne for at se, hvordan man tager højde for dette."
   ]
  },
  {
   "cell_type": "markdown",
   "metadata": {
    "slideshow": {
     "slide_type": "subslide"
    }
   },
   "source": [
    "## ØVELSE 2: DESKRIPTIVE MÅL"
   ]
  },
  {
   "cell_type": "code",
   "execution_count": 41,
   "metadata": {
    "slideshow": {
     "slide_type": "fragment"
    }
   },
   "outputs": [
    {
     "data": {
      "text/html": [
       "227.431216931217"
      ],
      "text/latex": [
       "227.431216931217"
      ],
      "text/markdown": [
       "227.431216931217"
      ],
      "text/plain": [
       "[1] 227.4312"
      ]
     },
     "metadata": {},
     "output_type": "display_data"
    },
    {
     "data": {
      "text/html": [
       "1020"
      ],
      "text/latex": [
       "1020"
      ],
      "text/markdown": [
       "1020"
      ],
      "text/plain": [
       "[1] 1020"
      ]
     },
     "metadata": {},
     "output_type": "display_data"
    },
    {
     "data": {
      "text/html": [
       "32000"
      ],
      "text/latex": [
       "32000"
      ],
      "text/markdown": [
       "32000"
      ],
      "text/plain": [
       "[1] 32000"
      ]
     },
     "metadata": {},
     "output_type": "display_data"
    }
   ],
   "source": [
    "mean(ess18$netustm, na.rm = TRUE)\n",
    "max(ess18$netustm, na.rm = TRUE)\n",
    "median(ess18$grspnum, na.rm = TRUE)"
   ]
  },
  {
   "cell_type": "markdown",
   "metadata": {
    "slideshow": {
     "slide_type": "slide"
    }
   },
   "source": [
    "## Datahåndtering i R\n",
    "\n",
    "Når man arbejder med data, er man næste altid nødt til at foretage visse ændringer i data, før at de er egnet til analyse. Dette kaldes \"datahåndtering\".\n",
    "\n",
    "Datahåndtering inkluderer blandt andet:\n",
    "- Udvælge specifikke observationer og variable (kaldes også subsetting)\n",
    "- Danne nye variables\n",
    "- Rekode værdier\n",
    "\n",
    "R understøtter datahåndtering med \"basis\"-kommandoer, men funktionerne tilgængelige gennem tidyverse (https://www.tidyverse.org/) er langt mere intuitive."
   ]
  },
  {
   "cell_type": "markdown",
   "metadata": {
    "slideshow": {
     "slide_type": "slide"
    }
   },
   "source": [
    "### Subset data med `dplyr` \n",
    "\n",
    "`dplyr` indeholder blandt andet funktionerne `filter` og `select`, som kan bruges til at subsette data.\n",
    "\n",
    "`filter()` tager et datasæt og kriterier i form af \"logiske udtryk\" (mere om dette senere) med brug af variable. Funktionen returnerer de rækker, som opfylder kriterierne.\n",
    "\n",
    "`select()` tager et datasæt efterfulgt af de variable, som skal bevares. Funktionen returnerer de valgte variable.\n",
    "\n",
    "BEMÆRK: Basis R har også en `filter()` funktion. Denne funktion overskrives, når man importerer `dplyr`."
   ]
  },
  {
   "cell_type": "markdown",
   "metadata": {
    "slideshow": {
     "slide_type": "slide"
    },
    "tags": []
   },
   "source": [
    "### Udvælg rækker med `filter`\n",
    "\n",
    "`filter` funktionen tager mindst to input: et datasæt (en dataframe) og et kriterie."
   ]
  },
  {
   "cell_type": "code",
   "execution_count": 3,
   "metadata": {
    "slideshow": {
     "slide_type": "fragment"
    },
    "tags": []
   },
   "outputs": [
    {
     "name": "stderr",
     "output_type": "stream",
     "text": [
      "\n",
      "Vedhæfter pakke: 'dplyr'\n",
      "\n",
      "\n",
      "De følgende objekter er maskerede fra 'package:stats':\n",
      "\n",
      "    filter, lag\n",
      "\n",
      "\n",
      "De følgende objekter er maskerede fra 'package:base':\n",
      "\n",
      "    intersect, setdiff, setequal, union\n",
      "\n",
      "\n"
     ]
    },
    {
     "data": {
      "text/html": [
       "<table class=\"dataframe\">\n",
       "<caption>A tibble: 6 × 17</caption>\n",
       "<thead>\n",
       "\t<tr><th scope=col>idno</th><th scope=col>netustm</th><th scope=col>ppltrst</th><th scope=col>vote</th><th scope=col>prtvtddk</th><th scope=col>health</th><th scope=col>lvpntyr</th><th scope=col>tygrtr</th><th scope=col>gndr</th><th scope=col>yrbrn</th><th scope=col>edlvddk</th><th scope=col>eduyrs</th><th scope=col>wkhct</th><th scope=col>wkhtot</th><th scope=col>grspnum</th><th scope=col>frlgrsp</th><th scope=col>inwtm</th></tr>\n",
       "\t<tr><th scope=col>&lt;dbl&gt;</th><th scope=col>&lt;dbl&gt;</th><th scope=col>&lt;dbl&gt;</th><th scope=col>&lt;chr&gt;</th><th scope=col>&lt;chr&gt;</th><th scope=col>&lt;chr&gt;</th><th scope=col>&lt;chr&gt;</th><th scope=col>&lt;chr&gt;</th><th scope=col>&lt;chr&gt;</th><th scope=col>&lt;dbl&gt;</th><th scope=col>&lt;chr&gt;</th><th scope=col>&lt;dbl&gt;</th><th scope=col>&lt;dbl&gt;</th><th scope=col>&lt;dbl&gt;</th><th scope=col>&lt;dbl&gt;</th><th scope=col>&lt;dbl&gt;</th><th scope=col>&lt;dbl&gt;</th></tr>\n",
       "</thead>\n",
       "<tbody>\n",
       "\t<tr><td> 5816</td><td> 90</td><td>7</td><td>Yes</td><td>SF Socialistisk Folkeparti - Socialist People's Party</td><td>Good     </td><td>1994</td><td>60                             </td><td>Male</td><td>1974</td><td>Mellemlang videregående uddannelse af 3-4 års varighed. Professionsbachelorer,</td><td>35</td><td>37</td><td>37</td><td>37000</td><td>35000</td><td>61</td></tr>\n",
       "\t<tr><td> 7887</td><td>360</td><td>8</td><td>Yes</td><td>Socialdemokratiet - The Social democrats             </td><td>Fair     </td><td>1983</td><td>55                             </td><td>Male</td><td>1958</td><td>Lang videregående uddannelse. Kandidatuddannelser af 5.-6. års varighed, F.eks</td><td>25</td><td>39</td><td>39</td><td>36000</td><td>42000</td><td>89</td></tr>\n",
       "\t<tr><td>12355</td><td>120</td><td>5</td><td>Yes</td><td>Socialdemokratiet - The Social democrats             </td><td>Fair     </td><td>1987</td><td>60                             </td><td>Male</td><td>1963</td><td>Faglig uddannelse (håndværk, handel, landbrug mv.), F.eks. Faglærte, Social-  </td><td>14</td><td>38</td><td>37</td><td>36000</td><td>38000</td><td>48</td></tr>\n",
       "\t<tr><td>16357</td><td>488</td><td>5</td><td>Yes</td><td>Dansk Folkeparti - Danish People's Party             </td><td>Very good</td><td>2013</td><td>50                             </td><td>Male</td><td>1991</td><td>Mellemlang videregående uddannelse af 3-4 års varighed. Professionsbachelorer,</td><td> 4</td><td>37</td><td>37</td><td>40000</td><td>   NA</td><td>50</td></tr>\n",
       "\t<tr><td>20724</td><td> 60</td><td>5</td><td>Yes</td><td>Venstre, Danmarks Liberale Parti - The Liberal Party </td><td>Good     </td><td>1981</td><td>Never too young                </td><td>Male</td><td>1958</td><td>Faglig uddannelse (håndværk, handel, landbrug mv.), F.eks. Faglærte, Social-  </td><td>14</td><td>37</td><td>40</td><td>28000</td><td>34000</td><td>65</td></tr>\n",
       "\t<tr><td>24928</td><td>120</td><td>8</td><td>Yes</td><td>Venstre, Danmarks Liberale Parti - The Liberal Party </td><td>Very good</td><td>1984</td><td>Should never retire permanently</td><td>Male</td><td>1965</td><td>Mellemlang videregående uddannelse af 3-4 års varighed. Professionsbachelorer,</td><td>19</td><td>NA</td><td>80</td><td>50000</td><td>   NA</td><td>77</td></tr>\n",
       "</tbody>\n",
       "</table>\n"
      ],
      "text/latex": [
       "A tibble: 6 × 17\n",
       "\\begin{tabular}{lllllllllllllllll}\n",
       " idno & netustm & ppltrst & vote & prtvtddk & health & lvpntyr & tygrtr & gndr & yrbrn & edlvddk & eduyrs & wkhct & wkhtot & grspnum & frlgrsp & inwtm\\\\\n",
       " <dbl> & <dbl> & <dbl> & <chr> & <chr> & <chr> & <chr> & <chr> & <chr> & <dbl> & <chr> & <dbl> & <dbl> & <dbl> & <dbl> & <dbl> & <dbl>\\\\\n",
       "\\hline\n",
       "\t  5816 &  90 & 7 & Yes & SF Socialistisk Folkeparti - Socialist People's Party & Good      & 1994 & 60                              & Male & 1974 & Mellemlang videregående uddannelse af 3-4 års varighed. Professionsbachelorer, & 35 & 37 & 37 & 37000 & 35000 & 61\\\\\n",
       "\t  7887 & 360 & 8 & Yes & Socialdemokratiet - The Social democrats              & Fair      & 1983 & 55                              & Male & 1958 & Lang videregående uddannelse. Kandidatuddannelser af 5.-6. års varighed, F.eks & 25 & 39 & 39 & 36000 & 42000 & 89\\\\\n",
       "\t 12355 & 120 & 5 & Yes & Socialdemokratiet - The Social democrats              & Fair      & 1987 & 60                              & Male & 1963 & Faglig uddannelse (håndværk, handel, landbrug mv.), F.eks. Faglærte, Social-   & 14 & 38 & 37 & 36000 & 38000 & 48\\\\\n",
       "\t 16357 & 488 & 5 & Yes & Dansk Folkeparti - Danish People's Party              & Very good & 2013 & 50                              & Male & 1991 & Mellemlang videregående uddannelse af 3-4 års varighed. Professionsbachelorer, &  4 & 37 & 37 & 40000 &    NA & 50\\\\\n",
       "\t 20724 &  60 & 5 & Yes & Venstre, Danmarks Liberale Parti - The Liberal Party  & Good      & 1981 & Never too young                 & Male & 1958 & Faglig uddannelse (håndværk, handel, landbrug mv.), F.eks. Faglærte, Social-   & 14 & 37 & 40 & 28000 & 34000 & 65\\\\\n",
       "\t 24928 & 120 & 8 & Yes & Venstre, Danmarks Liberale Parti - The Liberal Party  & Very good & 1984 & Should never retire permanently & Male & 1965 & Mellemlang videregående uddannelse af 3-4 års varighed. Professionsbachelorer, & 19 & NA & 80 & 50000 &    NA & 77\\\\\n",
       "\\end{tabular}\n"
      ],
      "text/markdown": [
       "\n",
       "A tibble: 6 × 17\n",
       "\n",
       "| idno &lt;dbl&gt; | netustm &lt;dbl&gt; | ppltrst &lt;dbl&gt; | vote &lt;chr&gt; | prtvtddk &lt;chr&gt; | health &lt;chr&gt; | lvpntyr &lt;chr&gt; | tygrtr &lt;chr&gt; | gndr &lt;chr&gt; | yrbrn &lt;dbl&gt; | edlvddk &lt;chr&gt; | eduyrs &lt;dbl&gt; | wkhct &lt;dbl&gt; | wkhtot &lt;dbl&gt; | grspnum &lt;dbl&gt; | frlgrsp &lt;dbl&gt; | inwtm &lt;dbl&gt; |\n",
       "|---|---|---|---|---|---|---|---|---|---|---|---|---|---|---|---|---|\n",
       "|  5816 |  90 | 7 | Yes | SF Socialistisk Folkeparti - Socialist People's Party | Good      | 1994 | 60                              | Male | 1974 | Mellemlang videregående uddannelse af 3-4 års varighed. Professionsbachelorer, | 35 | 37 | 37 | 37000 | 35000 | 61 |\n",
       "|  7887 | 360 | 8 | Yes | Socialdemokratiet - The Social democrats              | Fair      | 1983 | 55                              | Male | 1958 | Lang videregående uddannelse. Kandidatuddannelser af 5.-6. års varighed, F.eks | 25 | 39 | 39 | 36000 | 42000 | 89 |\n",
       "| 12355 | 120 | 5 | Yes | Socialdemokratiet - The Social democrats              | Fair      | 1987 | 60                              | Male | 1963 | Faglig uddannelse (håndværk, handel, landbrug mv.), F.eks. Faglærte, Social-   | 14 | 38 | 37 | 36000 | 38000 | 48 |\n",
       "| 16357 | 488 | 5 | Yes | Dansk Folkeparti - Danish People's Party              | Very good | 2013 | 50                              | Male | 1991 | Mellemlang videregående uddannelse af 3-4 års varighed. Professionsbachelorer, |  4 | 37 | 37 | 40000 |    NA | 50 |\n",
       "| 20724 |  60 | 5 | Yes | Venstre, Danmarks Liberale Parti - The Liberal Party  | Good      | 1981 | Never too young                 | Male | 1958 | Faglig uddannelse (håndværk, handel, landbrug mv.), F.eks. Faglærte, Social-   | 14 | 37 | 40 | 28000 | 34000 | 65 |\n",
       "| 24928 | 120 | 8 | Yes | Venstre, Danmarks Liberale Parti - The Liberal Party  | Very good | 1984 | Should never retire permanently | Male | 1965 | Mellemlang videregående uddannelse af 3-4 års varighed. Professionsbachelorer, | 19 | NA | 80 | 50000 |    NA | 77 |\n",
       "\n"
      ],
      "text/plain": [
       "  idno  netustm ppltrst vote\n",
       "1  5816  90     7       Yes \n",
       "2  7887 360     8       Yes \n",
       "3 12355 120     5       Yes \n",
       "4 16357 488     5       Yes \n",
       "5 20724  60     5       Yes \n",
       "6 24928 120     8       Yes \n",
       "  prtvtddk                                              health    lvpntyr\n",
       "1 SF Socialistisk Folkeparti - Socialist People's Party Good      1994   \n",
       "2 Socialdemokratiet - The Social democrats              Fair      1983   \n",
       "3 Socialdemokratiet - The Social democrats              Fair      1987   \n",
       "4 Dansk Folkeparti - Danish People's Party              Very good 2013   \n",
       "5 Venstre, Danmarks Liberale Parti - The Liberal Party  Good      1981   \n",
       "6 Venstre, Danmarks Liberale Parti - The Liberal Party  Very good 1984   \n",
       "  tygrtr                          gndr yrbrn\n",
       "1 60                              Male 1974 \n",
       "2 55                              Male 1958 \n",
       "3 60                              Male 1963 \n",
       "4 50                              Male 1991 \n",
       "5 Never too young                 Male 1958 \n",
       "6 Should never retire permanently Male 1965 \n",
       "  edlvddk                                                                       \n",
       "1 Mellemlang videregående uddannelse af 3-4 års varighed. Professionsbachelorer,\n",
       "2 Lang videregående uddannelse. Kandidatuddannelser af 5.-6. års varighed, F.eks\n",
       "3 Faglig uddannelse (håndværk, handel, landbrug mv.), F.eks. Faglærte, Social-  \n",
       "4 Mellemlang videregående uddannelse af 3-4 års varighed. Professionsbachelorer,\n",
       "5 Faglig uddannelse (håndværk, handel, landbrug mv.), F.eks. Faglærte, Social-  \n",
       "6 Mellemlang videregående uddannelse af 3-4 års varighed. Professionsbachelorer,\n",
       "  eduyrs wkhct wkhtot grspnum frlgrsp inwtm\n",
       "1 35     37    37     37000   35000   61   \n",
       "2 25     39    39     36000   42000   89   \n",
       "3 14     38    37     36000   38000   48   \n",
       "4  4     37    37     40000      NA   50   \n",
       "5 14     37    40     28000   34000   65   \n",
       "6 19     NA    80     50000      NA   77   "
      ]
     },
     "metadata": {},
     "output_type": "display_data"
    }
   ],
   "source": [
    "library(dplyr)\n",
    "\n",
    "ess18_male <- filter(ess18, gndr == 'Male') # Subset kun med mænd\n",
    "\n",
    "head(ess18_male)"
   ]
  },
  {
   "cell_type": "code",
   "execution_count": 43,
   "metadata": {
    "slideshow": {
     "slide_type": "slide"
    },
    "tags": []
   },
   "outputs": [
    {
     "data": {
      "text/html": [
       "<table class=\"dataframe\">\n",
       "<caption>A tibble: 6 × 17</caption>\n",
       "<thead>\n",
       "\t<tr><th scope=col>idno</th><th scope=col>netustm</th><th scope=col>ppltrst</th><th scope=col>vote</th><th scope=col>prtvtddk</th><th scope=col>health</th><th scope=col>lvpntyr</th><th scope=col>tygrtr</th><th scope=col>gndr</th><th scope=col>yrbrn</th><th scope=col>edlvddk</th><th scope=col>eduyrs</th><th scope=col>wkhct</th><th scope=col>wkhtot</th><th scope=col>grspnum</th><th scope=col>frlgrsp</th><th scope=col>inwtm</th></tr>\n",
       "\t<tr><th scope=col>&lt;dbl&gt;</th><th scope=col>&lt;dbl&gt;</th><th scope=col>&lt;dbl&gt;</th><th scope=col>&lt;chr&gt;</th><th scope=col>&lt;chr&gt;</th><th scope=col>&lt;chr&gt;</th><th scope=col>&lt;chr&gt;</th><th scope=col>&lt;chr&gt;</th><th scope=col>&lt;chr&gt;</th><th scope=col>&lt;dbl&gt;</th><th scope=col>&lt;chr&gt;</th><th scope=col>&lt;dbl&gt;</th><th scope=col>&lt;dbl&gt;</th><th scope=col>&lt;dbl&gt;</th><th scope=col>&lt;dbl&gt;</th><th scope=col>&lt;dbl&gt;</th><th scope=col>&lt;dbl&gt;</th></tr>\n",
       "</thead>\n",
       "<tbody>\n",
       "\t<tr><td> 5816</td><td> 90</td><td>7</td><td>Yes</td><td>SF Socialistisk Folkeparti - Socialist People's Party</td><td>Good     </td><td>1994</td><td>60                             </td><td>Male  </td><td>1974</td><td>Mellemlang videregående uddannelse af 3-4 års varighed. Professionsbachelorer,</td><td>35</td><td>37</td><td>37</td><td>37000</td><td>35000</td><td>61</td></tr>\n",
       "\t<tr><td> 7887</td><td>360</td><td>8</td><td>Yes</td><td>Socialdemokratiet - The Social democrats             </td><td>Fair     </td><td>1983</td><td>55                             </td><td>Male  </td><td>1958</td><td>Lang videregående uddannelse. Kandidatuddannelser af 5.-6. års varighed, F.eks</td><td>25</td><td>39</td><td>39</td><td>36000</td><td>42000</td><td>89</td></tr>\n",
       "\t<tr><td>19970</td><td>240</td><td>9</td><td>Yes</td><td>Liberal Alliance - Liberal Alliance                  </td><td>Very good</td><td>1984</td><td>60                             </td><td>Female</td><td>1966</td><td>Lang videregående uddannelse. Kandidatuddannelser af 5.-6. års varighed, F.eks</td><td>21</td><td>36</td><td>36</td><td>85000</td><td>   NA</td><td>42</td></tr>\n",
       "\t<tr><td>22248</td><td>121</td><td>9</td><td>Yes</td><td>Socialdemokratiet - The Social democrats             </td><td>Good     </td><td>1970</td><td>Never too young                </td><td>Female</td><td>1950</td><td>Mellemlang videregående uddannelse af 3-4 års varighed. Professionsbachelorer,</td><td>19</td><td>37</td><td>37</td><td>   NA</td><td>   NA</td><td>62</td></tr>\n",
       "\t<tr><td>24928</td><td>120</td><td>8</td><td>Yes</td><td>Venstre, Danmarks Liberale Parti - The Liberal Party </td><td>Very good</td><td>1984</td><td>Should never retire permanently</td><td>Male  </td><td>1965</td><td>Mellemlang videregående uddannelse af 3-4 års varighed. Professionsbachelorer,</td><td>19</td><td>NA</td><td>80</td><td>50000</td><td>   NA</td><td>77</td></tr>\n",
       "\t<tr><td>27211</td><td>120</td><td>7</td><td>Yes</td><td>Kristendemokraterne - Christian Democrats            </td><td>Fair     </td><td>1983</td><td>60                             </td><td>Male  </td><td>1969</td><td>Mellemlang videregående uddannelse af 3-4 års varighed. Professionsbachelorer,</td><td>16</td><td>15</td><td>17</td><td>26000</td><td>   NA</td><td>99</td></tr>\n",
       "</tbody>\n",
       "</table>\n"
      ],
      "text/latex": [
       "A tibble: 6 × 17\n",
       "\\begin{tabular}{lllllllllllllllll}\n",
       " idno & netustm & ppltrst & vote & prtvtddk & health & lvpntyr & tygrtr & gndr & yrbrn & edlvddk & eduyrs & wkhct & wkhtot & grspnum & frlgrsp & inwtm\\\\\n",
       " <dbl> & <dbl> & <dbl> & <chr> & <chr> & <chr> & <chr> & <chr> & <chr> & <dbl> & <chr> & <dbl> & <dbl> & <dbl> & <dbl> & <dbl> & <dbl>\\\\\n",
       "\\hline\n",
       "\t  5816 &  90 & 7 & Yes & SF Socialistisk Folkeparti - Socialist People's Party & Good      & 1994 & 60                              & Male   & 1974 & Mellemlang videregående uddannelse af 3-4 års varighed. Professionsbachelorer, & 35 & 37 & 37 & 37000 & 35000 & 61\\\\\n",
       "\t  7887 & 360 & 8 & Yes & Socialdemokratiet - The Social democrats              & Fair      & 1983 & 55                              & Male   & 1958 & Lang videregående uddannelse. Kandidatuddannelser af 5.-6. års varighed, F.eks & 25 & 39 & 39 & 36000 & 42000 & 89\\\\\n",
       "\t 19970 & 240 & 9 & Yes & Liberal Alliance - Liberal Alliance                   & Very good & 1984 & 60                              & Female & 1966 & Lang videregående uddannelse. Kandidatuddannelser af 5.-6. års varighed, F.eks & 21 & 36 & 36 & 85000 &    NA & 42\\\\\n",
       "\t 22248 & 121 & 9 & Yes & Socialdemokratiet - The Social democrats              & Good      & 1970 & Never too young                 & Female & 1950 & Mellemlang videregående uddannelse af 3-4 års varighed. Professionsbachelorer, & 19 & 37 & 37 &    NA &    NA & 62\\\\\n",
       "\t 24928 & 120 & 8 & Yes & Venstre, Danmarks Liberale Parti - The Liberal Party  & Very good & 1984 & Should never retire permanently & Male   & 1965 & Mellemlang videregående uddannelse af 3-4 års varighed. Professionsbachelorer, & 19 & NA & 80 & 50000 &    NA & 77\\\\\n",
       "\t 27211 & 120 & 7 & Yes & Kristendemokraterne - Christian Democrats             & Fair      & 1983 & 60                              & Male   & 1969 & Mellemlang videregående uddannelse af 3-4 års varighed. Professionsbachelorer, & 16 & 15 & 17 & 26000 &    NA & 99\\\\\n",
       "\\end{tabular}\n"
      ],
      "text/markdown": [
       "\n",
       "A tibble: 6 × 17\n",
       "\n",
       "| idno &lt;dbl&gt; | netustm &lt;dbl&gt; | ppltrst &lt;dbl&gt; | vote &lt;chr&gt; | prtvtddk &lt;chr&gt; | health &lt;chr&gt; | lvpntyr &lt;chr&gt; | tygrtr &lt;chr&gt; | gndr &lt;chr&gt; | yrbrn &lt;dbl&gt; | edlvddk &lt;chr&gt; | eduyrs &lt;dbl&gt; | wkhct &lt;dbl&gt; | wkhtot &lt;dbl&gt; | grspnum &lt;dbl&gt; | frlgrsp &lt;dbl&gt; | inwtm &lt;dbl&gt; |\n",
       "|---|---|---|---|---|---|---|---|---|---|---|---|---|---|---|---|---|\n",
       "|  5816 |  90 | 7 | Yes | SF Socialistisk Folkeparti - Socialist People's Party | Good      | 1994 | 60                              | Male   | 1974 | Mellemlang videregående uddannelse af 3-4 års varighed. Professionsbachelorer, | 35 | 37 | 37 | 37000 | 35000 | 61 |\n",
       "|  7887 | 360 | 8 | Yes | Socialdemokratiet - The Social democrats              | Fair      | 1983 | 55                              | Male   | 1958 | Lang videregående uddannelse. Kandidatuddannelser af 5.-6. års varighed, F.eks | 25 | 39 | 39 | 36000 | 42000 | 89 |\n",
       "| 19970 | 240 | 9 | Yes | Liberal Alliance - Liberal Alliance                   | Very good | 1984 | 60                              | Female | 1966 | Lang videregående uddannelse. Kandidatuddannelser af 5.-6. års varighed, F.eks | 21 | 36 | 36 | 85000 |    NA | 42 |\n",
       "| 22248 | 121 | 9 | Yes | Socialdemokratiet - The Social democrats              | Good      | 1970 | Never too young                 | Female | 1950 | Mellemlang videregående uddannelse af 3-4 års varighed. Professionsbachelorer, | 19 | 37 | 37 |    NA |    NA | 62 |\n",
       "| 24928 | 120 | 8 | Yes | Venstre, Danmarks Liberale Parti - The Liberal Party  | Very good | 1984 | Should never retire permanently | Male   | 1965 | Mellemlang videregående uddannelse af 3-4 års varighed. Professionsbachelorer, | 19 | NA | 80 | 50000 |    NA | 77 |\n",
       "| 27211 | 120 | 7 | Yes | Kristendemokraterne - Christian Democrats             | Fair      | 1983 | 60                              | Male   | 1969 | Mellemlang videregående uddannelse af 3-4 års varighed. Professionsbachelorer, | 16 | 15 | 17 | 26000 |    NA | 99 |\n",
       "\n"
      ],
      "text/plain": [
       "  idno  netustm ppltrst vote\n",
       "1  5816  90     7       Yes \n",
       "2  7887 360     8       Yes \n",
       "3 19970 240     9       Yes \n",
       "4 22248 121     9       Yes \n",
       "5 24928 120     8       Yes \n",
       "6 27211 120     7       Yes \n",
       "  prtvtddk                                              health    lvpntyr\n",
       "1 SF Socialistisk Folkeparti - Socialist People's Party Good      1994   \n",
       "2 Socialdemokratiet - The Social democrats              Fair      1983   \n",
       "3 Liberal Alliance - Liberal Alliance                   Very good 1984   \n",
       "4 Socialdemokratiet - The Social democrats              Good      1970   \n",
       "5 Venstre, Danmarks Liberale Parti - The Liberal Party  Very good 1984   \n",
       "6 Kristendemokraterne - Christian Democrats             Fair      1983   \n",
       "  tygrtr                          gndr   yrbrn\n",
       "1 60                              Male   1974 \n",
       "2 55                              Male   1958 \n",
       "3 60                              Female 1966 \n",
       "4 Never too young                 Female 1950 \n",
       "5 Should never retire permanently Male   1965 \n",
       "6 60                              Male   1969 \n",
       "  edlvddk                                                                       \n",
       "1 Mellemlang videregående uddannelse af 3-4 års varighed. Professionsbachelorer,\n",
       "2 Lang videregående uddannelse. Kandidatuddannelser af 5.-6. års varighed, F.eks\n",
       "3 Lang videregående uddannelse. Kandidatuddannelser af 5.-6. års varighed, F.eks\n",
       "4 Mellemlang videregående uddannelse af 3-4 års varighed. Professionsbachelorer,\n",
       "5 Mellemlang videregående uddannelse af 3-4 års varighed. Professionsbachelorer,\n",
       "6 Mellemlang videregående uddannelse af 3-4 års varighed. Professionsbachelorer,\n",
       "  eduyrs wkhct wkhtot grspnum frlgrsp inwtm\n",
       "1 35     37    37     37000   35000   61   \n",
       "2 25     39    39     36000   42000   89   \n",
       "3 21     36    36     85000      NA   42   \n",
       "4 19     37    37        NA      NA   62   \n",
       "5 19     NA    80     50000      NA   77   \n",
       "6 16     15    17     26000      NA   99   "
      ]
     },
     "metadata": {},
     "output_type": "display_data"
    }
   ],
   "source": [
    "ess18_edusub <- filter(ess18, eduyrs > 15) # Subset med folk med mere end 15 års uddannelse\n",
    "\n",
    "head(ess18_edusub)"
   ]
  },
  {
   "cell_type": "markdown",
   "metadata": {},
   "source": [
    "{{% notice note %}}\n",
    "Bemærk! Ved brug af `filter` behøves kun at skrive navnet på variablen (`eduyrs`), og ikke både navn på variabel og datasæt, som man ellers typisk gør for at referere til enkeltkolonner i R (`ess18$eduyrs`). \n",
    "\n",
    "Dette behøves ikke, da `filter` antager, at variabelnavnet kommer fra det datasæt, som er angivet. Dette er gennemgående for de fleste `tidyverse` pakker og kommandoer (`filter`, `select`, `mutate` osv.)\n",
    "\n",
    "{{% /notice %}}"
   ]
  },
  {
   "cell_type": "markdown",
   "metadata": {
    "slideshow": {
     "slide_type": "slide"
    }
   },
   "source": [
    "### Logiske udtryk og logiske værdier\n",
    "\n",
    "I R skrives kriterier som \"logiske udtryk\". Logiske udtryk er kommandoer, som altid returnere logiske værdier. Disse er altid enten `TRUE` eller `FALSE` (eller `NA`).\n",
    "\n",
    "En række operationer i R returnerer altid logiske værdier:\n",
    "\n",
    "- `>`\n",
    "- `>=`\n",
    "- `<`\n",
    "- `<=`\n",
    "- `==`\n",
    "- `!=`"
   ]
  },
  {
   "cell_type": "code",
   "execution_count": 46,
   "metadata": {
    "slideshow": {
     "slide_type": "fragment"
    }
   },
   "outputs": [
    {
     "data": {
      "text/html": [
       "TRUE"
      ],
      "text/latex": [
       "TRUE"
      ],
      "text/markdown": [
       "TRUE"
      ],
      "text/plain": [
       "[1] TRUE"
      ]
     },
     "metadata": {},
     "output_type": "display_data"
    }
   ],
   "source": [
    "42 > 10"
   ]
  },
  {
   "cell_type": "code",
   "execution_count": 47,
   "metadata": {
    "slideshow": {
     "slide_type": "fragment"
    }
   },
   "outputs": [
    {
     "data": {
      "text/html": [
       "FALSE"
      ],
      "text/latex": [
       "FALSE"
      ],
      "text/markdown": [
       "FALSE"
      ],
      "text/plain": [
       "[1] FALSE"
      ]
     },
     "metadata": {},
     "output_type": "display_data"
    }
   ],
   "source": [
    "10 != 10"
   ]
  },
  {
   "cell_type": "markdown",
   "metadata": {},
   "source": [
    "`filter()` forventer et logisk udtryk som kriterie, og bevarer så alle de observationer, som opfylder kriteriet."
   ]
  },
  {
   "cell_type": "markdown",
   "metadata": {
    "slideshow": {
     "slide_type": "slide"
    },
    "tags": []
   },
   "source": [
    "### Vælg kolonner/variable med `select`\n",
    "\n",
    "`select` tager mindst to input: et datasæt (en dataframe) og en eller flere variable fra det datasæt, som kan beholdes/gemmes i et nyt datasæt. \n",
    "\n",
    "Datasættet er altid første input, hvorefter variable listes i den rækkefølge, som man gerne vil have dem, adskilt med mellemrum."
   ]
  },
  {
   "cell_type": "code",
   "execution_count": 48,
   "metadata": {
    "slideshow": {
     "slide_type": "fragment"
    },
    "tags": []
   },
   "outputs": [
    {
     "data": {
      "text/html": [
       "<table class=\"dataframe\">\n",
       "<caption>A tibble: 6 × 4</caption>\n",
       "<thead>\n",
       "\t<tr><th scope=col>idno</th><th scope=col>gndr</th><th scope=col>yrbrn</th><th scope=col>edlvddk</th></tr>\n",
       "\t<tr><th scope=col>&lt;dbl&gt;</th><th scope=col>&lt;chr&gt;</th><th scope=col>&lt;dbl&gt;</th><th scope=col>&lt;chr&gt;</th></tr>\n",
       "</thead>\n",
       "<tbody>\n",
       "\t<tr><td> 5816</td><td>Male</td><td>1974</td><td>Mellemlang videregående uddannelse af 3-4 års varighed. Professionsbachelorer,</td></tr>\n",
       "\t<tr><td> 7887</td><td>Male</td><td>1958</td><td>Lang videregående uddannelse. Kandidatuddannelser af 5.-6. års varighed, F.eks</td></tr>\n",
       "\t<tr><td>12355</td><td>Male</td><td>1963</td><td>Faglig uddannelse (håndværk, handel, landbrug mv.), F.eks. Faglærte, Social-  </td></tr>\n",
       "\t<tr><td>16357</td><td>Male</td><td>1991</td><td>Mellemlang videregående uddannelse af 3-4 års varighed. Professionsbachelorer,</td></tr>\n",
       "\t<tr><td>20724</td><td>Male</td><td>1958</td><td>Faglig uddannelse (håndværk, handel, landbrug mv.), F.eks. Faglærte, Social-  </td></tr>\n",
       "\t<tr><td>24928</td><td>Male</td><td>1965</td><td>Mellemlang videregående uddannelse af 3-4 års varighed. Professionsbachelorer,</td></tr>\n",
       "</tbody>\n",
       "</table>\n"
      ],
      "text/latex": [
       "A tibble: 6 × 4\n",
       "\\begin{tabular}{llll}\n",
       " idno & gndr & yrbrn & edlvddk\\\\\n",
       " <dbl> & <chr> & <dbl> & <chr>\\\\\n",
       "\\hline\n",
       "\t  5816 & Male & 1974 & Mellemlang videregående uddannelse af 3-4 års varighed. Professionsbachelorer,\\\\\n",
       "\t  7887 & Male & 1958 & Lang videregående uddannelse. Kandidatuddannelser af 5.-6. års varighed, F.eks\\\\\n",
       "\t 12355 & Male & 1963 & Faglig uddannelse (håndværk, handel, landbrug mv.), F.eks. Faglærte, Social-  \\\\\n",
       "\t 16357 & Male & 1991 & Mellemlang videregående uddannelse af 3-4 års varighed. Professionsbachelorer,\\\\\n",
       "\t 20724 & Male & 1958 & Faglig uddannelse (håndværk, handel, landbrug mv.), F.eks. Faglærte, Social-  \\\\\n",
       "\t 24928 & Male & 1965 & Mellemlang videregående uddannelse af 3-4 års varighed. Professionsbachelorer,\\\\\n",
       "\\end{tabular}\n"
      ],
      "text/markdown": [
       "\n",
       "A tibble: 6 × 4\n",
       "\n",
       "| idno &lt;dbl&gt; | gndr &lt;chr&gt; | yrbrn &lt;dbl&gt; | edlvddk &lt;chr&gt; |\n",
       "|---|---|---|---|\n",
       "|  5816 | Male | 1974 | Mellemlang videregående uddannelse af 3-4 års varighed. Professionsbachelorer, |\n",
       "|  7887 | Male | 1958 | Lang videregående uddannelse. Kandidatuddannelser af 5.-6. års varighed, F.eks |\n",
       "| 12355 | Male | 1963 | Faglig uddannelse (håndværk, handel, landbrug mv.), F.eks. Faglærte, Social-   |\n",
       "| 16357 | Male | 1991 | Mellemlang videregående uddannelse af 3-4 års varighed. Professionsbachelorer, |\n",
       "| 20724 | Male | 1958 | Faglig uddannelse (håndværk, handel, landbrug mv.), F.eks. Faglærte, Social-   |\n",
       "| 24928 | Male | 1965 | Mellemlang videregående uddannelse af 3-4 års varighed. Professionsbachelorer, |\n",
       "\n"
      ],
      "text/plain": [
       "  idno  gndr yrbrn\n",
       "1  5816 Male 1974 \n",
       "2  7887 Male 1958 \n",
       "3 12355 Male 1963 \n",
       "4 16357 Male 1991 \n",
       "5 20724 Male 1958 \n",
       "6 24928 Male 1965 \n",
       "  edlvddk                                                                       \n",
       "1 Mellemlang videregående uddannelse af 3-4 års varighed. Professionsbachelorer,\n",
       "2 Lang videregående uddannelse. Kandidatuddannelser af 5.-6. års varighed, F.eks\n",
       "3 Faglig uddannelse (håndværk, handel, landbrug mv.), F.eks. Faglærte, Social-  \n",
       "4 Mellemlang videregående uddannelse af 3-4 års varighed. Professionsbachelorer,\n",
       "5 Faglig uddannelse (håndværk, handel, landbrug mv.), F.eks. Faglærte, Social-  \n",
       "6 Mellemlang videregående uddannelse af 3-4 års varighed. Professionsbachelorer,"
      ]
     },
     "metadata": {},
     "output_type": "display_data"
    }
   ],
   "source": [
    "ess18_male_subset <- select(ess18_male, idno, gndr, yrbrn, edlvddk) # Udvælg specifikke variable\n",
    "\n",
    "head(ess18_male_subset)"
   ]
  },
  {
   "cell_type": "markdown",
   "metadata": {},
   "source": [
    "`select` kan også bruges til at fravælge bestemte variable ved at sætte et `-` foran variabel-navnet:"
   ]
  },
  {
   "cell_type": "code",
   "execution_count": 5,
   "metadata": {},
   "outputs": [
    {
     "data": {
      "text/html": [
       "<table class=\"dataframe\">\n",
       "<caption>A tibble: 6 × 16</caption>\n",
       "<thead>\n",
       "\t<tr><th scope=col>idno</th><th scope=col>netustm</th><th scope=col>ppltrst</th><th scope=col>vote</th><th scope=col>prtvtddk</th><th scope=col>health</th><th scope=col>lvpntyr</th><th scope=col>tygrtr</th><th scope=col>gndr</th><th scope=col>yrbrn</th><th scope=col>eduyrs</th><th scope=col>wkhct</th><th scope=col>wkhtot</th><th scope=col>grspnum</th><th scope=col>frlgrsp</th><th scope=col>inwtm</th></tr>\n",
       "\t<tr><th scope=col>&lt;dbl&gt;</th><th scope=col>&lt;dbl&gt;</th><th scope=col>&lt;dbl&gt;</th><th scope=col>&lt;chr&gt;</th><th scope=col>&lt;chr&gt;</th><th scope=col>&lt;chr&gt;</th><th scope=col>&lt;chr&gt;</th><th scope=col>&lt;chr&gt;</th><th scope=col>&lt;chr&gt;</th><th scope=col>&lt;dbl&gt;</th><th scope=col>&lt;dbl&gt;</th><th scope=col>&lt;dbl&gt;</th><th scope=col>&lt;dbl&gt;</th><th scope=col>&lt;dbl&gt;</th><th scope=col>&lt;dbl&gt;</th><th scope=col>&lt;dbl&gt;</th></tr>\n",
       "</thead>\n",
       "<tbody>\n",
       "\t<tr><td> 5816</td><td> 90</td><td>7</td><td>Yes</td><td>SF Socialistisk Folkeparti - Socialist People's Party</td><td>Good     </td><td>1994</td><td>60                             </td><td>Male</td><td>1974</td><td>35</td><td>37</td><td>37</td><td>37000</td><td>35000</td><td>61</td></tr>\n",
       "\t<tr><td> 7887</td><td>360</td><td>8</td><td>Yes</td><td>Socialdemokratiet - The Social democrats             </td><td>Fair     </td><td>1983</td><td>55                             </td><td>Male</td><td>1958</td><td>25</td><td>39</td><td>39</td><td>36000</td><td>42000</td><td>89</td></tr>\n",
       "\t<tr><td>12355</td><td>120</td><td>5</td><td>Yes</td><td>Socialdemokratiet - The Social democrats             </td><td>Fair     </td><td>1987</td><td>60                             </td><td>Male</td><td>1963</td><td>14</td><td>38</td><td>37</td><td>36000</td><td>38000</td><td>48</td></tr>\n",
       "\t<tr><td>16357</td><td>488</td><td>5</td><td>Yes</td><td>Dansk Folkeparti - Danish People's Party             </td><td>Very good</td><td>2013</td><td>50                             </td><td>Male</td><td>1991</td><td> 4</td><td>37</td><td>37</td><td>40000</td><td>   NA</td><td>50</td></tr>\n",
       "\t<tr><td>20724</td><td> 60</td><td>5</td><td>Yes</td><td>Venstre, Danmarks Liberale Parti - The Liberal Party </td><td>Good     </td><td>1981</td><td>Never too young                </td><td>Male</td><td>1958</td><td>14</td><td>37</td><td>40</td><td>28000</td><td>34000</td><td>65</td></tr>\n",
       "\t<tr><td>24928</td><td>120</td><td>8</td><td>Yes</td><td>Venstre, Danmarks Liberale Parti - The Liberal Party </td><td>Very good</td><td>1984</td><td>Should never retire permanently</td><td>Male</td><td>1965</td><td>19</td><td>NA</td><td>80</td><td>50000</td><td>   NA</td><td>77</td></tr>\n",
       "</tbody>\n",
       "</table>\n"
      ],
      "text/latex": [
       "A tibble: 6 × 16\n",
       "\\begin{tabular}{llllllllllllllll}\n",
       " idno & netustm & ppltrst & vote & prtvtddk & health & lvpntyr & tygrtr & gndr & yrbrn & eduyrs & wkhct & wkhtot & grspnum & frlgrsp & inwtm\\\\\n",
       " <dbl> & <dbl> & <dbl> & <chr> & <chr> & <chr> & <chr> & <chr> & <chr> & <dbl> & <dbl> & <dbl> & <dbl> & <dbl> & <dbl> & <dbl>\\\\\n",
       "\\hline\n",
       "\t  5816 &  90 & 7 & Yes & SF Socialistisk Folkeparti - Socialist People's Party & Good      & 1994 & 60                              & Male & 1974 & 35 & 37 & 37 & 37000 & 35000 & 61\\\\\n",
       "\t  7887 & 360 & 8 & Yes & Socialdemokratiet - The Social democrats              & Fair      & 1983 & 55                              & Male & 1958 & 25 & 39 & 39 & 36000 & 42000 & 89\\\\\n",
       "\t 12355 & 120 & 5 & Yes & Socialdemokratiet - The Social democrats              & Fair      & 1987 & 60                              & Male & 1963 & 14 & 38 & 37 & 36000 & 38000 & 48\\\\\n",
       "\t 16357 & 488 & 5 & Yes & Dansk Folkeparti - Danish People's Party              & Very good & 2013 & 50                              & Male & 1991 &  4 & 37 & 37 & 40000 &    NA & 50\\\\\n",
       "\t 20724 &  60 & 5 & Yes & Venstre, Danmarks Liberale Parti - The Liberal Party  & Good      & 1981 & Never too young                 & Male & 1958 & 14 & 37 & 40 & 28000 & 34000 & 65\\\\\n",
       "\t 24928 & 120 & 8 & Yes & Venstre, Danmarks Liberale Parti - The Liberal Party  & Very good & 1984 & Should never retire permanently & Male & 1965 & 19 & NA & 80 & 50000 &    NA & 77\\\\\n",
       "\\end{tabular}\n"
      ],
      "text/markdown": [
       "\n",
       "A tibble: 6 × 16\n",
       "\n",
       "| idno &lt;dbl&gt; | netustm &lt;dbl&gt; | ppltrst &lt;dbl&gt; | vote &lt;chr&gt; | prtvtddk &lt;chr&gt; | health &lt;chr&gt; | lvpntyr &lt;chr&gt; | tygrtr &lt;chr&gt; | gndr &lt;chr&gt; | yrbrn &lt;dbl&gt; | eduyrs &lt;dbl&gt; | wkhct &lt;dbl&gt; | wkhtot &lt;dbl&gt; | grspnum &lt;dbl&gt; | frlgrsp &lt;dbl&gt; | inwtm &lt;dbl&gt; |\n",
       "|---|---|---|---|---|---|---|---|---|---|---|---|---|---|---|---|\n",
       "|  5816 |  90 | 7 | Yes | SF Socialistisk Folkeparti - Socialist People's Party | Good      | 1994 | 60                              | Male | 1974 | 35 | 37 | 37 | 37000 | 35000 | 61 |\n",
       "|  7887 | 360 | 8 | Yes | Socialdemokratiet - The Social democrats              | Fair      | 1983 | 55                              | Male | 1958 | 25 | 39 | 39 | 36000 | 42000 | 89 |\n",
       "| 12355 | 120 | 5 | Yes | Socialdemokratiet - The Social democrats              | Fair      | 1987 | 60                              | Male | 1963 | 14 | 38 | 37 | 36000 | 38000 | 48 |\n",
       "| 16357 | 488 | 5 | Yes | Dansk Folkeparti - Danish People's Party              | Very good | 2013 | 50                              | Male | 1991 |  4 | 37 | 37 | 40000 |    NA | 50 |\n",
       "| 20724 |  60 | 5 | Yes | Venstre, Danmarks Liberale Parti - The Liberal Party  | Good      | 1981 | Never too young                 | Male | 1958 | 14 | 37 | 40 | 28000 | 34000 | 65 |\n",
       "| 24928 | 120 | 8 | Yes | Venstre, Danmarks Liberale Parti - The Liberal Party  | Very good | 1984 | Should never retire permanently | Male | 1965 | 19 | NA | 80 | 50000 |    NA | 77 |\n",
       "\n"
      ],
      "text/plain": [
       "  idno  netustm ppltrst vote\n",
       "1  5816  90     7       Yes \n",
       "2  7887 360     8       Yes \n",
       "3 12355 120     5       Yes \n",
       "4 16357 488     5       Yes \n",
       "5 20724  60     5       Yes \n",
       "6 24928 120     8       Yes \n",
       "  prtvtddk                                              health    lvpntyr\n",
       "1 SF Socialistisk Folkeparti - Socialist People's Party Good      1994   \n",
       "2 Socialdemokratiet - The Social democrats              Fair      1983   \n",
       "3 Socialdemokratiet - The Social democrats              Fair      1987   \n",
       "4 Dansk Folkeparti - Danish People's Party              Very good 2013   \n",
       "5 Venstre, Danmarks Liberale Parti - The Liberal Party  Good      1981   \n",
       "6 Venstre, Danmarks Liberale Parti - The Liberal Party  Very good 1984   \n",
       "  tygrtr                          gndr yrbrn eduyrs wkhct wkhtot grspnum\n",
       "1 60                              Male 1974  35     37    37     37000  \n",
       "2 55                              Male 1958  25     39    39     36000  \n",
       "3 60                              Male 1963  14     38    37     36000  \n",
       "4 50                              Male 1991   4     37    37     40000  \n",
       "5 Never too young                 Male 1958  14     37    40     28000  \n",
       "6 Should never retire permanently Male 1965  19     NA    80     50000  \n",
       "  frlgrsp inwtm\n",
       "1 35000   61   \n",
       "2 42000   89   \n",
       "3 38000   48   \n",
       "4    NA   50   \n",
       "5 34000   65   \n",
       "6    NA   77   "
      ]
     },
     "metadata": {},
     "output_type": "display_data"
    }
   ],
   "source": [
    "ess18_male_subset <- select(ess18_male, -edlvddk) # Alle variable undtagen edlvddk\n",
    "\n",
    "head(ess18_male_subset)"
   ]
  },
  {
   "cell_type": "markdown",
   "metadata": {},
   "source": [
    "`select` indeholder en række funktioner til at vælge variable forskellige kriterier, herunder:\n",
    "- `starts_with()`: Vælger alle variable, hvis navne starter med tekststrengen angivet i funktionen\n",
    "- `contains()`: Vælger alle variable, hvis navn indeholder tekststrengen angivet i funktionen.\n",
    "\n",
    "Se mere her: https://dplyr.tidyverse.org/reference/select.html"
   ]
  },
  {
   "cell_type": "markdown",
   "metadata": {},
   "source": [
    "## Håndtering af missingværdier\n",
    "\n",
    "Missingværdier er som bekendt angivet med `NA` i R. \n",
    "\n",
    "Som vist ved beregning af deskriptive mål (middelværdi, standardafvigelse osv.), så kan R ikke lave beregninger på missingværdier. Ved nogle beregninger frasorterer R missingværdierne automatisk inden beregning, men andre gange skal man selv specificerer, hvad der skal ske med missingværdierne.\n",
    "\n",
    "Man har derfor typisk brug for at kunne identificere hvilke værdier i datasættet, der er missing. `NA` er dog en speciel værdi, så den kan ikke bruges i et filter lig andre værdier.\n",
    "\n",
    "I nedenstående forsøges at udvælge de respondenter fra `ess18_male` subsettet, som *ikke* er missing i `grspnum` (selvangivet månedlig indkomst):"
   ]
  },
  {
   "cell_type": "code",
   "execution_count": 8,
   "metadata": {},
   "outputs": [
    {
     "data": {
      "text/html": [
       "<table class=\"dataframe\">\n",
       "<caption>A tibble: 0 × 17</caption>\n",
       "<thead>\n",
       "\t<tr><th scope=col>idno</th><th scope=col>netustm</th><th scope=col>ppltrst</th><th scope=col>vote</th><th scope=col>prtvtddk</th><th scope=col>health</th><th scope=col>lvpntyr</th><th scope=col>tygrtr</th><th scope=col>gndr</th><th scope=col>yrbrn</th><th scope=col>edlvddk</th><th scope=col>eduyrs</th><th scope=col>wkhct</th><th scope=col>wkhtot</th><th scope=col>grspnum</th><th scope=col>frlgrsp</th><th scope=col>inwtm</th></tr>\n",
       "\t<tr><th scope=col>&lt;dbl&gt;</th><th scope=col>&lt;dbl&gt;</th><th scope=col>&lt;dbl&gt;</th><th scope=col>&lt;chr&gt;</th><th scope=col>&lt;chr&gt;</th><th scope=col>&lt;chr&gt;</th><th scope=col>&lt;chr&gt;</th><th scope=col>&lt;chr&gt;</th><th scope=col>&lt;chr&gt;</th><th scope=col>&lt;dbl&gt;</th><th scope=col>&lt;chr&gt;</th><th scope=col>&lt;dbl&gt;</th><th scope=col>&lt;dbl&gt;</th><th scope=col>&lt;dbl&gt;</th><th scope=col>&lt;dbl&gt;</th><th scope=col>&lt;dbl&gt;</th><th scope=col>&lt;dbl&gt;</th></tr>\n",
       "</thead>\n",
       "<tbody>\n",
       "</tbody>\n",
       "</table>\n"
      ],
      "text/latex": [
       "A tibble: 0 × 17\n",
       "\\begin{tabular}{lllllllllllllllll}\n",
       " idno & netustm & ppltrst & vote & prtvtddk & health & lvpntyr & tygrtr & gndr & yrbrn & edlvddk & eduyrs & wkhct & wkhtot & grspnum & frlgrsp & inwtm\\\\\n",
       " <dbl> & <dbl> & <dbl> & <chr> & <chr> & <chr> & <chr> & <chr> & <chr> & <dbl> & <chr> & <dbl> & <dbl> & <dbl> & <dbl> & <dbl> & <dbl>\\\\\n",
       "\\hline\n",
       "\\end{tabular}\n"
      ],
      "text/markdown": [
       "\n",
       "A tibble: 0 × 17\n",
       "\n",
       "| idno &lt;dbl&gt; | netustm &lt;dbl&gt; | ppltrst &lt;dbl&gt; | vote &lt;chr&gt; | prtvtddk &lt;chr&gt; | health &lt;chr&gt; | lvpntyr &lt;chr&gt; | tygrtr &lt;chr&gt; | gndr &lt;chr&gt; | yrbrn &lt;dbl&gt; | edlvddk &lt;chr&gt; | eduyrs &lt;dbl&gt; | wkhct &lt;dbl&gt; | wkhtot &lt;dbl&gt; | grspnum &lt;dbl&gt; | frlgrsp &lt;dbl&gt; | inwtm &lt;dbl&gt; |\n",
       "|---|---|---|---|---|---|---|---|---|---|---|---|---|---|---|---|---|\n",
       "\n"
      ],
      "text/plain": [
       "     idno netustm ppltrst vote prtvtddk health lvpntyr tygrtr gndr yrbrn\n",
       "     edlvddk eduyrs wkhct wkhtot grspnum frlgrsp inwtm"
      ]
     },
     "metadata": {},
     "output_type": "display_data"
    }
   ],
   "source": [
    "ess18_male_filter <- filter(ess18_male, grspnum != NA)\n",
    "\n",
    "head(ess18_male_filter)"
   ]
  },
  {
   "cell_type": "markdown",
   "metadata": {},
   "source": [
    "Ovenstående returnerer ingen rækker, da man ikke kan arbejde med missingværdier på den måde i R. \n",
    "\n",
    "For at identificere missingværdier bruges funktionen `is.na()`. Funktionen spørger \"er værdien missing?\" og returner `TRUE`/`FALSE` (`TRUE` hvis missing; ellers `FALSE`):"
   ]
  },
  {
   "cell_type": "code",
   "execution_count": 11,
   "metadata": {},
   "outputs": [
    {
     "data": {
      "text/html": [
       "<style>\n",
       ".list-inline {list-style: none; margin:0; padding: 0}\n",
       ".list-inline>li {display: inline-block}\n",
       ".list-inline>li:not(:last-child)::after {content: \"\\00b7\"; padding: 0 .5ex}\n",
       "</style>\n",
       "<ol class=list-inline><li>FALSE</li><li>FALSE</li><li>FALSE</li><li>FALSE</li><li>FALSE</li><li>FALSE</li></ol>\n"
      ],
      "text/latex": [
       "\\begin{enumerate*}\n",
       "\\item FALSE\n",
       "\\item FALSE\n",
       "\\item FALSE\n",
       "\\item FALSE\n",
       "\\item FALSE\n",
       "\\item FALSE\n",
       "\\end{enumerate*}\n"
      ],
      "text/markdown": [
       "1. FALSE\n",
       "2. FALSE\n",
       "3. FALSE\n",
       "4. FALSE\n",
       "5. FALSE\n",
       "6. FALSE\n",
       "\n",
       "\n"
      ],
      "text/plain": [
       "[1] FALSE FALSE FALSE FALSE FALSE FALSE"
      ]
     },
     "metadata": {},
     "output_type": "display_data"
    }
   ],
   "source": [
    "head(is.na(ess18_male$grspnum)) # Er de første seks værdier i grspnum missing?"
   ]
  },
  {
   "cell_type": "markdown",
   "metadata": {},
   "source": [
    "Funktionen kan bruges til at finde de observationer, som *er* missing, så hvordan vælges de, som *ikke* er missing?\n",
    "\n",
    "En simpel måde at vælge de observationer, som *ikke* er missing, er ved at \"vende\" kommandoen om, sådan at der gives `TRUE`, hvis de *ikke* er missing. \n",
    "\n",
    "I R kan logiske udtryk vendes om ved at bruge `!` foran udtrykket (ved at \"vende om\" menes, at `TRUE` bliver til `FALSE`, og `FALSE` bliver til `TRUE`:"
   ]
  },
  {
   "cell_type": "code",
   "execution_count": 13,
   "metadata": {},
   "outputs": [
    {
     "data": {
      "text/html": [
       "FALSE"
      ],
      "text/latex": [
       "FALSE"
      ],
      "text/markdown": [
       "FALSE"
      ],
      "text/plain": [
       "[1] FALSE"
      ]
     },
     "metadata": {},
     "output_type": "display_data"
    }
   ],
   "source": [
    "!(2 < 4) # 2 er mindre end fire, men giver FALSE, da det vendes om med !"
   ]
  },
  {
   "cell_type": "markdown",
   "metadata": {},
   "source": [
    "`!` kan også bruges i kombination med `is.na()`:"
   ]
  },
  {
   "cell_type": "code",
   "execution_count": 14,
   "metadata": {},
   "outputs": [
    {
     "data": {
      "text/html": [
       "<style>\n",
       ".list-inline {list-style: none; margin:0; padding: 0}\n",
       ".list-inline>li {display: inline-block}\n",
       ".list-inline>li:not(:last-child)::after {content: \"\\00b7\"; padding: 0 .5ex}\n",
       "</style>\n",
       "<ol class=list-inline><li>TRUE</li><li>TRUE</li><li>TRUE</li><li>TRUE</li><li>TRUE</li><li>TRUE</li></ol>\n"
      ],
      "text/latex": [
       "\\begin{enumerate*}\n",
       "\\item TRUE\n",
       "\\item TRUE\n",
       "\\item TRUE\n",
       "\\item TRUE\n",
       "\\item TRUE\n",
       "\\item TRUE\n",
       "\\end{enumerate*}\n"
      ],
      "text/markdown": [
       "1. TRUE\n",
       "2. TRUE\n",
       "3. TRUE\n",
       "4. TRUE\n",
       "5. TRUE\n",
       "6. TRUE\n",
       "\n",
       "\n"
      ],
      "text/plain": [
       "[1] TRUE TRUE TRUE TRUE TRUE TRUE"
      ]
     },
     "metadata": {},
     "output_type": "display_data"
    }
   ],
   "source": [
    "head(!(is.na(ess18_male$grspnum))) # Er de første seks værdier i grspnum ikke missing?"
   ]
  },
  {
   "cell_type": "markdown",
   "metadata": {},
   "source": [
    "Med ovenstående kan man udelukkende vælge de respondenter, som ikke er missing:"
   ]
  },
  {
   "cell_type": "code",
   "execution_count": 16,
   "metadata": {},
   "outputs": [
    {
     "data": {
      "text/html": [
       "<table class=\"dataframe\">\n",
       "<caption>A tibble: 6 × 17</caption>\n",
       "<thead>\n",
       "\t<tr><th scope=col>idno</th><th scope=col>netustm</th><th scope=col>ppltrst</th><th scope=col>vote</th><th scope=col>prtvtddk</th><th scope=col>health</th><th scope=col>lvpntyr</th><th scope=col>tygrtr</th><th scope=col>gndr</th><th scope=col>yrbrn</th><th scope=col>edlvddk</th><th scope=col>eduyrs</th><th scope=col>wkhct</th><th scope=col>wkhtot</th><th scope=col>grspnum</th><th scope=col>frlgrsp</th><th scope=col>inwtm</th></tr>\n",
       "\t<tr><th scope=col>&lt;dbl&gt;</th><th scope=col>&lt;dbl&gt;</th><th scope=col>&lt;dbl&gt;</th><th scope=col>&lt;chr&gt;</th><th scope=col>&lt;chr&gt;</th><th scope=col>&lt;chr&gt;</th><th scope=col>&lt;chr&gt;</th><th scope=col>&lt;chr&gt;</th><th scope=col>&lt;chr&gt;</th><th scope=col>&lt;dbl&gt;</th><th scope=col>&lt;chr&gt;</th><th scope=col>&lt;dbl&gt;</th><th scope=col>&lt;dbl&gt;</th><th scope=col>&lt;dbl&gt;</th><th scope=col>&lt;dbl&gt;</th><th scope=col>&lt;dbl&gt;</th><th scope=col>&lt;dbl&gt;</th></tr>\n",
       "</thead>\n",
       "<tbody>\n",
       "\t<tr><td> 5816</td><td> 90</td><td>7</td><td>Yes</td><td>SF Socialistisk Folkeparti - Socialist People's Party</td><td>Good     </td><td>1994</td><td>60                             </td><td>Male</td><td>1974</td><td>Mellemlang videregående uddannelse af 3-4 års varighed. Professionsbachelorer,</td><td>35</td><td>37</td><td>37</td><td>37000</td><td>35000</td><td>61</td></tr>\n",
       "\t<tr><td> 7887</td><td>360</td><td>8</td><td>Yes</td><td>Socialdemokratiet - The Social democrats             </td><td>Fair     </td><td>1983</td><td>55                             </td><td>Male</td><td>1958</td><td>Lang videregående uddannelse. Kandidatuddannelser af 5.-6. års varighed, F.eks</td><td>25</td><td>39</td><td>39</td><td>36000</td><td>42000</td><td>89</td></tr>\n",
       "\t<tr><td>12355</td><td>120</td><td>5</td><td>Yes</td><td>Socialdemokratiet - The Social democrats             </td><td>Fair     </td><td>1987</td><td>60                             </td><td>Male</td><td>1963</td><td>Faglig uddannelse (håndværk, handel, landbrug mv.), F.eks. Faglærte, Social-  </td><td>14</td><td>38</td><td>37</td><td>36000</td><td>38000</td><td>48</td></tr>\n",
       "\t<tr><td>16357</td><td>488</td><td>5</td><td>Yes</td><td>Dansk Folkeparti - Danish People's Party             </td><td>Very good</td><td>2013</td><td>50                             </td><td>Male</td><td>1991</td><td>Mellemlang videregående uddannelse af 3-4 års varighed. Professionsbachelorer,</td><td> 4</td><td>37</td><td>37</td><td>40000</td><td>   NA</td><td>50</td></tr>\n",
       "\t<tr><td>20724</td><td> 60</td><td>5</td><td>Yes</td><td>Venstre, Danmarks Liberale Parti - The Liberal Party </td><td>Good     </td><td>1981</td><td>Never too young                </td><td>Male</td><td>1958</td><td>Faglig uddannelse (håndværk, handel, landbrug mv.), F.eks. Faglærte, Social-  </td><td>14</td><td>37</td><td>40</td><td>28000</td><td>34000</td><td>65</td></tr>\n",
       "\t<tr><td>24928</td><td>120</td><td>8</td><td>Yes</td><td>Venstre, Danmarks Liberale Parti - The Liberal Party </td><td>Very good</td><td>1984</td><td>Should never retire permanently</td><td>Male</td><td>1965</td><td>Mellemlang videregående uddannelse af 3-4 års varighed. Professionsbachelorer,</td><td>19</td><td>NA</td><td>80</td><td>50000</td><td>   NA</td><td>77</td></tr>\n",
       "</tbody>\n",
       "</table>\n"
      ],
      "text/latex": [
       "A tibble: 6 × 17\n",
       "\\begin{tabular}{lllllllllllllllll}\n",
       " idno & netustm & ppltrst & vote & prtvtddk & health & lvpntyr & tygrtr & gndr & yrbrn & edlvddk & eduyrs & wkhct & wkhtot & grspnum & frlgrsp & inwtm\\\\\n",
       " <dbl> & <dbl> & <dbl> & <chr> & <chr> & <chr> & <chr> & <chr> & <chr> & <dbl> & <chr> & <dbl> & <dbl> & <dbl> & <dbl> & <dbl> & <dbl>\\\\\n",
       "\\hline\n",
       "\t  5816 &  90 & 7 & Yes & SF Socialistisk Folkeparti - Socialist People's Party & Good      & 1994 & 60                              & Male & 1974 & Mellemlang videregående uddannelse af 3-4 års varighed. Professionsbachelorer, & 35 & 37 & 37 & 37000 & 35000 & 61\\\\\n",
       "\t  7887 & 360 & 8 & Yes & Socialdemokratiet - The Social democrats              & Fair      & 1983 & 55                              & Male & 1958 & Lang videregående uddannelse. Kandidatuddannelser af 5.-6. års varighed, F.eks & 25 & 39 & 39 & 36000 & 42000 & 89\\\\\n",
       "\t 12355 & 120 & 5 & Yes & Socialdemokratiet - The Social democrats              & Fair      & 1987 & 60                              & Male & 1963 & Faglig uddannelse (håndværk, handel, landbrug mv.), F.eks. Faglærte, Social-   & 14 & 38 & 37 & 36000 & 38000 & 48\\\\\n",
       "\t 16357 & 488 & 5 & Yes & Dansk Folkeparti - Danish People's Party              & Very good & 2013 & 50                              & Male & 1991 & Mellemlang videregående uddannelse af 3-4 års varighed. Professionsbachelorer, &  4 & 37 & 37 & 40000 &    NA & 50\\\\\n",
       "\t 20724 &  60 & 5 & Yes & Venstre, Danmarks Liberale Parti - The Liberal Party  & Good      & 1981 & Never too young                 & Male & 1958 & Faglig uddannelse (håndværk, handel, landbrug mv.), F.eks. Faglærte, Social-   & 14 & 37 & 40 & 28000 & 34000 & 65\\\\\n",
       "\t 24928 & 120 & 8 & Yes & Venstre, Danmarks Liberale Parti - The Liberal Party  & Very good & 1984 & Should never retire permanently & Male & 1965 & Mellemlang videregående uddannelse af 3-4 års varighed. Professionsbachelorer, & 19 & NA & 80 & 50000 &    NA & 77\\\\\n",
       "\\end{tabular}\n"
      ],
      "text/markdown": [
       "\n",
       "A tibble: 6 × 17\n",
       "\n",
       "| idno &lt;dbl&gt; | netustm &lt;dbl&gt; | ppltrst &lt;dbl&gt; | vote &lt;chr&gt; | prtvtddk &lt;chr&gt; | health &lt;chr&gt; | lvpntyr &lt;chr&gt; | tygrtr &lt;chr&gt; | gndr &lt;chr&gt; | yrbrn &lt;dbl&gt; | edlvddk &lt;chr&gt; | eduyrs &lt;dbl&gt; | wkhct &lt;dbl&gt; | wkhtot &lt;dbl&gt; | grspnum &lt;dbl&gt; | frlgrsp &lt;dbl&gt; | inwtm &lt;dbl&gt; |\n",
       "|---|---|---|---|---|---|---|---|---|---|---|---|---|---|---|---|---|\n",
       "|  5816 |  90 | 7 | Yes | SF Socialistisk Folkeparti - Socialist People's Party | Good      | 1994 | 60                              | Male | 1974 | Mellemlang videregående uddannelse af 3-4 års varighed. Professionsbachelorer, | 35 | 37 | 37 | 37000 | 35000 | 61 |\n",
       "|  7887 | 360 | 8 | Yes | Socialdemokratiet - The Social democrats              | Fair      | 1983 | 55                              | Male | 1958 | Lang videregående uddannelse. Kandidatuddannelser af 5.-6. års varighed, F.eks | 25 | 39 | 39 | 36000 | 42000 | 89 |\n",
       "| 12355 | 120 | 5 | Yes | Socialdemokratiet - The Social democrats              | Fair      | 1987 | 60                              | Male | 1963 | Faglig uddannelse (håndværk, handel, landbrug mv.), F.eks. Faglærte, Social-   | 14 | 38 | 37 | 36000 | 38000 | 48 |\n",
       "| 16357 | 488 | 5 | Yes | Dansk Folkeparti - Danish People's Party              | Very good | 2013 | 50                              | Male | 1991 | Mellemlang videregående uddannelse af 3-4 års varighed. Professionsbachelorer, |  4 | 37 | 37 | 40000 |    NA | 50 |\n",
       "| 20724 |  60 | 5 | Yes | Venstre, Danmarks Liberale Parti - The Liberal Party  | Good      | 1981 | Never too young                 | Male | 1958 | Faglig uddannelse (håndværk, handel, landbrug mv.), F.eks. Faglærte, Social-   | 14 | 37 | 40 | 28000 | 34000 | 65 |\n",
       "| 24928 | 120 | 8 | Yes | Venstre, Danmarks Liberale Parti - The Liberal Party  | Very good | 1984 | Should never retire permanently | Male | 1965 | Mellemlang videregående uddannelse af 3-4 års varighed. Professionsbachelorer, | 19 | NA | 80 | 50000 |    NA | 77 |\n",
       "\n"
      ],
      "text/plain": [
       "  idno  netustm ppltrst vote\n",
       "1  5816  90     7       Yes \n",
       "2  7887 360     8       Yes \n",
       "3 12355 120     5       Yes \n",
       "4 16357 488     5       Yes \n",
       "5 20724  60     5       Yes \n",
       "6 24928 120     8       Yes \n",
       "  prtvtddk                                              health    lvpntyr\n",
       "1 SF Socialistisk Folkeparti - Socialist People's Party Good      1994   \n",
       "2 Socialdemokratiet - The Social democrats              Fair      1983   \n",
       "3 Socialdemokratiet - The Social democrats              Fair      1987   \n",
       "4 Dansk Folkeparti - Danish People's Party              Very good 2013   \n",
       "5 Venstre, Danmarks Liberale Parti - The Liberal Party  Good      1981   \n",
       "6 Venstre, Danmarks Liberale Parti - The Liberal Party  Very good 1984   \n",
       "  tygrtr                          gndr yrbrn\n",
       "1 60                              Male 1974 \n",
       "2 55                              Male 1958 \n",
       "3 60                              Male 1963 \n",
       "4 50                              Male 1991 \n",
       "5 Never too young                 Male 1958 \n",
       "6 Should never retire permanently Male 1965 \n",
       "  edlvddk                                                                       \n",
       "1 Mellemlang videregående uddannelse af 3-4 års varighed. Professionsbachelorer,\n",
       "2 Lang videregående uddannelse. Kandidatuddannelser af 5.-6. års varighed, F.eks\n",
       "3 Faglig uddannelse (håndværk, handel, landbrug mv.), F.eks. Faglærte, Social-  \n",
       "4 Mellemlang videregående uddannelse af 3-4 års varighed. Professionsbachelorer,\n",
       "5 Faglig uddannelse (håndværk, handel, landbrug mv.), F.eks. Faglærte, Social-  \n",
       "6 Mellemlang videregående uddannelse af 3-4 års varighed. Professionsbachelorer,\n",
       "  eduyrs wkhct wkhtot grspnum frlgrsp inwtm\n",
       "1 35     37    37     37000   35000   61   \n",
       "2 25     39    39     36000   42000   89   \n",
       "3 14     38    37     36000   38000   48   \n",
       "4  4     37    37     40000      NA   50   \n",
       "5 14     37    40     28000   34000   65   \n",
       "6 19     NA    80     50000      NA   77   "
      ]
     },
     "metadata": {},
     "output_type": "display_data"
    }
   ],
   "source": [
    "ess18_male_filter <- filter(ess18_male, !(is.na(grspnum)))\n",
    "\n",
    "head(ess18_male_filter)"
   ]
  },
  {
   "cell_type": "markdown",
   "metadata": {},
   "source": [
    "## Kombinér datahåndteringsfunktioner med pipe (%>%)\n",
    "\n",
    "Det bliver hurtigt omstændeligt at foretage flere datahåndteringsoperationer, hvis man skal specificere navnet på datasættet hver gang. Dette kan forsimples ved brug af \"pipe\"-operatoren (`%>%`).\n",
    "\n",
    "\"pipe\"-operatoren er en del af `tidyverse` og er derfor kompatibel med næsten alle funktioner fra de `tidyverse` pakkerne. \n",
    "\n",
    "Et \"pipe\" fungerer kort sagt ved at tage outputtet på en kodelinje videre til kodelinjen under, og bruge dette output som input i funktionen på den nye linje. Man bruger for det meste \"pipe\" i forbindelse med datahåndtering, da ideen her er, at outputtet af en kodelinje/kommando er en dataframe, som så kan bruges som input på kodelinjen/kommandoen på næste linje.\n",
    "\n",
    "Herunder dannes et subet af ESS18, der indeholder alle mænd og variablene `idno`, `gndr`, `yrbrn`, `edlvddk`:"
   ]
  },
  {
   "cell_type": "code",
   "execution_count": 5,
   "metadata": {},
   "outputs": [
    {
     "data": {
      "text/html": [
       "<table class=\"dataframe\">\n",
       "<caption>A tibble: 6 × 4</caption>\n",
       "<thead>\n",
       "\t<tr><th scope=col>idno</th><th scope=col>gndr</th><th scope=col>yrbrn</th><th scope=col>edlvddk</th></tr>\n",
       "\t<tr><th scope=col>&lt;dbl&gt;</th><th scope=col>&lt;chr&gt;</th><th scope=col>&lt;dbl&gt;</th><th scope=col>&lt;chr&gt;</th></tr>\n",
       "</thead>\n",
       "<tbody>\n",
       "\t<tr><td> 5816</td><td>Male  </td><td>1974</td><td>Mellemlang videregående uddannelse af 3-4 års varighed. Professionsbachelorer,</td></tr>\n",
       "\t<tr><td> 7251</td><td>Female</td><td>1975</td><td>Faglig uddannelse (håndværk, handel, landbrug mv.), F.eks. Faglærte, Social-  </td></tr>\n",
       "\t<tr><td> 7887</td><td>Male  </td><td>1958</td><td>Lang videregående uddannelse. Kandidatuddannelser af 5.-6. års varighed, F.eks</td></tr>\n",
       "\t<tr><td> 9607</td><td>Female</td><td>1964</td><td>Mellemlang videregående uddannelse af 3-4 års varighed. Professionsbachelorer,</td></tr>\n",
       "\t<tr><td>11688</td><td>Female</td><td>1952</td><td>Faglig uddannelse (håndværk, handel, landbrug mv.), F.eks. Faglærte, Social-  </td></tr>\n",
       "\t<tr><td>12355</td><td>Male  </td><td>1963</td><td>Faglig uddannelse (håndværk, handel, landbrug mv.), F.eks. Faglærte, Social-  </td></tr>\n",
       "</tbody>\n",
       "</table>\n"
      ],
      "text/latex": [
       "A tibble: 6 × 4\n",
       "\\begin{tabular}{llll}\n",
       " idno & gndr & yrbrn & edlvddk\\\\\n",
       " <dbl> & <chr> & <dbl> & <chr>\\\\\n",
       "\\hline\n",
       "\t  5816 & Male   & 1974 & Mellemlang videregående uddannelse af 3-4 års varighed. Professionsbachelorer,\\\\\n",
       "\t  7251 & Female & 1975 & Faglig uddannelse (håndværk, handel, landbrug mv.), F.eks. Faglærte, Social-  \\\\\n",
       "\t  7887 & Male   & 1958 & Lang videregående uddannelse. Kandidatuddannelser af 5.-6. års varighed, F.eks\\\\\n",
       "\t  9607 & Female & 1964 & Mellemlang videregående uddannelse af 3-4 års varighed. Professionsbachelorer,\\\\\n",
       "\t 11688 & Female & 1952 & Faglig uddannelse (håndværk, handel, landbrug mv.), F.eks. Faglærte, Social-  \\\\\n",
       "\t 12355 & Male   & 1963 & Faglig uddannelse (håndværk, handel, landbrug mv.), F.eks. Faglærte, Social-  \\\\\n",
       "\\end{tabular}\n"
      ],
      "text/markdown": [
       "\n",
       "A tibble: 6 × 4\n",
       "\n",
       "| idno &lt;dbl&gt; | gndr &lt;chr&gt; | yrbrn &lt;dbl&gt; | edlvddk &lt;chr&gt; |\n",
       "|---|---|---|---|\n",
       "|  5816 | Male   | 1974 | Mellemlang videregående uddannelse af 3-4 års varighed. Professionsbachelorer, |\n",
       "|  7251 | Female | 1975 | Faglig uddannelse (håndværk, handel, landbrug mv.), F.eks. Faglærte, Social-   |\n",
       "|  7887 | Male   | 1958 | Lang videregående uddannelse. Kandidatuddannelser af 5.-6. års varighed, F.eks |\n",
       "|  9607 | Female | 1964 | Mellemlang videregående uddannelse af 3-4 års varighed. Professionsbachelorer, |\n",
       "| 11688 | Female | 1952 | Faglig uddannelse (håndværk, handel, landbrug mv.), F.eks. Faglærte, Social-   |\n",
       "| 12355 | Male   | 1963 | Faglig uddannelse (håndværk, handel, landbrug mv.), F.eks. Faglærte, Social-   |\n",
       "\n"
      ],
      "text/plain": [
       "  idno  gndr   yrbrn\n",
       "1  5816 Male   1974 \n",
       "2  7251 Female 1975 \n",
       "3  7887 Male   1958 \n",
       "4  9607 Female 1964 \n",
       "5 11688 Female 1952 \n",
       "6 12355 Male   1963 \n",
       "  edlvddk                                                                       \n",
       "1 Mellemlang videregående uddannelse af 3-4 års varighed. Professionsbachelorer,\n",
       "2 Faglig uddannelse (håndværk, handel, landbrug mv.), F.eks. Faglærte, Social-  \n",
       "3 Lang videregående uddannelse. Kandidatuddannelser af 5.-6. års varighed, F.eks\n",
       "4 Mellemlang videregående uddannelse af 3-4 års varighed. Professionsbachelorer,\n",
       "5 Faglig uddannelse (håndværk, handel, landbrug mv.), F.eks. Faglærte, Social-  \n",
       "6 Faglig uddannelse (håndværk, handel, landbrug mv.), F.eks. Faglærte, Social-  "
      ]
     },
     "metadata": {},
     "output_type": "display_data"
    }
   ],
   "source": [
    "ess18_male_subset <- filter(ess18, gndr == 'Male')\n",
    "ess18_male_subset <- select(ess18, idno, gndr, yrbrn, edlvddk)\n",
    "\n",
    "head(ess18_male_subset)"
   ]
  },
  {
   "cell_type": "markdown",
   "metadata": {},
   "source": [
    "Ovenstående kode er omstændelig af flere grunde: For det første skal navnet på det endelige subset `ess18_male_subset` gentages for hver datahåndteringskommando. For det andet skal inputdatasættet (`ess18`) også gentages hver gang.\n",
    "\n",
    "Med et pipe kan dette undgås:"
   ]
  },
  {
   "cell_type": "code",
   "execution_count": 6,
   "metadata": {},
   "outputs": [
    {
     "data": {
      "text/html": [
       "<table class=\"dataframe\">\n",
       "<caption>A tibble: 6 × 4</caption>\n",
       "<thead>\n",
       "\t<tr><th scope=col>idno</th><th scope=col>gndr</th><th scope=col>yrbrn</th><th scope=col>edlvddk</th></tr>\n",
       "\t<tr><th scope=col>&lt;dbl&gt;</th><th scope=col>&lt;chr&gt;</th><th scope=col>&lt;dbl&gt;</th><th scope=col>&lt;chr&gt;</th></tr>\n",
       "</thead>\n",
       "<tbody>\n",
       "\t<tr><td> 5816</td><td>Male</td><td>1974</td><td>Mellemlang videregående uddannelse af 3-4 års varighed. Professionsbachelorer,</td></tr>\n",
       "\t<tr><td> 7887</td><td>Male</td><td>1958</td><td>Lang videregående uddannelse. Kandidatuddannelser af 5.-6. års varighed, F.eks</td></tr>\n",
       "\t<tr><td>12355</td><td>Male</td><td>1963</td><td>Faglig uddannelse (håndværk, handel, landbrug mv.), F.eks. Faglærte, Social-  </td></tr>\n",
       "\t<tr><td>16357</td><td>Male</td><td>1991</td><td>Mellemlang videregående uddannelse af 3-4 års varighed. Professionsbachelorer,</td></tr>\n",
       "\t<tr><td>20724</td><td>Male</td><td>1958</td><td>Faglig uddannelse (håndværk, handel, landbrug mv.), F.eks. Faglærte, Social-  </td></tr>\n",
       "\t<tr><td>24928</td><td>Male</td><td>1965</td><td>Mellemlang videregående uddannelse af 3-4 års varighed. Professionsbachelorer,</td></tr>\n",
       "</tbody>\n",
       "</table>\n"
      ],
      "text/latex": [
       "A tibble: 6 × 4\n",
       "\\begin{tabular}{llll}\n",
       " idno & gndr & yrbrn & edlvddk\\\\\n",
       " <dbl> & <chr> & <dbl> & <chr>\\\\\n",
       "\\hline\n",
       "\t  5816 & Male & 1974 & Mellemlang videregående uddannelse af 3-4 års varighed. Professionsbachelorer,\\\\\n",
       "\t  7887 & Male & 1958 & Lang videregående uddannelse. Kandidatuddannelser af 5.-6. års varighed, F.eks\\\\\n",
       "\t 12355 & Male & 1963 & Faglig uddannelse (håndværk, handel, landbrug mv.), F.eks. Faglærte, Social-  \\\\\n",
       "\t 16357 & Male & 1991 & Mellemlang videregående uddannelse af 3-4 års varighed. Professionsbachelorer,\\\\\n",
       "\t 20724 & Male & 1958 & Faglig uddannelse (håndværk, handel, landbrug mv.), F.eks. Faglærte, Social-  \\\\\n",
       "\t 24928 & Male & 1965 & Mellemlang videregående uddannelse af 3-4 års varighed. Professionsbachelorer,\\\\\n",
       "\\end{tabular}\n"
      ],
      "text/markdown": [
       "\n",
       "A tibble: 6 × 4\n",
       "\n",
       "| idno &lt;dbl&gt; | gndr &lt;chr&gt; | yrbrn &lt;dbl&gt; | edlvddk &lt;chr&gt; |\n",
       "|---|---|---|---|\n",
       "|  5816 | Male | 1974 | Mellemlang videregående uddannelse af 3-4 års varighed. Professionsbachelorer, |\n",
       "|  7887 | Male | 1958 | Lang videregående uddannelse. Kandidatuddannelser af 5.-6. års varighed, F.eks |\n",
       "| 12355 | Male | 1963 | Faglig uddannelse (håndværk, handel, landbrug mv.), F.eks. Faglærte, Social-   |\n",
       "| 16357 | Male | 1991 | Mellemlang videregående uddannelse af 3-4 års varighed. Professionsbachelorer, |\n",
       "| 20724 | Male | 1958 | Faglig uddannelse (håndværk, handel, landbrug mv.), F.eks. Faglærte, Social-   |\n",
       "| 24928 | Male | 1965 | Mellemlang videregående uddannelse af 3-4 års varighed. Professionsbachelorer, |\n",
       "\n"
      ],
      "text/plain": [
       "  idno  gndr yrbrn\n",
       "1  5816 Male 1974 \n",
       "2  7887 Male 1958 \n",
       "3 12355 Male 1963 \n",
       "4 16357 Male 1991 \n",
       "5 20724 Male 1958 \n",
       "6 24928 Male 1965 \n",
       "  edlvddk                                                                       \n",
       "1 Mellemlang videregående uddannelse af 3-4 års varighed. Professionsbachelorer,\n",
       "2 Lang videregående uddannelse. Kandidatuddannelser af 5.-6. års varighed, F.eks\n",
       "3 Faglig uddannelse (håndværk, handel, landbrug mv.), F.eks. Faglærte, Social-  \n",
       "4 Mellemlang videregående uddannelse af 3-4 års varighed. Professionsbachelorer,\n",
       "5 Faglig uddannelse (håndværk, handel, landbrug mv.), F.eks. Faglærte, Social-  \n",
       "6 Mellemlang videregående uddannelse af 3-4 års varighed. Professionsbachelorer,"
      ]
     },
     "metadata": {},
     "output_type": "display_data"
    }
   ],
   "source": [
    "ess18_male_subset <- ess18 %>% # subset skal tage udgangspunkt i ess18\n",
    "    filter(gndr == 'Male') %>% # filter for mænd - datainput er output af ovenstående (en kopi af ess18)\n",
    "    select(idno, gndr, yrbrn, edlvddk) # udvælg variable - datainput er output af ovenstående (ess18 filtreret for mænd)\n",
    "\n",
    "head(ess18_male_subset)"
   ]
  },
  {
   "cell_type": "markdown",
   "metadata": {
    "slideshow": {
     "slide_type": "slide"
    }
   },
   "source": [
    "## ØVELSE 3: SUBSETTING\n",
    "\n",
    "1. Dan et subset af data, der *kun* indeholder kvinder født efter 1980 og med følgende variable: `idno`, `gndr`, `yrbrn`, `netustm`\n",
    "\n",
    "2. Brug `head()` til at tjekke om subsettet ser rigtigt ud.\n",
    "\n",
    "3. Beregn middelværdien for tid brugt på internettet om dagen (`netustm`) for subsettet.\n",
    "\n",
    "### Ekstra øvelse\n",
    "\n",
    "1. Dan et subset for mænd født efter 1980\n",
    "2. Beregn middelværdien for tid brugt på internettet om dagen (`netustm`) for subsettet. Er middelværdien højere eller lavere end det for kvinderne?"
   ]
  },
  {
   "cell_type": "markdown",
   "metadata": {
    "slideshow": {
     "slide_type": "subslide"
    }
   },
   "source": [
    "## ØVELSE 3: SUBSETTING"
   ]
  },
  {
   "cell_type": "code",
   "execution_count": 66,
   "metadata": {
    "slideshow": {
     "slide_type": "fragment"
    }
   },
   "outputs": [],
   "source": [
    "ess18_female_subset <- filter(ess18, gndr == 'Female', yrbrn > 1980)\n",
    "ess18_female_subset <- select(ess18_female_subset, idno, gndr, yrbrn, netustm)\n",
    "\n",
    "\n",
    "ess18_male_subset <- filter(ess18, gndr == 'Male', yrbrn > 1980)\n",
    "ess18_male_subset <- select(ess18_male_subset, idno, gndr, yrbrn, netustm)"
   ]
  },
  {
   "cell_type": "code",
   "execution_count": 50,
   "metadata": {
    "slideshow": {
     "slide_type": "fragment"
    }
   },
   "outputs": [
    {
     "data": {
      "text/html": [
       "305.27950310559"
      ],
      "text/latex": [
       "305.27950310559"
      ],
      "text/markdown": [
       "305.27950310559"
      ],
      "text/plain": [
       "[1] 305.2795"
      ]
     },
     "metadata": {},
     "output_type": "display_data"
    }
   ],
   "source": [
    "mean(ess18_female_subset$netustm, na.rm = TRUE)"
   ]
  },
  {
   "cell_type": "code",
   "execution_count": 51,
   "metadata": {
    "slideshow": {
     "slide_type": "fragment"
    }
   },
   "outputs": [
    {
     "data": {
      "text/html": [
       "322.831460674157"
      ],
      "text/latex": [
       "322.831460674157"
      ],
      "text/markdown": [
       "322.831460674157"
      ],
      "text/plain": [
       "[1] 322.8315"
      ]
     },
     "metadata": {},
     "output_type": "display_data"
    }
   ],
   "source": [
    "mean(ess18_male_subset$netustm, na.rm = TRUE) # Bonus"
   ]
  },
  {
   "cell_type": "code",
   "execution_count": 52,
   "metadata": {
    "scrolled": true,
    "slideshow": {
     "slide_type": "fragment"
    }
   },
   "outputs": [
    {
     "data": {
      "text/html": [
       "TRUE"
      ],
      "text/latex": [
       "TRUE"
      ],
      "text/markdown": [
       "TRUE"
      ],
      "text/plain": [
       "[1] TRUE"
      ]
     },
     "metadata": {},
     "output_type": "display_data"
    }
   ],
   "source": [
    "mean(ess18_male_subset$netustm, na.rm = TRUE) > mean(ess18_female_subset$netustm, na.rm = TRUE)"
   ]
  },
  {
   "cell_type": "markdown",
   "metadata": {
    "slideshow": {
     "slide_type": "slide"
    }
   },
   "source": [
    "## Rekodning og nye variable\n",
    "\n",
    "At lave nye variable og (simple) rekodninger er typisk gjort på samme måde. Den eneste forskel er blot, om ændringerne skrives til ny variabel, eller om ændringerne overskriver en eksisterende variabel (rekodning).\n",
    "\n",
    "I denne sektion ser vi kun på rekodning som \"omregninger\" af eksisterende variable. For at se rekodning af kategorier, så se under materialet til \"Intro til R II\".\n"
   ]
  },
  {
   "cell_type": "markdown",
   "metadata": {
    "slideshow": {
     "slide_type": "slide"
    }
   },
   "source": [
    "### Rekodning samt at danne nye variable med `dplyr`\n",
    "\n",
    "Funktionen `mutate()` i `dplyr` bruges til at rekode samt til at danne nye variable.\n",
    "\n",
    "Funktionen mindst to input: \n",
    "1. Et datasæt, hvor der skal dannes/ændres en variabel\n",
    "2. Et udtryk for, hvad den ændrede/nye variabel skal indeholde. Dette skrives som `nyvar` = `[variabelindhold]`.\n",
    "\n",
    "I nedenstående dannes en variabel for interviewtid i timer. Denne dannes ved at tage `inwtm` (interviewtid i minutter) og dividere med 60:"
   ]
  },
  {
   "cell_type": "code",
   "execution_count": 53,
   "metadata": {
    "slideshow": {
     "slide_type": "fragment"
    }
   },
   "outputs": [
    {
     "data": {
      "text/html": [
       "<style>\n",
       ".list-inline {list-style: none; margin:0; padding: 0}\n",
       ".list-inline>li {display: inline-block}\n",
       ".list-inline>li:not(:last-child)::after {content: \"\\00b7\"; padding: 0 .5ex}\n",
       "</style>\n",
       "<ol class=list-inline><li>1.01666666666667</li><li>1.13333333333333</li><li>1.48333333333333</li><li>0.833333333333333</li><li>1.28333333333333</li><li>0.8</li></ol>\n"
      ],
      "text/latex": [
       "\\begin{enumerate*}\n",
       "\\item 1.01666666666667\n",
       "\\item 1.13333333333333\n",
       "\\item 1.48333333333333\n",
       "\\item 0.833333333333333\n",
       "\\item 1.28333333333333\n",
       "\\item 0.8\n",
       "\\end{enumerate*}\n"
      ],
      "text/markdown": [
       "1. 1.01666666666667\n",
       "2. 1.13333333333333\n",
       "3. 1.48333333333333\n",
       "4. 0.833333333333333\n",
       "5. 1.28333333333333\n",
       "6. 0.8\n",
       "\n",
       "\n"
      ],
      "text/plain": [
       "[1] 1.0166667 1.1333333 1.4833333 0.8333333 1.2833333 0.8000000"
      ]
     },
     "metadata": {},
     "output_type": "display_data"
    }
   ],
   "source": [
    "ess18 <- mutate(ess18, inwth = inwtm / 60)\n",
    "\n",
    "head(ess18$inwth)"
   ]
  },
  {
   "cell_type": "markdown",
   "metadata": {},
   "source": [
    "Ovenstående danner en ny variabel for interviewtid i timer: `inwth`. \n",
    "\n",
    "Det er typisk bedst at danne nye variable, hvis indholdet i variablen er ændret. Hvis man dog blot ville ændre den oprindelige variabel, skulle man blot specificere det oprindelige variabelnavn i stedet for et nyt:\n",
    "\n",
    "```R\n",
    "ess18 <- mutate(ess18, inwtm = inwtm / 60) # Overskriver variabel\n",
    "```"
   ]
  },
  {
   "cell_type": "markdown",
   "metadata": {
    "slideshow": {
     "slide_type": "slide"
    }
   },
   "source": [
    "## ØVELSE 4: DAN NYE VARIABLE\n",
    "\n",
    "1. Dan en aldersvariabel (datasættet er fra 2018)\n",
    "\n",
    "2. Dan en overtids-variabel, der indeholder forskellen mellem faktiske arbejdstimer om ugen (`wkhtot`) og arbejdstimer ansat til om ugen (`wkhct`).\n",
    "\n",
    "3. Hvad er den højeste overtidsværdi? (brug enten `summary()` eller `max()`"
   ]
  },
  {
   "cell_type": "markdown",
   "metadata": {
    "slideshow": {
     "slide_type": "subslide"
    }
   },
   "source": [
    "## ØVELSE 4: DAN NYE VARIABLE"
   ]
  },
  {
   "cell_type": "code",
   "execution_count": 54,
   "metadata": {
    "slideshow": {
     "slide_type": "fragment"
    }
   },
   "outputs": [
    {
     "data": {
      "text/html": [
       "43"
      ],
      "text/latex": [
       "43"
      ],
      "text/markdown": [
       "43"
      ],
      "text/plain": [
       "[1] 43"
      ]
     },
     "metadata": {},
     "output_type": "display_data"
    }
   ],
   "source": [
    "ess18 <- mutate(ess18, age = 2018 - yrbrn,\n",
    "           overthrs = wkhtot - wkhct)\n",
    "\n",
    "max(ess18$overthrs, na.rm = TRUE)"
   ]
  },
  {
   "cell_type": "markdown",
   "metadata": {
    "slideshow": {
     "slide_type": "slide"
    }
   },
   "source": [
    "## \"Classes\" i R (ændring af variabeltype)\n",
    "\n",
    "Som nævnt tidligere, adskiller R mellem objekter via deres \"class\".\n",
    "\n",
    "Funktionen `class()` bruges til at tjekke hvilken \"class\" objektet har:"
   ]
  },
  {
   "cell_type": "code",
   "execution_count": 67,
   "metadata": {
    "slideshow": {
     "slide_type": "fragment"
    }
   },
   "outputs": [],
   "source": [
    "name = \"keenan\"\n",
    "year = 1964"
   ]
  },
  {
   "cell_type": "code",
   "execution_count": 68,
   "metadata": {
    "slideshow": {
     "slide_type": "fragment"
    }
   },
   "outputs": [
    {
     "data": {
      "text/html": [
       "'character'"
      ],
      "text/latex": [
       "'character'"
      ],
      "text/markdown": [
       "'character'"
      ],
      "text/plain": [
       "[1] \"character\""
      ]
     },
     "metadata": {},
     "output_type": "display_data"
    }
   ],
   "source": [
    "class(name)"
   ]
  },
  {
   "cell_type": "code",
   "execution_count": 69,
   "metadata": {
    "slideshow": {
     "slide_type": "fragment"
    }
   },
   "outputs": [
    {
     "data": {
      "text/html": [
       "'numeric'"
      ],
      "text/latex": [
       "'numeric'"
      ],
      "text/markdown": [
       "'numeric'"
      ],
      "text/plain": [
       "[1] \"numeric\""
      ]
     },
     "metadata": {},
     "output_type": "display_data"
    }
   ],
   "source": [
    "class(year)"
   ]
  },
  {
   "cell_type": "markdown",
   "metadata": {
    "slideshow": {
     "slide_type": "slide"
    }
   },
   "source": [
    "Enkelte variable(/\"vectors\") kan *kun* indeholde værdier med samme class. Funktionen `class()` virker derfor også på variable.\n",
    "\n",
    "Variablen `tygrtr` (i hvilken alder er man for ung til at gå på pension) ligner en variabel, der bør indeholde numeriske værdier (en alder). Ser vi nærmere på variablen, kan vi dog se, at den også indeholder tekst-værdier:"
   ]
  },
  {
   "cell_type": "code",
   "execution_count": 58,
   "metadata": {
    "slideshow": {
     "slide_type": "fragment"
    }
   },
   "outputs": [
    {
     "data": {
      "text/html": [
       "<style>\n",
       ".list-inline {list-style: none; margin:0; padding: 0}\n",
       ".list-inline>li {display: inline-block}\n",
       ".list-inline>li:not(:last-child)::after {content: \"\\00b7\"; padding: 0 .5ex}\n",
       "</style>\n",
       "<ol class=list-inline><li>'60'</li><li>'40'</li><li>'55'</li><li>'64'</li><li>'50'</li><li>'60'</li></ol>\n"
      ],
      "text/latex": [
       "\\begin{enumerate*}\n",
       "\\item '60'\n",
       "\\item '40'\n",
       "\\item '55'\n",
       "\\item '64'\n",
       "\\item '50'\n",
       "\\item '60'\n",
       "\\end{enumerate*}\n"
      ],
      "text/markdown": [
       "1. '60'\n",
       "2. '40'\n",
       "3. '55'\n",
       "4. '64'\n",
       "5. '50'\n",
       "6. '60'\n",
       "\n",
       "\n"
      ],
      "text/plain": [
       "[1] \"60\" \"40\" \"55\" \"64\" \"50\" \"60\""
      ]
     },
     "metadata": {},
     "output_type": "display_data"
    }
   ],
   "source": [
    "head(ess18$tygrtr)"
   ]
  },
  {
   "cell_type": "markdown",
   "metadata": {
    "slideshow": {
     "slide_type": "fragment"
    }
   },
   "source": [
    "Undersøger vi variablens \"class\", kan vi se, at variablen er lagret som tekst (også kaldt \"string\" i programmeringssprog):"
   ]
  },
  {
   "cell_type": "code",
   "execution_count": 59,
   "metadata": {
    "slideshow": {
     "slide_type": "fragment"
    }
   },
   "outputs": [
    {
     "data": {
      "text/html": [
       "'character'"
      ],
      "text/latex": [
       "'character'"
      ],
      "text/markdown": [
       "'character'"
      ],
      "text/plain": [
       "[1] \"character\""
      ]
     },
     "metadata": {},
     "output_type": "display_data"
    }
   ],
   "source": [
    "class(ess18$tygrtr)"
   ]
  },
  {
   "cell_type": "markdown",
   "metadata": {
    "slideshow": {
     "slide_type": "slide"
    }
   },
   "source": [
    "Dette betyder at vi ikke kan lave beregninger med variablen:"
   ]
  },
  {
   "cell_type": "code",
   "execution_count": 62,
   "metadata": {
    "slideshow": {
     "slide_type": "fragment"
    }
   },
   "outputs": [
    {
     "data": {
      "text/html": [
       "'Should never retire permanently'"
      ],
      "text/latex": [
       "'Should never retire permanently'"
      ],
      "text/markdown": [
       "'Should never retire permanently'"
      ],
      "text/plain": [
       "[1] \"Should never retire permanently\""
      ]
     },
     "metadata": {},
     "output_type": "display_data"
    }
   ],
   "source": [
    "max(ess18$tygrtr, na.rm = TRUE) # Viser højeste værdi alfabetisk"
   ]
  },
  {
   "cell_type": "markdown",
   "metadata": {
    "slideshow": {
     "slide_type": "slide"
    }
   },
   "source": [
    "### \"Class coercion\" - tving en variabel til en anden type\n",
    "\n",
    "I de fleste tilfælde kan R tvinge værdier fra en type/class til en anden. Ved at gøre dette, bliver inkompatible værdier til missing (`NA`). \n",
    "\n",
    "Værdier kan tvinges til tekst værdier med `as.character()`\n",
    "\n",
    "Værdier kan tvinges til numeriske værdier med `as.numeric()`\n",
    "\n",
    "Herunder dannes en numerisk version af `tygrtr` (bemærk advarslen):"
   ]
  },
  {
   "cell_type": "code",
   "execution_count": 63,
   "metadata": {
    "slideshow": {
     "slide_type": "fragment"
    }
   },
   "outputs": [
    {
     "name": "stderr",
     "output_type": "stream",
     "text": [
      "Warning message in mask$eval_all_mutate(quo):\n",
      "\"NAs introduced by coercion\"\n"
     ]
    }
   ],
   "source": [
    "ess18 <- mutate(ess18, tygrtr_num = as.numeric(tygrtr))"
   ]
  },
  {
   "cell_type": "markdown",
   "metadata": {
    "slideshow": {
     "slide_type": "fragment"
    }
   },
   "source": [
    "Nu kan variablen bruges i beregninger:"
   ]
  },
  {
   "cell_type": "code",
   "execution_count": 64,
   "metadata": {
    "slideshow": {
     "slide_type": "fragment"
    }
   },
   "outputs": [
    {
     "data": {
      "text/html": [
       "88"
      ],
      "text/latex": [
       "88"
      ],
      "text/markdown": [
       "88"
      ],
      "text/plain": [
       "[1] 88"
      ]
     },
     "metadata": {},
     "output_type": "display_data"
    }
   ],
   "source": [
    "max(ess18$tygrtr_num, na.rm = TRUE)"
   ]
  },
  {
   "cell_type": "markdown",
   "metadata": {
    "slideshow": {
     "slide_type": "slide"
    }
   },
   "source": [
    "## ØVELSE 5: CLASS COERCION\n",
    "\n",
    "Dan en variabel, der indeholder antal år respondenten boede hjemme, inden de flyttede hjemmefra (`lvpntyr`: first time living separately for 2 months). \n",
    "\n",
    "Bemærk at variablen `lvpntyr` muligvis ikke er klar til beregninger med det samme.\n",
    "\n",
    "Husk at `as.numeric()` tvinger værdier om til tal."
   ]
  },
  {
   "cell_type": "markdown",
   "metadata": {
    "slideshow": {
     "slide_type": "subslide"
    }
   },
   "source": [
    "## ØVELSE 5: CLASS COERCION"
   ]
  },
  {
   "cell_type": "code",
   "execution_count": 65,
   "metadata": {
    "slideshow": {
     "slide_type": "fragment"
    }
   },
   "outputs": [
    {
     "name": "stderr",
     "output_type": "stream",
     "text": [
      "Warning message in mask$eval_all_mutate(quo):\n",
      "\"NAs introduced by coercion\"\n"
     ]
    },
    {
     "data": {
      "text/html": [
       "<table class=\"dataframe\">\n",
       "<caption>A tibble: 6 × 23</caption>\n",
       "<thead>\n",
       "\t<tr><th scope=col>idno</th><th scope=col>netustm</th><th scope=col>ppltrst</th><th scope=col>vote</th><th scope=col>prtvtddk</th><th scope=col>health</th><th scope=col>lvpntyr</th><th scope=col>tygrtr</th><th scope=col>gndr</th><th scope=col>yrbrn</th><th scope=col>⋯</th><th scope=col>wkhtot</th><th scope=col>grspnum</th><th scope=col>frlgrsp</th><th scope=col>inwtm</th><th scope=col>inwth</th><th scope=col>age</th><th scope=col>overthrs</th><th scope=col>tygrtr_num</th><th scope=col>lvpntyr_num</th><th scope=col>yrhome</th></tr>\n",
       "\t<tr><th scope=col>&lt;dbl&gt;</th><th scope=col>&lt;dbl&gt;</th><th scope=col>&lt;dbl&gt;</th><th scope=col>&lt;chr&gt;</th><th scope=col>&lt;chr&gt;</th><th scope=col>&lt;chr&gt;</th><th scope=col>&lt;chr&gt;</th><th scope=col>&lt;chr&gt;</th><th scope=col>&lt;chr&gt;</th><th scope=col>&lt;dbl&gt;</th><th scope=col>⋯</th><th scope=col>&lt;dbl&gt;</th><th scope=col>&lt;dbl&gt;</th><th scope=col>&lt;dbl&gt;</th><th scope=col>&lt;dbl&gt;</th><th scope=col>&lt;dbl&gt;</th><th scope=col>&lt;dbl&gt;</th><th scope=col>&lt;dbl&gt;</th><th scope=col>&lt;dbl&gt;</th><th scope=col>&lt;dbl&gt;</th><th scope=col>&lt;dbl&gt;</th></tr>\n",
       "</thead>\n",
       "<tbody>\n",
       "\t<tr><td> 5816</td><td> 90</td><td>7</td><td>Yes</td><td>SF Socialistisk Folkeparti - Socialist People's Party</td><td>Good    </td><td>1994</td><td>60</td><td>Male  </td><td>1974</td><td>⋯</td><td>37</td><td>37000</td><td>35000</td><td>61</td><td>1.0166667</td><td>44</td><td> 0</td><td>60</td><td>1994</td><td>20</td></tr>\n",
       "\t<tr><td> 7251</td><td>300</td><td>5</td><td>Yes</td><td>Dansk Folkeparti - Danish People's Party             </td><td>Fair    </td><td>1993</td><td>40</td><td>Female</td><td>1975</td><td>⋯</td><td>34</td><td>22000</td><td>30000</td><td>68</td><td>1.1333333</td><td>43</td><td> 2</td><td>40</td><td>1993</td><td>18</td></tr>\n",
       "\t<tr><td> 7887</td><td>360</td><td>8</td><td>Yes</td><td>Socialdemokratiet - The Social democrats             </td><td>Fair    </td><td>1983</td><td>55</td><td>Male  </td><td>1958</td><td>⋯</td><td>39</td><td>36000</td><td>42000</td><td>89</td><td>1.4833333</td><td>60</td><td> 0</td><td>55</td><td>1983</td><td>25</td></tr>\n",
       "\t<tr><td> 9607</td><td>540</td><td>9</td><td>Yes</td><td>Alternativet - The Alternative                       </td><td>Good    </td><td>1982</td><td>64</td><td>Female</td><td>1964</td><td>⋯</td><td>34</td><td>32000</td><td>   NA</td><td>50</td><td>0.8333333</td><td>54</td><td> 2</td><td>64</td><td>1982</td><td>18</td></tr>\n",
       "\t<tr><td>11688</td><td> NA</td><td>5</td><td>Yes</td><td>Socialdemokratiet - The Social democrats             </td><td>Very bad</td><td>1968</td><td>50</td><td>Female</td><td>1952</td><td>⋯</td><td>37</td><td>   NA</td><td>   NA</td><td>77</td><td>1.2833333</td><td>66</td><td> 0</td><td>50</td><td>1968</td><td>16</td></tr>\n",
       "\t<tr><td>12355</td><td>120</td><td>5</td><td>Yes</td><td>Socialdemokratiet - The Social democrats             </td><td>Fair    </td><td>1987</td><td>60</td><td>Male  </td><td>1963</td><td>⋯</td><td>37</td><td>36000</td><td>38000</td><td>48</td><td>0.8000000</td><td>55</td><td>-1</td><td>60</td><td>1987</td><td>24</td></tr>\n",
       "</tbody>\n",
       "</table>\n"
      ],
      "text/latex": [
       "A tibble: 6 × 23\n",
       "\\begin{tabular}{lllllllllllllllllllll}\n",
       " idno & netustm & ppltrst & vote & prtvtddk & health & lvpntyr & tygrtr & gndr & yrbrn & ⋯ & wkhtot & grspnum & frlgrsp & inwtm & inwth & age & overthrs & tygrtr\\_num & lvpntyr\\_num & yrhome\\\\\n",
       " <dbl> & <dbl> & <dbl> & <chr> & <chr> & <chr> & <chr> & <chr> & <chr> & <dbl> & ⋯ & <dbl> & <dbl> & <dbl> & <dbl> & <dbl> & <dbl> & <dbl> & <dbl> & <dbl> & <dbl>\\\\\n",
       "\\hline\n",
       "\t  5816 &  90 & 7 & Yes & SF Socialistisk Folkeparti - Socialist People's Party & Good     & 1994 & 60 & Male   & 1974 & ⋯ & 37 & 37000 & 35000 & 61 & 1.0166667 & 44 &  0 & 60 & 1994 & 20\\\\\n",
       "\t  7251 & 300 & 5 & Yes & Dansk Folkeparti - Danish People's Party              & Fair     & 1993 & 40 & Female & 1975 & ⋯ & 34 & 22000 & 30000 & 68 & 1.1333333 & 43 &  2 & 40 & 1993 & 18\\\\\n",
       "\t  7887 & 360 & 8 & Yes & Socialdemokratiet - The Social democrats              & Fair     & 1983 & 55 & Male   & 1958 & ⋯ & 39 & 36000 & 42000 & 89 & 1.4833333 & 60 &  0 & 55 & 1983 & 25\\\\\n",
       "\t  9607 & 540 & 9 & Yes & Alternativet - The Alternative                        & Good     & 1982 & 64 & Female & 1964 & ⋯ & 34 & 32000 &    NA & 50 & 0.8333333 & 54 &  2 & 64 & 1982 & 18\\\\\n",
       "\t 11688 &  NA & 5 & Yes & Socialdemokratiet - The Social democrats              & Very bad & 1968 & 50 & Female & 1952 & ⋯ & 37 &    NA &    NA & 77 & 1.2833333 & 66 &  0 & 50 & 1968 & 16\\\\\n",
       "\t 12355 & 120 & 5 & Yes & Socialdemokratiet - The Social democrats              & Fair     & 1987 & 60 & Male   & 1963 & ⋯ & 37 & 36000 & 38000 & 48 & 0.8000000 & 55 & -1 & 60 & 1987 & 24\\\\\n",
       "\\end{tabular}\n"
      ],
      "text/markdown": [
       "\n",
       "A tibble: 6 × 23\n",
       "\n",
       "| idno &lt;dbl&gt; | netustm &lt;dbl&gt; | ppltrst &lt;dbl&gt; | vote &lt;chr&gt; | prtvtddk &lt;chr&gt; | health &lt;chr&gt; | lvpntyr &lt;chr&gt; | tygrtr &lt;chr&gt; | gndr &lt;chr&gt; | yrbrn &lt;dbl&gt; | ⋯ ⋯ | wkhtot &lt;dbl&gt; | grspnum &lt;dbl&gt; | frlgrsp &lt;dbl&gt; | inwtm &lt;dbl&gt; | inwth &lt;dbl&gt; | age &lt;dbl&gt; | overthrs &lt;dbl&gt; | tygrtr_num &lt;dbl&gt; | lvpntyr_num &lt;dbl&gt; | yrhome &lt;dbl&gt; |\n",
       "|---|---|---|---|---|---|---|---|---|---|---|---|---|---|---|---|---|---|---|---|---|\n",
       "|  5816 |  90 | 7 | Yes | SF Socialistisk Folkeparti - Socialist People's Party | Good     | 1994 | 60 | Male   | 1974 | ⋯ | 37 | 37000 | 35000 | 61 | 1.0166667 | 44 |  0 | 60 | 1994 | 20 |\n",
       "|  7251 | 300 | 5 | Yes | Dansk Folkeparti - Danish People's Party              | Fair     | 1993 | 40 | Female | 1975 | ⋯ | 34 | 22000 | 30000 | 68 | 1.1333333 | 43 |  2 | 40 | 1993 | 18 |\n",
       "|  7887 | 360 | 8 | Yes | Socialdemokratiet - The Social democrats              | Fair     | 1983 | 55 | Male   | 1958 | ⋯ | 39 | 36000 | 42000 | 89 | 1.4833333 | 60 |  0 | 55 | 1983 | 25 |\n",
       "|  9607 | 540 | 9 | Yes | Alternativet - The Alternative                        | Good     | 1982 | 64 | Female | 1964 | ⋯ | 34 | 32000 |    NA | 50 | 0.8333333 | 54 |  2 | 64 | 1982 | 18 |\n",
       "| 11688 |  NA | 5 | Yes | Socialdemokratiet - The Social democrats              | Very bad | 1968 | 50 | Female | 1952 | ⋯ | 37 |    NA |    NA | 77 | 1.2833333 | 66 |  0 | 50 | 1968 | 16 |\n",
       "| 12355 | 120 | 5 | Yes | Socialdemokratiet - The Social democrats              | Fair     | 1987 | 60 | Male   | 1963 | ⋯ | 37 | 36000 | 38000 | 48 | 0.8000000 | 55 | -1 | 60 | 1987 | 24 |\n",
       "\n"
      ],
      "text/plain": [
       "  idno  netustm ppltrst vote\n",
       "1  5816  90     7       Yes \n",
       "2  7251 300     5       Yes \n",
       "3  7887 360     8       Yes \n",
       "4  9607 540     9       Yes \n",
       "5 11688  NA     5       Yes \n",
       "6 12355 120     5       Yes \n",
       "  prtvtddk                                              health   lvpntyr tygrtr\n",
       "1 SF Socialistisk Folkeparti - Socialist People's Party Good     1994    60    \n",
       "2 Dansk Folkeparti - Danish People's Party              Fair     1993    40    \n",
       "3 Socialdemokratiet - The Social democrats              Fair     1983    55    \n",
       "4 Alternativet - The Alternative                        Good     1982    64    \n",
       "5 Socialdemokratiet - The Social democrats              Very bad 1968    50    \n",
       "6 Socialdemokratiet - The Social democrats              Fair     1987    60    \n",
       "  gndr   yrbrn <U+22EF>        wkhtot grspnum frlgrsp inwtm inwth     age overthrs\n",
       "1 Male   1974  <U+22EF> 37     37000   35000   61    1.0166667 44   0      \n",
       "2 Female 1975  <U+22EF> 34     22000   30000   68    1.1333333 43   2      \n",
       "3 Male   1958  <U+22EF> 39     36000   42000   89    1.4833333 60   0      \n",
       "4 Female 1964  <U+22EF> 34     32000      NA   50    0.8333333 54   2      \n",
       "5 Female 1952  <U+22EF> 37        NA      NA   77    1.2833333 66   0      \n",
       "6 Male   1963  <U+22EF> 37     36000   38000   48    0.8000000 55  -1      \n",
       "  tygrtr_num lvpntyr_num yrhome\n",
       "1 60         1994        20    \n",
       "2 40         1993        18    \n",
       "3 55         1983        25    \n",
       "4 64         1982        18    \n",
       "5 50         1968        16    \n",
       "6 60         1987        24    "
      ]
     },
     "metadata": {},
     "output_type": "display_data"
    }
   ],
   "source": [
    "ess18 <- mutate(ess18, lvpntyr_num = as.numeric(lvpntyr),\n",
    "                yrhome = lvpntyr_num - yrbrn)\n",
    "\n",
    "head(ess18)"
   ]
  },
  {
   "cell_type": "markdown",
   "metadata": {
    "slideshow": {
     "slide_type": "slide"
    },
    "tags": []
   },
   "source": [
    "## Gem dit arbejde \n",
    "\n",
    "Det vigtigste at gemme, er at gemme sit R script.\n",
    "\n",
    "Brug gem-ikonet til at gemme dit script.\n",
    "\n",
    "![save](./img/save-script.png)"
   ]
  }
 ],
 "metadata": {
  "celltoolbar": "Slideshow",
  "kernelspec": {
   "display_name": "R",
   "language": "R",
   "name": "ir"
  },
  "language_info": {
   "codemirror_mode": "r",
   "file_extension": ".r",
   "mimetype": "text/x-r-source",
   "name": "R",
   "pygments_lexer": "r",
   "version": "4.1.1"
  }
 },
 "nbformat": 4,
 "nbformat_minor": 4
}
