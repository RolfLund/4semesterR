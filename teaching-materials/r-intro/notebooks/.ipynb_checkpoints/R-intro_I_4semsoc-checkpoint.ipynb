{
 "cells": [
  {
   "cell_type": "markdown",
   "metadata": {
    "slideshow": {
     "slide_type": "slide"
    }
   },
   "source": [
    "# Introduktion til R (del 1)"
   ]
  },
  {
   "cell_type": "markdown",
   "metadata": {
    "slideshow": {
     "slide_type": "slide"
    }
   },
   "source": [
    "# Introduction\n",
    "## What is R and why use it?\n",
    "\n",
    "R is a free software environment with its own programming language. \n",
    "\n",
    "It is especailly suited for statistical analysis and graphical outputs.\n",
    "\n",
    "R's popularity as a data science tool as well as it being open source has made its applications vast.\n",
    "\n",
    "R can work with a large variety of data formats and is (with a few add-ons) compatible with data from other software solutions (Excel, SPSS, SAS, Stata)."
   ]
  },
  {
   "cell_type": "markdown",
   "metadata": {
    "slideshow": {
     "slide_type": "slide"
    }
   },
   "source": [
    "## Content of the R introduction\n",
    "\n",
    "- The RStudio environment\n",
    "- The R language\n",
    "- Constructing variables and objects\n",
    "- Functions and libraries/packages\n",
    "- Working with dataframes (table structure in R)\n",
    "- Simple data handling in R\n",
    "- Simple visualizations in R (`ggplot2` package)\n",
    "\n",
    "The introduction will combine presenting R and R code in Jupyter Notebook while demonstrating in RStudio. You are encouraged to work and write in RStudio during the workshop.\n",
    "\n",
    "*Please write along as we go through the different examples.*"
   ]
  },
  {
   "cell_type": "markdown",
   "metadata": {
    "slideshow": {
     "slide_type": "slide"
    }
   },
   "source": [
    "## The RStudio environment\n",
    "\n",
    "During the workshop (and the other R workshops in CALDISS), we will be working with RStudio.\n",
    "\n",
    "RStudio is an IDE for R (Integrated Development Environment) - Makes for a nicer workspace\n",
    "\n",
    "<https://www.rstudio.com/products/rstudio/download/>"
   ]
  },
  {
   "cell_type": "markdown",
   "metadata": {
    "slideshow": {
     "slide_type": "slide"
    }
   },
   "source": [
    "# The R language\n",
    "R has it's own programming language. R works by you writing lines of code in that language (writing commands) and R interpreting that code (running commands).\n",
    "\n",
    "R (and RStudio) has a limited user interface meaning almost all functionality (statistics, plots, simulations etc.) must be executed using code in the R language.\n",
    "\n",
    "## R as a calculator\n",
    "So what does it mean that R interprets our code?\n",
    "It means that you tell R to do something by writing a command and R will do that (if R can understand you).\n",
    "\n",
    "R, for example, understands mathematical expressions:"
   ]
  },
  {
   "cell_type": "code",
   "execution_count": 1,
   "metadata": {
    "slideshow": {
     "slide_type": "fragment"
    }
   },
   "outputs": [
    {
     "data": {
      "text/html": [
       "42"
      ],
      "text/latex": [
       "42"
      ],
      "text/markdown": [
       "42"
      ],
      "text/plain": [
       "[1] 42"
      ]
     },
     "metadata": {},
     "output_type": "display_data"
    }
   ],
   "source": [
    "7 * 6"
   ]
  },
  {
   "cell_type": "code",
   "execution_count": 2,
   "metadata": {
    "slideshow": {
     "slide_type": "fragment"
    }
   },
   "outputs": [
    {
     "data": {
      "text/html": [
       "780"
      ],
      "text/latex": [
       "780"
      ],
      "text/markdown": [
       "780"
      ],
      "text/plain": [
       "[1] 780"
      ]
     },
     "metadata": {},
     "output_type": "display_data"
    }
   ],
   "source": [
    "912 - 132"
   ]
  },
  {
   "cell_type": "markdown",
   "metadata": {
    "slideshow": {
     "slide_type": "slide"
    }
   },
   "source": [
    "# Using R scripts\n",
    "\n",
    "Script files are text files containing code that R can interpret.\n",
    "\n",
    "It is your \"analysis recipe\" showing what you have done as well as allowing you to re-run commands easily.\n",
    "\n",
    "Always make a habit of writing your commands into a script, when you have the command figured out.\n",
    "\n",
    "- `#` can be used for comments (skipped when run)\n",
    "- `Ctrl` + `Enter`: Runs the current line or selection\n",
    "- `Ctrl` + `Alt` + `R`: Runs the whole script\n",
    "\n",
    "*NOTE!* There is no undo in R. When a code is executed, the change has been made. The only way to undo is to re-run previous code to get back to an earlier stage. This is what scripts are used for."
   ]
  },
  {
   "cell_type": "markdown",
   "metadata": {
    "slideshow": {
     "slide_type": "slide"
    }
   },
   "source": [
    "# The R Language: Objects and Functions\n",
    "\n",
    "R works by storing values and information in \"objects\". These objects can then be used in various commands like calculating a statistical model, saving a file, creating a graph and so on. To simplify a bit: An object is some kind of stored information and a function is something that can manipulate that stored information (which then creates a new object). "
   ]
  },
  {
   "cell_type": "markdown",
   "metadata": {
    "slideshow": {
     "slide_type": "slide"
    }
   },
   "source": [
    "## Objects\n",
    "\n",
    "A lot of writing in R is about defining objects: A name to use to call up stored information.\n",
    "\n",
    "Objects can be a lot of things: \n",
    "- a word\n",
    "- a number\n",
    "- a series of numbers\n",
    "- a dataset \n",
    "- a URL\n",
    "- a formula\n",
    "- a result \n",
    "- a filepath\n",
    "- a series of datasets\n",
    "- and so on...\n",
    "\n",
    "When an object is defined, it is available in the current working space (or environment).\n",
    "\n",
    "This makes it possible to store and work with a variety of informaiton simultaneously."
   ]
  },
  {
   "cell_type": "markdown",
   "metadata": {
    "slideshow": {
     "slide_type": "slide"
    }
   },
   "source": [
    "### Defining objects\n",
    "Objects are defined using the `<-` operator (`Alt` + `-`):"
   ]
  },
  {
   "cell_type": "code",
   "execution_count": 3,
   "metadata": {
    "slideshow": {
     "slide_type": "fragment"
    }
   },
   "outputs": [],
   "source": [
    "year <- 1964"
   ]
  },
  {
   "cell_type": "code",
   "execution_count": 4,
   "metadata": {
    "slideshow": {
     "slide_type": "fragment"
    }
   },
   "outputs": [
    {
     "data": {
      "text/html": [
       "1964"
      ],
      "text/latex": [
       "1964"
      ],
      "text/markdown": [
       "1964"
      ],
      "text/plain": [
       "[1] 1964"
      ]
     },
     "metadata": {},
     "output_type": "display_data"
    }
   ],
   "source": [
    "year"
   ]
  },
  {
   "cell_type": "markdown",
   "metadata": {
    "slideshow": {
     "slide_type": "fragment"
    }
   },
   "source": [
    "When defined the object can be used like any other numeric value."
   ]
  },
  {
   "cell_type": "code",
   "execution_count": 5,
   "metadata": {
    "slideshow": {
     "slide_type": "fragment"
    }
   },
   "outputs": [
    {
     "data": {
      "text/html": [
       "1974"
      ],
      "text/latex": [
       "1974"
      ],
      "text/markdown": [
       "1974"
      ],
      "text/plain": [
       "[1] 1974"
      ]
     },
     "metadata": {},
     "output_type": "display_data"
    }
   ],
   "source": [
    "year + 10"
   ]
  },
  {
   "cell_type": "markdown",
   "metadata": {
    "slideshow": {
     "slide_type": "slide"
    }
   },
   "source": [
    "Notice that R differentiates between lower- and upper-case letters:"
   ]
  },
  {
   "cell_type": "code",
   "execution_count": 6,
   "metadata": {
    "slideshow": {
     "slide_type": "fragment"
    }
   },
   "outputs": [
    {
     "ename": "ERROR",
     "evalue": "Error in eval(expr, envir, enclos): objekt 'Year' blev ikke fundet\n",
     "output_type": "error",
     "traceback": [
      "Error in eval(expr, envir, enclos): objekt 'Year' blev ikke fundet\nTraceback:\n"
     ]
    }
   ],
   "source": [
    "Year # Does not exist"
   ]
  },
  {
   "cell_type": "markdown",
   "metadata": {
    "slideshow": {
     "slide_type": "slide"
    }
   },
   "source": [
    "Using `' '` or `\" \"` denotes that the input should be read as text. *This also applies to numbers!*"
   ]
  },
  {
   "cell_type": "code",
   "execution_count": 7,
   "metadata": {
    "slideshow": {
     "slide_type": "fragment"
    }
   },
   "outputs": [],
   "source": [
    "name <-  \"keenan\""
   ]
  },
  {
   "cell_type": "code",
   "execution_count": 8,
   "metadata": {
    "slideshow": {
     "slide_type": "fragment"
    }
   },
   "outputs": [
    {
     "data": {
      "text/html": [
       "'keenan'"
      ],
      "text/latex": [
       "'keenan'"
      ],
      "text/markdown": [
       "'keenan'"
      ],
      "text/plain": [
       "[1] \"keenan\""
      ]
     },
     "metadata": {},
     "output_type": "display_data"
    }
   ],
   "source": [
    "name"
   ]
  },
  {
   "cell_type": "code",
   "execution_count": 9,
   "metadata": {
    "slideshow": {
     "slide_type": "slide"
    }
   },
   "outputs": [],
   "source": [
    "year_now  <- '2021'"
   ]
  },
  {
   "cell_type": "code",
   "execution_count": 10,
   "metadata": {
    "slideshow": {
     "slide_type": "fragment"
    }
   },
   "outputs": [
    {
     "data": {
      "text/html": [
       "'2021'"
      ],
      "text/latex": [
       "'2021'"
      ],
      "text/markdown": [
       "'2021'"
      ],
      "text/plain": [
       "[1] \"2021\""
      ]
     },
     "metadata": {},
     "output_type": "display_data"
    }
   ],
   "source": [
    "year_now"
   ]
  },
  {
   "cell_type": "markdown",
   "metadata": {
    "slideshow": {
     "slide_type": "fragment"
    }
   },
   "source": [
    "Notice that numbers stored as text will be enclosed in quotes. Numbers stored as text cannot immediately be used as numbers:"
   ]
  },
  {
   "cell_type": "code",
   "execution_count": 11,
   "metadata": {
    "slideshow": {
     "slide_type": "fragment"
    }
   },
   "outputs": [
    {
     "ename": "ERROR",
     "evalue": "Error in year_now - 5: non-numeric argument to binary operator\n",
     "output_type": "error",
     "traceback": [
      "Error in year_now - 5: non-numeric argument to binary operator\nTraceback:\n"
     ]
    }
   ],
   "source": [
    "year_now - 5"
   ]
  },
  {
   "cell_type": "markdown",
   "metadata": {
    "slideshow": {
     "slide_type": "fragment"
    }
   },
   "source": [
    "This error happens because R differentiates between objects by assigning them to a specific *class*. The class denotes what is possible with the object."
   ]
  },
  {
   "cell_type": "markdown",
   "metadata": {
    "slideshow": {
     "slide_type": "slide"
    }
   },
   "source": [
    "### Naming objects\n",
    "Objects can be named almost anything but a good rule of thumb is to use names that are indicative of what the object contains.\n",
    "\n",
    "#### Restrictions for naming objects\n",
    "- Most special characters not allowed: `/`, `?`, `*`, `+` and so on (most characters mean something to R and will be read as an expression)\n",
    "- Already existing names in R (will overwrite the function/object in the environment)\n",
    "\n",
    "#### Good naming conventions \n",
    "- Using '`_`': `my_object`, `room_number`\n",
    "\n",
    "or:\n",
    "\n",
    "- Capitalize each word except the first: `myObject`, `roomNumber`"
   ]
  },
  {
   "cell_type": "markdown",
   "metadata": {
    "slideshow": {
     "slide_type": "slide"
    }
   },
   "source": [
    "## Functions\n",
    "\n",
    "Functions are commands used to transform an object in some way and give an output.\n",
    "\n",
    "The input to a function is an \"arguement\". The number of arguements vary between function.\n",
    "\n",
    "Functions have the basic syntax: `function(arg1, arg2, arg3)`.\n",
    "\n",
    "Some arguements are required while others are optional."
   ]
  },
  {
   "cell_type": "code",
   "execution_count": 12,
   "metadata": {
    "slideshow": {
     "slide_type": "fragment"
    }
   },
   "outputs": [
    {
     "data": {
      "text/html": [
       "'KILMISTER'"
      ],
      "text/latex": [
       "'KILMISTER'"
      ],
      "text/markdown": [
       "'KILMISTER'"
      ],
      "text/plain": [
       "[1] \"KILMISTER\""
      ]
     },
     "metadata": {},
     "output_type": "display_data"
    }
   ],
   "source": [
    "name <- 'kilmister'\n",
    "toupper(name) #Returns the object in upper-case"
   ]
  },
  {
   "cell_type": "markdown",
   "metadata": {
    "slideshow": {
     "slide_type": "slide"
    }
   },
   "source": [
    "Most functions take the object as the first input but not all."
   ]
  },
  {
   "cell_type": "code",
   "execution_count": 13,
   "metadata": {
    "slideshow": {
     "slide_type": "fragment"
    }
   },
   "outputs": [
    {
     "data": {
      "text/html": [
       "'kilmistar'"
      ],
      "text/latex": [
       "'kilmistar'"
      ],
      "text/markdown": [
       "'kilmistar'"
      ],
      "text/plain": [
       "[1] \"kilmistar\""
      ]
     },
     "metadata": {},
     "output_type": "display_data"
    }
   ],
   "source": [
    "gsub(\"e\", \"a\", name) #Replace all e's with a's"
   ]
  },
  {
   "cell_type": "markdown",
   "metadata": {
    "slideshow": {
     "slide_type": "slide"
    }
   },
   "source": [
    "### Functions and their outputs\n",
    "\n",
    "Note that functions almost *never* change the object. When calling functions you are asking R for a specific output but not to change anything.\n",
    "\n",
    "Output of a function have to be stored in objects, if to be stored"
   ]
  },
  {
   "cell_type": "code",
   "execution_count": 14,
   "metadata": {
    "slideshow": {
     "slide_type": "fragment"
    }
   },
   "outputs": [
    {
     "data": {
      "text/html": [
       "'kilmister'"
      ],
      "text/latex": [
       "'kilmister'"
      ],
      "text/markdown": [
       "'kilmister'"
      ],
      "text/plain": [
       "[1] \"kilmister\""
      ]
     },
     "metadata": {},
     "output_type": "display_data"
    }
   ],
   "source": [
    "name # Unchanged even though used in objects"
   ]
  },
  {
   "cell_type": "code",
   "execution_count": 15,
   "metadata": {
    "slideshow": {
     "slide_type": "fragment"
    }
   },
   "outputs": [],
   "source": [
    "name <- gsub(\"e\", \"a\", name) # Store object with characters \"e\" swapped with \"a\" - replacing the object"
   ]
  },
  {
   "cell_type": "code",
   "execution_count": 16,
   "metadata": {
    "slideshow": {
     "slide_type": "fragment"
    }
   },
   "outputs": [
    {
     "data": {
      "text/html": [
       "'kilmistar'"
      ],
      "text/latex": [
       "'kilmistar'"
      ],
      "text/markdown": [
       "'kilmistar'"
      ],
      "text/plain": [
       "[1] \"kilmistar\""
      ]
     },
     "metadata": {},
     "output_type": "display_data"
    }
   ],
   "source": [
    "name"
   ]
  },
  {
   "cell_type": "markdown",
   "metadata": {
    "slideshow": {
     "slide_type": "slide"
    }
   },
   "source": [
    "# EXERCISE 1: OBJECTS AND FUNCTIONS\n",
    "\n",
    "1. Define the following objects:\n",
    "\n",
    "    - `name1`: `\"araya\"`\n",
    "    - `name2`: `\"townsend\"`\n",
    "    - `year1`: `1961` (without quotation marks)\n",
    "    - `year2`: `\"1972\"` (with quotation marks)\n",
    "\n",
    "2. Try calculating the ages for `year1` and `year2` (current year - year-object). \n",
    "\n",
    "3. Use the function `toupper()` to convert `name1` to upper-case."
   ]
  },
  {
   "cell_type": "markdown",
   "metadata": {
    "slideshow": {
     "slide_type": "subslide"
    }
   },
   "source": [
    "# EXERCISE 1: DEFINING OBJECTS\n",
    "*What happens?*"
   ]
  },
  {
   "cell_type": "code",
   "execution_count": 17,
   "metadata": {
    "slideshow": {
     "slide_type": "fragment"
    }
   },
   "outputs": [],
   "source": [
    "name1 <- \"araya\"\n",
    "name2 <- \"townsend\"\n",
    "year1 <- 1961\n",
    "year2 <- \"1972\""
   ]
  },
  {
   "cell_type": "code",
   "execution_count": 18,
   "metadata": {
    "slideshow": {
     "slide_type": "subslide"
    }
   },
   "outputs": [
    {
     "data": {
      "text/html": [
       "60"
      ],
      "text/latex": [
       "60"
      ],
      "text/markdown": [
       "60"
      ],
      "text/plain": [
       "[1] 60"
      ]
     },
     "metadata": {},
     "output_type": "display_data"
    }
   ],
   "source": [
    "age1 <- 2021 - year1 # Works fine\n",
    "\n",
    "age1"
   ]
  },
  {
   "cell_type": "code",
   "execution_count": 19,
   "metadata": {
    "slideshow": {
     "slide_type": "fragment"
    }
   },
   "outputs": [
    {
     "ename": "ERROR",
     "evalue": "Error in 2021 - year2: non-numeric argument to binary operator\n",
     "output_type": "error",
     "traceback": [
      "Error in 2021 - year2: non-numeric argument to binary operator\nTraceback:\n"
     ]
    }
   ],
   "source": [
    "age2 <- 2021 - year2 # Produces an error"
   ]
  },
  {
   "cell_type": "code",
   "execution_count": 20,
   "metadata": {
    "slideshow": {
     "slide_type": "subslide"
    }
   },
   "outputs": [
    {
     "data": {
      "text/html": [
       "'ARAYA'"
      ],
      "text/latex": [
       "'ARAYA'"
      ],
      "text/markdown": [
       "'ARAYA'"
      ],
      "text/plain": [
       "[1] \"ARAYA\""
      ]
     },
     "metadata": {},
     "output_type": "display_data"
    }
   ],
   "source": [
    "name1 <- toupper(name1)\n",
    "\n",
    "name1"
   ]
  },
  {
   "cell_type": "markdown",
   "metadata": {
    "slideshow": {
     "slide_type": "slide"
    }
   },
   "source": [
    "# R Libraries - Packages \n",
    "\n",
    "R being open source means that a lot of developers are constantly adding new functions to R.\n",
    "These new functions are distributed as *R packages* that can be loaded into the R library.\n",
    "\n",
    "All the commands you have been using so far have been part of the `base` package (ships with R). \n",
    "\n",
    "Packages are installed using (name of package *with* quotes!): \n",
    "\n",
    "`install.packages('packagename')` \n",
    "\n",
    "The functions from the package is loaded into the environment using (name of package *without* quotes!):\n",
    "    \n",
    "`library(packagename)` \n",
    "\n",
    "Information for installed packages can be found using (name of package *with* quotes!):\n",
    "\n",
    "`library(help = 'packagename')` "
   ]
  },
  {
   "cell_type": "markdown",
   "metadata": {
    "slideshow": {
     "slide_type": "slide"
    }
   },
   "source": [
    "## Importing data with `readr`\n",
    "\n",
    "`readr` is a package for reading various data files into R.\n",
    "\n",
    "R does have some \"base\" functions for doing this but `readr` is more efficient.\n",
    "\n",
    "`readr` is part of a collection of packages called `tidyverse`: https://www.tidyverse.org/"
   ]
  },
  {
   "cell_type": "code",
   "execution_count": 21,
   "metadata": {
    "slideshow": {
     "slide_type": "fragment"
    }
   },
   "outputs": [
    {
     "name": "stderr",
     "output_type": "stream",
     "text": [
      "Warning message:\n",
      "\"pakke 'readr' blev bygget under R version 4.1.2\"\n",
      "\u001b[1mRows: \u001b[22m\u001b[34m1285\u001b[39m \u001b[1mColumns: \u001b[22m\u001b[34m16\u001b[39m\n",
      "\n",
      "\u001b[36m--\u001b[39m \u001b[1mColumn specification\u001b[22m \u001b[36m------------------------------------------------------------------------------------------------\u001b[39m\n",
      "\u001b[1mDelimiter:\u001b[22m \",\"\n",
      "\u001b[31mchr\u001b[39m  (6): vote, prtvtddk, lvpntyr, tygrtr, gndr, edlvddk\n",
      "\u001b[32mdbl\u001b[39m (10): idno, netustm, ppltrst, yrbrn, eduyrs, wkhct, wkhtot, grspnum, frl...\n",
      "\n",
      "\n",
      "\u001b[36mi\u001b[39m Use \u001b[30m\u001b[47m\u001b[30m\u001b[47m`spec()`\u001b[47m\u001b[30m\u001b[49m\u001b[39m to retrieve the full column specification for this data.\n",
      "\u001b[36mi\u001b[39m Specify the column types or set \u001b[30m\u001b[47m\u001b[30m\u001b[47m`show_col_types = FALSE`\u001b[47m\u001b[30m\u001b[49m\u001b[39m to quiet this message.\n",
      "\n"
     ]
    }
   ],
   "source": [
    "library(readr)\n",
    "\n",
    "ess18 <- read_csv(\"https://github.com/CALDISS-AAU/workshop_R-intro/raw/master/data/ESS2018DK_subset.csv\")"
   ]
  },
  {
   "cell_type": "markdown",
   "metadata": {
    "slideshow": {
     "slide_type": "slide"
    }
   },
   "source": [
    "# R Objects: Data Frames\n",
    "\n",
    "`ess18` is now an object containing a dataset. Notice that the basic syntax stays the same: `objectname <- somefunction(something)`.\n",
    "\n",
    "A \"data frame\" is the R-equivalent of a spreadsheet (a table of rows and columns). It is one of the most useful storage structures for data analysis in R."
   ]
  },
  {
   "cell_type": "markdown",
   "metadata": {
    "slideshow": {
     "slide_type": "slide"
    }
   },
   "source": [
    "## Data for this workshop: European Social Survey 2018\n",
    "\n",
    "We are using a subset of the Danish European Social Survey data from 2018 (https://www.europeansocialsurvey.org/)\n",
    "\n",
    "The data contains the following variables:\n",
    "\n",
    "|variable | description |\n",
    "|----|---|\n",
    "|idno|Respondent's identification number|\n",
    "|netustm |Internet use, how much time on typical day, in minutes|\n",
    "|ppltrst|Most people can be trusted or you can't be too careful|\n",
    "|vote|Voted last national election|\n",
    "|prtvtddk|Party voted for in last national election, Denmark|\n",
    "|lvpntyr|Year first left parents for living separately for 2 months or more|\n",
    "|tygrtr|Retire permanently, age too young. SPLIT BALLOT|\n",
    "|gndr|Gender|\n",
    "|yrbrn|Year of birth|\n",
    "|edlvddk|Highest level of education, Denmark|\n",
    "|eduyrs|Years of full-time education completed|\n",
    "|wkhct|Total contracted hours per week in main job overtime excluded|\n",
    "|wkhtot|Total hours normally worked per week in main job overtime included|\n",
    "|grspnum|What is your usual [weekly/monthly/annual] gross pay|\n",
    "|frlgrsp|Fair level of [weekly/monthly/annual] gross pay for you|\n",
    "|inwtm|Interview length in minutes, main questionnaire|\n"
   ]
  },
  {
   "cell_type": "markdown",
   "metadata": {
    "slideshow": {
     "slide_type": "slide"
    }
   },
   "source": [
    "## Exploring Data Frames\n",
    "To get an idea of what the data contains, we can use `head()`:"
   ]
  },
  {
   "cell_type": "code",
   "execution_count": 22,
   "metadata": {
    "slideshow": {
     "slide_type": "slide"
    }
   },
   "outputs": [
    {
     "data": {
      "text/html": [
       "<table>\n",
       "<thead><tr><th scope=col>idno</th><th scope=col>netustm</th><th scope=col>ppltrst</th><th scope=col>vote</th><th scope=col>prtvtddk</th><th scope=col>lvpntyr</th><th scope=col>tygrtr</th><th scope=col>gndr</th><th scope=col>yrbrn</th><th scope=col>edlvddk</th><th scope=col>eduyrs</th><th scope=col>wkhct</th><th scope=col>wkhtot</th><th scope=col>grspnum</th><th scope=col>frlgrsp</th><th scope=col>inwtm</th></tr></thead>\n",
       "<tbody>\n",
       "\t<tr><td> 110                                                                          </td><td>180                                                                           </td><td>8                                                                             </td><td>Yes                                                                           </td><td>Socialdemokratiet - The Social democrats                                      </td><td>1968                                                                          </td><td>Never too young                                                               </td><td>Male                                                                          </td><td>1949                                                                          </td><td>Kort videregående uddannelse af op til 2-3 års varighed, F.eks. Erhvervsakadem</td><td> 9                                                                            </td><td>28                                                                            </td><td>28                                                                            </td><td>   NA                                                                         </td><td>   NA                                                                         </td><td>119                                                                           </td></tr>\n",
       "\t<tr><td> 705                                                                          </td><td> 60                                                                           </td><td>5                                                                             </td><td>Yes                                                                           </td><td>Det Konservative Folkeparti - Conservative People's Party                     </td><td>1976                                                                          </td><td>67                                                                            </td><td>Male                                                                          </td><td>1958                                                                          </td><td>Kort videregående uddannelse af op til 2-3 års varighed, F.eks. Erhvervsakadem</td><td>22                                                                            </td><td>37                                                                            </td><td>45                                                                            </td><td>   NA                                                                         </td><td>   NA                                                                         </td><td> 55                                                                           </td></tr>\n",
       "\t<tr><td>1327                                                                          </td><td>240                                                                           </td><td>5                                                                             </td><td>NA                                                                            </td><td>NA                                                                            </td><td>Still in parental home, never left 2 months                                   </td><td>NA                                                                            </td><td>Male                                                                          </td><td>2000                                                                          </td><td>Folkeskole 9.-10. klasse                                                      </td><td>11                                                                            </td><td>37                                                                            </td><td>37                                                                            </td><td>   NA                                                                         </td><td>   NA                                                                         </td><td> 37                                                                           </td></tr>\n",
       "\t<tr><td>3760                                                                          </td><td>300                                                                           </td><td>7                                                                             </td><td>Not eligible to vote                                                          </td><td>NA                                                                            </td><td>Still in parental home, never left 2 months                                   </td><td>40                                                                            </td><td>Male                                                                          </td><td>2002                                                                          </td><td>Folkeskole 9.-10. klasse                                                      </td><td> 9                                                                            </td><td> 2                                                                            </td><td> 2                                                                            </td><td>  200                                                                         </td><td>   NA                                                                         </td><td> 43                                                                           </td></tr>\n",
       "\t<tr><td>4658                                                                          </td><td> 90                                                                           </td><td>8                                                                             </td><td>Yes                                                                           </td><td>NA                                                                            </td><td>1974                                                                          </td><td>50                                                                            </td><td>Female                                                                        </td><td>1956                                                                          </td><td>Kort videregående uddannelse af op til 2-3 års varighed, F.eks. Erhvervsakadem</td><td> 4                                                                            </td><td>30                                                                            </td><td>30                                                                            </td><td>   NA                                                                         </td><td>   NA                                                                         </td><td> 62                                                                           </td></tr>\n",
       "\t<tr><td>5816                                                                          </td><td> 90                                                                           </td><td>7                                                                             </td><td>Yes                                                                           </td><td>SF Socialistisk Folkeparti - Socialist People's Party                         </td><td>1994                                                                          </td><td>60                                                                            </td><td>Male                                                                          </td><td>1974                                                                          </td><td>Mellemlang videregående uddannelse af 3-4 års varighed. Professionsbachelorer,</td><td>35                                                                            </td><td>37                                                                            </td><td>37                                                                            </td><td>37000                                                                         </td><td>35000                                                                         </td><td> 61                                                                           </td></tr>\n",
       "</tbody>\n",
       "</table>\n"
      ],
      "text/latex": [
       "\\begin{tabular}{r|llllllllllllllll}\n",
       " idno & netustm & ppltrst & vote & prtvtddk & lvpntyr & tygrtr & gndr & yrbrn & edlvddk & eduyrs & wkhct & wkhtot & grspnum & frlgrsp & inwtm\\\\\n",
       "\\hline\n",
       "\t  110                                                                           & 180                                                                            & 8                                                                              & Yes                                                                            & Socialdemokratiet - The Social democrats                                       & 1968                                                                           & Never too young                                                                & Male                                                                           & 1949                                                                           & Kort videregående uddannelse af op til 2-3 års varighed, F.eks. Erhvervsakadem &  9                                                                             & 28                                                                             & 28                                                                             &    NA                                                                          &    NA                                                                          & 119                                                                           \\\\\n",
       "\t  705                                                                           &  60                                                                            & 5                                                                              & Yes                                                                            & Det Konservative Folkeparti - Conservative People's Party                      & 1976                                                                           & 67                                                                             & Male                                                                           & 1958                                                                           & Kort videregående uddannelse af op til 2-3 års varighed, F.eks. Erhvervsakadem & 22                                                                             & 37                                                                             & 45                                                                             &    NA                                                                          &    NA                                                                          &  55                                                                           \\\\\n",
       "\t 1327                                                                           & 240                                                                            & 5                                                                              & NA                                                                             & NA                                                                             & Still in parental home, never left 2 months                                    & NA                                                                             & Male                                                                           & 2000                                                                           & Folkeskole 9.-10. klasse                                                       & 11                                                                             & 37                                                                             & 37                                                                             &    NA                                                                          &    NA                                                                          &  37                                                                           \\\\\n",
       "\t 3760                                                                           & 300                                                                            & 7                                                                              & Not eligible to vote                                                           & NA                                                                             & Still in parental home, never left 2 months                                    & 40                                                                             & Male                                                                           & 2002                                                                           & Folkeskole 9.-10. klasse                                                       &  9                                                                             &  2                                                                             &  2                                                                             &   200                                                                          &    NA                                                                          &  43                                                                           \\\\\n",
       "\t 4658                                                                           &  90                                                                            & 8                                                                              & Yes                                                                            & NA                                                                             & 1974                                                                           & 50                                                                             & Female                                                                         & 1956                                                                           & Kort videregående uddannelse af op til 2-3 års varighed, F.eks. Erhvervsakadem &  4                                                                             & 30                                                                             & 30                                                                             &    NA                                                                          &    NA                                                                          &  62                                                                           \\\\\n",
       "\t 5816                                                                           &  90                                                                            & 7                                                                              & Yes                                                                            & SF Socialistisk Folkeparti - Socialist People's Party                          & 1994                                                                           & 60                                                                             & Male                                                                           & 1974                                                                           & Mellemlang videregående uddannelse af 3-4 års varighed. Professionsbachelorer, & 35                                                                             & 37                                                                             & 37                                                                             & 37000                                                                          & 35000                                                                          &  61                                                                           \\\\\n",
       "\\end{tabular}\n"
      ],
      "text/markdown": [
       "\n",
       "| idno | netustm | ppltrst | vote | prtvtddk | lvpntyr | tygrtr | gndr | yrbrn | edlvddk | eduyrs | wkhct | wkhtot | grspnum | frlgrsp | inwtm |\n",
       "|---|---|---|---|---|---|---|---|---|---|---|---|---|---|---|---|\n",
       "|  110                                                                           | 180                                                                            | 8                                                                              | Yes                                                                            | Socialdemokratiet - The Social democrats                                       | 1968                                                                           | Never too young                                                                | Male                                                                           | 1949                                                                           | Kort videregående uddannelse af op til 2-3 års varighed, F.eks. Erhvervsakadem |  9                                                                             | 28                                                                             | 28                                                                             |    NA                                                                          |    NA                                                                          | 119                                                                            |\n",
       "|  705                                                                           |  60                                                                            | 5                                                                              | Yes                                                                            | Det Konservative Folkeparti - Conservative People's Party                      | 1976                                                                           | 67                                                                             | Male                                                                           | 1958                                                                           | Kort videregående uddannelse af op til 2-3 års varighed, F.eks. Erhvervsakadem | 22                                                                             | 37                                                                             | 45                                                                             |    NA                                                                          |    NA                                                                          |  55                                                                            |\n",
       "| 1327                                                                           | 240                                                                            | 5                                                                              | NA                                                                             | NA                                                                             | Still in parental home, never left 2 months                                    | NA                                                                             | Male                                                                           | 2000                                                                           | Folkeskole 9.-10. klasse                                                       | 11                                                                             | 37                                                                             | 37                                                                             |    NA                                                                          |    NA                                                                          |  37                                                                            |\n",
       "| 3760                                                                           | 300                                                                            | 7                                                                              | Not eligible to vote                                                           | NA                                                                             | Still in parental home, never left 2 months                                    | 40                                                                             | Male                                                                           | 2002                                                                           | Folkeskole 9.-10. klasse                                                       |  9                                                                             |  2                                                                             |  2                                                                             |   200                                                                          |    NA                                                                          |  43                                                                            |\n",
       "| 4658                                                                           |  90                                                                            | 8                                                                              | Yes                                                                            | NA                                                                             | 1974                                                                           | 50                                                                             | Female                                                                         | 1956                                                                           | Kort videregående uddannelse af op til 2-3 års varighed, F.eks. Erhvervsakadem |  4                                                                             | 30                                                                             | 30                                                                             |    NA                                                                          |    NA                                                                          |  62                                                                            |\n",
       "| 5816                                                                           |  90                                                                            | 7                                                                              | Yes                                                                            | SF Socialistisk Folkeparti - Socialist People's Party                          | 1994                                                                           | 60                                                                             | Male                                                                           | 1974                                                                           | Mellemlang videregående uddannelse af 3-4 års varighed. Professionsbachelorer, | 35                                                                             | 37                                                                             | 37                                                                             | 37000                                                                          | 35000                                                                          |  61                                                                            |\n",
       "\n"
      ],
      "text/plain": [
       "  idno netustm ppltrst vote                \n",
       "1  110 180     8       Yes                 \n",
       "2  705  60     5       Yes                 \n",
       "3 1327 240     5       NA                  \n",
       "4 3760 300     7       Not eligible to vote\n",
       "5 4658  90     8       Yes                 \n",
       "6 5816  90     7       Yes                 \n",
       "  prtvtddk                                                 \n",
       "1 Socialdemokratiet - The Social democrats                 \n",
       "2 Det Konservative Folkeparti - Conservative People's Party\n",
       "3 NA                                                       \n",
       "4 NA                                                       \n",
       "5 NA                                                       \n",
       "6 SF Socialistisk Folkeparti - Socialist People's Party    \n",
       "  lvpntyr                                     tygrtr          gndr   yrbrn\n",
       "1 1968                                        Never too young Male   1949 \n",
       "2 1976                                        67              Male   1958 \n",
       "3 Still in parental home, never left 2 months NA              Male   2000 \n",
       "4 Still in parental home, never left 2 months 40              Male   2002 \n",
       "5 1974                                        50              Female 1956 \n",
       "6 1994                                        60              Male   1974 \n",
       "  edlvddk                                                                       \n",
       "1 Kort videregående uddannelse af op til 2-3 års varighed, F.eks. Erhvervsakadem\n",
       "2 Kort videregående uddannelse af op til 2-3 års varighed, F.eks. Erhvervsakadem\n",
       "3 Folkeskole 9.-10. klasse                                                      \n",
       "4 Folkeskole 9.-10. klasse                                                      \n",
       "5 Kort videregående uddannelse af op til 2-3 års varighed, F.eks. Erhvervsakadem\n",
       "6 Mellemlang videregående uddannelse af 3-4 års varighed. Professionsbachelorer,\n",
       "  eduyrs wkhct wkhtot grspnum frlgrsp inwtm\n",
       "1  9     28    28        NA      NA   119  \n",
       "2 22     37    45        NA      NA    55  \n",
       "3 11     37    37        NA      NA    37  \n",
       "4  9      2     2       200      NA    43  \n",
       "5  4     30    30        NA      NA    62  \n",
       "6 35     37    37     37000   35000    61  "
      ]
     },
     "metadata": {},
     "output_type": "display_data"
    }
   ],
   "source": [
    "head(ess18)"
   ]
  },
  {
   "cell_type": "markdown",
   "metadata": {
    "slideshow": {
     "slide_type": "slide"
    }
   },
   "source": [
    "We can check the names of the columns (the variable names) using `colnames`. `dim` returns number of rows and columns."
   ]
  },
  {
   "cell_type": "code",
   "execution_count": 24,
   "metadata": {
    "slideshow": {
     "slide_type": "slide"
    }
   },
   "outputs": [
    {
     "data": {
      "text/html": [
       "<ol class=list-inline>\n",
       "\t<li>'idno'</li>\n",
       "\t<li>'netustm'</li>\n",
       "\t<li>'ppltrst'</li>\n",
       "\t<li>'vote'</li>\n",
       "\t<li>'prtvtddk'</li>\n",
       "\t<li>'lvpntyr'</li>\n",
       "\t<li>'tygrtr'</li>\n",
       "\t<li>'gndr'</li>\n",
       "\t<li>'yrbrn'</li>\n",
       "\t<li>'edlvddk'</li>\n",
       "\t<li>'eduyrs'</li>\n",
       "\t<li>'wkhct'</li>\n",
       "\t<li>'wkhtot'</li>\n",
       "\t<li>'grspnum'</li>\n",
       "\t<li>'frlgrsp'</li>\n",
       "\t<li>'inwtm'</li>\n",
       "</ol>\n"
      ],
      "text/latex": [
       "\\begin{enumerate*}\n",
       "\\item 'idno'\n",
       "\\item 'netustm'\n",
       "\\item 'ppltrst'\n",
       "\\item 'vote'\n",
       "\\item 'prtvtddk'\n",
       "\\item 'lvpntyr'\n",
       "\\item 'tygrtr'\n",
       "\\item 'gndr'\n",
       "\\item 'yrbrn'\n",
       "\\item 'edlvddk'\n",
       "\\item 'eduyrs'\n",
       "\\item 'wkhct'\n",
       "\\item 'wkhtot'\n",
       "\\item 'grspnum'\n",
       "\\item 'frlgrsp'\n",
       "\\item 'inwtm'\n",
       "\\end{enumerate*}\n"
      ],
      "text/markdown": [
       "1. 'idno'\n",
       "2. 'netustm'\n",
       "3. 'ppltrst'\n",
       "4. 'vote'\n",
       "5. 'prtvtddk'\n",
       "6. 'lvpntyr'\n",
       "7. 'tygrtr'\n",
       "8. 'gndr'\n",
       "9. 'yrbrn'\n",
       "10. 'edlvddk'\n",
       "11. 'eduyrs'\n",
       "12. 'wkhct'\n",
       "13. 'wkhtot'\n",
       "14. 'grspnum'\n",
       "15. 'frlgrsp'\n",
       "16. 'inwtm'\n",
       "\n",
       "\n"
      ],
      "text/plain": [
       " [1] \"idno\"     \"netustm\"  \"ppltrst\"  \"vote\"     \"prtvtddk\" \"lvpntyr\" \n",
       " [7] \"tygrtr\"   \"gndr\"     \"yrbrn\"    \"edlvddk\"  \"eduyrs\"   \"wkhct\"   \n",
       "[13] \"wkhtot\"   \"grspnum\"  \"frlgrsp\"  \"inwtm\"   "
      ]
     },
     "metadata": {},
     "output_type": "display_data"
    }
   ],
   "source": [
    "colnames(ess18)"
   ]
  },
  {
   "cell_type": "code",
   "execution_count": 25,
   "metadata": {
    "slideshow": {
     "slide_type": "fragment"
    }
   },
   "outputs": [
    {
     "data": {
      "text/html": [
       "<ol class=list-inline>\n",
       "\t<li>1572</li>\n",
       "\t<li>16</li>\n",
       "</ol>\n"
      ],
      "text/latex": [
       "\\begin{enumerate*}\n",
       "\\item 1572\n",
       "\\item 16\n",
       "\\end{enumerate*}\n"
      ],
      "text/markdown": [
       "1. 1572\n",
       "2. 16\n",
       "\n",
       "\n"
      ],
      "text/plain": [
       "[1] 1572   16"
      ]
     },
     "metadata": {},
     "output_type": "display_data"
    }
   ],
   "source": [
    "dim(ess18)"
   ]
  },
  {
   "cell_type": "markdown",
   "metadata": {
    "slideshow": {
     "slide_type": "slide"
    }
   },
   "source": [
    "See key summary statistics using `summary()`. (counts, mean, std, min, max, quartiles)."
   ]
  },
  {
   "cell_type": "code",
   "execution_count": 26,
   "metadata": {
    "slideshow": {
     "slide_type": "fragment"
    }
   },
   "outputs": [
    {
     "data": {
      "text/plain": [
       "      idno           netustm          ppltrst           vote          \n",
       " Min.   :   110   Min.   :   0.0   Min.   : 0.000   Length:1572       \n",
       " 1st Qu.: 93623   1st Qu.:  90.0   1st Qu.: 6.000   Class :character  \n",
       " Median :112966   Median : 180.0   Median : 7.000   Mode  :character  \n",
       " Mean   :110822   Mean   : 232.2   Mean   : 7.063                     \n",
       " 3rd Qu.:131430   3rd Qu.: 330.0   3rd Qu.: 8.000                     \n",
       " Max.   :150446   Max.   :1020.0   Max.   :10.000                     \n",
       "                  NA's   :177      NA's   :4                          \n",
       "   prtvtddk           lvpntyr             tygrtr              gndr          \n",
       " Length:1572        Length:1572        Length:1572        Length:1572       \n",
       " Class :character   Class :character   Class :character   Class :character  \n",
       " Mode  :character   Mode  :character   Mode  :character   Mode  :character  \n",
       "                                                                            \n",
       "                                                                            \n",
       "                                                                            \n",
       "                                                                            \n",
       "     yrbrn        edlvddk              eduyrs          wkhct      \n",
       " Min.   :1929   Length:1572        Min.   : 0.00   Min.   : 0.00  \n",
       " 1st Qu.:1953   Class :character   1st Qu.:11.00   1st Qu.:32.00  \n",
       " Median :1967   Mode  :character   Median :14.00   Median :37.00  \n",
       " Mean   :1968                      Mean   :13.68   Mean   :33.23  \n",
       " 3rd Qu.:1984                      3rd Qu.:17.00   3rd Qu.:37.00  \n",
       " Max.   :2003                      Max.   :40.00   Max.   :80.00  \n",
       "                                   NA's   :13      NA's   :124    \n",
       "     wkhtot          grspnum           frlgrsp            inwtm       \n",
       " Min.   :  0.00   Min.   :      0   Min.   :      0   Min.   : 17.00  \n",
       " 1st Qu.: 34.00   1st Qu.:  26000   1st Qu.:  28000   1st Qu.: 50.00  \n",
       " Median : 37.00   Median :  33000   Median :  35000   Median : 59.00  \n",
       " Mean   : 36.17   Mean   :  95987   Mean   :  63046   Mean   : 62.68  \n",
       " 3rd Qu.: 42.00   3rd Qu.:  46000   3rd Qu.:  40000   3rd Qu.: 70.00  \n",
       " Max.   :168.00   Max.   :5000000   Max.   :1500000   Max.   :613.00  \n",
       " NA's   :70       NA's   :752       NA's   :1298      NA's   :6       "
      ]
     },
     "metadata": {},
     "output_type": "display_data"
    }
   ],
   "source": [
    "summary(ess18)"
   ]
  },
  {
   "cell_type": "markdown",
   "metadata": {
    "slideshow": {
     "slide_type": "slide"
    }
   },
   "source": [
    "# Data frames and vectors\n",
    "\n",
    "Data frames consists of rows and columns. Typically R expects the rows of a data frame to contain observations and the columns of the data frame to contain variables (information about the observations).\n",
    "\n",
    "R treats single columns (or variables) as \"vectors\". A vector is a series of values of the same class.\n",
    "\n",
    "We can refer to a single column in a data frame with `$` (a vector)."
   ]
  },
  {
   "cell_type": "code",
   "execution_count": 27,
   "metadata": {
    "slideshow": {
     "slide_type": "fragment"
    }
   },
   "outputs": [
    {
     "data": {
      "text/html": [
       "<ol class=list-inline>\n",
       "\t<li>1949</li>\n",
       "\t<li>1958</li>\n",
       "\t<li>2000</li>\n",
       "\t<li>2002</li>\n",
       "\t<li>1956</li>\n",
       "\t<li>1974</li>\n",
       "</ol>\n"
      ],
      "text/latex": [
       "\\begin{enumerate*}\n",
       "\\item 1949\n",
       "\\item 1958\n",
       "\\item 2000\n",
       "\\item 2002\n",
       "\\item 1956\n",
       "\\item 1974\n",
       "\\end{enumerate*}\n"
      ],
      "text/markdown": [
       "1. 1949\n",
       "2. 1958\n",
       "3. 2000\n",
       "4. 2002\n",
       "5. 1956\n",
       "6. 1974\n",
       "\n",
       "\n"
      ],
      "text/plain": [
       "[1] 1949 1958 2000 2002 1956 1974"
      ]
     },
     "metadata": {},
     "output_type": "display_data"
    }
   ],
   "source": [
    "head(ess18$yrbrn) # First six values of yrbrn variable"
   ]
  },
  {
   "cell_type": "markdown",
   "metadata": {
    "slideshow": {
     "slide_type": "slide"
    }
   },
   "source": [
    "Each value in a vector is assigned an index refering to the position of the value in the vector (starts from 1).\n",
    "\n",
    "A vector is indexed using `[]`:"
   ]
  },
  {
   "cell_type": "code",
   "execution_count": 28,
   "metadata": {
    "slideshow": {
     "slide_type": "fragment"
    }
   },
   "outputs": [
    {
     "data": {
      "text/html": [
       "1974"
      ],
      "text/latex": [
       "1974"
      ],
      "text/markdown": [
       "1974"
      ],
      "text/plain": [
       "[1] 1974"
      ]
     },
     "metadata": {},
     "output_type": "display_data"
    }
   ],
   "source": [
    "ess18$yrbrn[10] # Returns the 10th value (row 10) of the yrbrn variable"
   ]
  },
  {
   "cell_type": "code",
   "execution_count": 29,
   "metadata": {
    "slideshow": {
     "slide_type": "fragment"
    }
   },
   "outputs": [
    {
     "data": {
      "text/html": [
       "<ol class=list-inline>\n",
       "\t<li>1958</li>\n",
       "\t<li>2000</li>\n",
       "\t<li>2002</li>\n",
       "\t<li>1956</li>\n",
       "\t<li>1974</li>\n",
       "\t<li>1975</li>\n",
       "\t<li>1958</li>\n",
       "\t<li>1964</li>\n",
       "\t<li>1974</li>\n",
       "</ol>\n"
      ],
      "text/latex": [
       "\\begin{enumerate*}\n",
       "\\item 1958\n",
       "\\item 2000\n",
       "\\item 2002\n",
       "\\item 1956\n",
       "\\item 1974\n",
       "\\item 1975\n",
       "\\item 1958\n",
       "\\item 1964\n",
       "\\item 1974\n",
       "\\end{enumerate*}\n"
      ],
      "text/markdown": [
       "1. 1958\n",
       "2. 2000\n",
       "3. 2002\n",
       "4. 1956\n",
       "5. 1974\n",
       "6. 1975\n",
       "7. 1958\n",
       "8. 1964\n",
       "9. 1974\n",
       "\n",
       "\n"
      ],
      "text/plain": [
       "[1] 1958 2000 2002 1956 1974 1975 1958 1964 1974"
      ]
     },
     "metadata": {},
     "output_type": "display_data"
    }
   ],
   "source": [
    "ess18$yrbrn[2:10] # Returns value 2-10 of the yrbn variable (both inclusive)"
   ]
  },
  {
   "cell_type": "markdown",
   "metadata": {
    "slideshow": {
     "slide_type": "slide"
    }
   },
   "source": [
    "A range of useful functions exist for calculating descriptive measures for a vector; fx `mean()`, `min()`, `max()` and `length()`."
   ]
  },
  {
   "cell_type": "code",
   "execution_count": 30,
   "metadata": {
    "slideshow": {
     "slide_type": "fragment"
    }
   },
   "outputs": [
    {
     "data": {
      "text/html": [
       "1929"
      ],
      "text/latex": [
       "1929"
      ],
      "text/markdown": [
       "1929"
      ],
      "text/plain": [
       "[1] 1929"
      ]
     },
     "metadata": {},
     "output_type": "display_data"
    },
    {
     "data": {
      "text/html": [
       "2003"
      ],
      "text/latex": [
       "2003"
      ],
      "text/markdown": [
       "2003"
      ],
      "text/plain": [
       "[1] 2003"
      ]
     },
     "metadata": {},
     "output_type": "display_data"
    },
    {
     "data": {
      "text/html": [
       "1968.24554707379"
      ],
      "text/latex": [
       "1968.24554707379"
      ],
      "text/markdown": [
       "1968.24554707379"
      ],
      "text/plain": [
       "[1] 1968.246"
      ]
     },
     "metadata": {},
     "output_type": "display_data"
    },
    {
     "data": {
      "text/html": [
       "1572"
      ],
      "text/latex": [
       "1572"
      ],
      "text/markdown": [
       "1572"
      ],
      "text/plain": [
       "[1] 1572"
      ]
     },
     "metadata": {},
     "output_type": "display_data"
    }
   ],
   "source": [
    "min(ess18$yrbrn) # Returns smallest value\n",
    "max(ess18$yrbrn) # Returns largest value\n",
    "mean(ess18$yrbrn) # Returns mean value\n",
    "stddev(ess18$yrbrn) # Standardafvigelse\n",
    "length(ess18$yrbrn) # Returns number of values in the vector (corresponding to the number of rows)"
   ]
  },
  {
   "cell_type": "markdown",
   "metadata": {
    "slideshow": {
     "slide_type": "slide"
    }
   },
   "source": [
    "`unique()` returns the unique values in a vector (useful for getting familiar with a variable):"
   ]
  },
  {
   "cell_type": "code",
   "execution_count": 31,
   "metadata": {
    "slideshow": {
     "slide_type": "fragment"
    }
   },
   "outputs": [
    {
     "data": {
      "text/html": [
       "<ol class=list-inline>\n",
       "\t<li>8</li>\n",
       "\t<li>5</li>\n",
       "\t<li>7</li>\n",
       "\t<li>9</li>\n",
       "\t<li>4</li>\n",
       "\t<li>6</li>\n",
       "\t<li>2</li>\n",
       "\t<li>10</li>\n",
       "\t<li>3</li>\n",
       "\t<li>1</li>\n",
       "\t<li>0</li>\n",
       "\t<li>&lt;NA&gt;</li>\n",
       "</ol>\n"
      ],
      "text/latex": [
       "\\begin{enumerate*}\n",
       "\\item 8\n",
       "\\item 5\n",
       "\\item 7\n",
       "\\item 9\n",
       "\\item 4\n",
       "\\item 6\n",
       "\\item 2\n",
       "\\item 10\n",
       "\\item 3\n",
       "\\item 1\n",
       "\\item 0\n",
       "\\item <NA>\n",
       "\\end{enumerate*}\n"
      ],
      "text/markdown": [
       "1. 8\n",
       "2. 5\n",
       "3. 7\n",
       "4. 9\n",
       "5. 4\n",
       "6. 6\n",
       "7. 2\n",
       "8. 10\n",
       "9. 3\n",
       "10. 1\n",
       "11. 0\n",
       "12. &lt;NA&gt;\n",
       "\n",
       "\n"
      ],
      "text/plain": [
       " [1]  8  5  7  9  4  6  2 10  3  1  0 NA"
      ]
     },
     "metadata": {},
     "output_type": "display_data"
    }
   ],
   "source": [
    "unique(data$ppltrst)"
   ]
  },
  {
   "cell_type": "markdown",
   "metadata": {
    "slideshow": {
     "slide_type": "slide"
    }
   },
   "source": [
    "## Useful operations and functions on vectors\n",
    "Below are some examples of different commands to interact with vectors.\n",
    "\n",
    "| Code   | Description |\n",
    "|:-------|:------------|\n",
    "|`my_vec[-3]` | Everything but the 3rd element |\n",
    "|`my_vec[c(1,4)]` | The 1st and 4th element |\n",
    "|`my_vec[c(2:4)]` | The elements from index 2 to 4 |\n",
    "|`length(my_vec)` | The number of elements |\n",
    "|`sort(my_vec)` | Sorts the elements in ascending order |\n",
    "|`sum(my_vec)` | The sum of the vector elements (numeric) |\n",
    "|`mean(my_vec)`| The mean of the vector elements (numeric) |\n",
    "|`min(my_vec)` | The vector element with the lowest value (numeric) |\n",
    "|`max(my_vec)` | The vector element with the highest value (numeric)"
   ]
  },
  {
   "cell_type": "markdown",
   "metadata": {
    "slideshow": {
     "slide_type": "slide"
    }
   },
   "source": [
    "## Missing values\n",
    "\n",
    "Data will often contain missing values. Missing values can denote a lot of things like a non-response, an invalid answer, an inaccessible information and so on. \n",
    "\n",
    "Missing values are used to assign a value without assigning a value. They are denotes as `NA` in R.\n",
    "\n",
    "The `summary()` function includes information about the number of missing values:"
   ]
  },
  {
   "cell_type": "code",
   "execution_count": 32,
   "metadata": {
    "slideshow": {
     "slide_type": "fragment"
    }
   },
   "outputs": [
    {
     "data": {
      "text/plain": [
       "   Min. 1st Qu.  Median    Mean 3rd Qu.    Max.    NA's \n",
       "  17.00   50.00   59.00   62.68   70.00  613.00       6 "
      ]
     },
     "metadata": {},
     "output_type": "display_data"
    }
   ],
   "source": [
    "summary(data$inwtm)"
   ]
  },
  {
   "cell_type": "markdown",
   "metadata": {
    "slideshow": {
     "slide_type": "slide"
    }
   },
   "source": [
    "Missing values are neither high or low in R. This means that it is not possible to perform computations on missing values:"
   ]
  },
  {
   "cell_type": "code",
   "execution_count": 33,
   "metadata": {
    "slideshow": {
     "slide_type": "fragment"
    }
   },
   "outputs": [
    {
     "data": {
      "text/html": [
       "&lt;NA&gt;"
      ],
      "text/latex": [
       "<NA>"
      ],
      "text/markdown": [
       "&lt;NA&gt;"
      ],
      "text/plain": [
       "[1] NA"
      ]
     },
     "metadata": {},
     "output_type": "display_data"
    },
    {
     "data": {
      "text/html": [
       "&lt;NA&gt;"
      ],
      "text/latex": [
       "<NA>"
      ],
      "text/markdown": [
       "&lt;NA&gt;"
      ],
      "text/plain": [
       "[1] NA"
      ]
     },
     "metadata": {},
     "output_type": "display_data"
    },
    {
     "data": {
      "text/html": [
       "&lt;NA&gt;"
      ],
      "text/latex": [
       "<NA>"
      ],
      "text/markdown": [
       "&lt;NA&gt;"
      ],
      "text/plain": [
       "[1] NA"
      ]
     },
     "metadata": {},
     "output_type": "display_data"
    }
   ],
   "source": [
    "min(data$inwtm) # NA is neither high or low - returns NA\n",
    "max(data$inwtm) # NA is neither high or low - returns NA\n",
    "mean(data$inwtm) # NA is neither high or low - returns NA"
   ]
  },
  {
   "cell_type": "markdown",
   "metadata": {
    "slideshow": {
     "slide_type": "fragment"
    }
   },
   "source": [
    "Usually one will have to deal with the missing values in some ways - either by replacing them or removing them.\n",
    "\n",
    "Some functions have a built-in arguement for dealing with missing values."
   ]
  },
  {
   "cell_type": "markdown",
   "metadata": {
    "slideshow": {
     "slide_type": "slide"
    }
   },
   "source": [
    "## Using the help function\n",
    "\n",
    "All R functions and commands are thoroughly documented so you do not have to remember what every function does or even how it should be written.\n",
    "\n",
    "Every function and command in R has its own help file. The help file describes how to use the various functions and commands.\n",
    "\n",
    "The help file for a specific function is accessed using the operator `?` (also works for the built-in datasets):"
   ]
  },
  {
   "cell_type": "markdown",
   "metadata": {
    "slideshow": {
     "slide_type": "fragment"
    }
   },
   "source": [
    "Looking at the help file for `max()`, we can see an arguement called `na.rm`. We can see that this arguement is used for removing missing values when performing the calculation.\n",
    "\n",
    "Notice that in the help file, the arguement is set `na.rm = FALSE`. This is the default setting of the function, meaning that unless otherwise specified, the function will run with the arguement set to `FALSE` (missing values will be kep)\n",
    "\n",
    "Changing the arguement when calling the function, the missing values are removed:"
   ]
  },
  {
   "cell_type": "code",
   "execution_count": 34,
   "metadata": {
    "slideshow": {
     "slide_type": "fragment"
    }
   },
   "outputs": [
    {
     "data": {
      "text/html": [
       "613"
      ],
      "text/latex": [
       "613"
      ],
      "text/markdown": [
       "613"
      ],
      "text/plain": [
       "[1] 613"
      ]
     },
     "metadata": {},
     "output_type": "display_data"
    }
   ],
   "source": [
    "max(data$inwtm, na.rm = TRUE)"
   ]
  },
  {
   "cell_type": "markdown",
   "metadata": {
    "slideshow": {
     "slide_type": "slide"
    }
   },
   "source": [
    "# EXERCISE 3: DESCRIPTIVE MEASURES\n",
    "\n",
    "Use some of the functions for calculating descriptive measures to calculate the following:\n",
    "\n",
    "- The mean (`mean()`) time used on the internet per day (`netustm`)\n",
    "- The highest value (`max()`) for time used on the internet per day (`netustm`)\n",
    "- The median (`median()`) for monthly gross pay (`grspnum`)\n",
    "\n",
    "NOTE! The variables may contain missing values. Consult the documentation of the functions to see how to account for that."
   ]
  },
  {
   "cell_type": "markdown",
   "metadata": {
    "slideshow": {
     "slide_type": "subslide"
    }
   },
   "source": [
    "# EXERCISE 3: DESCRIPTIVE MEASURES"
   ]
  },
  {
   "cell_type": "code",
   "execution_count": 35,
   "metadata": {
    "slideshow": {
     "slide_type": "fragment"
    }
   },
   "outputs": [
    {
     "data": {
      "text/html": [
       "232.204301075269"
      ],
      "text/latex": [
       "232.204301075269"
      ],
      "text/markdown": [
       "232.204301075269"
      ],
      "text/plain": [
       "[1] 232.2043"
      ]
     },
     "metadata": {},
     "output_type": "display_data"
    },
    {
     "data": {
      "text/html": [
       "1020"
      ],
      "text/latex": [
       "1020"
      ],
      "text/markdown": [
       "1020"
      ],
      "text/plain": [
       "[1] 1020"
      ]
     },
     "metadata": {},
     "output_type": "display_data"
    },
    {
     "data": {
      "text/html": [
       "33000"
      ],
      "text/latex": [
       "33000"
      ],
      "text/markdown": [
       "33000"
      ],
      "text/plain": [
       "[1] 33000"
      ]
     },
     "metadata": {},
     "output_type": "display_data"
    }
   ],
   "source": [
    "mean(data$netustm, na.rm = TRUE)\n",
    "max(data$netustm, na.rm = TRUE)\n",
    "median(data$grspnum, na.rm = TRUE)"
   ]
  },
  {
   "cell_type": "markdown",
   "metadata": {
    "slideshow": {
     "slide_type": "slide"
    }
   },
   "source": [
    "## Constructing vectors\n",
    "\n",
    "Vectors can be created using `c()`:"
   ]
  },
  {
   "cell_type": "code",
   "execution_count": 36,
   "metadata": {
    "slideshow": {
     "slide_type": "fragment"
    }
   },
   "outputs": [],
   "source": [
    "names  <- c('araya', 'keenan', 'townsend')\n",
    "years <- c(1961, 1964, 1972)"
   ]
  },
  {
   "cell_type": "code",
   "execution_count": 37,
   "metadata": {
    "slideshow": {
     "slide_type": "fragment"
    }
   },
   "outputs": [
    {
     "name": "stdout",
     "output_type": "stream",
     "text": [
      "[1] \"araya\"    \"keenan\"   \"townsend\"\n",
      "[1] 1961 1964 1972\n"
     ]
    }
   ],
   "source": [
    "print(names)\n",
    "print(years)"
   ]
  },
  {
   "cell_type": "code",
   "execution_count": 38,
   "metadata": {
    "slideshow": {
     "slide_type": "fragment"
    }
   },
   "outputs": [
    {
     "data": {
      "text/html": [
       "1965.66666666667"
      ],
      "text/latex": [
       "1965.66666666667"
      ],
      "text/markdown": [
       "1965.66666666667"
      ],
      "text/plain": [
       "[1] 1965.667"
      ]
     },
     "metadata": {},
     "output_type": "display_data"
    }
   ],
   "source": [
    "mean(years)"
   ]
  },
  {
   "cell_type": "markdown",
   "metadata": {
    "slideshow": {
     "slide_type": "slide"
    }
   },
   "source": [
    "Notice that vectors can only store values of the same type/class.\n",
    "\n",
    "When trying to combine different types in a vector, R will coerce all values to a type compatible with all values (if possible)"
   ]
  },
  {
   "cell_type": "code",
   "execution_count": 39,
   "metadata": {
    "slideshow": {
     "slide_type": "fragment"
    }
   },
   "outputs": [],
   "source": [
    "names_years <- c('araya', 1961, 'keenan', 1964)"
   ]
  },
  {
   "cell_type": "code",
   "execution_count": 40,
   "metadata": {
    "slideshow": {
     "slide_type": "fragment"
    }
   },
   "outputs": [
    {
     "data": {
      "text/html": [
       "<ol class=list-inline>\n",
       "\t<li>'araya'</li>\n",
       "\t<li>'1961'</li>\n",
       "\t<li>'keenan'</li>\n",
       "\t<li>'1964'</li>\n",
       "</ol>\n"
      ],
      "text/latex": [
       "\\begin{enumerate*}\n",
       "\\item 'araya'\n",
       "\\item '1961'\n",
       "\\item 'keenan'\n",
       "\\item '1964'\n",
       "\\end{enumerate*}\n"
      ],
      "text/markdown": [
       "1. 'araya'\n",
       "2. '1961'\n",
       "3. 'keenan'\n",
       "4. '1964'\n",
       "\n",
       "\n"
      ],
      "text/plain": [
       "[1] \"araya\"  \"1961\"   \"keenan\" \"1964\"  "
      ]
     },
     "metadata": {},
     "output_type": "display_data"
    }
   ],
   "source": [
    "names_years # Notice the numbers are now converted to text"
   ]
  },
  {
   "cell_type": "markdown",
   "metadata": {
    "slideshow": {
     "slide_type": "slide"
    }
   },
   "source": [
    "# Data handling in R\n",
    "\n",
    "When working with data, we usually need to perform some introductory data handling steps before being able to conduct our analysis.\n",
    "\n",
    "This could include:\n",
    "\n",
    "- Filtering observations and variables\n",
    "- Creating new variables\n",
    "- Recoding values\n",
    "\n",
    "R supports all these operations both from \"base\" operations but there are also packages with more intuitive functions (like the packages in tidyverse: https://www.tidyverse.org/."
   ]
  },
  {
   "cell_type": "markdown",
   "metadata": {
    "slideshow": {
     "slide_type": "slide"
    }
   },
   "source": [
    "## Filtering observations (subsetting)\n",
    "\n",
    "Like values in a vector, each value in a data frame also has an index. Each value in a data frame can be uniquely identified by the combination of its row and column index.\n",
    "\n",
    "Data frames are indexed using `[rowindex, columnindex/column name]`:"
   ]
  },
  {
   "cell_type": "code",
   "execution_count": 41,
   "metadata": {
    "slideshow": {
     "slide_type": "fragment"
    }
   },
   "outputs": [
    {
     "data": {
      "text/html": [
       "<table>\n",
       "<thead><tr><th scope=col>netustm</th></tr></thead>\n",
       "<tbody>\n",
       "\t<tr><td>150</td></tr>\n",
       "</tbody>\n",
       "</table>\n"
      ],
      "text/latex": [
       "\\begin{tabular}{r|l}\n",
       " netustm\\\\\n",
       "\\hline\n",
       "\t 150\\\\\n",
       "\\end{tabular}\n"
      ],
      "text/markdown": [
       "\n",
       "| netustm |\n",
       "|---|\n",
       "| 150 |\n",
       "\n"
      ],
      "text/plain": [
       "  netustm\n",
       "1 150    "
      ]
     },
     "metadata": {},
     "output_type": "display_data"
    }
   ],
   "source": [
    "data[10, 2] # Row 10, column 2"
   ]
  },
  {
   "cell_type": "code",
   "execution_count": 42,
   "metadata": {
    "slideshow": {
     "slide_type": "fragment"
    }
   },
   "outputs": [
    {
     "data": {
      "text/html": [
       "<table>\n",
       "<thead><tr><th scope=col>prtvtddk</th></tr></thead>\n",
       "<tbody>\n",
       "\t<tr><td>Socialdemokratiet - The Social democrats</td></tr>\n",
       "</tbody>\n",
       "</table>\n"
      ],
      "text/latex": [
       "\\begin{tabular}{r|l}\n",
       " prtvtddk\\\\\n",
       "\\hline\n",
       "\t Socialdemokratiet - The Social democrats\\\\\n",
       "\\end{tabular}\n"
      ],
      "text/markdown": [
       "\n",
       "| prtvtddk |\n",
       "|---|\n",
       "| Socialdemokratiet - The Social democrats |\n",
       "\n"
      ],
      "text/plain": [
       "  prtvtddk                                \n",
       "1 Socialdemokratiet - The Social democrats"
      ]
     },
     "metadata": {},
     "output_type": "display_data"
    }
   ],
   "source": [
    "data[10, 'prtvtddk'] # Row 10 in column prtvtddk"
   ]
  },
  {
   "cell_type": "markdown",
   "metadata": {
    "slideshow": {
     "slide_type": "fragment"
    }
   },
   "source": [
    "Notice that even though we are asking for a single value, the object returned is a 1x1 data frame!"
   ]
  },
  {
   "cell_type": "markdown",
   "metadata": {
    "slideshow": {
     "slide_type": "slide"
    }
   },
   "source": [
    "We can also ask for several rows and columns:"
   ]
  },
  {
   "cell_type": "code",
   "execution_count": 43,
   "metadata": {
    "slideshow": {
     "slide_type": "fragment"
    }
   },
   "outputs": [
    {
     "data": {
      "text/html": [
       "<table>\n",
       "<thead><tr><th scope=col>prtvtddk</th><th scope=col>gndr</th></tr></thead>\n",
       "<tbody>\n",
       "\t<tr><td>Socialdemokratiet - The Social democrats                 </td><td>Male                                                     </td></tr>\n",
       "\t<tr><td>Det Konservative Folkeparti - Conservative People's Party</td><td>Male                                                     </td></tr>\n",
       "\t<tr><td>NA                                                       </td><td>Male                                                     </td></tr>\n",
       "\t<tr><td>NA                                                       </td><td>Male                                                     </td></tr>\n",
       "\t<tr><td>NA                                                       </td><td>Female                                                   </td></tr>\n",
       "\t<tr><td>SF Socialistisk Folkeparti - Socialist People's Party    </td><td>Male                                                     </td></tr>\n",
       "\t<tr><td>Dansk Folkeparti - Danish People's Party                 </td><td>Female                                                   </td></tr>\n",
       "\t<tr><td>Socialdemokratiet - The Social democrats                 </td><td>Male                                                     </td></tr>\n",
       "\t<tr><td>Alternativet - The Alternative                           </td><td>Female                                                   </td></tr>\n",
       "\t<tr><td>Socialdemokratiet - The Social democrats                 </td><td>Male                                                     </td></tr>\n",
       "</tbody>\n",
       "</table>\n"
      ],
      "text/latex": [
       "\\begin{tabular}{r|ll}\n",
       " prtvtddk & gndr\\\\\n",
       "\\hline\n",
       "\t Socialdemokratiet - The Social democrats                  & Male                                                     \\\\\n",
       "\t Det Konservative Folkeparti - Conservative People's Party & Male                                                     \\\\\n",
       "\t NA                                                        & Male                                                     \\\\\n",
       "\t NA                                                        & Male                                                     \\\\\n",
       "\t NA                                                        & Female                                                   \\\\\n",
       "\t SF Socialistisk Folkeparti - Socialist People's Party     & Male                                                     \\\\\n",
       "\t Dansk Folkeparti - Danish People's Party                  & Female                                                   \\\\\n",
       "\t Socialdemokratiet - The Social democrats                  & Male                                                     \\\\\n",
       "\t Alternativet - The Alternative                            & Female                                                   \\\\\n",
       "\t Socialdemokratiet - The Social democrats                  & Male                                                     \\\\\n",
       "\\end{tabular}\n"
      ],
      "text/markdown": [
       "\n",
       "| prtvtddk | gndr |\n",
       "|---|---|\n",
       "| Socialdemokratiet - The Social democrats                  | Male                                                      |\n",
       "| Det Konservative Folkeparti - Conservative People's Party | Male                                                      |\n",
       "| NA                                                        | Male                                                      |\n",
       "| NA                                                        | Male                                                      |\n",
       "| NA                                                        | Female                                                    |\n",
       "| SF Socialistisk Folkeparti - Socialist People's Party     | Male                                                      |\n",
       "| Dansk Folkeparti - Danish People's Party                  | Female                                                    |\n",
       "| Socialdemokratiet - The Social democrats                  | Male                                                      |\n",
       "| Alternativet - The Alternative                            | Female                                                    |\n",
       "| Socialdemokratiet - The Social democrats                  | Male                                                      |\n",
       "\n"
      ],
      "text/plain": [
       "   prtvtddk                                                  gndr  \n",
       "1  Socialdemokratiet - The Social democrats                  Male  \n",
       "2  Det Konservative Folkeparti - Conservative People's Party Male  \n",
       "3  NA                                                        Male  \n",
       "4  NA                                                        Male  \n",
       "5  NA                                                        Female\n",
       "6  SF Socialistisk Folkeparti - Socialist People's Party     Male  \n",
       "7  Dansk Folkeparti - Danish People's Party                  Female\n",
       "8  Socialdemokratiet - The Social democrats                  Male  \n",
       "9  Alternativet - The Alternative                            Female\n",
       "10 Socialdemokratiet - The Social democrats                  Male  "
      ]
     },
     "metadata": {},
     "output_type": "display_data"
    }
   ],
   "source": [
    "data[c(1:10), c('prtvtddk', 'gndr')] # Row 1-10, column prtvtddk and gndr (specified as vectors)"
   ]
  },
  {
   "cell_type": "markdown",
   "metadata": {
    "slideshow": {
     "slide_type": "slide"
    }
   },
   "source": [
    "### Filtering with booleans/logical values\n",
    "\n",
    "Normally we do not know the rowindex of the values we want to keep. Rather we want to filter observations based on a certain criteria. \n",
    "\n",
    "In R this is done via the use of \"booleans\" or \"logical values\". These are values that are either `TRUE` or `FALSE`.\n",
    "\n",
    "A number of operations in R always return a logical value:\n",
    "\n",
    "- `>`\n",
    "- `>=`\n",
    "- `<`\n",
    "- `<=`\n",
    "- `==`\n",
    "- `!=`"
   ]
  },
  {
   "cell_type": "code",
   "execution_count": 44,
   "metadata": {
    "slideshow": {
     "slide_type": "fragment"
    }
   },
   "outputs": [
    {
     "data": {
      "text/html": [
       "TRUE"
      ],
      "text/latex": [
       "TRUE"
      ],
      "text/markdown": [
       "TRUE"
      ],
      "text/plain": [
       "[1] TRUE"
      ]
     },
     "metadata": {},
     "output_type": "display_data"
    }
   ],
   "source": [
    "42 > 10"
   ]
  },
  {
   "cell_type": "code",
   "execution_count": 45,
   "metadata": {
    "slideshow": {
     "slide_type": "fragment"
    }
   },
   "outputs": [
    {
     "data": {
      "text/html": [
       "FALSE"
      ],
      "text/latex": [
       "FALSE"
      ],
      "text/markdown": [
       "FALSE"
      ],
      "text/plain": [
       "[1] FALSE"
      ]
     },
     "metadata": {},
     "output_type": "display_data"
    }
   ],
   "source": [
    "10 != 10"
   ]
  },
  {
   "cell_type": "markdown",
   "metadata": {
    "slideshow": {
     "slide_type": "slide"
    }
   },
   "source": [
    "Logicals can be used when filtering observations. Logicals are used to index the rows, so that only rows meeting the criteria will be returned:"
   ]
  },
  {
   "cell_type": "code",
   "execution_count": 46,
   "metadata": {
    "slideshow": {
     "slide_type": "fragment"
    }
   },
   "outputs": [
    {
     "data": {
      "text/html": [
       "<table>\n",
       "<thead><tr><th scope=col>gndr</th><th scope=col>prtvtddk</th></tr></thead>\n",
       "<tbody>\n",
       "\t<tr><td>Male                                                     </td><td>Socialdemokratiet - The Social democrats                 </td></tr>\n",
       "\t<tr><td>Male                                                     </td><td>Det Konservative Folkeparti - Conservative People's Party</td></tr>\n",
       "\t<tr><td>Male                                                     </td><td>NA                                                       </td></tr>\n",
       "\t<tr><td>Male                                                     </td><td>NA                                                       </td></tr>\n",
       "\t<tr><td>Male                                                     </td><td>SF Socialistisk Folkeparti - Socialist People's Party    </td></tr>\n",
       "\t<tr><td>Male                                                     </td><td>Socialdemokratiet - The Social democrats                 </td></tr>\n",
       "</tbody>\n",
       "</table>\n"
      ],
      "text/latex": [
       "\\begin{tabular}{r|ll}\n",
       " gndr & prtvtddk\\\\\n",
       "\\hline\n",
       "\t Male                                                      & Socialdemokratiet - The Social democrats                 \\\\\n",
       "\t Male                                                      & Det Konservative Folkeparti - Conservative People's Party\\\\\n",
       "\t Male                                                      & NA                                                       \\\\\n",
       "\t Male                                                      & NA                                                       \\\\\n",
       "\t Male                                                      & SF Socialistisk Folkeparti - Socialist People's Party    \\\\\n",
       "\t Male                                                      & Socialdemokratiet - The Social democrats                 \\\\\n",
       "\\end{tabular}\n"
      ],
      "text/markdown": [
       "\n",
       "| gndr | prtvtddk |\n",
       "|---|---|\n",
       "| Male                                                      | Socialdemokratiet - The Social democrats                  |\n",
       "| Male                                                      | Det Konservative Folkeparti - Conservative People's Party |\n",
       "| Male                                                      | NA                                                        |\n",
       "| Male                                                      | NA                                                        |\n",
       "| Male                                                      | SF Socialistisk Folkeparti - Socialist People's Party     |\n",
       "| Male                                                      | Socialdemokratiet - The Social democrats                  |\n",
       "\n"
      ],
      "text/plain": [
       "  gndr prtvtddk                                                 \n",
       "1 Male Socialdemokratiet - The Social democrats                 \n",
       "2 Male Det Konservative Folkeparti - Conservative People's Party\n",
       "3 Male NA                                                       \n",
       "4 Male NA                                                       \n",
       "5 Male SF Socialistisk Folkeparti - Socialist People's Party    \n",
       "6 Male Socialdemokratiet - The Social democrats                 "
      ]
     },
     "metadata": {},
     "output_type": "display_data"
    }
   ],
   "source": [
    "head(data[data$gndr == 'Male', c('gndr', 'prtvtddk')])"
   ]
  },
  {
   "cell_type": "markdown",
   "metadata": {
    "slideshow": {
     "slide_type": "slide"
    }
   },
   "source": [
    "Logicals can also be used when indexing vectors, thus being able to perform calculation on a specific group:"
   ]
  },
  {
   "cell_type": "code",
   "execution_count": 47,
   "metadata": {
    "slideshow": {
     "slide_type": "fragment"
    }
   },
   "outputs": [
    {
     "data": {
      "text/html": [
       "6.99643705463183"
      ],
      "text/latex": [
       "6.99643705463183"
      ],
      "text/markdown": [
       "6.99643705463183"
      ],
      "text/plain": [
       "[1] 6.996437"
      ]
     },
     "metadata": {},
     "output_type": "display_data"
    }
   ],
   "source": [
    "mean(data$ppltrst[data$gndr == \"Male\"], na.rm = TRUE) # Mean of ppltrst for gndr = male"
   ]
  },
  {
   "cell_type": "markdown",
   "metadata": {
    "slideshow": {
     "slide_type": "slide"
    }
   },
   "source": [
    "## Subsetting data with `dplyr` \n",
    "\n",
    "One major drawback of base R subsetting is that you quickly end up having to write the dataset over and over. Base R commands can also be a bit counter-intuitive to read.\n",
    "\n",
    "The package `dplyr` contains various commands for filtering and subsetting data. The functions `filter` and `select` can be used to subset data instead of base R commands.\n",
    "\n",
    "`filter()` takes a dataset and a logical statement using a variable in the data. It returns a dataset with the observations that meet the criteria.\n",
    "\n",
    "`select()` takes a dataset and a list of variable names. It returns the dataset and the specified variables.\n",
    "\n",
    "NOTE: There is also a base R function called `filter()`. This function is overwritten when importing `dplyr`."
   ]
  },
  {
   "cell_type": "code",
   "execution_count": 48,
   "metadata": {
    "slideshow": {
     "slide_type": "slide"
    }
   },
   "outputs": [
    {
     "name": "stderr",
     "output_type": "stream",
     "text": [
      "\n",
      "Attaching package: 'dplyr'\n",
      "\n",
      "The following objects are masked from 'package:stats':\n",
      "\n",
      "    filter, lag\n",
      "\n",
      "The following objects are masked from 'package:base':\n",
      "\n",
      "    intersect, setdiff, setequal, union\n",
      "\n"
     ]
    },
    {
     "data": {
      "text/html": [
       "<table>\n",
       "<thead><tr><th scope=col>idno</th><th scope=col>netustm</th><th scope=col>ppltrst</th><th scope=col>vote</th><th scope=col>prtvtddk</th><th scope=col>lvpntyr</th><th scope=col>tygrtr</th><th scope=col>gndr</th><th scope=col>yrbrn</th><th scope=col>edlvddk</th><th scope=col>eduyrs</th><th scope=col>wkhct</th><th scope=col>wkhtot</th><th scope=col>grspnum</th><th scope=col>frlgrsp</th><th scope=col>inwtm</th></tr></thead>\n",
       "<tbody>\n",
       "\t<tr><td> 110                                                                          </td><td>180                                                                           </td><td>8                                                                             </td><td>Yes                                                                           </td><td>Socialdemokratiet - The Social democrats                                      </td><td>1968                                                                          </td><td>Never too young                                                               </td><td>Male                                                                          </td><td>1949                                                                          </td><td>Kort videregående uddannelse af op til 2-3 års varighed, F.eks. Erhvervsakadem</td><td> 9                                                                            </td><td>28                                                                            </td><td>28                                                                            </td><td>   NA                                                                         </td><td>   NA                                                                         </td><td>119                                                                           </td></tr>\n",
       "\t<tr><td> 705                                                                          </td><td> 60                                                                           </td><td>5                                                                             </td><td>Yes                                                                           </td><td>Det Konservative Folkeparti - Conservative People's Party                     </td><td>1976                                                                          </td><td>67                                                                            </td><td>Male                                                                          </td><td>1958                                                                          </td><td>Kort videregående uddannelse af op til 2-3 års varighed, F.eks. Erhvervsakadem</td><td>22                                                                            </td><td>37                                                                            </td><td>45                                                                            </td><td>   NA                                                                         </td><td>   NA                                                                         </td><td> 55                                                                           </td></tr>\n",
       "\t<tr><td>1327                                                                          </td><td>240                                                                           </td><td>5                                                                             </td><td>NA                                                                            </td><td>NA                                                                            </td><td>Still in parental home, never left 2 months                                   </td><td>NA                                                                            </td><td>Male                                                                          </td><td>2000                                                                          </td><td>Folkeskole 9.-10. klasse                                                      </td><td>11                                                                            </td><td>37                                                                            </td><td>37                                                                            </td><td>   NA                                                                         </td><td>   NA                                                                         </td><td> 37                                                                           </td></tr>\n",
       "\t<tr><td>3760                                                                          </td><td>300                                                                           </td><td>7                                                                             </td><td>Not eligible to vote                                                          </td><td>NA                                                                            </td><td>Still in parental home, never left 2 months                                   </td><td>40                                                                            </td><td>Male                                                                          </td><td>2002                                                                          </td><td>Folkeskole 9.-10. klasse                                                      </td><td> 9                                                                            </td><td> 2                                                                            </td><td> 2                                                                            </td><td>  200                                                                         </td><td>   NA                                                                         </td><td> 43                                                                           </td></tr>\n",
       "\t<tr><td>5816                                                                          </td><td> 90                                                                           </td><td>7                                                                             </td><td>Yes                                                                           </td><td>SF Socialistisk Folkeparti - Socialist People's Party                         </td><td>1994                                                                          </td><td>60                                                                            </td><td>Male                                                                          </td><td>1974                                                                          </td><td>Mellemlang videregående uddannelse af 3-4 års varighed. Professionsbachelorer,</td><td>35                                                                            </td><td>37                                                                            </td><td>37                                                                            </td><td>37000                                                                         </td><td>35000                                                                         </td><td> 61                                                                           </td></tr>\n",
       "\t<tr><td>7887                                                                          </td><td>360                                                                           </td><td>8                                                                             </td><td>Yes                                                                           </td><td>Socialdemokratiet - The Social democrats                                      </td><td>1983                                                                          </td><td>55                                                                            </td><td>Male                                                                          </td><td>1958                                                                          </td><td>Lang videregående uddannelse. Kandidatuddannelser af 5.-6. års varighed, F.eks</td><td>25                                                                            </td><td>39                                                                            </td><td>39                                                                            </td><td>36000                                                                         </td><td>42000                                                                         </td><td> 89                                                                           </td></tr>\n",
       "</tbody>\n",
       "</table>\n"
      ],
      "text/latex": [
       "\\begin{tabular}{r|llllllllllllllll}\n",
       " idno & netustm & ppltrst & vote & prtvtddk & lvpntyr & tygrtr & gndr & yrbrn & edlvddk & eduyrs & wkhct & wkhtot & grspnum & frlgrsp & inwtm\\\\\n",
       "\\hline\n",
       "\t  110                                                                           & 180                                                                            & 8                                                                              & Yes                                                                            & Socialdemokratiet - The Social democrats                                       & 1968                                                                           & Never too young                                                                & Male                                                                           & 1949                                                                           & Kort videregående uddannelse af op til 2-3 års varighed, F.eks. Erhvervsakadem &  9                                                                             & 28                                                                             & 28                                                                             &    NA                                                                          &    NA                                                                          & 119                                                                           \\\\\n",
       "\t  705                                                                           &  60                                                                            & 5                                                                              & Yes                                                                            & Det Konservative Folkeparti - Conservative People's Party                      & 1976                                                                           & 67                                                                             & Male                                                                           & 1958                                                                           & Kort videregående uddannelse af op til 2-3 års varighed, F.eks. Erhvervsakadem & 22                                                                             & 37                                                                             & 45                                                                             &    NA                                                                          &    NA                                                                          &  55                                                                           \\\\\n",
       "\t 1327                                                                           & 240                                                                            & 5                                                                              & NA                                                                             & NA                                                                             & Still in parental home, never left 2 months                                    & NA                                                                             & Male                                                                           & 2000                                                                           & Folkeskole 9.-10. klasse                                                       & 11                                                                             & 37                                                                             & 37                                                                             &    NA                                                                          &    NA                                                                          &  37                                                                           \\\\\n",
       "\t 3760                                                                           & 300                                                                            & 7                                                                              & Not eligible to vote                                                           & NA                                                                             & Still in parental home, never left 2 months                                    & 40                                                                             & Male                                                                           & 2002                                                                           & Folkeskole 9.-10. klasse                                                       &  9                                                                             &  2                                                                             &  2                                                                             &   200                                                                          &    NA                                                                          &  43                                                                           \\\\\n",
       "\t 5816                                                                           &  90                                                                            & 7                                                                              & Yes                                                                            & SF Socialistisk Folkeparti - Socialist People's Party                          & 1994                                                                           & 60                                                                             & Male                                                                           & 1974                                                                           & Mellemlang videregående uddannelse af 3-4 års varighed. Professionsbachelorer, & 35                                                                             & 37                                                                             & 37                                                                             & 37000                                                                          & 35000                                                                          &  61                                                                           \\\\\n",
       "\t 7887                                                                           & 360                                                                            & 8                                                                              & Yes                                                                            & Socialdemokratiet - The Social democrats                                       & 1983                                                                           & 55                                                                             & Male                                                                           & 1958                                                                           & Lang videregående uddannelse. Kandidatuddannelser af 5.-6. års varighed, F.eks & 25                                                                             & 39                                                                             & 39                                                                             & 36000                                                                          & 42000                                                                          &  89                                                                           \\\\\n",
       "\\end{tabular}\n"
      ],
      "text/markdown": [
       "\n",
       "| idno | netustm | ppltrst | vote | prtvtddk | lvpntyr | tygrtr | gndr | yrbrn | edlvddk | eduyrs | wkhct | wkhtot | grspnum | frlgrsp | inwtm |\n",
       "|---|---|---|---|---|---|---|---|---|---|---|---|---|---|---|---|\n",
       "|  110                                                                           | 180                                                                            | 8                                                                              | Yes                                                                            | Socialdemokratiet - The Social democrats                                       | 1968                                                                           | Never too young                                                                | Male                                                                           | 1949                                                                           | Kort videregående uddannelse af op til 2-3 års varighed, F.eks. Erhvervsakadem |  9                                                                             | 28                                                                             | 28                                                                             |    NA                                                                          |    NA                                                                          | 119                                                                            |\n",
       "|  705                                                                           |  60                                                                            | 5                                                                              | Yes                                                                            | Det Konservative Folkeparti - Conservative People's Party                      | 1976                                                                           | 67                                                                             | Male                                                                           | 1958                                                                           | Kort videregående uddannelse af op til 2-3 års varighed, F.eks. Erhvervsakadem | 22                                                                             | 37                                                                             | 45                                                                             |    NA                                                                          |    NA                                                                          |  55                                                                            |\n",
       "| 1327                                                                           | 240                                                                            | 5                                                                              | NA                                                                             | NA                                                                             | Still in parental home, never left 2 months                                    | NA                                                                             | Male                                                                           | 2000                                                                           | Folkeskole 9.-10. klasse                                                       | 11                                                                             | 37                                                                             | 37                                                                             |    NA                                                                          |    NA                                                                          |  37                                                                            |\n",
       "| 3760                                                                           | 300                                                                            | 7                                                                              | Not eligible to vote                                                           | NA                                                                             | Still in parental home, never left 2 months                                    | 40                                                                             | Male                                                                           | 2002                                                                           | Folkeskole 9.-10. klasse                                                       |  9                                                                             |  2                                                                             |  2                                                                             |   200                                                                          |    NA                                                                          |  43                                                                            |\n",
       "| 5816                                                                           |  90                                                                            | 7                                                                              | Yes                                                                            | SF Socialistisk Folkeparti - Socialist People's Party                          | 1994                                                                           | 60                                                                             | Male                                                                           | 1974                                                                           | Mellemlang videregående uddannelse af 3-4 års varighed. Professionsbachelorer, | 35                                                                             | 37                                                                             | 37                                                                             | 37000                                                                          | 35000                                                                          |  61                                                                            |\n",
       "| 7887                                                                           | 360                                                                            | 8                                                                              | Yes                                                                            | Socialdemokratiet - The Social democrats                                       | 1983                                                                           | 55                                                                             | Male                                                                           | 1958                                                                           | Lang videregående uddannelse. Kandidatuddannelser af 5.-6. års varighed, F.eks | 25                                                                             | 39                                                                             | 39                                                                             | 36000                                                                          | 42000                                                                          |  89                                                                            |\n",
       "\n"
      ],
      "text/plain": [
       "  idno netustm ppltrst vote                \n",
       "1  110 180     8       Yes                 \n",
       "2  705  60     5       Yes                 \n",
       "3 1327 240     5       NA                  \n",
       "4 3760 300     7       Not eligible to vote\n",
       "5 5816  90     7       Yes                 \n",
       "6 7887 360     8       Yes                 \n",
       "  prtvtddk                                                 \n",
       "1 Socialdemokratiet - The Social democrats                 \n",
       "2 Det Konservative Folkeparti - Conservative People's Party\n",
       "3 NA                                                       \n",
       "4 NA                                                       \n",
       "5 SF Socialistisk Folkeparti - Socialist People's Party    \n",
       "6 Socialdemokratiet - The Social democrats                 \n",
       "  lvpntyr                                     tygrtr          gndr yrbrn\n",
       "1 1968                                        Never too young Male 1949 \n",
       "2 1976                                        67              Male 1958 \n",
       "3 Still in parental home, never left 2 months NA              Male 2000 \n",
       "4 Still in parental home, never left 2 months 40              Male 2002 \n",
       "5 1994                                        60              Male 1974 \n",
       "6 1983                                        55              Male 1958 \n",
       "  edlvddk                                                                       \n",
       "1 Kort videregående uddannelse af op til 2-3 års varighed, F.eks. Erhvervsakadem\n",
       "2 Kort videregående uddannelse af op til 2-3 års varighed, F.eks. Erhvervsakadem\n",
       "3 Folkeskole 9.-10. klasse                                                      \n",
       "4 Folkeskole 9.-10. klasse                                                      \n",
       "5 Mellemlang videregående uddannelse af 3-4 års varighed. Professionsbachelorer,\n",
       "6 Lang videregående uddannelse. Kandidatuddannelser af 5.-6. års varighed, F.eks\n",
       "  eduyrs wkhct wkhtot grspnum frlgrsp inwtm\n",
       "1  9     28    28        NA      NA   119  \n",
       "2 22     37    45        NA      NA    55  \n",
       "3 11     37    37        NA      NA    37  \n",
       "4  9      2     2       200      NA    43  \n",
       "5 35     37    37     37000   35000    61  \n",
       "6 25     39    39     36000   42000    89  "
      ]
     },
     "metadata": {},
     "output_type": "display_data"
    }
   ],
   "source": [
    "library(dplyr)\n",
    "\n",
    "data_male <- filter(data, gndr == 'Male') # Subset with only males\n",
    "\n",
    "head(data_male)"
   ]
  },
  {
   "cell_type": "code",
   "execution_count": 49,
   "metadata": {
    "slideshow": {
     "slide_type": "slide"
    }
   },
   "outputs": [
    {
     "data": {
      "text/html": [
       "<table>\n",
       "<thead><tr><th scope=col>idno</th><th scope=col>gndr</th><th scope=col>yrbrn</th><th scope=col>edlvddk</th></tr></thead>\n",
       "<tbody>\n",
       "\t<tr><td> 110                                                                          </td><td>Male                                                                          </td><td>1949                                                                          </td><td>Kort videregående uddannelse af op til 2-3 års varighed, F.eks. Erhvervsakadem</td></tr>\n",
       "\t<tr><td> 705                                                                          </td><td>Male                                                                          </td><td>1958                                                                          </td><td>Kort videregående uddannelse af op til 2-3 års varighed, F.eks. Erhvervsakadem</td></tr>\n",
       "\t<tr><td>1327                                                                          </td><td>Male                                                                          </td><td>2000                                                                          </td><td>Folkeskole 9.-10. klasse                                                      </td></tr>\n",
       "\t<tr><td>3760                                                                          </td><td>Male                                                                          </td><td>2002                                                                          </td><td>Folkeskole 9.-10. klasse                                                      </td></tr>\n",
       "\t<tr><td>5816                                                                          </td><td>Male                                                                          </td><td>1974                                                                          </td><td>Mellemlang videregående uddannelse af 3-4 års varighed. Professionsbachelorer,</td></tr>\n",
       "\t<tr><td>7887                                                                          </td><td>Male                                                                          </td><td>1958                                                                          </td><td>Lang videregående uddannelse. Kandidatuddannelser af 5.-6. års varighed, F.eks</td></tr>\n",
       "</tbody>\n",
       "</table>\n"
      ],
      "text/latex": [
       "\\begin{tabular}{r|llll}\n",
       " idno & gndr & yrbrn & edlvddk\\\\\n",
       "\\hline\n",
       "\t  110                                                                           & Male                                                                           & 1949                                                                           & Kort videregående uddannelse af op til 2-3 års varighed, F.eks. Erhvervsakadem\\\\\n",
       "\t  705                                                                           & Male                                                                           & 1958                                                                           & Kort videregående uddannelse af op til 2-3 års varighed, F.eks. Erhvervsakadem\\\\\n",
       "\t 1327                                                                           & Male                                                                           & 2000                                                                           & Folkeskole 9.-10. klasse                                                      \\\\\n",
       "\t 3760                                                                           & Male                                                                           & 2002                                                                           & Folkeskole 9.-10. klasse                                                      \\\\\n",
       "\t 5816                                                                           & Male                                                                           & 1974                                                                           & Mellemlang videregående uddannelse af 3-4 års varighed. Professionsbachelorer,\\\\\n",
       "\t 7887                                                                           & Male                                                                           & 1958                                                                           & Lang videregående uddannelse. Kandidatuddannelser af 5.-6. års varighed, F.eks\\\\\n",
       "\\end{tabular}\n"
      ],
      "text/markdown": [
       "\n",
       "| idno | gndr | yrbrn | edlvddk |\n",
       "|---|---|---|---|\n",
       "|  110                                                                           | Male                                                                           | 1949                                                                           | Kort videregående uddannelse af op til 2-3 års varighed, F.eks. Erhvervsakadem |\n",
       "|  705                                                                           | Male                                                                           | 1958                                                                           | Kort videregående uddannelse af op til 2-3 års varighed, F.eks. Erhvervsakadem |\n",
       "| 1327                                                                           | Male                                                                           | 2000                                                                           | Folkeskole 9.-10. klasse                                                       |\n",
       "| 3760                                                                           | Male                                                                           | 2002                                                                           | Folkeskole 9.-10. klasse                                                       |\n",
       "| 5816                                                                           | Male                                                                           | 1974                                                                           | Mellemlang videregående uddannelse af 3-4 års varighed. Professionsbachelorer, |\n",
       "| 7887                                                                           | Male                                                                           | 1958                                                                           | Lang videregående uddannelse. Kandidatuddannelser af 5.-6. års varighed, F.eks |\n",
       "\n"
      ],
      "text/plain": [
       "  idno gndr yrbrn\n",
       "1  110 Male 1949 \n",
       "2  705 Male 1958 \n",
       "3 1327 Male 2000 \n",
       "4 3760 Male 2002 \n",
       "5 5816 Male 1974 \n",
       "6 7887 Male 1958 \n",
       "  edlvddk                                                                       \n",
       "1 Kort videregående uddannelse af op til 2-3 års varighed, F.eks. Erhvervsakadem\n",
       "2 Kort videregående uddannelse af op til 2-3 års varighed, F.eks. Erhvervsakadem\n",
       "3 Folkeskole 9.-10. klasse                                                      \n",
       "4 Folkeskole 9.-10. klasse                                                      \n",
       "5 Mellemlang videregående uddannelse af 3-4 års varighed. Professionsbachelorer,\n",
       "6 Lang videregående uddannelse. Kandidatuddannelser af 5.-6. års varighed, F.eks"
      ]
     },
     "metadata": {},
     "output_type": "display_data"
    }
   ],
   "source": [
    "data_male_subset <- select(data_male, idno, gndr, yrbrn, edlvddk) # Selecting specific variables\n",
    "\n",
    "head(data_male_subset)"
   ]
  },
  {
   "cell_type": "markdown",
   "metadata": {
    "slideshow": {
     "slide_type": "slide"
    }
   },
   "source": [
    "### Chaining commands with the pipe `%>%`\n",
    "\n",
    "Part of the `tidyverse` is the pipe-operator (`%>%`). It is part of the `magrittr` package: https://magrittr.tidyverse.org/ (usually imported along with `dplyr`).\n",
    "\n",
    "The pipe allows one to chain together commands without having to refer to the name of the dataset (the input data is assumed to be the data output from the previous line):"
   ]
  },
  {
   "cell_type": "code",
   "execution_count": 50,
   "metadata": {
    "slideshow": {
     "slide_type": "fragment"
    }
   },
   "outputs": [
    {
     "data": {
      "text/html": [
       "<table>\n",
       "<thead><tr><th scope=col>idno</th><th scope=col>gndr</th><th scope=col>yrbrn</th><th scope=col>edlvddk</th></tr></thead>\n",
       "<tbody>\n",
       "\t<tr><td> 110                                                                          </td><td>Male                                                                          </td><td>1949                                                                          </td><td>Kort videregående uddannelse af op til 2-3 års varighed, F.eks. Erhvervsakadem</td></tr>\n",
       "\t<tr><td> 705                                                                          </td><td>Male                                                                          </td><td>1958                                                                          </td><td>Kort videregående uddannelse af op til 2-3 års varighed, F.eks. Erhvervsakadem</td></tr>\n",
       "\t<tr><td>1327                                                                          </td><td>Male                                                                          </td><td>2000                                                                          </td><td>Folkeskole 9.-10. klasse                                                      </td></tr>\n",
       "\t<tr><td>3760                                                                          </td><td>Male                                                                          </td><td>2002                                                                          </td><td>Folkeskole 9.-10. klasse                                                      </td></tr>\n",
       "\t<tr><td>5816                                                                          </td><td>Male                                                                          </td><td>1974                                                                          </td><td>Mellemlang videregående uddannelse af 3-4 års varighed. Professionsbachelorer,</td></tr>\n",
       "\t<tr><td>7887                                                                          </td><td>Male                                                                          </td><td>1958                                                                          </td><td>Lang videregående uddannelse. Kandidatuddannelser af 5.-6. års varighed, F.eks</td></tr>\n",
       "</tbody>\n",
       "</table>\n"
      ],
      "text/latex": [
       "\\begin{tabular}{r|llll}\n",
       " idno & gndr & yrbrn & edlvddk\\\\\n",
       "\\hline\n",
       "\t  110                                                                           & Male                                                                           & 1949                                                                           & Kort videregående uddannelse af op til 2-3 års varighed, F.eks. Erhvervsakadem\\\\\n",
       "\t  705                                                                           & Male                                                                           & 1958                                                                           & Kort videregående uddannelse af op til 2-3 års varighed, F.eks. Erhvervsakadem\\\\\n",
       "\t 1327                                                                           & Male                                                                           & 2000                                                                           & Folkeskole 9.-10. klasse                                                      \\\\\n",
       "\t 3760                                                                           & Male                                                                           & 2002                                                                           & Folkeskole 9.-10. klasse                                                      \\\\\n",
       "\t 5816                                                                           & Male                                                                           & 1974                                                                           & Mellemlang videregående uddannelse af 3-4 års varighed. Professionsbachelorer,\\\\\n",
       "\t 7887                                                                           & Male                                                                           & 1958                                                                           & Lang videregående uddannelse. Kandidatuddannelser af 5.-6. års varighed, F.eks\\\\\n",
       "\\end{tabular}\n"
      ],
      "text/markdown": [
       "\n",
       "| idno | gndr | yrbrn | edlvddk |\n",
       "|---|---|---|---|\n",
       "|  110                                                                           | Male                                                                           | 1949                                                                           | Kort videregående uddannelse af op til 2-3 års varighed, F.eks. Erhvervsakadem |\n",
       "|  705                                                                           | Male                                                                           | 1958                                                                           | Kort videregående uddannelse af op til 2-3 års varighed, F.eks. Erhvervsakadem |\n",
       "| 1327                                                                           | Male                                                                           | 2000                                                                           | Folkeskole 9.-10. klasse                                                       |\n",
       "| 3760                                                                           | Male                                                                           | 2002                                                                           | Folkeskole 9.-10. klasse                                                       |\n",
       "| 5816                                                                           | Male                                                                           | 1974                                                                           | Mellemlang videregående uddannelse af 3-4 års varighed. Professionsbachelorer, |\n",
       "| 7887                                                                           | Male                                                                           | 1958                                                                           | Lang videregående uddannelse. Kandidatuddannelser af 5.-6. års varighed, F.eks |\n",
       "\n"
      ],
      "text/plain": [
       "  idno gndr yrbrn\n",
       "1  110 Male 1949 \n",
       "2  705 Male 1958 \n",
       "3 1327 Male 2000 \n",
       "4 3760 Male 2002 \n",
       "5 5816 Male 1974 \n",
       "6 7887 Male 1958 \n",
       "  edlvddk                                                                       \n",
       "1 Kort videregående uddannelse af op til 2-3 års varighed, F.eks. Erhvervsakadem\n",
       "2 Kort videregående uddannelse af op til 2-3 års varighed, F.eks. Erhvervsakadem\n",
       "3 Folkeskole 9.-10. klasse                                                      \n",
       "4 Folkeskole 9.-10. klasse                                                      \n",
       "5 Mellemlang videregående uddannelse af 3-4 års varighed. Professionsbachelorer,\n",
       "6 Lang videregående uddannelse. Kandidatuddannelser af 5.-6. års varighed, F.eks"
      ]
     },
     "metadata": {},
     "output_type": "display_data"
    }
   ],
   "source": [
    "data_male_subset <- data %>% # Creating the same subset as before but with shorter code\n",
    "    filter(gndr == 'Male') %>%\n",
    "    select(idno, gndr, yrbrn, edlvddk)\n",
    "\n",
    "head(data_male_subset)"
   ]
  },
  {
   "cell_type": "markdown",
   "metadata": {
    "slideshow": {
     "slide_type": "slide"
    }
   },
   "source": [
    "# EXERCISE 4: FILTERING AND SELECTING\n",
    "\n",
    "1. Create a subset of the data containing females born after 1980 with the variables: `idno`, `gndr`, `yrbrn`, `netustm`\n",
    "\n",
    "2. Use `head()` to check if the subset looks correct\n",
    "\n",
    "2. Calculate the mean time used on the internet per day (`netustm`) for the subset\n",
    "\n",
    "\n",
    "## Bonus exercise\n",
    "\n",
    "1. Create a subset for males born after 1980\n",
    "2. Calculate the mean time used on the internet per day for this subset - is it higher or lower than the subset for females?"
   ]
  },
  {
   "cell_type": "markdown",
   "metadata": {
    "slideshow": {
     "slide_type": "subslide"
    }
   },
   "source": [
    "# EXERCISE 4: FILTERING AND SELECTING"
   ]
  },
  {
   "cell_type": "code",
   "execution_count": 51,
   "metadata": {
    "slideshow": {
     "slide_type": "fragment"
    }
   },
   "outputs": [],
   "source": [
    "data_female_subset  <- data %>%\n",
    "    filter(gndr == 'Female') %>%\n",
    "    filter(yrbrn > 1980) %>%\n",
    "    select(idno, gndr, yrbrn, netustm)\n",
    "\n",
    "data_male_subset  <- data %>% # Bonus\n",
    "    filter(gndr == 'Male') %>%\n",
    "    filter(yrbrn > 1980) %>%\n",
    "    select(idno, gndr, yrbrn, netustm)"
   ]
  },
  {
   "cell_type": "code",
   "execution_count": 52,
   "metadata": {
    "slideshow": {
     "slide_type": "fragment"
    }
   },
   "outputs": [
    {
     "data": {
      "text/html": [
       "311.745"
      ],
      "text/latex": [
       "311.745"
      ],
      "text/markdown": [
       "311.745"
      ],
      "text/plain": [
       "[1] 311.745"
      ]
     },
     "metadata": {},
     "output_type": "display_data"
    }
   ],
   "source": [
    "mean(data_female_subset$netustm, na.rm = TRUE)"
   ]
  },
  {
   "cell_type": "code",
   "execution_count": 53,
   "metadata": {
    "slideshow": {
     "slide_type": "fragment"
    }
   },
   "outputs": [
    {
     "data": {
      "text/html": [
       "331.274509803922"
      ],
      "text/latex": [
       "331.274509803922"
      ],
      "text/markdown": [
       "331.274509803922"
      ],
      "text/plain": [
       "[1] 331.2745"
      ]
     },
     "metadata": {},
     "output_type": "display_data"
    }
   ],
   "source": [
    "mean(data_male_subset$netustm, na.rm = TRUE) # Bonus"
   ]
  },
  {
   "cell_type": "code",
   "execution_count": 54,
   "metadata": {
    "scrolled": true,
    "slideshow": {
     "slide_type": "fragment"
    }
   },
   "outputs": [
    {
     "data": {
      "text/html": [
       "TRUE"
      ],
      "text/latex": [
       "TRUE"
      ],
      "text/markdown": [
       "TRUE"
      ],
      "text/plain": [
       "[1] TRUE"
      ]
     },
     "metadata": {},
     "output_type": "display_data"
    }
   ],
   "source": [
    "mean(data_male_subset$netustm, na.rm = TRUE) > mean(data_female_subset$netustm, na.rm = TRUE)"
   ]
  },
  {
   "cell_type": "markdown",
   "metadata": {
    "slideshow": {
     "slide_type": "slide"
    }
   },
   "source": [
    "## Recoding and creating variables\n",
    "\n",
    "Creating variables and (simple) recoding is usually done in the same way. The only difference being whether the recoding is assigned to a new variable or overwriting an existing (we are here only looking at recoding by arithmetic operations and not by replacing values)."
   ]
  },
  {
   "cell_type": "markdown",
   "metadata": {
    "slideshow": {
     "slide_type": "fragment"
    }
   },
   "source": [
    "In base R, we simply specify a variable that is not in the data and specify the contents:"
   ]
  },
  {
   "cell_type": "code",
   "execution_count": 55,
   "metadata": {
    "slideshow": {
     "slide_type": "fragment"
    }
   },
   "outputs": [
    {
     "data": {
      "text/html": [
       "<ol class=list-inline>\n",
       "\t<li>1.98333333333333</li>\n",
       "\t<li>0.916666666666667</li>\n",
       "\t<li>0.616666666666667</li>\n",
       "\t<li>0.716666666666667</li>\n",
       "\t<li>1.03333333333333</li>\n",
       "\t<li>1.01666666666667</li>\n",
       "</ol>\n"
      ],
      "text/latex": [
       "\\begin{enumerate*}\n",
       "\\item 1.98333333333333\n",
       "\\item 0.916666666666667\n",
       "\\item 0.616666666666667\n",
       "\\item 0.716666666666667\n",
       "\\item 1.03333333333333\n",
       "\\item 1.01666666666667\n",
       "\\end{enumerate*}\n"
      ],
      "text/markdown": [
       "1. 1.98333333333333\n",
       "2. 0.916666666666667\n",
       "3. 0.616666666666667\n",
       "4. 0.716666666666667\n",
       "5. 1.03333333333333\n",
       "6. 1.01666666666667\n",
       "\n",
       "\n"
      ],
      "text/plain": [
       "[1] 1.9833333 0.9166667 0.6166667 0.7166667 1.0333333 1.0166667"
      ]
     },
     "metadata": {},
     "output_type": "display_data"
    }
   ],
   "source": [
    "data$inwth <- data$inwtm / 60 # Creating variable for length of interview in hours\n",
    "\n",
    "head(data$inwth)"
   ]
  },
  {
   "cell_type": "code",
   "execution_count": 56,
   "metadata": {
    "slideshow": {
     "slide_type": "fragment"
    }
   },
   "outputs": [],
   "source": [
    "data$inwth <- NULL # This line removes the variable"
   ]
  },
  {
   "cell_type": "markdown",
   "metadata": {
    "slideshow": {
     "slide_type": "slide"
    }
   },
   "source": [
    "### Recoding and creating variables using `dplyr`\n",
    "\n",
    "The function `mutate()` in `dplyr` is use for creating and recoding variables:"
   ]
  },
  {
   "cell_type": "code",
   "execution_count": 57,
   "metadata": {
    "slideshow": {
     "slide_type": "fragment"
    }
   },
   "outputs": [
    {
     "data": {
      "text/html": [
       "<ol class=list-inline>\n",
       "\t<li>1.98333333333333</li>\n",
       "\t<li>0.916666666666667</li>\n",
       "\t<li>0.616666666666667</li>\n",
       "\t<li>0.716666666666667</li>\n",
       "\t<li>1.03333333333333</li>\n",
       "\t<li>1.01666666666667</li>\n",
       "</ol>\n"
      ],
      "text/latex": [
       "\\begin{enumerate*}\n",
       "\\item 1.98333333333333\n",
       "\\item 0.916666666666667\n",
       "\\item 0.616666666666667\n",
       "\\item 0.716666666666667\n",
       "\\item 1.03333333333333\n",
       "\\item 1.01666666666667\n",
       "\\end{enumerate*}\n"
      ],
      "text/markdown": [
       "1. 1.98333333333333\n",
       "2. 0.916666666666667\n",
       "3. 0.616666666666667\n",
       "4. 0.716666666666667\n",
       "5. 1.03333333333333\n",
       "6. 1.01666666666667\n",
       "\n",
       "\n"
      ],
      "text/plain": [
       "[1] 1.9833333 0.9166667 0.6166667 0.7166667 1.0333333 1.0166667"
      ]
     },
     "metadata": {},
     "output_type": "display_data"
    }
   ],
   "source": [
    "data <- data %>%\n",
    "    mutate(inwth = inwtm / 60)\n",
    "\n",
    "head(data$inwth)"
   ]
  },
  {
   "cell_type": "markdown",
   "metadata": {
    "slideshow": {
     "slide_type": "slide"
    }
   },
   "source": [
    "# EXERCISE 5: CREATING VARIABLES\n",
    "\n",
    "1. Create an age variable (the dataset is from 2018)\n",
    "\n",
    "2. Create a variable containing the difference between hours worked per week (`wkhtot`) and hours contracted per week (`wkhct`).\n",
    "\n",
    "3. What is the highest overtime value? (use either `summary()` or `min()`\n",
    "\n",
    "\n",
    "## Bonus exercise\n",
    "\n",
    "Find out the age and gender of the person with the highest overtime value."
   ]
  },
  {
   "cell_type": "markdown",
   "metadata": {
    "slideshow": {
     "slide_type": "subslide"
    }
   },
   "source": [
    "# EXERCISE 5: CREATING VARIABLES"
   ]
  },
  {
   "cell_type": "code",
   "execution_count": 58,
   "metadata": {
    "slideshow": {
     "slide_type": "fragment"
    }
   },
   "outputs": [
    {
     "data": {
      "text/html": [
       "<table>\n",
       "<thead><tr><th scope=col>overthrs</th><th scope=col>gndr</th><th scope=col>age</th></tr></thead>\n",
       "<tbody>\n",
       "\t<tr><td>95  </td><td>Male</td><td>34  </td></tr>\n",
       "</tbody>\n",
       "</table>\n"
      ],
      "text/latex": [
       "\\begin{tabular}{r|lll}\n",
       " overthrs & gndr & age\\\\\n",
       "\\hline\n",
       "\t 95   & Male & 34  \\\\\n",
       "\\end{tabular}\n"
      ],
      "text/markdown": [
       "\n",
       "| overthrs | gndr | age |\n",
       "|---|---|---|\n",
       "| 95   | Male | 34   |\n",
       "\n"
      ],
      "text/plain": [
       "  overthrs gndr age\n",
       "1 95       Male 34 "
      ]
     },
     "metadata": {},
     "output_type": "display_data"
    }
   ],
   "source": [
    "data <- data %>%\n",
    "    mutate(age = 2018 - yrbrn,\n",
    "           overthrs = wkhtot - wkhct)\n",
    "\n",
    "data %>%\n",
    "    filter(overthrs == max(overthrs, na.rm = TRUE)) %>%\n",
    "    select(overthrs, gndr, age)"
   ]
  },
  {
   "cell_type": "markdown",
   "metadata": {
    "slideshow": {
     "slide_type": "slide"
    }
   },
   "source": [
    "# Classes in R\n",
    "\n",
    "As mentioned earlier, R differentiates between objects via the \"class\" of the object.\n",
    "\n",
    "The function `class()` is used to check the class of an object:"
   ]
  },
  {
   "cell_type": "code",
   "execution_count": 59,
   "metadata": {
    "slideshow": {
     "slide_type": "fragment"
    }
   },
   "outputs": [],
   "source": [
    "name = \"keenan\"\n",
    "year = 1964"
   ]
  },
  {
   "cell_type": "code",
   "execution_count": 60,
   "metadata": {
    "slideshow": {
     "slide_type": "fragment"
    }
   },
   "outputs": [
    {
     "data": {
      "text/html": [
       "'character'"
      ],
      "text/latex": [
       "'character'"
      ],
      "text/markdown": [
       "'character'"
      ],
      "text/plain": [
       "[1] \"character\""
      ]
     },
     "metadata": {},
     "output_type": "display_data"
    }
   ],
   "source": [
    "class(name)"
   ]
  },
  {
   "cell_type": "code",
   "execution_count": 61,
   "metadata": {
    "slideshow": {
     "slide_type": "fragment"
    }
   },
   "outputs": [
    {
     "data": {
      "text/html": [
       "'numeric'"
      ],
      "text/latex": [
       "'numeric'"
      ],
      "text/markdown": [
       "'numeric'"
      ],
      "text/plain": [
       "[1] \"numeric\""
      ]
     },
     "metadata": {},
     "output_type": "display_data"
    }
   ],
   "source": [
    "class(year)"
   ]
  },
  {
   "cell_type": "markdown",
   "metadata": {
    "slideshow": {
     "slide_type": "slide"
    }
   },
   "source": [
    "Remember that single variables/vectors can only contain values of the same class. The `class()` function therefore works on vectors too.\n",
    "\n",
    "The variable `tygrtr` (Retire permanently, age too young) seems like a variable that should contain numeric values (the age). However, looking at the first couple of rows, we see that it also contains text values:"
   ]
  },
  {
   "cell_type": "code",
   "execution_count": 62,
   "metadata": {
    "slideshow": {
     "slide_type": "fragment"
    }
   },
   "outputs": [
    {
     "data": {
      "text/html": [
       "<ol class=list-inline>\n",
       "\t<li>'Never too young'</li>\n",
       "\t<li>'67'</li>\n",
       "\t<li>NA</li>\n",
       "\t<li>'40'</li>\n",
       "\t<li>'50'</li>\n",
       "\t<li>'60'</li>\n",
       "</ol>\n"
      ],
      "text/latex": [
       "\\begin{enumerate*}\n",
       "\\item 'Never too young'\n",
       "\\item '67'\n",
       "\\item NA\n",
       "\\item '40'\n",
       "\\item '50'\n",
       "\\item '60'\n",
       "\\end{enumerate*}\n"
      ],
      "text/markdown": [
       "1. 'Never too young'\n",
       "2. '67'\n",
       "3. NA\n",
       "4. '40'\n",
       "5. '50'\n",
       "6. '60'\n",
       "\n",
       "\n"
      ],
      "text/plain": [
       "[1] \"Never too young\" \"67\"              NA                \"40\"             \n",
       "[5] \"50\"              \"60\"             "
      ]
     },
     "metadata": {},
     "output_type": "display_data"
    }
   ],
   "source": [
    "head(data$tygrtr)"
   ]
  },
  {
   "cell_type": "markdown",
   "metadata": {
    "slideshow": {
     "slide_type": "fragment"
    }
   },
   "source": [
    "When we check the class, we also see that the values are stored as text:"
   ]
  },
  {
   "cell_type": "code",
   "execution_count": 63,
   "metadata": {
    "slideshow": {
     "slide_type": "fragment"
    }
   },
   "outputs": [
    {
     "data": {
      "text/html": [
       "'character'"
      ],
      "text/latex": [
       "'character'"
      ],
      "text/markdown": [
       "'character'"
      ],
      "text/plain": [
       "[1] \"character\""
      ]
     },
     "metadata": {},
     "output_type": "display_data"
    }
   ],
   "source": [
    "class(data$tygrtr)"
   ]
  },
  {
   "cell_type": "markdown",
   "metadata": {
    "slideshow": {
     "slide_type": "slide"
    }
   },
   "source": [
    "This means that we cannot perform calculations with this variable:"
   ]
  },
  {
   "cell_type": "code",
   "execution_count": 64,
   "metadata": {
    "slideshow": {
     "slide_type": "fragment"
    }
   },
   "outputs": [
    {
     "data": {
      "text/html": [
       "NA"
      ],
      "text/latex": [
       "NA"
      ],
      "text/markdown": [
       "NA"
      ],
      "text/plain": [
       "[1] NA"
      ]
     },
     "metadata": {},
     "output_type": "display_data"
    }
   ],
   "source": [
    "max(data$tygrtr)"
   ]
  },
  {
   "cell_type": "markdown",
   "metadata": {
    "slideshow": {
     "slide_type": "slide"
    }
   },
   "source": [
    "## Class coercion\n",
    "\n",
    "In most cases, R can coerce values from one class to another. When doing this, values that are incompatible with the class are coded to missing (`NA`) so beware!\n",
    "\n",
    "Values can be coerced to character values with `as.character()`\n",
    "\n",
    "Values can be coerved to numeric values with `as.numeric()`\n",
    "\n",
    "Here we coerce the variable to be numeric (notice the warning):"
   ]
  },
  {
   "cell_type": "code",
   "execution_count": 65,
   "metadata": {
    "slideshow": {
     "slide_type": "fragment"
    }
   },
   "outputs": [
    {
     "name": "stderr",
     "output_type": "stream",
     "text": [
      "Warning message:\n",
      "\"NAs introduced by coercion\""
     ]
    }
   ],
   "source": [
    "data <- mutate(data, tygrtr = as.numeric(tygrtr))"
   ]
  },
  {
   "cell_type": "markdown",
   "metadata": {
    "slideshow": {
     "slide_type": "fragment"
    }
   },
   "source": [
    "Now the variable can be used in calculations:"
   ]
  },
  {
   "cell_type": "code",
   "execution_count": 66,
   "metadata": {
    "slideshow": {
     "slide_type": "fragment"
    }
   },
   "outputs": [
    {
     "data": {
      "text/html": [
       "88"
      ],
      "text/latex": [
       "88"
      ],
      "text/markdown": [
       "88"
      ],
      "text/plain": [
       "[1] 88"
      ]
     },
     "metadata": {},
     "output_type": "display_data"
    }
   ],
   "source": [
    "max(data$tygrtr, na.rm = TRUE)"
   ]
  },
  {
   "cell_type": "markdown",
   "metadata": {
    "slideshow": {
     "slide_type": "slide"
    }
   },
   "source": [
    "# EXERCISE 6: CLASS COERCION\n",
    "\n",
    "Create a variable containing the number of years the respondent lived at home before living separately for 2 months or more (`lvpntyr`)\n",
    "\n",
    "Note that the variable `lvpntyr` might not be ready for calculations right away. \n",
    "\n",
    "Remember that `as.numeric()` converts values to numeric."
   ]
  },
  {
   "cell_type": "markdown",
   "metadata": {
    "slideshow": {
     "slide_type": "subslide"
    }
   },
   "source": [
    "# EXERCISE 6: CLASS COERCION"
   ]
  },
  {
   "cell_type": "code",
   "execution_count": 67,
   "metadata": {
    "slideshow": {
     "slide_type": "fragment"
    }
   },
   "outputs": [
    {
     "name": "stderr",
     "output_type": "stream",
     "text": [
      "Warning message:\n",
      "\"NAs introduced by coercion\""
     ]
    },
    {
     "data": {
      "text/html": [
       "<table>\n",
       "<thead><tr><th scope=col>idno</th><th scope=col>gndr</th><th scope=col>yrbrn</th><th scope=col>lvpntyr</th><th scope=col>yrhome</th></tr></thead>\n",
       "<tbody>\n",
       "\t<tr><td> 110  </td><td>Male  </td><td>1949  </td><td>1968  </td><td>19    </td></tr>\n",
       "\t<tr><td> 705  </td><td>Male  </td><td>1958  </td><td>1976  </td><td>18    </td></tr>\n",
       "\t<tr><td>1327  </td><td>Male  </td><td>2000  </td><td>  NA  </td><td>NA    </td></tr>\n",
       "\t<tr><td>3760  </td><td>Male  </td><td>2002  </td><td>  NA  </td><td>NA    </td></tr>\n",
       "\t<tr><td>4658  </td><td>Female</td><td>1956  </td><td>1974  </td><td>18    </td></tr>\n",
       "\t<tr><td>5816  </td><td>Male  </td><td>1974  </td><td>1994  </td><td>20    </td></tr>\n",
       "</tbody>\n",
       "</table>\n"
      ],
      "text/latex": [
       "\\begin{tabular}{r|lllll}\n",
       " idno & gndr & yrbrn & lvpntyr & yrhome\\\\\n",
       "\\hline\n",
       "\t  110   & Male   & 1949   & 1968   & 19    \\\\\n",
       "\t  705   & Male   & 1958   & 1976   & 18    \\\\\n",
       "\t 1327   & Male   & 2000   &   NA   & NA    \\\\\n",
       "\t 3760   & Male   & 2002   &   NA   & NA    \\\\\n",
       "\t 4658   & Female & 1956   & 1974   & 18    \\\\\n",
       "\t 5816   & Male   & 1974   & 1994   & 20    \\\\\n",
       "\\end{tabular}\n"
      ],
      "text/markdown": [
       "\n",
       "| idno | gndr | yrbrn | lvpntyr | yrhome |\n",
       "|---|---|---|---|---|\n",
       "|  110   | Male   | 1949   | 1968   | 19     |\n",
       "|  705   | Male   | 1958   | 1976   | 18     |\n",
       "| 1327   | Male   | 2000   |   NA   | NA     |\n",
       "| 3760   | Male   | 2002   |   NA   | NA     |\n",
       "| 4658   | Female | 1956   | 1974   | 18     |\n",
       "| 5816   | Male   | 1974   | 1994   | 20     |\n",
       "\n"
      ],
      "text/plain": [
       "  idno gndr   yrbrn lvpntyr yrhome\n",
       "1  110 Male   1949  1968    19    \n",
       "2  705 Male   1958  1976    18    \n",
       "3 1327 Male   2000    NA    NA    \n",
       "4 3760 Male   2002    NA    NA    \n",
       "5 4658 Female 1956  1974    18    \n",
       "6 5816 Male   1974  1994    20    "
      ]
     },
     "metadata": {},
     "output_type": "display_data"
    }
   ],
   "source": [
    "data <- data %>%\n",
    "    mutate(lvpntyr = as.numeric(lvpntyr)) %>%\n",
    "    mutate(yrhome = lvpntyr - yrbrn)\n",
    "\n",
    "data %>%\n",
    "    select(idno, gndr, yrbrn, lvpntyr, yrhome) %>%\n",
    "    head(.)"
   ]
  },
  {
   "cell_type": "markdown",
   "metadata": {
    "slideshow": {
     "slide_type": "slide"
    }
   },
   "source": [
    "# Saving files \n",
    "\n",
    "The most important thing to save is the R script.\n",
    "\n",
    "Otherwise data can be exported - fx as a .csv file.\n",
    "\n",
    "Check your directory with `getwd`. Directory can be changed with `setwd`.\n",
    "\n",
    "We can save a .csv-file (comma-separated values) with `write.csv`:"
   ]
  },
  {
   "cell_type": "markdown",
   "metadata": {
    "slideshow": {
     "slide_type": "fragment"
    }
   },
   "source": [
    "```\n",
    "write.csv(data, file = \"my_ess2018dk.csv\", col.names = TRUE, row.names = FALSE)\n",
    "```"
   ]
  },
  {
   "cell_type": "markdown",
   "metadata": {
    "slideshow": {
     "slide_type": "fragment"
    }
   },
   "source": [
    "**Code breakdown:**\n",
    "\n",
    "| Code | Description |\n",
    "|:-----|:------------|\n",
    "|`data` | The object we want to save |\n",
    "|`file = \"my_ess2018dk.csv\"` | The filename - .csv for comma-separated values |\n",
    "|`col.names = TRUE` | Whether to store column names (in this case yes) |\n",
    "|`row.names = FALSE` | Whether to store row names (in this case no) |"
   ]
  },
  {
   "cell_type": "markdown",
   "metadata": {
    "slideshow": {
     "slide_type": "fragment"
    }
   },
   "source": [
    "A .csv-file is a multi-platform format and can be loaded by most statistical software (Excel, Stata, etc.)."
   ]
  },
  {
   "cell_type": "markdown",
   "metadata": {
    "slideshow": {
     "slide_type": "slide"
    }
   },
   "source": [
    "# Visuazliation in R - `ggplot2`\n",
    "\n",
    "`ggplot2` is a package for creating plots and visuazliation. Histograms, scatterplots, lineplots and so on."
   ]
  },
  {
   "cell_type": "code",
   "execution_count": 68,
   "metadata": {
    "slideshow": {
     "slide_type": "skip"
    }
   },
   "outputs": [],
   "source": [
    "options(repr.plot.width=8, repr.plot.height=4)"
   ]
  },
  {
   "cell_type": "code",
   "execution_count": 69,
   "metadata": {
    "slideshow": {
     "slide_type": "slide"
    }
   },
   "outputs": [
    {
     "name": "stderr",
     "output_type": "stream",
     "text": [
      "Registered S3 methods overwritten by 'ggplot2':\n",
      "  method         from \n",
      "  [.quosures     rlang\n",
      "  c.quosures     rlang\n",
      "  print.quosures rlang\n",
      "Warning message:\n",
      "\"Removed 13 rows containing missing values (geom_point).\""
     ]
    },
    {
     "data": {
      "image/png": "[encoded data removed]",
      "text/plain": [
       "plot without title"
      ]
     },
     "metadata": {},
     "output_type": "display_data"
    }
   ],
   "source": [
    "library(ggplot2)\n",
    "\n",
    "ggplot(data = data, aes(x = age, y = eduyrs, colour = gndr)) + \n",
    "    geom_point(size = 1, position = \"jitter\")"
   ]
  },
  {
   "cell_type": "markdown",
   "metadata": {
    "slideshow": {
     "slide_type": "subslide"
    }
   },
   "source": [
    "**Code breakdown:**\n",
    "\n",
    "| Code | Description |\n",
    "|:-----|:------------|\n",
    "|`data = data` | What data to use |\n",
    "|`aes()` | Sets the aesthetics - parameters for the plot |\n",
    "|`x = age` | Sets the x-variable - refers to `age` in the dataset `data` |\n",
    "|`y = eduyrs` | Sets the y-variable - refers to `eduyrs` in the dataset `data` |\n",
    "|`colour = gndr` | Optional colouring of values based on 3rd variable |\n",
    "|`+` | Indicates that the plot is not done |\n",
    "|`geom_point()`| Creates a scatterplot based on the parameters |\n",
    "|`size = 1` | Sets the size of the dots in the scatterplot |\n",
    "|`position = \"jitter\"` | Option to avoid points overlapping |"
   ]
  },
  {
   "cell_type": "markdown",
   "metadata": {
    "slideshow": {
     "slide_type": "slide"
    }
   },
   "source": [
    "# EXERCISE 7:  VISUALIZATION USING `ggplot2`\n",
    "\n",
    "1. Install the package `ggplot2` and load it.\n",
    "2. Create a scatterplot using the age variable on the x-axis and the variable for overtime hours on the y-axis using `geom_point`. (use arguement `position = \"jitter\"` to make it nicer).\n",
    "\n",
    "## Bonus exercise\n",
    "\n",
    "Outliers are reducing the usefulness of this visualization. Can you think of a way to exclude these?"
   ]
  },
  {
   "cell_type": "code",
   "execution_count": 70,
   "metadata": {
    "slideshow": {
     "slide_type": "subslide"
    }
   },
   "outputs": [
    {
     "name": "stderr",
     "output_type": "stream",
     "text": [
      "Warning message:\n",
      "\"Removed 131 rows containing missing values (geom_point).\""
     ]
    },
    {
     "data": {
      "image/png": "[encoded data removed]",
      "text/plain": [
       "plot without title"
      ]
     },
     "metadata": {},
     "output_type": "display_data"
    }
   ],
   "source": [
    "ggplot(data = data, aes(x = age, y = overthrs, colour = gndr)) + \n",
    "    geom_point(size = 1, position = \"jitter\")"
   ]
  },
  {
   "cell_type": "code",
   "execution_count": 71,
   "metadata": {
    "slideshow": {
     "slide_type": "subslide"
    }
   },
   "outputs": [
    {
     "data": {
      "image/png": "[encoded data removed]",
      "text/plain": [
       "plot without title"
      ]
     },
     "metadata": {},
     "output_type": "display_data"
    }
   ],
   "source": [
    "data %>% # Bonus\n",
    "    filter(overthrs < 50) %>%\n",
    "    ggplot(aes(x = age, y = overthrs, colour = gndr)) + \n",
    "    geom_point(size = 1, position = \"jitter\")"
   ]
  }
 ],
 "metadata": {
  "celltoolbar": "Slideshow",
  "kernelspec": {
   "display_name": "R",
   "language": "R",
   "name": "ir"
  },
  "language_info": {
   "codemirror_mode": "r",
   "file_extension": ".r",
   "mimetype": "text/x-r-source",
   "name": "R",
   "pygments_lexer": "r",
   "version": "4.1.1"
  }
 },
 "nbformat": 4,
 "nbformat_minor": 4
}
