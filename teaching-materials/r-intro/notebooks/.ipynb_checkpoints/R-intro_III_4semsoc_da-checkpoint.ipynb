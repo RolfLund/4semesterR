{
 "cells": [
  {
   "cell_type": "code",
   "execution_count": 24,
   "metadata": {},
   "outputs": [
    {
     "name": "stderr",
     "output_type": "stream",
     "text": [
      "\n",
      "Vedhæfter pakke: 'dplyr'\n",
      "\n",
      "\n",
      "De følgende objekter er maskerede fra 'package:stats':\n",
      "\n",
      "    filter, lag\n",
      "\n",
      "\n",
      "De følgende objekter er maskerede fra 'package:base':\n",
      "\n",
      "    intersect, setdiff, setequal, union\n",
      "\n",
      "\n",
      "\u001b[1mRows: \u001b[22m\u001b[34m1285\u001b[39m \u001b[1mColumns: \u001b[22m\u001b[34m17\u001b[39m\n",
      "\n",
      "\u001b[36m--\u001b[39m \u001b[1mColumn specification\u001b[22m \u001b[36m------------------------------------------------------------------------------------------------\u001b[39m\n",
      "\u001b[1mDelimiter:\u001b[22m \",\"\n",
      "\u001b[31mchr\u001b[39m  (7): vote, prtvtddk, health, lvpntyr, tygrtr, gndr, edlvddk\n",
      "\u001b[32mdbl\u001b[39m (10): idno, netustm, ppltrst, yrbrn, eduyrs, wkhct, wkhtot, grspnum, frl...\n",
      "\n",
      "\n",
      "\u001b[36mi\u001b[39m Use \u001b[30m\u001b[47m\u001b[30m\u001b[47m`spec()`\u001b[47m\u001b[30m\u001b[49m\u001b[39m to retrieve the full column specification for this data.\n",
      "\u001b[36mi\u001b[39m Specify the column types or set \u001b[30m\u001b[47m\u001b[30m\u001b[47m`show_col_types = FALSE`\u001b[47m\u001b[30m\u001b[49m\u001b[39m to quiet this message.\n",
      "\n"
     ]
    }
   ],
   "source": [
    "library(readr)\n",
    "library(dplyr)\n",
    "\n",
    "ess18 <- read_csv(\"https://github.com/RolfLund/4semesterR/raw/master/teaching-materials/r-intro/datasets/ESS2018DK_subset.csv\")"
   ]
  },
  {
   "cell_type": "code",
   "execution_count": 2,
   "metadata": {},
   "outputs": [
    {
     "data": {
      "text/html": [
       "<table class=\"dataframe\">\n",
       "<caption>A tibble: 6 × 17</caption>\n",
       "<thead>\n",
       "\t<tr><th scope=col>idno</th><th scope=col>netustm</th><th scope=col>ppltrst</th><th scope=col>vote</th><th scope=col>prtvtddk</th><th scope=col>health</th><th scope=col>lvpntyr</th><th scope=col>tygrtr</th><th scope=col>gndr</th><th scope=col>yrbrn</th><th scope=col>edlvddk</th><th scope=col>eduyrs</th><th scope=col>wkhct</th><th scope=col>wkhtot</th><th scope=col>grspnum</th><th scope=col>frlgrsp</th><th scope=col>inwtm</th></tr>\n",
       "\t<tr><th scope=col>&lt;dbl&gt;</th><th scope=col>&lt;dbl&gt;</th><th scope=col>&lt;dbl&gt;</th><th scope=col>&lt;chr&gt;</th><th scope=col>&lt;chr&gt;</th><th scope=col>&lt;chr&gt;</th><th scope=col>&lt;chr&gt;</th><th scope=col>&lt;chr&gt;</th><th scope=col>&lt;chr&gt;</th><th scope=col>&lt;dbl&gt;</th><th scope=col>&lt;chr&gt;</th><th scope=col>&lt;dbl&gt;</th><th scope=col>&lt;dbl&gt;</th><th scope=col>&lt;dbl&gt;</th><th scope=col>&lt;dbl&gt;</th><th scope=col>&lt;dbl&gt;</th><th scope=col>&lt;dbl&gt;</th></tr>\n",
       "</thead>\n",
       "<tbody>\n",
       "\t<tr><td> 5816</td><td> 90</td><td>7</td><td>Yes</td><td>SF Socialistisk Folkeparti - Socialist People's Party</td><td>Good    </td><td>1994</td><td>60</td><td>Male  </td><td>1974</td><td>Mellemlang videregående uddannelse af 3-4 års varighed. Professionsbachelorer,</td><td>35</td><td>37</td><td>37</td><td>37000</td><td>35000</td><td>61</td></tr>\n",
       "\t<tr><td> 7251</td><td>300</td><td>5</td><td>Yes</td><td>Dansk Folkeparti - Danish People's Party             </td><td>Fair    </td><td>1993</td><td>40</td><td>Female</td><td>1975</td><td>Faglig uddannelse (håndværk, handel, landbrug mv.), F.eks. Faglærte, Social-  </td><td>13</td><td>32</td><td>34</td><td>22000</td><td>30000</td><td>68</td></tr>\n",
       "\t<tr><td> 7887</td><td>360</td><td>8</td><td>Yes</td><td>Socialdemokratiet - The Social democrats             </td><td>Fair    </td><td>1983</td><td>55</td><td>Male  </td><td>1958</td><td>Lang videregående uddannelse. Kandidatuddannelser af 5.-6. års varighed, F.eks</td><td>25</td><td>39</td><td>39</td><td>36000</td><td>42000</td><td>89</td></tr>\n",
       "\t<tr><td> 9607</td><td>540</td><td>9</td><td>Yes</td><td>Alternativet - The Alternative                       </td><td>Good    </td><td>1982</td><td>64</td><td>Female</td><td>1964</td><td>Mellemlang videregående uddannelse af 3-4 års varighed. Professionsbachelorer,</td><td>13</td><td>32</td><td>34</td><td>32000</td><td>   NA</td><td>50</td></tr>\n",
       "\t<tr><td>11688</td><td> NA</td><td>5</td><td>Yes</td><td>Socialdemokratiet - The Social democrats             </td><td>Very bad</td><td>1968</td><td>50</td><td>Female</td><td>1952</td><td>Faglig uddannelse (håndværk, handel, landbrug mv.), F.eks. Faglærte, Social-  </td><td> 2</td><td>37</td><td>37</td><td>   NA</td><td>   NA</td><td>77</td></tr>\n",
       "\t<tr><td>12355</td><td>120</td><td>5</td><td>Yes</td><td>Socialdemokratiet - The Social democrats             </td><td>Fair    </td><td>1987</td><td>60</td><td>Male  </td><td>1963</td><td>Faglig uddannelse (håndværk, handel, landbrug mv.), F.eks. Faglærte, Social-  </td><td>14</td><td>38</td><td>37</td><td>36000</td><td>38000</td><td>48</td></tr>\n",
       "</tbody>\n",
       "</table>\n"
      ],
      "text/latex": [
       "A tibble: 6 × 17\n",
       "\\begin{tabular}{lllllllllllllllll}\n",
       " idno & netustm & ppltrst & vote & prtvtddk & health & lvpntyr & tygrtr & gndr & yrbrn & edlvddk & eduyrs & wkhct & wkhtot & grspnum & frlgrsp & inwtm\\\\\n",
       " <dbl> & <dbl> & <dbl> & <chr> & <chr> & <chr> & <chr> & <chr> & <chr> & <dbl> & <chr> & <dbl> & <dbl> & <dbl> & <dbl> & <dbl> & <dbl>\\\\\n",
       "\\hline\n",
       "\t  5816 &  90 & 7 & Yes & SF Socialistisk Folkeparti - Socialist People's Party & Good     & 1994 & 60 & Male   & 1974 & Mellemlang videregående uddannelse af 3-4 års varighed. Professionsbachelorer, & 35 & 37 & 37 & 37000 & 35000 & 61\\\\\n",
       "\t  7251 & 300 & 5 & Yes & Dansk Folkeparti - Danish People's Party              & Fair     & 1993 & 40 & Female & 1975 & Faglig uddannelse (håndværk, handel, landbrug mv.), F.eks. Faglærte, Social-   & 13 & 32 & 34 & 22000 & 30000 & 68\\\\\n",
       "\t  7887 & 360 & 8 & Yes & Socialdemokratiet - The Social democrats              & Fair     & 1983 & 55 & Male   & 1958 & Lang videregående uddannelse. Kandidatuddannelser af 5.-6. års varighed, F.eks & 25 & 39 & 39 & 36000 & 42000 & 89\\\\\n",
       "\t  9607 & 540 & 9 & Yes & Alternativet - The Alternative                        & Good     & 1982 & 64 & Female & 1964 & Mellemlang videregående uddannelse af 3-4 års varighed. Professionsbachelorer, & 13 & 32 & 34 & 32000 &    NA & 50\\\\\n",
       "\t 11688 &  NA & 5 & Yes & Socialdemokratiet - The Social democrats              & Very bad & 1968 & 50 & Female & 1952 & Faglig uddannelse (håndværk, handel, landbrug mv.), F.eks. Faglærte, Social-   &  2 & 37 & 37 &    NA &    NA & 77\\\\\n",
       "\t 12355 & 120 & 5 & Yes & Socialdemokratiet - The Social democrats              & Fair     & 1987 & 60 & Male   & 1963 & Faglig uddannelse (håndværk, handel, landbrug mv.), F.eks. Faglærte, Social-   & 14 & 38 & 37 & 36000 & 38000 & 48\\\\\n",
       "\\end{tabular}\n"
      ],
      "text/markdown": [
       "\n",
       "A tibble: 6 × 17\n",
       "\n",
       "| idno &lt;dbl&gt; | netustm &lt;dbl&gt; | ppltrst &lt;dbl&gt; | vote &lt;chr&gt; | prtvtddk &lt;chr&gt; | health &lt;chr&gt; | lvpntyr &lt;chr&gt; | tygrtr &lt;chr&gt; | gndr &lt;chr&gt; | yrbrn &lt;dbl&gt; | edlvddk &lt;chr&gt; | eduyrs &lt;dbl&gt; | wkhct &lt;dbl&gt; | wkhtot &lt;dbl&gt; | grspnum &lt;dbl&gt; | frlgrsp &lt;dbl&gt; | inwtm &lt;dbl&gt; |\n",
       "|---|---|---|---|---|---|---|---|---|---|---|---|---|---|---|---|---|\n",
       "|  5816 |  90 | 7 | Yes | SF Socialistisk Folkeparti - Socialist People's Party | Good     | 1994 | 60 | Male   | 1974 | Mellemlang videregående uddannelse af 3-4 års varighed. Professionsbachelorer, | 35 | 37 | 37 | 37000 | 35000 | 61 |\n",
       "|  7251 | 300 | 5 | Yes | Dansk Folkeparti - Danish People's Party              | Fair     | 1993 | 40 | Female | 1975 | Faglig uddannelse (håndværk, handel, landbrug mv.), F.eks. Faglærte, Social-   | 13 | 32 | 34 | 22000 | 30000 | 68 |\n",
       "|  7887 | 360 | 8 | Yes | Socialdemokratiet - The Social democrats              | Fair     | 1983 | 55 | Male   | 1958 | Lang videregående uddannelse. Kandidatuddannelser af 5.-6. års varighed, F.eks | 25 | 39 | 39 | 36000 | 42000 | 89 |\n",
       "|  9607 | 540 | 9 | Yes | Alternativet - The Alternative                        | Good     | 1982 | 64 | Female | 1964 | Mellemlang videregående uddannelse af 3-4 års varighed. Professionsbachelorer, | 13 | 32 | 34 | 32000 |    NA | 50 |\n",
       "| 11688 |  NA | 5 | Yes | Socialdemokratiet - The Social democrats              | Very bad | 1968 | 50 | Female | 1952 | Faglig uddannelse (håndværk, handel, landbrug mv.), F.eks. Faglærte, Social-   |  2 | 37 | 37 |    NA |    NA | 77 |\n",
       "| 12355 | 120 | 5 | Yes | Socialdemokratiet - The Social democrats              | Fair     | 1987 | 60 | Male   | 1963 | Faglig uddannelse (håndværk, handel, landbrug mv.), F.eks. Faglærte, Social-   | 14 | 38 | 37 | 36000 | 38000 | 48 |\n",
       "\n"
      ],
      "text/plain": [
       "  idno  netustm ppltrst vote\n",
       "1  5816  90     7       Yes \n",
       "2  7251 300     5       Yes \n",
       "3  7887 360     8       Yes \n",
       "4  9607 540     9       Yes \n",
       "5 11688  NA     5       Yes \n",
       "6 12355 120     5       Yes \n",
       "  prtvtddk                                              health   lvpntyr tygrtr\n",
       "1 SF Socialistisk Folkeparti - Socialist People's Party Good     1994    60    \n",
       "2 Dansk Folkeparti - Danish People's Party              Fair     1993    40    \n",
       "3 Socialdemokratiet - The Social democrats              Fair     1983    55    \n",
       "4 Alternativet - The Alternative                        Good     1982    64    \n",
       "5 Socialdemokratiet - The Social democrats              Very bad 1968    50    \n",
       "6 Socialdemokratiet - The Social democrats              Fair     1987    60    \n",
       "  gndr   yrbrn\n",
       "1 Male   1974 \n",
       "2 Female 1975 \n",
       "3 Male   1958 \n",
       "4 Female 1964 \n",
       "5 Female 1952 \n",
       "6 Male   1963 \n",
       "  edlvddk                                                                       \n",
       "1 Mellemlang videregående uddannelse af 3-4 års varighed. Professionsbachelorer,\n",
       "2 Faglig uddannelse (håndværk, handel, landbrug mv.), F.eks. Faglærte, Social-  \n",
       "3 Lang videregående uddannelse. Kandidatuddannelser af 5.-6. års varighed, F.eks\n",
       "4 Mellemlang videregående uddannelse af 3-4 års varighed. Professionsbachelorer,\n",
       "5 Faglig uddannelse (håndværk, handel, landbrug mv.), F.eks. Faglærte, Social-  \n",
       "6 Faglig uddannelse (håndværk, handel, landbrug mv.), F.eks. Faglærte, Social-  \n",
       "  eduyrs wkhct wkhtot grspnum frlgrsp inwtm\n",
       "1 35     37    37     37000   35000   61   \n",
       "2 13     32    34     22000   30000   68   \n",
       "3 25     39    39     36000   42000   89   \n",
       "4 13     32    34     32000      NA   50   \n",
       "5  2     37    37        NA      NA   77   \n",
       "6 14     38    37     36000   38000   48   "
      ]
     },
     "metadata": {},
     "output_type": "display_data"
    }
   ],
   "source": [
    "head(ess18)"
   ]
  },
  {
   "cell_type": "markdown",
   "metadata": {},
   "source": [
    "# Introduktion til R (del 3)\n",
    "\n",
    "## Program\n",
    "- Statistiske modeller i R\n",
    "- Værdirækker (vectors) i R\n",
    "- Output af model\n",
    "- Visualisering med `ggplot2`"
   ]
  },
  {
   "cell_type": "markdown",
   "metadata": {
    "tags": []
   },
   "source": [
    "## Statistiske modeller i R\n",
    "\n",
    "Der er to dele i at få resultaterne af en statistisk model frem i R:\n",
    "\n",
    "1. Specificér modellen (fx med en funktion som `lm()` for lineære modeller) \n",
    "2. Få koefficienter og resultater fra modellen (med brug af funktionen `summary()`) \n",
    "\n",
    "### Specificér modellen\n",
    "\n",
    "R indeholder flere funktioner til at lave statistiske modeller. Hvilken model der skal bruges, afhænger af, hvilken type af statistisk model, som man skal lave.\n",
    "\n",
    "Funktionen `lm()` bruges fx til at specificere en lineær model (lineære sammenhænge - lineær og multipel lineær regression). Man specificerer en model ved at angive formlen for den sammenhæng, som man vil modellere.\n",
    "\n",
    "Formlen for en multipel lineær regression med tre uafhængige variable er fx:\n",
    "\n",
    " $y = \\beta_{0} + \\beta_{1} x_{1} + \\beta_{2}x_{2} + \\beta_{3}x_{3}$\n",
    "\n",
    "I R skrives denne formel som (læg mærke til at skæringspunktet med y-aksen ($\\beta_{0}$) ikke skal skrives ind, da denne bestemmes af modellen):\n",
    "\n",
    "`y ~ x1 + x2 + x3`\n",
    "\n",
    "Når man specificerer modellen i R, bruges variabelnavne/kolonnenavne fra data i formlen. Derudover specificeres det, hvilken dataframe, som variablerne tages fra.\n",
    "\n",
    "I nedenstående specificeres en model med selvrapporteret månedsløn (`grspnum`) som afhængig variabel og antal års uddannelse (`eduyrs`) og arbejdstimer om ugen (`wkhtot`) som uafhængige variable:"
   ]
  },
  {
   "cell_type": "code",
   "execution_count": 3,
   "metadata": {},
   "outputs": [],
   "source": [
    "grsp_model <- lm(grspnum ~ eduyrs + wkhtot, data = ess18)"
   ]
  },
  {
   "cell_type": "markdown",
   "metadata": {},
   "source": [
    "### Resultater fra model\n",
    "\n",
    "Læg mærke til at man kun får begrænsede resultater ved at blot at kalde modellen:"
   ]
  },
  {
   "cell_type": "code",
   "execution_count": 5,
   "metadata": {},
   "outputs": [
    {
     "data": {
      "text/plain": [
       "\n",
       "Call:\n",
       "lm(formula = grspnum ~ eduyrs + wkhtot, data = ess18)\n",
       "\n",
       "Coefficients:\n",
       "(Intercept)       eduyrs       wkhtot  \n",
       "    -3668.7        891.1        888.4  \n"
      ]
     },
     "metadata": {},
     "output_type": "display_data"
    }
   ],
   "source": [
    "grsp_model"
   ]
  },
  {
   "cell_type": "markdown",
   "metadata": {},
   "source": [
    "For at få alle relevante resultater fra modellen (koefficienter, $R^2$, osv.) bruges funktionen `summary()`:"
   ]
  },
  {
   "cell_type": "code",
   "execution_count": 6,
   "metadata": {},
   "outputs": [
    {
     "data": {
      "text/plain": [
       "\n",
       "Call:\n",
       "lm(formula = grspnum ~ eduyrs + wkhtot, data = ess18)\n",
       "\n",
       "Residuals:\n",
       "    Min      1Q  Median      3Q     Max \n",
       " -64614  -16639  -10324   -1448 2955649 \n",
       "\n",
       "Coefficients:\n",
       "            Estimate Std. Error t value Pr(>|t|)  \n",
       "(Intercept)  -3668.7    20645.3  -0.178   0.8590  \n",
       "eduyrs         891.1      856.4   1.041   0.2984  \n",
       "wkhtot         888.4      458.2   1.939   0.0529 .\n",
       "---\n",
       "Signif. codes:  0 '***' 0.001 '**' 0.01 '*' 0.05 '.' 0.1 ' ' 1\n",
       "\n",
       "Residual standard error: 121600 on 707 degrees of freedom\n",
       "  (575 observations deleted due to missingness)\n",
       "Multiple R-squared:  0.007698,\tAdjusted R-squared:  0.004891 \n",
       "F-statistic: 2.742 on 2 and 707 DF,  p-value: 0.06511\n"
      ]
     },
     "metadata": {},
     "output_type": "display_data"
    }
   ],
   "source": [
    "summary(grsp_model)"
   ]
  },
  {
   "cell_type": "markdown",
   "metadata": {},
   "source": [
    "## Kategoriske variable (factors) i modeller\n",
    "\n",
    "Som standard vil R behandle tekstvariable som *unordered factors*; altså nominalt skalerede variable.\n",
    "\n",
    "I nedenstående tilføjes variablen `vote` (hvorvidt man stemte til sidste folketingsvalg) til modellen fra før. `vote` er ikke kodet til factor: "
   ]
  },
  {
   "cell_type": "code",
   "execution_count": 21,
   "metadata": {},
   "outputs": [
    {
     "data": {
      "text/plain": [
       "\n",
       "Call:\n",
       "lm(formula = grspnum ~ eduyrs + wkhtot + vote, data = ess18)\n",
       "\n",
       "Residuals:\n",
       "    Min      1Q  Median      3Q     Max \n",
       " -62657  -17091  -10043   -1996 2954310 \n",
       "\n",
       "Coefficients:\n",
       "                         Estimate Std. Error t value Pr(>|t|)\n",
       "(Intercept)              -11421.9    29407.5  -0.388    0.698\n",
       "eduyrs                      796.2      867.1   0.918    0.359\n",
       "wkhtot                      788.2      481.1   1.638    0.102\n",
       "voteNot eligible to vote   2542.6    28612.8   0.089    0.929\n",
       "voteYes                   14414.7    23405.2   0.616    0.538\n",
       "\n",
       "Residual standard error: 121800 on 704 degrees of freedom\n",
       "  (576 observations deleted due to missingness)\n",
       "Multiple R-squared:  0.0087,\tAdjusted R-squared:  0.003068 \n",
       "F-statistic: 1.545 on 4 and 704 DF,  p-value: 0.1875\n"
      ]
     },
     "metadata": {},
     "output_type": "display_data"
    }
   ],
   "source": [
    "grsp_vote_model <- lm(grspnum ~ eduyrs + wkhtot + vote, data = ess18)\n",
    "summary(grsp_vote_model)"
   ]
  },
  {
   "cell_type": "markdown",
   "metadata": {},
   "source": [
    "*Når man ikke har defineret en kategorisk som en factor, tager R kategorien, der kommer først alfabetisk, som referencekategori!*\n",
    "\n",
    "Dette kan ændres ved at definere variablen som factor og sætte referencekategorien. Herunder sættes \"Yes\" som referencekategori ved brug af funktionen `relevel`. Derefter dannes modellen igen:"
   ]
  },
  {
   "cell_type": "code",
   "execution_count": 30,
   "metadata": {},
   "outputs": [],
   "source": [
    "ess18 <- ess18 %>%\n",
    "    mutate(vote = as.factor(vote),\n",
    "           vote = relevel(vote, ref = \"Yes\")\n",
    "           )"
   ]
  },
  {
   "cell_type": "code",
   "execution_count": 31,
   "metadata": {},
   "outputs": [
    {
     "data": {
      "text/plain": [
       "\n",
       "Call:\n",
       "lm(formula = grspnum ~ eduyrs + wkhtot + vote, data = ess18)\n",
       "\n",
       "Residuals:\n",
       "    Min      1Q  Median      3Q     Max \n",
       " -62657  -17091  -10043   -1996 2954310 \n",
       "\n",
       "Coefficients:\n",
       "                         Estimate Std. Error t value Pr(>|t|)\n",
       "(Intercept)                2992.8    22232.6   0.135    0.893\n",
       "eduyrs                      796.2      867.1   0.918    0.359\n",
       "wkhtot                      788.2      481.1   1.638    0.102\n",
       "voteNo                   -14414.7    23405.2  -0.616    0.538\n",
       "voteNot eligible to vote -11872.2    18477.7  -0.643    0.521\n",
       "\n",
       "Residual standard error: 121800 on 704 degrees of freedom\n",
       "  (576 observations deleted due to missingness)\n",
       "Multiple R-squared:  0.0087,\tAdjusted R-squared:  0.003068 \n",
       "F-statistic: 1.545 on 4 and 704 DF,  p-value: 0.1875\n"
      ]
     },
     "metadata": {},
     "output_type": "display_data"
    }
   ],
   "source": [
    "grsp_vote_model <- lm(grspnum ~ eduyrs + wkhtot + vote, data = ess18)\n",
    "summary(grsp_vote_model)"
   ]
  },
  {
   "cell_type": "markdown",
   "metadata": {},
   "source": [
    "## Værdirækker (vectors) i R\n",
    "\n",
    "En basal datastruktur i R er en *vector*.\n",
    "\n",
    "En *vector* er en række af værdier af den samme type (fx en række tal, en række ord osv.). \n",
    "\n",
    "En *vector* svarer til en enkelt variabel/kolonne i en dataframe, og man arbejder med vectors på samme måde, som man arbejder med enkelte kolonner (samme funktioner kan bruges).\n",
    "\n",
    "*Vectors* dukker op i mange forskellige sammenhænge i R, da de bruges hver gang, at man skal specificere en samling af flere værdier.\n",
    "\n",
    "**Dan en vector**\n",
    "\n",
    "En vector dannes med `c()`, hvor værdierne adskilles med `,`:"
   ]
  },
  {
   "cell_type": "code",
   "execution_count": 1,
   "metadata": {},
   "outputs": [],
   "source": [
    "numbers <- c(2, 9, 11, 7, 12, 14, 4)"
   ]
  },
  {
   "cell_type": "markdown",
   "metadata": {},
   "source": [
    "`numbers` er nu en talrække, som der kan laves beregninger på, ligesom med en variabel i en dataframe:"
   ]
  },
  {
   "cell_type": "code",
   "execution_count": 2,
   "metadata": {},
   "outputs": [
    {
     "data": {
      "text/html": [
       "8.42857142857143"
      ],
      "text/latex": [
       "8.42857142857143"
      ],
      "text/markdown": [
       "8.42857142857143"
      ],
      "text/plain": [
       "[1] 8.428571"
      ]
     },
     "metadata": {},
     "output_type": "display_data"
    }
   ],
   "source": [
    "mean(numbers)"
   ]
  },
  {
   "cell_type": "code",
   "execution_count": 3,
   "metadata": {},
   "outputs": [
    {
     "data": {
      "text/html": [
       "4.35343323738644"
      ],
      "text/latex": [
       "4.35343323738644"
      ],
      "text/markdown": [
       "4.35343323738644"
      ],
      "text/plain": [
       "[1] 4.353433"
      ]
     },
     "metadata": {},
     "output_type": "display_data"
    }
   ],
   "source": [
    "sd(numbers)"
   ]
  },
  {
   "cell_type": "markdown",
   "metadata": {
    "tags": []
   },
   "source": [
    "## Output af model (med `stargazer`)\n",
    "\n",
    "Outputtet i R konsollen af en model er ikke kønt og egner sig dårligt til at fremstille. Der findes dog en række måder at lave pæne outputs af modeller fra R. En god pakke til dette er pakken `stargazer` (https://cran.r-project.org/web/packages/stargazer/stargazer.pdf).\n",
    "\n",
    "`stargazer` kan tage forskellige R objekter (herunder modeller) og lave op til outputs, hvor de enkelte dele kan tilpasses. `stargazer` tillader bl.a. at eksportere output fra en model til en HTML fil. Indholdet af en HTML-fil kan kopieres direkte over i programmer som Microsoft Word.\n",
    "\n",
    "For at danne en output-fil af en model med `stargazer` kræves som minimum: \n",
    "- En model (det objekt hvor modellen er gemt - ikke outputtet af `summary()`)\n",
    "- Bestemme filtype (`stargazer` kan danne forskellige filtyper, som kan styres med argumentet `type`. `type = \"HTML\"` danner et HTML-output)\n",
    "- Angive filnavn, som outputtet skal gemmes til (dette gøres med argumentet `out = <filnavn>`)\n",
    "\n",
    "**OBS! Output-filer fra `stargazer` gemmes i din arbejdssti**\n",
    "\n",
    "`stargazer` gemmer filen i den nuværende arbejdssti (se sektion om [filstier](https://rolflund.github.io/4semesterR/pakker-og-rstudio/stier/)). Tjek evt. den nuværende arbejdssti med `getwd()`, inden du bruger `stargazer`.\n",
    "\n",
    "### Eksempel på brug af `stargazer`\n",
    "\n",
    "Herunder dannes output af en af ovenstående model med `stargazer()`:\n",
    "\n",
    "```R\n",
    "stargazer(grsp_model, type = \"html\", out = \"grsp_model.html\")\n",
    "```\n",
    "\n",
    "Outputtet ser ud som nedenstående, når fx åbnet i en browser:\n",
    "\n",
    "{{< rawhtml >}}\n",
    "<table style=\"text-align:center\"><tr><td colspan=\"2\" style=\"border-bottom: 1px solid black\"></td></tr><tr><td style=\"text-align:left\"></td><td><em>Dependent variable:</em></td></tr>\n",
    "<tr><td></td><td colspan=\"1\" style=\"border-bottom: 1px solid black\"></td></tr>\n",
    "<tr><td style=\"text-align:left\"></td><td>grspnum</td></tr>\n",
    "<tr><td colspan=\"2\" style=\"border-bottom: 1px solid black\"></td></tr><tr><td style=\"text-align:left\">eduyrs</td><td>891.145</td></tr>\n",
    "<tr><td style=\"text-align:left\"></td><td>(856.409)</td></tr>\n",
    "<tr><td style=\"text-align:left\"></td><td></td></tr>\n",
    "<tr><td style=\"text-align:left\">wkhtot</td><td>888.389<sup>*</sup></td></tr>\n",
    "<tr><td style=\"text-align:left\"></td><td>(458.219)</td></tr>\n",
    "<tr><td style=\"text-align:left\"></td><td></td></tr>\n",
    "<tr><td style=\"text-align:left\">Constant</td><td>-3,668.748</td></tr>\n",
    "<tr><td style=\"text-align:left\"></td><td>(20,645.310)</td></tr>\n",
    "<tr><td style=\"text-align:left\"></td><td></td></tr>\n",
    "<tr><td colspan=\"2\" style=\"border-bottom: 1px solid black\"></td></tr><tr><td style=\"text-align:left\">Observations</td><td>710</td></tr>\n",
    "<tr><td style=\"text-align:left\">R<sup>2</sup></td><td>0.008</td></tr>\n",
    "<tr><td style=\"text-align:left\">Adjusted R<sup>2</sup></td><td>0.005</td></tr>\n",
    "<tr><td style=\"text-align:left\">Residual Std. Error</td><td>121,581.200 (df = 707)</td></tr>\n",
    "<tr><td style=\"text-align:left\">F Statistic</td><td>2.742<sup>*</sup> (df = 2; 707)</td></tr>\n",
    "<tr><td colspan=\"2\" style=\"border-bottom: 1px solid black\"></td></tr><tr><td style=\"text-align:left\"><em>Note:</em></td><td style=\"text-align:right\"><sup>*</sup>p<0.1; <sup>**</sup>p<0.05; <sup>***</sup>p<0.01</td></tr>\n",
    "</table>\n",
    "{{< /rawhtml >}}\n",
    "\n",
    "Outputtet kan føres over i Word ved at markere tabellen og kopiere over. Word skulle gerne genkende automatisk, at det er en tabel, hvorefter den kan redigeres som en hvilken som helst anden tabel i Word.\n",
    "\n",
    "### Tilpasning af output med `stargazer`\n",
    "\n",
    "`stargazer` indeholder ufatteligt mange tilpasningsmuligheder, som ændres ved at referere til de forskellige argumenter. \n",
    "\n",
    "Selvom man kan tilpasse outputtet i fx Word, efter at det er eksporteret, så frarådes det *på det kraftigste* at rette i værdier og stjernenotation for signifikansniveau manuelt i fx Word, da der er stor risiko for at lave fejl.\n",
    "Disse bør i stedet tilpasses i `stargazer` \n",
    "\n",
    "Herunder ses et brug af `stargazer`, der bruger nogen af de mange tilpasningsmuligheder (forklaring under koden:\n",
    "\n",
    "```R\n",
    "\n",
    "# Eksport af én model med tilpasninger\n",
    "stargazer(grsp_model,   # hvilken model skal ud?\n",
    "          type = \"html\",  # hvilken filtype skal modellen ud som?\n",
    "          out = \"grsp_model2.html\", # hvad skal filen med modellen gemmes som? (husk arbejdssti/working directory)\n",
    "          star.cutoffs = c(0.05, 0.01, 0.001), # sæt skæringsværdier for stjernemarkeringer for p-værdier\n",
    "          decimal.mark = \",\", # ændr decimal-adskiller\n",
    "          digit.separator = \".\", # ændr tusinde-adskiller\n",
    "          covariate.labels = c(\"Antal års uddannelse\", \"Arbejdstimer om ugen\"), # mærkater for uafhængige variable (obs på rækkefølge - samme som i model)\n",
    "          dep.var.labels.include = FALSE, # udelad mærkat for afhængig variabel\n",
    "          dep.var.caption = \"\", # udelad overskrift for afhængig variabel\n",
    "          digits = 2, # Antal decimaler\n",
    "          title = \"Effekt af års uddannelse og arbejdstid på løn\") # titel\n",
    "```\n",
    "\n",
    "---\n",
    "**Forklaring**\n",
    "\n",
    "- `type`: Hvilken filtype skal output gemmes som? (anbefales at bruge \"html\")\n",
    "\n",
    "- `out`: Hvad skal filen hedde? (Husk at ende med \".html\", hvis `type = \"html\"` - vær desuden obs på arbejdssti (`getwd()`)\n",
    "\n",
    "- `star.cutoffs`: Skæringsværider for p-værdier til stjernenotation. Specificeres som værdiserie/vector med tre tal, svarnede til værdi for hhv. \\*, \\*\\*, \\*\\*\\* (fx `c(0.05, 0.01, 0.001)`)\n",
    "\n",
    "- `decimal.mark`: Sæt hvilket tegn, der skal adskille decimaler\n",
    "\n",
    "- `digit.separator`: Sæt hvilket tegn, der skal adskille tusinde\n",
    "\n",
    "- `digits`: Bestemt antal decimaler\n",
    "\n",
    "- `covariate.labels`: Ændre mærkater for uafhængige variable. Skrives som en værdiserie/vector (`c()`). Skal skrives i samme rækkefølge, som de er skrevet i modellen.\n",
    "\n",
    "- `dep.var.labels.include`: Sæt hvorvidt mærkat for afhængig variable skal inkluderes (logisk værdi, `TRUE`/`FALSE`)\n",
    "\n",
    "- `dep.var.caption`: Sæt overskrift for afhængig variabel (udelad ved at angive  `\"\"`)\n",
    "\n",
    "- `title`: Giv output en overskrift\n",
    "\n",
    "---\n",
    "\n",
    "Output ser ud som nedenstående, når åbnet i browser:\n",
    "\n",
    "{{< rawhtml >}}\n",
    "\n",
    "<table style=\"text-align:center\"><caption><strong>Effekt af års uddannelse og arbejdstid på løn</strong></caption>\n",
    "<tr><td colspan=\"2\" style=\"border-bottom: 1px solid black\"></td></tr><tr><td style=\"text-align:left\"></td><td><em>Dependent variable:</em></td></tr>\n",
    "<tr><td></td><td colspan=\"1\" style=\"border-bottom: 1px solid black\"></td></tr>\n",
    "<tr><td colspan=\"2\" style=\"border-bottom: 1px solid black\"></td></tr><tr><td style=\"text-align:left\">Antal års uddannelse</td><td>891,15</td></tr>\n",
    "<tr><td style=\"text-align:left\"></td><td>(856,41)</td></tr>\n",
    "<tr><td style=\"text-align:left\"></td><td></td></tr>\n",
    "<tr><td style=\"text-align:left\">Arbejdstimer om ugen</td><td>888,39</td></tr>\n",
    "<tr><td style=\"text-align:left\"></td><td>(458,22)</td></tr>\n",
    "<tr><td style=\"text-align:left\"></td><td></td></tr>\n",
    "<tr><td style=\"text-align:left\">Constant</td><td>-3.668,75</td></tr>\n",
    "<tr><td style=\"text-align:left\"></td><td>(20.645,31)</td></tr>\n",
    "<tr><td style=\"text-align:left\"></td><td></td></tr>\n",
    "<tr><td colspan=\"2\" style=\"border-bottom: 1px solid black\"></td></tr><tr><td style=\"text-align:left\">Observations</td><td>710</td></tr>\n",
    "<tr><td style=\"text-align:left\">R<sup>2</sup></td><td>0,01</td></tr>\n",
    "<tr><td style=\"text-align:left\">Adjusted R<sup>2</sup></td><td>0,005</td></tr>\n",
    "<tr><td style=\"text-align:left\">Residual Std. Error</td><td>121.581,20 (df = 707)</td></tr>\n",
    "<tr><td style=\"text-align:left\">F Statistic</td><td>2,74 (df = 2; 707)</td></tr>\n",
    "<tr><td colspan=\"2\" style=\"border-bottom: 1px solid black\"></td></tr><tr><td style=\"text-align:left\"><em>Note:</em></td><td style=\"text-align:right\"><sup>*</sup>p<0,05; <sup>**</sup>p<0,01; <sup>***</sup>p<0,001</td></tr>\n",
    "</table>\n",
    "\n",
    "{{< /rawhtml >}}"
   ]
  }
 ],
 "metadata": {
  "kernelspec": {
   "display_name": "R",
   "language": "R",
   "name": "ir"
  },
  "language_info": {
   "codemirror_mode": "r",
   "file_extension": ".r",
   "mimetype": "text/x-r-source",
   "name": "R",
   "pygments_lexer": "r",
   "version": "4.1.1"
  }
 },
 "nbformat": 4,
 "nbformat_minor": 4
}
