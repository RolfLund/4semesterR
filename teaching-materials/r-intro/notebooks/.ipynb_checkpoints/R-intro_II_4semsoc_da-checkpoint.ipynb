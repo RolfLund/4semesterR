{
 "cells": [
  {
   "cell_type": "code",
   "execution_count": 3,
   "metadata": {
    "slideshow": {
     "slide_type": "fragment"
    }
   },
   "outputs": [
    {
     "name": "stderr",
     "output_type": "stream",
     "text": [
      "\u001b[1mRows: \u001b[22m\u001b[34m1285\u001b[39m \u001b[1mColumns: \u001b[22m\u001b[34m17\u001b[39m\n",
      "\n",
      "\u001b[36m--\u001b[39m \u001b[1mColumn specification\u001b[22m \u001b[36m------------------------------------------------------------------------------------------------\u001b[39m\n",
      "\u001b[1mDelimiter:\u001b[22m \",\"\n",
      "\u001b[31mchr\u001b[39m  (7): vote, prtvtddk, health, lvpntyr, tygrtr, gndr, edlvddk\n",
      "\u001b[32mdbl\u001b[39m (10): idno, netustm, ppltrst, yrbrn, eduyrs, wkhct, wkhtot, grspnum, frl...\n",
      "\n",
      "\n",
      "\u001b[36mi\u001b[39m Use \u001b[30m\u001b[47m\u001b[30m\u001b[47m`spec()`\u001b[47m\u001b[30m\u001b[49m\u001b[39m to retrieve the full column specification for this data.\n",
      "\u001b[36mi\u001b[39m Specify the column types or set \u001b[30m\u001b[47m\u001b[30m\u001b[47m`show_col_types = FALSE`\u001b[47m\u001b[30m\u001b[49m\u001b[39m to quiet this message.\n",
      "\n"
     ]
    }
   ],
   "source": [
    "library(readr)\n",
    "\n",
    "ess18 <- read_csv(\"https://github.com/RolfLund/4semesterR/raw/master/teaching-materials/r-intro/datasets/ESS2018DK_subset.csv\")"
   ]
  },
  {
   "cell_type": "markdown",
   "metadata": {
    "slideshow": {
     "slide_type": "slide"
    }
   },
   "source": [
    "# Introduktion til R (del 2)\n",
    "\n",
    "*4. semester sociologi, 2022*"
   ]
  },
  {
   "cell_type": "markdown",
   "metadata": {},
   "source": [
    "## Program\n",
    "\n",
    "- Hvorfor er datahåndtering så vigtigt?\n",
    "- Datahåndtering og visualisering i R: Et eksempel\n",
    "- Subsetting (`filter` og `select`)\n",
    "- Nye variable og rekodning (`mutate`)\n",
    "- Kategoriske variable (\"factors\" i R)\n",
    "- Visualisering i R med `ggplot`\n",
    "\n",
    "#### Hvis vi når det\n",
    "- Lav dine egne funktioner i R\n",
    "- Opsummeringer af data med `group_by()` "
   ]
  },
  {
   "cell_type": "markdown",
   "metadata": {},
   "source": [
    "## HUSK!\n",
    "\n",
    "Al materiale fra i dag kan findes på kursussiden: https://rolflund.github.io/4semesterR/ (sektionerne \"Intro til R I\" og \"Intro til R II\")\n",
    "\n",
    "Bogen \"R for Data Science\" introducerer til datahåndtering og visualiseirng, og kan tilgås gratis online: https://r4ds.had.co.nz/\n",
    "\n",
    "<center><a href = \"https://r4ds.had.co.nz/\"> <img src=\"https://d33wubrfki0l68.cloudfront.net/b88ef926a004b0fce72b2526b0b5c4413666a4cb/24a30/cover.png\" width=\"200\"/></a></center>\n",
    "\n",
    "Brug Google (eller anden søgemaskine)!"
   ]
  },
  {
   "cell_type": "markdown",
   "metadata": {},
   "source": [
    "## Datahåndtering og visualisering i R: Et eksempel\n",
    "\n",
    "Herunder foretages en række datahåndteringer på European Social Survey 2018 delsættet. Vi bruger dagen i dag på at forstå de forskellige datahåndteringsfunktioner (primært fra `tidyverse` - specifikt pakken `dplyr`)."
   ]
  },
  {
   "cell_type": "code",
   "execution_count": 11,
   "metadata": {
    "slideshow": {
     "slide_type": "fragment"
    }
   },
   "outputs": [],
   "source": [
    "library(dplyr)\n",
    "\n",
    "ess18_wh <- ess18 %>%\n",
    "    mutate(age = 2018 - yrbrn) %>%\n",
    "    filter(age >= 25) %>%\n",
    "    filter(!(is.na(wkhtot))) %>%\n",
    "    mutate(wkhtot_cat = case_when(\n",
    "        wkhtot == 37 ~ \"37 timer om ugen\",\n",
    "        wkhtot < 37 ~ \"Mindre end 37 timer\",\n",
    "        wkhtot > 37 ~ \"Mere end 37 timer\")\n",
    "          ) %>%\n",
    "    mutate(wkhtot_cat = factor(wkhtot_cat, levels = c(\"Mindre end 37 timer\", \"37 timer om ugen\", \"Mere end 37 timer\"), \n",
    "                               ordered = TRUE)) %>%\n",
    "    mutate(gndr = factor(gndr, levels = c(\"Male\", \"Female\"), labels = c(\"Mand\", \"Kvinde\"))) %>%\n",
    "    select(gndr, age, wkhtot, wkhtot_cat, netustm)"
   ]
  },
  {
   "cell_type": "markdown",
   "metadata": {},
   "source": [
    "Herunder dannes et barplot baseret på det sæt, som blev dannet i ovenstående kode. Vi vil ligeledes bruge dagen i dag på at forstå, hvordan denne visualisering er dannet (med brug af `ggplot2` - også en del af `tidyverse`)"
   ]
  },
  {
   "cell_type": "code",
   "execution_count": 26,
   "metadata": {},
   "outputs": [
    {
     "data": {
      "image/png": "[encoded data removed]",
      "text/plain": [
       "plot without title"
      ]
     },
     "metadata": {
      "image/png": {
       "height": 420,
       "width": 420
      }
     },
     "output_type": "display_data"
    }
   ],
   "source": [
    "library(ggplot2)\n",
    "\n",
    "ggplot(ess18_wh, aes(x = wkhtot_cat, y = (..count..)/sum(..count..), fill = gndr)) + \n",
    "    geom_bar(position = \"dodge\") + \n",
    "    scale_y_continuous(labels = scales::percent) + \n",
    "    labs(title = \"Arbejdstid fordelt på køn\",\n",
    "         x = \"Arbejdstid\",\n",
    "         y = \"Procent\", \n",
    "         fill = \"Køn\")"
   ]
  }
 ],
 "metadata": {
  "kernelspec": {
   "display_name": "R",
   "language": "R",
   "name": "ir"
  },
  "language_info": {
   "codemirror_mode": "r",
   "file_extension": ".r",
   "mimetype": "text/x-r-source",
   "name": "R",
   "pygments_lexer": "r",
   "version": "4.1.1"
  }
 },
 "nbformat": 4,
 "nbformat_minor": 4
}
