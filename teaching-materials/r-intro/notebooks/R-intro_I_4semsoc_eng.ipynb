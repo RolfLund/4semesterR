{
 "cells": [
  {
   "cell_type": "markdown",
   "metadata": {
    "slideshow": {
     "slide_type": "slide"
    }
   },
   "source": [
    "# Introduktion til R (del 1)"
   ]
  },
  {
   "cell_type": "markdown",
   "metadata": {
    "slideshow": {
     "slide_type": "slide"
    }
   },
   "source": [
    "# Introduction\n",
    "## What is R and why use it?\n",
    "\n",
    "R is a free software environment with its own programming language. \n",
    "\n",
    "It is especailly suited for statistical analysis and graphical outputs.\n",
    "\n",
    "R's popularity as a data science tool as well as it being open source has made its applications vast.\n",
    "\n",
    "R can work with a large variety of data formats and is (with a few add-ons) compatible with data from other software solutions (Excel, SPSS, SAS, Stata)."
   ]
  },
  {
   "cell_type": "markdown",
   "metadata": {
    "slideshow": {
     "slide_type": "slide"
    }
   },
   "source": [
    "## Content of the R introduction\n",
    "\n",
    "- The RStudio environment\n",
    "- The R language\n",
    "- Constructing variables and objects\n",
    "- Functions and libraries/packages\n",
    "- Working with dataframes (table structure in R)\n",
    "- Simple data handling in R\n",
    "- Simple visualizations in R (`ggplot2` package)\n",
    "\n",
    "The introduction will combine presenting R and R code in Jupyter Notebook while demonstrating in RStudio. You are encouraged to work and write in RStudio during the workshop.\n",
    "\n",
    "*Please write along as we go through the different examples.*"
   ]
  },
  {
   "cell_type": "markdown",
   "metadata": {
    "slideshow": {
     "slide_type": "slide"
    }
   },
   "source": [
    "## The RStudio environment\n",
    "\n",
    "During the workshop (and the other R workshops in CALDISS), we will be working with RStudio.\n",
    "\n",
    "RStudio is an IDE for R (Integrated Development Environment) - Makes for a nicer workspace\n",
    "\n",
    "<https://www.rstudio.com/products/rstudio/download/>"
   ]
  },
  {
   "cell_type": "markdown",
   "metadata": {
    "slideshow": {
     "slide_type": "slide"
    }
   },
   "source": [
    "# The R language\n",
    "R has it's own programming language. R works by you writing lines of code in that language (writing commands) and R interpreting that code (running commands).\n",
    "\n",
    "R (and RStudio) has a limited user interface meaning almost all functionality (statistics, plots, simulations etc.) must be executed using code in the R language.\n",
    "\n",
    "## R as a calculator\n",
    "So what does it mean that R interprets our code?\n",
    "It means that you tell R to do something by writing a command and R will do that (if R can understand you).\n",
    "\n",
    "R, for example, understands mathematical expressions:"
   ]
  },
  {
   "cell_type": "code",
   "execution_count": 1,
   "metadata": {
    "slideshow": {
     "slide_type": "fragment"
    }
   },
   "outputs": [
    {
     "data": {
      "text/html": [
       "42"
      ],
      "text/latex": [
       "42"
      ],
      "text/markdown": [
       "42"
      ],
      "text/plain": [
       "[1] 42"
      ]
     },
     "metadata": {},
     "output_type": "display_data"
    }
   ],
   "source": [
    "7 * 6"
   ]
  },
  {
   "cell_type": "code",
   "execution_count": 2,
   "metadata": {
    "slideshow": {
     "slide_type": "fragment"
    }
   },
   "outputs": [
    {
     "data": {
      "text/html": [
       "780"
      ],
      "text/latex": [
       "780"
      ],
      "text/markdown": [
       "780"
      ],
      "text/plain": [
       "[1] 780"
      ]
     },
     "metadata": {},
     "output_type": "display_data"
    }
   ],
   "source": [
    "912 - 132"
   ]
  },
  {
   "cell_type": "markdown",
   "metadata": {
    "slideshow": {
     "slide_type": "slide"
    }
   },
   "source": [
    "# Using R scripts\n",
    "\n",
    "Script files are text files containing code that R can interpret.\n",
    "\n",
    "It is your \"analysis recipe\" showing what you have done as well as allowing you to re-run commands easily.\n",
    "\n",
    "Always make a habit of writing your commands into a script, when you have the command figured out.\n",
    "\n",
    "- `#` can be used for comments (skipped when run)\n",
    "- `Ctrl` + `Enter`: Runs the current line or selection\n",
    "- `Ctrl` + `Alt` + `R`: Runs the whole script\n",
    "\n",
    "*NOTE!* There is no undo in R. When a code is executed, the change has been made. The only way to undo is to re-run previous code to get back to an earlier stage. This is what scripts are used for."
   ]
  },
  {
   "cell_type": "markdown",
   "metadata": {
    "slideshow": {
     "slide_type": "slide"
    }
   },
   "source": [
    "# The R Language: Objects and Functions\n",
    "\n",
    "R works by storing values and information in \"objects\". These objects can then be used in various commands like calculating a statistical model, saving a file, creating a graph and so on. To simplify a bit: An object is some kind of stored information and a function is something that can manipulate that stored information (which then creates a new object). "
   ]
  },
  {
   "cell_type": "markdown",
   "metadata": {
    "slideshow": {
     "slide_type": "slide"
    }
   },
   "source": [
    "## Objects\n",
    "\n",
    "A lot of writing in R is about defining objects: A name to use to call up stored information.\n",
    "\n",
    "Objects can be a lot of things: \n",
    "- a word\n",
    "- a number\n",
    "- a series of numbers\n",
    "- a dataset \n",
    "- a URL\n",
    "- a formula\n",
    "- a result \n",
    "- a filepath\n",
    "- a series of datasets\n",
    "- and so on...\n",
    "\n",
    "When an object is defined, it is available in the current working space (or environment).\n",
    "\n",
    "This makes it possible to store and work with a variety of informaiton simultaneously."
   ]
  },
  {
   "cell_type": "markdown",
   "metadata": {
    "slideshow": {
     "slide_type": "slide"
    }
   },
   "source": [
    "### Defining objects\n",
    "Objects are defined using the `<-` operator (`Alt` + `-`):"
   ]
  },
  {
   "cell_type": "code",
   "execution_count": 3,
   "metadata": {
    "slideshow": {
     "slide_type": "fragment"
    }
   },
   "outputs": [],
   "source": [
    "year <- 1964"
   ]
  },
  {
   "cell_type": "code",
   "execution_count": 4,
   "metadata": {
    "slideshow": {
     "slide_type": "fragment"
    }
   },
   "outputs": [
    {
     "data": {
      "text/html": [
       "1964"
      ],
      "text/latex": [
       "1964"
      ],
      "text/markdown": [
       "1964"
      ],
      "text/plain": [
       "[1] 1964"
      ]
     },
     "metadata": {},
     "output_type": "display_data"
    }
   ],
   "source": [
    "year"
   ]
  },
  {
   "cell_type": "markdown",
   "metadata": {
    "slideshow": {
     "slide_type": "fragment"
    }
   },
   "source": [
    "When defined the object can be used like any other numeric value."
   ]
  },
  {
   "cell_type": "code",
   "execution_count": 5,
   "metadata": {
    "slideshow": {
     "slide_type": "fragment"
    }
   },
   "outputs": [
    {
     "data": {
      "text/html": [
       "1974"
      ],
      "text/latex": [
       "1974"
      ],
      "text/markdown": [
       "1974"
      ],
      "text/plain": [
       "[1] 1974"
      ]
     },
     "metadata": {},
     "output_type": "display_data"
    }
   ],
   "source": [
    "year + 10"
   ]
  },
  {
   "cell_type": "markdown",
   "metadata": {
    "slideshow": {
     "slide_type": "slide"
    }
   },
   "source": [
    "Notice that R differentiates between lower- and upper-case letters:"
   ]
  },
  {
   "cell_type": "code",
   "execution_count": 6,
   "metadata": {
    "slideshow": {
     "slide_type": "fragment"
    }
   },
   "outputs": [
    {
     "ename": "ERROR",
     "evalue": "Error in eval(expr, envir, enclos): objekt 'Year' blev ikke fundet\n",
     "output_type": "error",
     "traceback": [
      "Error in eval(expr, envir, enclos): objekt 'Year' blev ikke fundet\nTraceback:\n"
     ]
    }
   ],
   "source": [
    "Year # Does not exist"
   ]
  },
  {
   "cell_type": "markdown",
   "metadata": {
    "slideshow": {
     "slide_type": "slide"
    }
   },
   "source": [
    "Using `' '` or `\" \"` denotes that the input should be read as text. *This also applies to numbers!*"
   ]
  },
  {
   "cell_type": "code",
   "execution_count": 7,
   "metadata": {
    "slideshow": {
     "slide_type": "fragment"
    }
   },
   "outputs": [],
   "source": [
    "name <-  \"keenan\""
   ]
  },
  {
   "cell_type": "code",
   "execution_count": 8,
   "metadata": {
    "slideshow": {
     "slide_type": "fragment"
    }
   },
   "outputs": [
    {
     "data": {
      "text/html": [
       "'keenan'"
      ],
      "text/latex": [
       "'keenan'"
      ],
      "text/markdown": [
       "'keenan'"
      ],
      "text/plain": [
       "[1] \"keenan\""
      ]
     },
     "metadata": {},
     "output_type": "display_data"
    }
   ],
   "source": [
    "name"
   ]
  },
  {
   "cell_type": "code",
   "execution_count": 9,
   "metadata": {
    "slideshow": {
     "slide_type": "slide"
    }
   },
   "outputs": [],
   "source": [
    "year_now  <- '2021'"
   ]
  },
  {
   "cell_type": "code",
   "execution_count": 10,
   "metadata": {
    "slideshow": {
     "slide_type": "fragment"
    }
   },
   "outputs": [
    {
     "data": {
      "text/html": [
       "'2021'"
      ],
      "text/latex": [
       "'2021'"
      ],
      "text/markdown": [
       "'2021'"
      ],
      "text/plain": [
       "[1] \"2021\""
      ]
     },
     "metadata": {},
     "output_type": "display_data"
    }
   ],
   "source": [
    "year_now"
   ]
  },
  {
   "cell_type": "markdown",
   "metadata": {
    "slideshow": {
     "slide_type": "fragment"
    }
   },
   "source": [
    "Notice that numbers stored as text will be enclosed in quotes. Numbers stored as text cannot immediately be used as numbers:"
   ]
  },
  {
   "cell_type": "code",
   "execution_count": 11,
   "metadata": {
    "slideshow": {
     "slide_type": "fragment"
    }
   },
   "outputs": [
    {
     "ename": "ERROR",
     "evalue": "Error in year_now - 5: non-numeric argument to binary operator\n",
     "output_type": "error",
     "traceback": [
      "Error in year_now - 5: non-numeric argument to binary operator\nTraceback:\n"
     ]
    }
   ],
   "source": [
    "year_now - 5"
   ]
  },
  {
   "cell_type": "markdown",
   "metadata": {
    "slideshow": {
     "slide_type": "fragment"
    }
   },
   "source": [
    "This error happens because R differentiates between objects by assigning them to a specific *class*. The class denotes what is possible with the object."
   ]
  },
  {
   "cell_type": "markdown",
   "metadata": {
    "slideshow": {
     "slide_type": "slide"
    }
   },
   "source": [
    "### Naming objects\n",
    "Objects can be named almost anything but a good rule of thumb is to use names that are indicative of what the object contains.\n",
    "\n",
    "#### Restrictions for naming objects\n",
    "- Most special characters not allowed: `/`, `?`, `*`, `+` and so on (most characters mean something to R and will be read as an expression)\n",
    "- Already existing names in R (will overwrite the function/object in the environment)\n",
    "\n",
    "#### Good naming conventions \n",
    "- Using '`_`': `my_object`, `room_number`\n",
    "\n",
    "or:\n",
    "\n",
    "- Capitalize each word except the first: `myObject`, `roomNumber`"
   ]
  },
  {
   "cell_type": "markdown",
   "metadata": {
    "slideshow": {
     "slide_type": "slide"
    }
   },
   "source": [
    "## Functions\n",
    "\n",
    "Functions are commands used to transform an object in some way and give an output.\n",
    "\n",
    "The input to a function is an \"arguement\". The number of arguements vary between function.\n",
    "\n",
    "Functions have the basic syntax: `function(arg1, arg2, arg3)`.\n",
    "\n",
    "Some arguements are required while others are optional."
   ]
  },
  {
   "cell_type": "code",
   "execution_count": 12,
   "metadata": {
    "slideshow": {
     "slide_type": "fragment"
    }
   },
   "outputs": [
    {
     "data": {
      "text/html": [
       "'KILMISTER'"
      ],
      "text/latex": [
       "'KILMISTER'"
      ],
      "text/markdown": [
       "'KILMISTER'"
      ],
      "text/plain": [
       "[1] \"KILMISTER\""
      ]
     },
     "metadata": {},
     "output_type": "display_data"
    }
   ],
   "source": [
    "name <- 'kilmister'\n",
    "toupper(name) #Returns the object in upper-case"
   ]
  },
  {
   "cell_type": "markdown",
   "metadata": {
    "slideshow": {
     "slide_type": "slide"
    }
   },
   "source": [
    "Most functions take the object as the first input but not all."
   ]
  },
  {
   "cell_type": "code",
   "execution_count": 13,
   "metadata": {
    "slideshow": {
     "slide_type": "fragment"
    }
   },
   "outputs": [
    {
     "data": {
      "text/html": [
       "'kilmistar'"
      ],
      "text/latex": [
       "'kilmistar'"
      ],
      "text/markdown": [
       "'kilmistar'"
      ],
      "text/plain": [
       "[1] \"kilmistar\""
      ]
     },
     "metadata": {},
     "output_type": "display_data"
    }
   ],
   "source": [
    "gsub(\"e\", \"a\", name) #Replace all e's with a's"
   ]
  },
  {
   "cell_type": "markdown",
   "metadata": {
    "slideshow": {
     "slide_type": "slide"
    }
   },
   "source": [
    "### Functions and their outputs\n",
    "\n",
    "Note that functions almost *never* change the object. When calling functions you are asking R for a specific output but not to change anything.\n",
    "\n",
    "Output of a function have to be stored in objects, if to be stored"
   ]
  },
  {
   "cell_type": "code",
   "execution_count": 14,
   "metadata": {
    "slideshow": {
     "slide_type": "fragment"
    }
   },
   "outputs": [
    {
     "data": {
      "text/html": [
       "'kilmister'"
      ],
      "text/latex": [
       "'kilmister'"
      ],
      "text/markdown": [
       "'kilmister'"
      ],
      "text/plain": [
       "[1] \"kilmister\""
      ]
     },
     "metadata": {},
     "output_type": "display_data"
    }
   ],
   "source": [
    "name # Unchanged even though used in objects"
   ]
  },
  {
   "cell_type": "code",
   "execution_count": 15,
   "metadata": {
    "slideshow": {
     "slide_type": "fragment"
    }
   },
   "outputs": [],
   "source": [
    "name <- gsub(\"e\", \"a\", name) # Store object with characters \"e\" swapped with \"a\" - replacing the object"
   ]
  },
  {
   "cell_type": "code",
   "execution_count": 16,
   "metadata": {
    "slideshow": {
     "slide_type": "fragment"
    }
   },
   "outputs": [
    {
     "data": {
      "text/html": [
       "'kilmistar'"
      ],
      "text/latex": [
       "'kilmistar'"
      ],
      "text/markdown": [
       "'kilmistar'"
      ],
      "text/plain": [
       "[1] \"kilmistar\""
      ]
     },
     "metadata": {},
     "output_type": "display_data"
    }
   ],
   "source": [
    "name"
   ]
  },
  {
   "cell_type": "markdown",
   "metadata": {
    "slideshow": {
     "slide_type": "slide"
    }
   },
   "source": [
    "# EXERCISE 1: OBJECTS AND FUNCTIONS\n",
    "\n",
    "1. Define the following objects:\n",
    "\n",
    "    - `name1`: `\"araya\"`\n",
    "    - `name2`: `\"townsend\"`\n",
    "    - `year1`: `1961` (without quotation marks)\n",
    "    - `year2`: `\"1972\"` (with quotation marks)\n",
    "\n",
    "2. Try calculating the ages for `year1` and `year2` (current year - year-object). \n",
    "\n",
    "3. Use the function `toupper()` to convert `name1` to upper-case."
   ]
  },
  {
   "cell_type": "markdown",
   "metadata": {
    "slideshow": {
     "slide_type": "subslide"
    }
   },
   "source": [
    "# EXERCISE 1: DEFINING OBJECTS\n",
    "*What happens?*"
   ]
  },
  {
   "cell_type": "code",
   "execution_count": 17,
   "metadata": {
    "slideshow": {
     "slide_type": "fragment"
    }
   },
   "outputs": [],
   "source": [
    "name1 <- \"araya\"\n",
    "name2 <- \"townsend\"\n",
    "year1 <- 1961\n",
    "year2 <- \"1972\""
   ]
  },
  {
   "cell_type": "code",
   "execution_count": 18,
   "metadata": {
    "slideshow": {
     "slide_type": "subslide"
    }
   },
   "outputs": [
    {
     "data": {
      "text/html": [
       "60"
      ],
      "text/latex": [
       "60"
      ],
      "text/markdown": [
       "60"
      ],
      "text/plain": [
       "[1] 60"
      ]
     },
     "metadata": {},
     "output_type": "display_data"
    }
   ],
   "source": [
    "age1 <- 2021 - year1 # Works fine\n",
    "\n",
    "age1"
   ]
  },
  {
   "cell_type": "code",
   "execution_count": 19,
   "metadata": {
    "slideshow": {
     "slide_type": "fragment"
    }
   },
   "outputs": [
    {
     "ename": "ERROR",
     "evalue": "Error in 2021 - year2: non-numeric argument to binary operator\n",
     "output_type": "error",
     "traceback": [
      "Error in 2021 - year2: non-numeric argument to binary operator\nTraceback:\n"
     ]
    }
   ],
   "source": [
    "age2 <- 2021 - year2 # Produces an error"
   ]
  },
  {
   "cell_type": "code",
   "execution_count": 20,
   "metadata": {
    "slideshow": {
     "slide_type": "subslide"
    }
   },
   "outputs": [
    {
     "data": {
      "text/html": [
       "'ARAYA'"
      ],
      "text/latex": [
       "'ARAYA'"
      ],
      "text/markdown": [
       "'ARAYA'"
      ],
      "text/plain": [
       "[1] \"ARAYA\""
      ]
     },
     "metadata": {},
     "output_type": "display_data"
    }
   ],
   "source": [
    "name1 <- toupper(name1)\n",
    "\n",
    "name1"
   ]
  },
  {
   "cell_type": "markdown",
   "metadata": {
    "slideshow": {
     "slide_type": "slide"
    }
   },
   "source": [
    "# R Libraries - Packages \n",
    "\n",
    "R being open source means that a lot of developers are constantly adding new functions to R.\n",
    "These new functions are distributed as *R packages* that can be loaded into the R library.\n",
    "\n",
    "All the commands you have been using so far have been part of the `base` package (ships with R). \n",
    "\n",
    "Packages are installed using (name of package *with* quotes!): \n",
    "\n",
    "`install.packages('packagename')` \n",
    "\n",
    "The functions from the package is loaded into the environment using (name of package *without* quotes!):\n",
    "    \n",
    "`library(packagename)` \n",
    "\n",
    "Information for installed packages can be found using (name of package *with* quotes!):\n",
    "\n",
    "`library(help = 'packagename')` "
   ]
  },
  {
   "cell_type": "markdown",
   "metadata": {
    "slideshow": {
     "slide_type": "slide"
    }
   },
   "source": [
    "## Importing data with `readr`\n",
    "\n",
    "`readr` is a package for reading various data files into R.\n",
    "\n",
    "R does have some \"base\" functions for doing this but `readr` is more efficient.\n",
    "\n",
    "`readr` is part of a collection of packages called `tidyverse`: https://www.tidyverse.org/"
   ]
  },
  {
   "cell_type": "code",
   "execution_count": 22,
   "metadata": {
    "slideshow": {
     "slide_type": "fragment"
    }
   },
   "outputs": [
    {
     "name": "stderr",
     "output_type": "stream",
     "text": [
      "\u001b[1mRows: \u001b[22m\u001b[34m1285\u001b[39m \u001b[1mColumns: \u001b[22m\u001b[34m17\u001b[39m\n",
      "\n",
      "\u001b[36m--\u001b[39m \u001b[1mColumn specification\u001b[22m \u001b[36m------------------------------------------------------------------------------------------------\u001b[39m\n",
      "\u001b[1mDelimiter:\u001b[22m \",\"\n",
      "\u001b[31mchr\u001b[39m  (7): vote, prtvtddk, health, lvpntyr, tygrtr, gndr, edlvddk\n",
      "\u001b[32mdbl\u001b[39m (10): idno, netustm, ppltrst, yrbrn, eduyrs, wkhct, wkhtot, grspnum, frl...\n",
      "\n",
      "\n",
      "\u001b[36mi\u001b[39m Use \u001b[30m\u001b[47m\u001b[30m\u001b[47m`spec()`\u001b[47m\u001b[30m\u001b[49m\u001b[39m to retrieve the full column specification for this data.\n",
      "\u001b[36mi\u001b[39m Specify the column types or set \u001b[30m\u001b[47m\u001b[30m\u001b[47m`show_col_types = FALSE`\u001b[47m\u001b[30m\u001b[49m\u001b[39m to quiet this message.\n",
      "\n"
     ]
    }
   ],
   "source": [
    "library(readr)\n",
    "\n",
    "ess18 <- read_csv(\"https://github.com/RolfLund/4semesterR/raw/master/teaching-materials/r-intro/datasets/ESS2018DK_subset.csv\")"
   ]
  },
  {
   "cell_type": "markdown",
   "metadata": {
    "slideshow": {
     "slide_type": "slide"
    }
   },
   "source": [
    "# R Objects: Data Frames\n",
    "\n",
    "`ess18` is now an object containing a dataset. Notice that the basic syntax stays the same: `objectname <- somefunction(something)`.\n",
    "\n",
    "A \"data frame\" is the R-equivalent of a spreadsheet (a table of rows and columns). It is one of the most useful storage structures for data analysis in R."
   ]
  },
  {
   "cell_type": "markdown",
   "metadata": {
    "slideshow": {
     "slide_type": "slide"
    }
   },
   "source": [
    "## Data for this workshop: European Social Survey 2018\n",
    "\n",
    "We are using a subset of the Danish European Social Survey data from 2018 (https://www.europeansocialsurvey.org/)\n",
    "\n",
    "- https://www.europeansocialsurvey.org/docs/round9/fieldwork/source/ESS9_source_questionnaires.pdf\n",
    "- https://www.europeansocialsurvey.org/docs/round9/survey/ESS9_appendix_a7_e03_1.pdf\n",
    "\n",
    "The data contains the following variables:\n",
    "\n",
    "|variable | description |\n",
    "|----|---|\n",
    "|idno|Respondent's identification number|\n",
    "|netustm |Internet use, how much time on typical day, in minutes|\n",
    "|ppltrst|Most people can be trusted or you can't be too careful|\n",
    "|vote|Voted last national election|\n",
    "|prtvtddk|Party voted for in last national election, Denmark|\n",
    "|health|Subjective general health|\n",
    "|lvpntyr|Year first left parents for living separately for 2 months or more|\n",
    "|tygrtr|Retire permanently, age too young. SPLIT BALLOT|\n",
    "|gndr|Gender|\n",
    "|yrbrn|Year of birth|\n",
    "|edlvddk|Highest level of education, Denmark|\n",
    "|eduyrs|Years of full-time education completed|\n",
    "|wkhct|Total contracted hours per week in main job overtime excluded|\n",
    "|wkhtot|Total hours normally worked per week in main job overtime included|\n",
    "|grspnum|What is your usual [weekly/monthly/annual] gross pay|\n",
    "|frlgrsp|Fair level of [weekly/monthly/annual] gross pay for you|\n",
    "|inwtm|Interview length in minutes, main questionnaire|\n"
   ]
  },
  {
   "cell_type": "markdown",
   "metadata": {
    "slideshow": {
     "slide_type": "slide"
    }
   },
   "source": [
    "## Exploring Data Frames\n",
    "To get an idea of what the data contains, we can use `head()`:"
   ]
  },
  {
   "cell_type": "code",
   "execution_count": 26,
   "metadata": {
    "slideshow": {
     "slide_type": "slide"
    }
   },
   "outputs": [
    {
     "data": {
      "text/html": [
       "<table class=\"dataframe\">\n",
       "<caption>A tibble: 6 × 17</caption>\n",
       "<thead>\n",
       "\t<tr><th scope=col>idno</th><th scope=col>netustm</th><th scope=col>ppltrst</th><th scope=col>vote</th><th scope=col>prtvtddk</th><th scope=col>health</th><th scope=col>lvpntyr</th><th scope=col>tygrtr</th><th scope=col>gndr</th><th scope=col>yrbrn</th><th scope=col>edlvddk</th><th scope=col>eduyrs</th><th scope=col>wkhct</th><th scope=col>wkhtot</th><th scope=col>grspnum</th><th scope=col>frlgrsp</th><th scope=col>inwtm</th></tr>\n",
       "\t<tr><th scope=col>&lt;dbl&gt;</th><th scope=col>&lt;dbl&gt;</th><th scope=col>&lt;dbl&gt;</th><th scope=col>&lt;chr&gt;</th><th scope=col>&lt;chr&gt;</th><th scope=col>&lt;chr&gt;</th><th scope=col>&lt;chr&gt;</th><th scope=col>&lt;chr&gt;</th><th scope=col>&lt;chr&gt;</th><th scope=col>&lt;dbl&gt;</th><th scope=col>&lt;chr&gt;</th><th scope=col>&lt;dbl&gt;</th><th scope=col>&lt;dbl&gt;</th><th scope=col>&lt;dbl&gt;</th><th scope=col>&lt;dbl&gt;</th><th scope=col>&lt;dbl&gt;</th><th scope=col>&lt;dbl&gt;</th></tr>\n",
       "</thead>\n",
       "<tbody>\n",
       "\t<tr><td> 5816</td><td> 90</td><td>7</td><td>Yes</td><td>SF Socialistisk Folkeparti - Socialist People's Party</td><td>Good    </td><td>1994</td><td>60</td><td>Male  </td><td>1974</td><td>Mellemlang videregående uddannelse af 3-4 års varighed. Professionsbachelorer,</td><td>35</td><td>37</td><td>37</td><td>37000</td><td>35000</td><td>61</td></tr>\n",
       "\t<tr><td> 7251</td><td>300</td><td>5</td><td>Yes</td><td>Dansk Folkeparti - Danish People's Party             </td><td>Fair    </td><td>1993</td><td>40</td><td>Female</td><td>1975</td><td>Faglig uddannelse (håndværk, handel, landbrug mv.), F.eks. Faglærte, Social-  </td><td>13</td><td>32</td><td>34</td><td>22000</td><td>30000</td><td>68</td></tr>\n",
       "\t<tr><td> 7887</td><td>360</td><td>8</td><td>Yes</td><td>Socialdemokratiet - The Social democrats             </td><td>Fair    </td><td>1983</td><td>55</td><td>Male  </td><td>1958</td><td>Lang videregående uddannelse. Kandidatuddannelser af 5.-6. års varighed, F.eks</td><td>25</td><td>39</td><td>39</td><td>36000</td><td>42000</td><td>89</td></tr>\n",
       "\t<tr><td> 9607</td><td>540</td><td>9</td><td>Yes</td><td>Alternativet - The Alternative                       </td><td>Good    </td><td>1982</td><td>64</td><td>Female</td><td>1964</td><td>Mellemlang videregående uddannelse af 3-4 års varighed. Professionsbachelorer,</td><td>13</td><td>32</td><td>34</td><td>32000</td><td>   NA</td><td>50</td></tr>\n",
       "\t<tr><td>11688</td><td> NA</td><td>5</td><td>Yes</td><td>Socialdemokratiet - The Social democrats             </td><td>Very bad</td><td>1968</td><td>50</td><td>Female</td><td>1952</td><td>Faglig uddannelse (håndværk, handel, landbrug mv.), F.eks. Faglærte, Social-  </td><td> 2</td><td>37</td><td>37</td><td>   NA</td><td>   NA</td><td>77</td></tr>\n",
       "\t<tr><td>12355</td><td>120</td><td>5</td><td>Yes</td><td>Socialdemokratiet - The Social democrats             </td><td>Fair    </td><td>1987</td><td>60</td><td>Male  </td><td>1963</td><td>Faglig uddannelse (håndværk, handel, landbrug mv.), F.eks. Faglærte, Social-  </td><td>14</td><td>38</td><td>37</td><td>36000</td><td>38000</td><td>48</td></tr>\n",
       "</tbody>\n",
       "</table>\n"
      ],
      "text/latex": [
       "A tibble: 6 × 17\n",
       "\\begin{tabular}{lllllllllllllllll}\n",
       " idno & netustm & ppltrst & vote & prtvtddk & health & lvpntyr & tygrtr & gndr & yrbrn & edlvddk & eduyrs & wkhct & wkhtot & grspnum & frlgrsp & inwtm\\\\\n",
       " <dbl> & <dbl> & <dbl> & <chr> & <chr> & <chr> & <chr> & <chr> & <chr> & <dbl> & <chr> & <dbl> & <dbl> & <dbl> & <dbl> & <dbl> & <dbl>\\\\\n",
       "\\hline\n",
       "\t  5816 &  90 & 7 & Yes & SF Socialistisk Folkeparti - Socialist People's Party & Good     & 1994 & 60 & Male   & 1974 & Mellemlang videregående uddannelse af 3-4 års varighed. Professionsbachelorer, & 35 & 37 & 37 & 37000 & 35000 & 61\\\\\n",
       "\t  7251 & 300 & 5 & Yes & Dansk Folkeparti - Danish People's Party              & Fair     & 1993 & 40 & Female & 1975 & Faglig uddannelse (håndværk, handel, landbrug mv.), F.eks. Faglærte, Social-   & 13 & 32 & 34 & 22000 & 30000 & 68\\\\\n",
       "\t  7887 & 360 & 8 & Yes & Socialdemokratiet - The Social democrats              & Fair     & 1983 & 55 & Male   & 1958 & Lang videregående uddannelse. Kandidatuddannelser af 5.-6. års varighed, F.eks & 25 & 39 & 39 & 36000 & 42000 & 89\\\\\n",
       "\t  9607 & 540 & 9 & Yes & Alternativet - The Alternative                        & Good     & 1982 & 64 & Female & 1964 & Mellemlang videregående uddannelse af 3-4 års varighed. Professionsbachelorer, & 13 & 32 & 34 & 32000 &    NA & 50\\\\\n",
       "\t 11688 &  NA & 5 & Yes & Socialdemokratiet - The Social democrats              & Very bad & 1968 & 50 & Female & 1952 & Faglig uddannelse (håndværk, handel, landbrug mv.), F.eks. Faglærte, Social-   &  2 & 37 & 37 &    NA &    NA & 77\\\\\n",
       "\t 12355 & 120 & 5 & Yes & Socialdemokratiet - The Social democrats              & Fair     & 1987 & 60 & Male   & 1963 & Faglig uddannelse (håndværk, handel, landbrug mv.), F.eks. Faglærte, Social-   & 14 & 38 & 37 & 36000 & 38000 & 48\\\\\n",
       "\\end{tabular}\n"
      ],
      "text/markdown": [
       "\n",
       "A tibble: 6 × 17\n",
       "\n",
       "| idno &lt;dbl&gt; | netustm &lt;dbl&gt; | ppltrst &lt;dbl&gt; | vote &lt;chr&gt; | prtvtddk &lt;chr&gt; | health &lt;chr&gt; | lvpntyr &lt;chr&gt; | tygrtr &lt;chr&gt; | gndr &lt;chr&gt; | yrbrn &lt;dbl&gt; | edlvddk &lt;chr&gt; | eduyrs &lt;dbl&gt; | wkhct &lt;dbl&gt; | wkhtot &lt;dbl&gt; | grspnum &lt;dbl&gt; | frlgrsp &lt;dbl&gt; | inwtm &lt;dbl&gt; |\n",
       "|---|---|---|---|---|---|---|---|---|---|---|---|---|---|---|---|---|\n",
       "|  5816 |  90 | 7 | Yes | SF Socialistisk Folkeparti - Socialist People's Party | Good     | 1994 | 60 | Male   | 1974 | Mellemlang videregående uddannelse af 3-4 års varighed. Professionsbachelorer, | 35 | 37 | 37 | 37000 | 35000 | 61 |\n",
       "|  7251 | 300 | 5 | Yes | Dansk Folkeparti - Danish People's Party              | Fair     | 1993 | 40 | Female | 1975 | Faglig uddannelse (håndværk, handel, landbrug mv.), F.eks. Faglærte, Social-   | 13 | 32 | 34 | 22000 | 30000 | 68 |\n",
       "|  7887 | 360 | 8 | Yes | Socialdemokratiet - The Social democrats              | Fair     | 1983 | 55 | Male   | 1958 | Lang videregående uddannelse. Kandidatuddannelser af 5.-6. års varighed, F.eks | 25 | 39 | 39 | 36000 | 42000 | 89 |\n",
       "|  9607 | 540 | 9 | Yes | Alternativet - The Alternative                        | Good     | 1982 | 64 | Female | 1964 | Mellemlang videregående uddannelse af 3-4 års varighed. Professionsbachelorer, | 13 | 32 | 34 | 32000 |    NA | 50 |\n",
       "| 11688 |  NA | 5 | Yes | Socialdemokratiet - The Social democrats              | Very bad | 1968 | 50 | Female | 1952 | Faglig uddannelse (håndværk, handel, landbrug mv.), F.eks. Faglærte, Social-   |  2 | 37 | 37 |    NA |    NA | 77 |\n",
       "| 12355 | 120 | 5 | Yes | Socialdemokratiet - The Social democrats              | Fair     | 1987 | 60 | Male   | 1963 | Faglig uddannelse (håndværk, handel, landbrug mv.), F.eks. Faglærte, Social-   | 14 | 38 | 37 | 36000 | 38000 | 48 |\n",
       "\n"
      ],
      "text/plain": [
       "  idno  netustm ppltrst vote\n",
       "1  5816  90     7       Yes \n",
       "2  7251 300     5       Yes \n",
       "3  7887 360     8       Yes \n",
       "4  9607 540     9       Yes \n",
       "5 11688  NA     5       Yes \n",
       "6 12355 120     5       Yes \n",
       "  prtvtddk                                              health   lvpntyr tygrtr\n",
       "1 SF Socialistisk Folkeparti - Socialist People's Party Good     1994    60    \n",
       "2 Dansk Folkeparti - Danish People's Party              Fair     1993    40    \n",
       "3 Socialdemokratiet - The Social democrats              Fair     1983    55    \n",
       "4 Alternativet - The Alternative                        Good     1982    64    \n",
       "5 Socialdemokratiet - The Social democrats              Very bad 1968    50    \n",
       "6 Socialdemokratiet - The Social democrats              Fair     1987    60    \n",
       "  gndr   yrbrn\n",
       "1 Male   1974 \n",
       "2 Female 1975 \n",
       "3 Male   1958 \n",
       "4 Female 1964 \n",
       "5 Female 1952 \n",
       "6 Male   1963 \n",
       "  edlvddk                                                                       \n",
       "1 Mellemlang videregående uddannelse af 3-4 års varighed. Professionsbachelorer,\n",
       "2 Faglig uddannelse (håndværk, handel, landbrug mv.), F.eks. Faglærte, Social-  \n",
       "3 Lang videregående uddannelse. Kandidatuddannelser af 5.-6. års varighed, F.eks\n",
       "4 Mellemlang videregående uddannelse af 3-4 års varighed. Professionsbachelorer,\n",
       "5 Faglig uddannelse (håndværk, handel, landbrug mv.), F.eks. Faglærte, Social-  \n",
       "6 Faglig uddannelse (håndværk, handel, landbrug mv.), F.eks. Faglærte, Social-  \n",
       "  eduyrs wkhct wkhtot grspnum frlgrsp inwtm\n",
       "1 35     37    37     37000   35000   61   \n",
       "2 13     32    34     22000   30000   68   \n",
       "3 25     39    39     36000   42000   89   \n",
       "4 13     32    34     32000      NA   50   \n",
       "5  2     37    37        NA      NA   77   \n",
       "6 14     38    37     36000   38000   48   "
      ]
     },
     "metadata": {},
     "output_type": "display_data"
    }
   ],
   "source": [
    "head(ess18)"
   ]
  },
  {
   "cell_type": "markdown",
   "metadata": {
    "slideshow": {
     "slide_type": "slide"
    }
   },
   "source": [
    "We can check the names of the columns (the variable names) using `colnames`. `dim` returns number of rows and columns."
   ]
  },
  {
   "cell_type": "code",
   "execution_count": 27,
   "metadata": {
    "slideshow": {
     "slide_type": "slide"
    }
   },
   "outputs": [
    {
     "data": {
      "text/html": [
       "<style>\n",
       ".list-inline {list-style: none; margin:0; padding: 0}\n",
       ".list-inline>li {display: inline-block}\n",
       ".list-inline>li:not(:last-child)::after {content: \"\\00b7\"; padding: 0 .5ex}\n",
       "</style>\n",
       "<ol class=list-inline><li>'idno'</li><li>'netustm'</li><li>'ppltrst'</li><li>'vote'</li><li>'prtvtddk'</li><li>'health'</li><li>'lvpntyr'</li><li>'tygrtr'</li><li>'gndr'</li><li>'yrbrn'</li><li>'edlvddk'</li><li>'eduyrs'</li><li>'wkhct'</li><li>'wkhtot'</li><li>'grspnum'</li><li>'frlgrsp'</li><li>'inwtm'</li></ol>\n"
      ],
      "text/latex": [
       "\\begin{enumerate*}\n",
       "\\item 'idno'\n",
       "\\item 'netustm'\n",
       "\\item 'ppltrst'\n",
       "\\item 'vote'\n",
       "\\item 'prtvtddk'\n",
       "\\item 'health'\n",
       "\\item 'lvpntyr'\n",
       "\\item 'tygrtr'\n",
       "\\item 'gndr'\n",
       "\\item 'yrbrn'\n",
       "\\item 'edlvddk'\n",
       "\\item 'eduyrs'\n",
       "\\item 'wkhct'\n",
       "\\item 'wkhtot'\n",
       "\\item 'grspnum'\n",
       "\\item 'frlgrsp'\n",
       "\\item 'inwtm'\n",
       "\\end{enumerate*}\n"
      ],
      "text/markdown": [
       "1. 'idno'\n",
       "2. 'netustm'\n",
       "3. 'ppltrst'\n",
       "4. 'vote'\n",
       "5. 'prtvtddk'\n",
       "6. 'health'\n",
       "7. 'lvpntyr'\n",
       "8. 'tygrtr'\n",
       "9. 'gndr'\n",
       "10. 'yrbrn'\n",
       "11. 'edlvddk'\n",
       "12. 'eduyrs'\n",
       "13. 'wkhct'\n",
       "14. 'wkhtot'\n",
       "15. 'grspnum'\n",
       "16. 'frlgrsp'\n",
       "17. 'inwtm'\n",
       "\n",
       "\n"
      ],
      "text/plain": [
       " [1] \"idno\"     \"netustm\"  \"ppltrst\"  \"vote\"     \"prtvtddk\" \"health\"  \n",
       " [7] \"lvpntyr\"  \"tygrtr\"   \"gndr\"     \"yrbrn\"    \"edlvddk\"  \"eduyrs\"  \n",
       "[13] \"wkhct\"    \"wkhtot\"   \"grspnum\"  \"frlgrsp\"  \"inwtm\"   "
      ]
     },
     "metadata": {},
     "output_type": "display_data"
    }
   ],
   "source": [
    "colnames(ess18)"
   ]
  },
  {
   "cell_type": "code",
   "execution_count": 28,
   "metadata": {
    "slideshow": {
     "slide_type": "fragment"
    }
   },
   "outputs": [
    {
     "data": {
      "text/html": [
       "<style>\n",
       ".list-inline {list-style: none; margin:0; padding: 0}\n",
       ".list-inline>li {display: inline-block}\n",
       ".list-inline>li:not(:last-child)::after {content: \"\\00b7\"; padding: 0 .5ex}\n",
       "</style>\n",
       "<ol class=list-inline><li>1285</li><li>17</li></ol>\n"
      ],
      "text/latex": [
       "\\begin{enumerate*}\n",
       "\\item 1285\n",
       "\\item 17\n",
       "\\end{enumerate*}\n"
      ],
      "text/markdown": [
       "1. 1285\n",
       "2. 17\n",
       "\n",
       "\n"
      ],
      "text/plain": [
       "[1] 1285   17"
      ]
     },
     "metadata": {},
     "output_type": "display_data"
    }
   ],
   "source": [
    "dim(ess18)"
   ]
  },
  {
   "cell_type": "markdown",
   "metadata": {
    "slideshow": {
     "slide_type": "slide"
    }
   },
   "source": [
    "See key summary statistics using `summary()`. (counts, mean, std, min, max, quartiles)."
   ]
  },
  {
   "cell_type": "code",
   "execution_count": 29,
   "metadata": {
    "slideshow": {
     "slide_type": "fragment"
    }
   },
   "outputs": [
    {
     "data": {
      "text/plain": [
       "      idno           netustm          ppltrst          vote          \n",
       " Min.   :  5816   Min.   :   0.0   Min.   : 0.00   Length:1285       \n",
       " 1st Qu.: 93707   1st Qu.:  90.0   1st Qu.: 6.00   Class :character  \n",
       " Median :112877   Median : 150.0   Median : 7.00   Mode  :character  \n",
       " Mean   :110980   Mean   : 227.4   Mean   : 7.08                     \n",
       " 3rd Qu.:131072   3rd Qu.: 300.0   3rd Qu.: 8.00                     \n",
       " Max.   :150446   Max.   :1020.0   Max.   :10.00                     \n",
       "                  NA's   :151      NA's   :3                         \n",
       "   prtvtddk            health            lvpntyr             tygrtr         \n",
       " Length:1285        Length:1285        Length:1285        Length:1285       \n",
       " Class :character   Class :character   Class :character   Class :character  \n",
       " Mode  :character   Mode  :character   Mode  :character   Mode  :character  \n",
       "                                                                            \n",
       "                                                                            \n",
       "                                                                            \n",
       "                                                                            \n",
       "     gndr               yrbrn        edlvddk              eduyrs  \n",
       " Length:1285        Min.   :1929   Length:1285        Min.   : 0  \n",
       " Class :character   1st Qu.:1952   Class :character   1st Qu.:11  \n",
       " Mode  :character   Median :1966   Mode  :character   Median :14  \n",
       "                    Mean   :1967                      Mean   :14  \n",
       "                    3rd Qu.:1982                      3rd Qu.:17  \n",
       "                    Max.   :2003                      Max.   :40  \n",
       "                                                      NA's   :7   \n",
       "     wkhct           wkhtot         grspnum           frlgrsp      \n",
       " Min.   : 0.00   Min.   : 0.00   Min.   :      0   Min.   :     0  \n",
       " 1st Qu.:35.00   1st Qu.:35.00   1st Qu.:  26000   1st Qu.: 28375  \n",
       " Median :37.00   Median :37.00   Median :  32000   Median : 35000  \n",
       " Mean   :33.81   Mean   :36.44   Mean   :  43686   Mean   : 37255  \n",
       " 3rd Qu.:37.00   3rd Qu.:41.00   3rd Qu.:  41000   3rd Qu.: 40000  \n",
       " Max.   :80.00   Max.   :90.00   Max.   :3000000   Max.   :500000  \n",
       " NA's   :68      NA's   :27      NA's   :570       NA's   :1033    \n",
       "     inwtm       \n",
       " Min.   : 18.00  \n",
       " 1st Qu.: 51.00  \n",
       " Median : 59.00  \n",
       " Mean   : 63.32  \n",
       " 3rd Qu.: 70.00  \n",
       " Max.   :613.00  \n",
       " NA's   :5       "
      ]
     },
     "metadata": {},
     "output_type": "display_data"
    }
   ],
   "source": [
    "summary(ess18)"
   ]
  },
  {
   "cell_type": "markdown",
   "metadata": {
    "slideshow": {
     "slide_type": "slide"
    }
   },
   "source": [
    "# Data frames and vectors\n",
    "\n",
    "Data frames consists of rows and columns. Typically R expects the rows of a data frame to contain observations and the columns of the data frame to contain variables (information about the observations).\n",
    "\n",
    "R treats single columns (or variables) as \"vectors\". A vector is a series of values of the same class.\n",
    "\n",
    "We can refer to a single column in a data frame with `$` (a vector)."
   ]
  },
  {
   "cell_type": "code",
   "execution_count": 30,
   "metadata": {
    "slideshow": {
     "slide_type": "fragment"
    }
   },
   "outputs": [
    {
     "data": {
      "text/html": [
       "<style>\n",
       ".list-inline {list-style: none; margin:0; padding: 0}\n",
       ".list-inline>li {display: inline-block}\n",
       ".list-inline>li:not(:last-child)::after {content: \"\\00b7\"; padding: 0 .5ex}\n",
       "</style>\n",
       "<ol class=list-inline><li>1974</li><li>1975</li><li>1958</li><li>1964</li><li>1952</li><li>1963</li></ol>\n"
      ],
      "text/latex": [
       "\\begin{enumerate*}\n",
       "\\item 1974\n",
       "\\item 1975\n",
       "\\item 1958\n",
       "\\item 1964\n",
       "\\item 1952\n",
       "\\item 1963\n",
       "\\end{enumerate*}\n"
      ],
      "text/markdown": [
       "1. 1974\n",
       "2. 1975\n",
       "3. 1958\n",
       "4. 1964\n",
       "5. 1952\n",
       "6. 1963\n",
       "\n",
       "\n"
      ],
      "text/plain": [
       "[1] 1974 1975 1958 1964 1952 1963"
      ]
     },
     "metadata": {},
     "output_type": "display_data"
    }
   ],
   "source": [
    "head(ess18$yrbrn) # First six values of yrbrn variable"
   ]
  },
  {
   "cell_type": "markdown",
   "metadata": {
    "slideshow": {
     "slide_type": "slide"
    }
   },
   "source": [
    "Each value in a vector is assigned an index refering to the position of the value in the vector (starts from 1).\n",
    "\n",
    "A vector is indexed using `[]`:"
   ]
  },
  {
   "cell_type": "code",
   "execution_count": 31,
   "metadata": {
    "slideshow": {
     "slide_type": "fragment"
    }
   },
   "outputs": [
    {
     "data": {
      "text/html": [
       "1958"
      ],
      "text/latex": [
       "1958"
      ],
      "text/markdown": [
       "1958"
      ],
      "text/plain": [
       "[1] 1958"
      ]
     },
     "metadata": {},
     "output_type": "display_data"
    }
   ],
   "source": [
    "ess18$yrbrn[10] # Returns the 10th value (row 10) of the yrbrn variable"
   ]
  },
  {
   "cell_type": "code",
   "execution_count": 32,
   "metadata": {
    "slideshow": {
     "slide_type": "fragment"
    }
   },
   "outputs": [
    {
     "data": {
      "text/html": [
       "<style>\n",
       ".list-inline {list-style: none; margin:0; padding: 0}\n",
       ".list-inline>li {display: inline-block}\n",
       ".list-inline>li:not(:last-child)::after {content: \"\\00b7\"; padding: 0 .5ex}\n",
       "</style>\n",
       "<ol class=list-inline><li>1975</li><li>1958</li><li>1964</li><li>1952</li><li>1963</li><li>1991</li><li>1984</li><li>1966</li><li>1958</li></ol>\n"
      ],
      "text/latex": [
       "\\begin{enumerate*}\n",
       "\\item 1975\n",
       "\\item 1958\n",
       "\\item 1964\n",
       "\\item 1952\n",
       "\\item 1963\n",
       "\\item 1991\n",
       "\\item 1984\n",
       "\\item 1966\n",
       "\\item 1958\n",
       "\\end{enumerate*}\n"
      ],
      "text/markdown": [
       "1. 1975\n",
       "2. 1958\n",
       "3. 1964\n",
       "4. 1952\n",
       "5. 1963\n",
       "6. 1991\n",
       "7. 1984\n",
       "8. 1966\n",
       "9. 1958\n",
       "\n",
       "\n"
      ],
      "text/plain": [
       "[1] 1975 1958 1964 1952 1963 1991 1984 1966 1958"
      ]
     },
     "metadata": {},
     "output_type": "display_data"
    }
   ],
   "source": [
    "ess18$yrbrn[2:10] # Returns value 2-10 of the yrbn variable (both inclusive)"
   ]
  },
  {
   "cell_type": "markdown",
   "metadata": {
    "slideshow": {
     "slide_type": "slide"
    }
   },
   "source": [
    "A range of useful functions exist for calculating descriptive measures for a vector; fx `mean()`, `min()`, `max()` and `length()`."
   ]
  },
  {
   "cell_type": "code",
   "execution_count": 34,
   "metadata": {
    "slideshow": {
     "slide_type": "fragment"
    }
   },
   "outputs": [
    {
     "data": {
      "text/html": [
       "1929"
      ],
      "text/latex": [
       "1929"
      ],
      "text/markdown": [
       "1929"
      ],
      "text/plain": [
       "[1] 1929"
      ]
     },
     "metadata": {},
     "output_type": "display_data"
    },
    {
     "data": {
      "text/html": [
       "2003"
      ],
      "text/latex": [
       "2003"
      ],
      "text/markdown": [
       "2003"
      ],
      "text/plain": [
       "[1] 2003"
      ]
     },
     "metadata": {},
     "output_type": "display_data"
    },
    {
     "data": {
      "text/html": [
       "1967.04747081712"
      ],
      "text/latex": [
       "1967.04747081712"
      ],
      "text/markdown": [
       "1967.04747081712"
      ],
      "text/plain": [
       "[1] 1967.047"
      ]
     },
     "metadata": {},
     "output_type": "display_data"
    },
    {
     "data": {
      "text/html": [
       "18.2944100607406"
      ],
      "text/latex": [
       "18.2944100607406"
      ],
      "text/markdown": [
       "18.2944100607406"
      ],
      "text/plain": [
       "[1] 18.29441"
      ]
     },
     "metadata": {},
     "output_type": "display_data"
    },
    {
     "data": {
      "text/html": [
       "1285"
      ],
      "text/latex": [
       "1285"
      ],
      "text/markdown": [
       "1285"
      ],
      "text/plain": [
       "[1] 1285"
      ]
     },
     "metadata": {},
     "output_type": "display_data"
    }
   ],
   "source": [
    "min(ess18$yrbrn) # Returns smallest value\n",
    "max(ess18$yrbrn) # Returns largest value\n",
    "mean(ess18$yrbrn) # Returns mean value\n",
    "sd(ess18$yrbrn) # Standardafvigelse\n",
    "length(ess18$yrbrn) # Returns number of values in the vector (corresponding to the number of rows)"
   ]
  },
  {
   "cell_type": "markdown",
   "metadata": {},
   "source": [
    "Husk at vi med R kan lagre hvad som helst som objekt. Hvis vi fx løbende får brug for at kalde en statistik frem, kan vi lagre den som et objekt for sig:"
   ]
  },
  {
   "cell_type": "code",
   "execution_count": 36,
   "metadata": {},
   "outputs": [],
   "source": [
    "mean_yrbrn <- mean(ess18$yrbrn)"
   ]
  },
  {
   "cell_type": "code",
   "execution_count": 37,
   "metadata": {},
   "outputs": [
    {
     "data": {
      "text/html": [
       "1967.04747081712"
      ],
      "text/latex": [
       "1967.04747081712"
      ],
      "text/markdown": [
       "1967.04747081712"
      ],
      "text/plain": [
       "[1] 1967.047"
      ]
     },
     "metadata": {},
     "output_type": "display_data"
    }
   ],
   "source": [
    "mean_yrbrn"
   ]
  },
  {
   "cell_type": "markdown",
   "metadata": {
    "slideshow": {
     "slide_type": "slide"
    }
   },
   "source": [
    "`unique()` returns the unique values in a vector (useful for getting familiar with a variable):"
   ]
  },
  {
   "cell_type": "code",
   "execution_count": 39,
   "metadata": {
    "slideshow": {
     "slide_type": "fragment"
    }
   },
   "outputs": [
    {
     "data": {
      "text/html": [
       "<style>\n",
       ".list-inline {list-style: none; margin:0; padding: 0}\n",
       ".list-inline>li {display: inline-block}\n",
       ".list-inline>li:not(:last-child)::after {content: \"\\00b7\"; padding: 0 .5ex}\n",
       "</style>\n",
       "<ol class=list-inline><li>'Good'</li><li>'Fair'</li><li>'Very bad'</li><li>'Very good'</li><li>'Bad'</li><li>NA</li></ol>\n"
      ],
      "text/latex": [
       "\\begin{enumerate*}\n",
       "\\item 'Good'\n",
       "\\item 'Fair'\n",
       "\\item 'Very bad'\n",
       "\\item 'Very good'\n",
       "\\item 'Bad'\n",
       "\\item NA\n",
       "\\end{enumerate*}\n"
      ],
      "text/markdown": [
       "1. 'Good'\n",
       "2. 'Fair'\n",
       "3. 'Very bad'\n",
       "4. 'Very good'\n",
       "5. 'Bad'\n",
       "6. NA\n",
       "\n",
       "\n"
      ],
      "text/plain": [
       "[1] \"Good\"      \"Fair\"      \"Very bad\"  \"Very good\" \"Bad\"       NA         "
      ]
     },
     "metadata": {},
     "output_type": "display_data"
    }
   ],
   "source": [
    "unique(ess18$health)"
   ]
  },
  {
   "cell_type": "markdown",
   "metadata": {
    "slideshow": {
     "slide_type": "slide"
    }
   },
   "source": [
    "## Missing values\n",
    "\n",
    "Data will often contain missing values. Missing values can denote a lot of things like a non-response, an invalid answer, an inaccessible information and so on. \n",
    "\n",
    "Missing values are used to assign a value without assigning a value. They are denotes as `NA` in R.\n",
    "\n",
    "NOTE: It is not given that missing values are actually coded as missing in the dataset. Conventions between software solutions vary, so often specific values (like 777777 or 888888) are used to indicate missing values."
   ]
  },
  {
   "cell_type": "markdown",
   "metadata": {},
   "source": [
    "The `summary()` function includes information about the number of missing values:"
   ]
  },
  {
   "cell_type": "code",
   "execution_count": 40,
   "metadata": {
    "slideshow": {
     "slide_type": "fragment"
    }
   },
   "outputs": [
    {
     "data": {
      "text/plain": [
       "   Min. 1st Qu.  Median    Mean 3rd Qu.    Max.    NA's \n",
       "  18.00   51.00   59.00   63.32   70.00  613.00       5 "
      ]
     },
     "metadata": {},
     "output_type": "display_data"
    }
   ],
   "source": [
    "summary(ess18$inwtm)"
   ]
  },
  {
   "cell_type": "markdown",
   "metadata": {
    "slideshow": {
     "slide_type": "slide"
    }
   },
   "source": [
    "Missing values are neither high or low in R. This means that it is not possible to perform computations on missing values:"
   ]
  },
  {
   "cell_type": "code",
   "execution_count": 33,
   "metadata": {
    "slideshow": {
     "slide_type": "fragment"
    }
   },
   "outputs": [
    {
     "data": {
      "text/html": [
       "&lt;NA&gt;"
      ],
      "text/latex": [
       "<NA>"
      ],
      "text/markdown": [
       "&lt;NA&gt;"
      ],
      "text/plain": [
       "[1] NA"
      ]
     },
     "metadata": {},
     "output_type": "display_data"
    },
    {
     "data": {
      "text/html": [
       "&lt;NA&gt;"
      ],
      "text/latex": [
       "<NA>"
      ],
      "text/markdown": [
       "&lt;NA&gt;"
      ],
      "text/plain": [
       "[1] NA"
      ]
     },
     "metadata": {},
     "output_type": "display_data"
    },
    {
     "data": {
      "text/html": [
       "&lt;NA&gt;"
      ],
      "text/latex": [
       "<NA>"
      ],
      "text/markdown": [
       "&lt;NA&gt;"
      ],
      "text/plain": [
       "[1] NA"
      ]
     },
     "metadata": {},
     "output_type": "display_data"
    }
   ],
   "source": [
    "min(ess18$inwtm) # NA is neither high or low - returns NA\n",
    "max(ess18$inwtm) # NA is neither high or low - returns NA\n",
    "mean(ess18$inwtm) # NA is neither high or low - returns NA"
   ]
  },
  {
   "cell_type": "markdown",
   "metadata": {
    "slideshow": {
     "slide_type": "fragment"
    }
   },
   "source": [
    "Usually one will have to deal with the missing values in some ways - either by replacing them or removing them.\n",
    "\n",
    "Some functions have a built-in arguement for dealing with missing values."
   ]
  },
  {
   "cell_type": "markdown",
   "metadata": {
    "slideshow": {
     "slide_type": "slide"
    }
   },
   "source": [
    "## Using the help function\n",
    "\n",
    "All R functions and commands are thoroughly documented so you do not have to remember what every function does or even how it should be written.\n",
    "\n",
    "Every function and command in R has its own help file. The help file describes how to use the various functions and commands.\n",
    "\n",
    "The help file for a specific function is accessed using the operator `?` (also works for the built-in datasets):"
   ]
  },
  {
   "cell_type": "markdown",
   "metadata": {
    "slideshow": {
     "slide_type": "fragment"
    }
   },
   "source": [
    "Looking at the help file for `max()`, we can see an arguement called `na.rm`. We can see that this arguement is used for removing missing values when performing the calculation.\n",
    "\n",
    "Notice that in the help file, the arguement is set `na.rm = FALSE`. This is the default setting of the function, meaning that unless otherwise specified, the function will run with the arguement set to `FALSE` (missing values will be kep)\n",
    "\n",
    "Changing the arguement when calling the function, the missing values are removed:"
   ]
  },
  {
   "cell_type": "code",
   "execution_count": 41,
   "metadata": {
    "slideshow": {
     "slide_type": "fragment"
    }
   },
   "outputs": [
    {
     "data": {
      "text/html": [
       "613"
      ],
      "text/latex": [
       "613"
      ],
      "text/markdown": [
       "613"
      ],
      "text/plain": [
       "[1] 613"
      ]
     },
     "metadata": {},
     "output_type": "display_data"
    }
   ],
   "source": [
    "max(ess18$inwtm, na.rm = TRUE)"
   ]
  },
  {
   "cell_type": "markdown",
   "metadata": {
    "slideshow": {
     "slide_type": "slide"
    }
   },
   "source": [
    "# EXERCISE : DESCRIPTIVE MEASURES\n",
    "\n",
    "Use some of the functions for calculating descriptive measures to calculate the following:\n",
    "\n",
    "- The mean (`mean()`) time used on the internet per day (`netustm`)\n",
    "- The highest value (`max()`) for time used on the internet per day (`netustm`)\n",
    "- The median (`median()`) for monthly gross pay (`grspnum`)\n",
    "\n",
    "NOTE! The variables may contain missing values. Consult the documentation of the functions to see how to account for that."
   ]
  },
  {
   "cell_type": "markdown",
   "metadata": {
    "slideshow": {
     "slide_type": "subslide"
    }
   },
   "source": [
    "# EXERCISE 3: DESCRIPTIVE MEASURES"
   ]
  },
  {
   "cell_type": "code",
   "execution_count": 42,
   "metadata": {
    "slideshow": {
     "slide_type": "fragment"
    }
   },
   "outputs": [
    {
     "data": {
      "text/html": [
       "227.431216931217"
      ],
      "text/latex": [
       "227.431216931217"
      ],
      "text/markdown": [
       "227.431216931217"
      ],
      "text/plain": [
       "[1] 227.4312"
      ]
     },
     "metadata": {},
     "output_type": "display_data"
    },
    {
     "data": {
      "text/html": [
       "1020"
      ],
      "text/latex": [
       "1020"
      ],
      "text/markdown": [
       "1020"
      ],
      "text/plain": [
       "[1] 1020"
      ]
     },
     "metadata": {},
     "output_type": "display_data"
    },
    {
     "data": {
      "text/html": [
       "32000"
      ],
      "text/latex": [
       "32000"
      ],
      "text/markdown": [
       "32000"
      ],
      "text/plain": [
       "[1] 32000"
      ]
     },
     "metadata": {},
     "output_type": "display_data"
    }
   ],
   "source": [
    "mean(ess18$netustm, na.rm = TRUE)\n",
    "max(ess18$netustm, na.rm = TRUE)\n",
    "median(ess18$grspnum, na.rm = TRUE)"
   ]
  },
  {
   "cell_type": "markdown",
   "metadata": {
    "slideshow": {
     "slide_type": "slide"
    }
   },
   "source": [
    "# Data handling in R\n",
    "\n",
    "When working with data, we usually need to perform some introductory data handling steps before being able to conduct our analysis.\n",
    "\n",
    "This could include:\n",
    "\n",
    "- Filtering observations and variables (also refered to as subsetting)\n",
    "- Creating new variables\n",
    "- Recoding values\n",
    "\n",
    "R supports all these operations both from \"base\" operations but the functions available in the tidyverse (https://www.tidyverse.org/) are far more intuitive functions."
   ]
  },
  {
   "cell_type": "markdown",
   "metadata": {
    "slideshow": {
     "slide_type": "slide"
    }
   },
   "source": [
    "## Subsetting data with `dplyr` \n",
    "\n",
    "The package `dplyr` contains various commands for filtering and subsetting data. The functions `filter` and `select` can be used to subset data instead of base R commands.\n",
    "\n",
    "`filter()` takes a dataset and a logical statement using a variable in the data. It returns a dataset with the observations that meet the criteria.\n",
    "\n",
    "`select()` takes a dataset and a list of variable names. It returns the dataset and the specified variables.\n",
    "\n",
    "NOTE: There is also a base R function called `filter()`. This function is overwritten when importing `dplyr`."
   ]
  },
  {
   "cell_type": "markdown",
   "metadata": {},
   "source": [
    "### Filtering observations with `filter`"
   ]
  },
  {
   "cell_type": "code",
   "execution_count": 43,
   "metadata": {
    "slideshow": {
     "slide_type": "slide"
    }
   },
   "outputs": [
    {
     "name": "stderr",
     "output_type": "stream",
     "text": [
      "\n",
      "Vedhæfter pakke: 'dplyr'\n",
      "\n",
      "\n",
      "De følgende objekter er maskerede fra 'package:stats':\n",
      "\n",
      "    filter, lag\n",
      "\n",
      "\n",
      "De følgende objekter er maskerede fra 'package:base':\n",
      "\n",
      "    intersect, setdiff, setequal, union\n",
      "\n",
      "\n"
     ]
    },
    {
     "data": {
      "text/html": [
       "<table class=\"dataframe\">\n",
       "<caption>A tibble: 6 × 17</caption>\n",
       "<thead>\n",
       "\t<tr><th scope=col>idno</th><th scope=col>netustm</th><th scope=col>ppltrst</th><th scope=col>vote</th><th scope=col>prtvtddk</th><th scope=col>health</th><th scope=col>lvpntyr</th><th scope=col>tygrtr</th><th scope=col>gndr</th><th scope=col>yrbrn</th><th scope=col>edlvddk</th><th scope=col>eduyrs</th><th scope=col>wkhct</th><th scope=col>wkhtot</th><th scope=col>grspnum</th><th scope=col>frlgrsp</th><th scope=col>inwtm</th></tr>\n",
       "\t<tr><th scope=col>&lt;dbl&gt;</th><th scope=col>&lt;dbl&gt;</th><th scope=col>&lt;dbl&gt;</th><th scope=col>&lt;chr&gt;</th><th scope=col>&lt;chr&gt;</th><th scope=col>&lt;chr&gt;</th><th scope=col>&lt;chr&gt;</th><th scope=col>&lt;chr&gt;</th><th scope=col>&lt;chr&gt;</th><th scope=col>&lt;dbl&gt;</th><th scope=col>&lt;chr&gt;</th><th scope=col>&lt;dbl&gt;</th><th scope=col>&lt;dbl&gt;</th><th scope=col>&lt;dbl&gt;</th><th scope=col>&lt;dbl&gt;</th><th scope=col>&lt;dbl&gt;</th><th scope=col>&lt;dbl&gt;</th></tr>\n",
       "</thead>\n",
       "<tbody>\n",
       "\t<tr><td> 5816</td><td> 90</td><td>7</td><td>Yes</td><td>SF Socialistisk Folkeparti - Socialist People's Party</td><td>Good     </td><td>1994</td><td>60                             </td><td>Male</td><td>1974</td><td>Mellemlang videregående uddannelse af 3-4 års varighed. Professionsbachelorer,</td><td>35</td><td>37</td><td>37</td><td>37000</td><td>35000</td><td>61</td></tr>\n",
       "\t<tr><td> 7887</td><td>360</td><td>8</td><td>Yes</td><td>Socialdemokratiet - The Social democrats             </td><td>Fair     </td><td>1983</td><td>55                             </td><td>Male</td><td>1958</td><td>Lang videregående uddannelse. Kandidatuddannelser af 5.-6. års varighed, F.eks</td><td>25</td><td>39</td><td>39</td><td>36000</td><td>42000</td><td>89</td></tr>\n",
       "\t<tr><td>12355</td><td>120</td><td>5</td><td>Yes</td><td>Socialdemokratiet - The Social democrats             </td><td>Fair     </td><td>1987</td><td>60                             </td><td>Male</td><td>1963</td><td>Faglig uddannelse (håndværk, handel, landbrug mv.), F.eks. Faglærte, Social-  </td><td>14</td><td>38</td><td>37</td><td>36000</td><td>38000</td><td>48</td></tr>\n",
       "\t<tr><td>16357</td><td>488</td><td>5</td><td>Yes</td><td>Dansk Folkeparti - Danish People's Party             </td><td>Very good</td><td>2013</td><td>50                             </td><td>Male</td><td>1991</td><td>Mellemlang videregående uddannelse af 3-4 års varighed. Professionsbachelorer,</td><td> 4</td><td>37</td><td>37</td><td>40000</td><td>   NA</td><td>50</td></tr>\n",
       "\t<tr><td>20724</td><td> 60</td><td>5</td><td>Yes</td><td>Venstre, Danmarks Liberale Parti - The Liberal Party </td><td>Good     </td><td>1981</td><td>Never too young                </td><td>Male</td><td>1958</td><td>Faglig uddannelse (håndværk, handel, landbrug mv.), F.eks. Faglærte, Social-  </td><td>14</td><td>37</td><td>40</td><td>28000</td><td>34000</td><td>65</td></tr>\n",
       "\t<tr><td>24928</td><td>120</td><td>8</td><td>Yes</td><td>Venstre, Danmarks Liberale Parti - The Liberal Party </td><td>Very good</td><td>1984</td><td>Should never retire permanently</td><td>Male</td><td>1965</td><td>Mellemlang videregående uddannelse af 3-4 års varighed. Professionsbachelorer,</td><td>19</td><td>NA</td><td>80</td><td>50000</td><td>   NA</td><td>77</td></tr>\n",
       "</tbody>\n",
       "</table>\n"
      ],
      "text/latex": [
       "A tibble: 6 × 17\n",
       "\\begin{tabular}{lllllllllllllllll}\n",
       " idno & netustm & ppltrst & vote & prtvtddk & health & lvpntyr & tygrtr & gndr & yrbrn & edlvddk & eduyrs & wkhct & wkhtot & grspnum & frlgrsp & inwtm\\\\\n",
       " <dbl> & <dbl> & <dbl> & <chr> & <chr> & <chr> & <chr> & <chr> & <chr> & <dbl> & <chr> & <dbl> & <dbl> & <dbl> & <dbl> & <dbl> & <dbl>\\\\\n",
       "\\hline\n",
       "\t  5816 &  90 & 7 & Yes & SF Socialistisk Folkeparti - Socialist People's Party & Good      & 1994 & 60                              & Male & 1974 & Mellemlang videregående uddannelse af 3-4 års varighed. Professionsbachelorer, & 35 & 37 & 37 & 37000 & 35000 & 61\\\\\n",
       "\t  7887 & 360 & 8 & Yes & Socialdemokratiet - The Social democrats              & Fair      & 1983 & 55                              & Male & 1958 & Lang videregående uddannelse. Kandidatuddannelser af 5.-6. års varighed, F.eks & 25 & 39 & 39 & 36000 & 42000 & 89\\\\\n",
       "\t 12355 & 120 & 5 & Yes & Socialdemokratiet - The Social democrats              & Fair      & 1987 & 60                              & Male & 1963 & Faglig uddannelse (håndværk, handel, landbrug mv.), F.eks. Faglærte, Social-   & 14 & 38 & 37 & 36000 & 38000 & 48\\\\\n",
       "\t 16357 & 488 & 5 & Yes & Dansk Folkeparti - Danish People's Party              & Very good & 2013 & 50                              & Male & 1991 & Mellemlang videregående uddannelse af 3-4 års varighed. Professionsbachelorer, &  4 & 37 & 37 & 40000 &    NA & 50\\\\\n",
       "\t 20724 &  60 & 5 & Yes & Venstre, Danmarks Liberale Parti - The Liberal Party  & Good      & 1981 & Never too young                 & Male & 1958 & Faglig uddannelse (håndværk, handel, landbrug mv.), F.eks. Faglærte, Social-   & 14 & 37 & 40 & 28000 & 34000 & 65\\\\\n",
       "\t 24928 & 120 & 8 & Yes & Venstre, Danmarks Liberale Parti - The Liberal Party  & Very good & 1984 & Should never retire permanently & Male & 1965 & Mellemlang videregående uddannelse af 3-4 års varighed. Professionsbachelorer, & 19 & NA & 80 & 50000 &    NA & 77\\\\\n",
       "\\end{tabular}\n"
      ],
      "text/markdown": [
       "\n",
       "A tibble: 6 × 17\n",
       "\n",
       "| idno &lt;dbl&gt; | netustm &lt;dbl&gt; | ppltrst &lt;dbl&gt; | vote &lt;chr&gt; | prtvtddk &lt;chr&gt; | health &lt;chr&gt; | lvpntyr &lt;chr&gt; | tygrtr &lt;chr&gt; | gndr &lt;chr&gt; | yrbrn &lt;dbl&gt; | edlvddk &lt;chr&gt; | eduyrs &lt;dbl&gt; | wkhct &lt;dbl&gt; | wkhtot &lt;dbl&gt; | grspnum &lt;dbl&gt; | frlgrsp &lt;dbl&gt; | inwtm &lt;dbl&gt; |\n",
       "|---|---|---|---|---|---|---|---|---|---|---|---|---|---|---|---|---|\n",
       "|  5816 |  90 | 7 | Yes | SF Socialistisk Folkeparti - Socialist People's Party | Good      | 1994 | 60                              | Male | 1974 | Mellemlang videregående uddannelse af 3-4 års varighed. Professionsbachelorer, | 35 | 37 | 37 | 37000 | 35000 | 61 |\n",
       "|  7887 | 360 | 8 | Yes | Socialdemokratiet - The Social democrats              | Fair      | 1983 | 55                              | Male | 1958 | Lang videregående uddannelse. Kandidatuddannelser af 5.-6. års varighed, F.eks | 25 | 39 | 39 | 36000 | 42000 | 89 |\n",
       "| 12355 | 120 | 5 | Yes | Socialdemokratiet - The Social democrats              | Fair      | 1987 | 60                              | Male | 1963 | Faglig uddannelse (håndværk, handel, landbrug mv.), F.eks. Faglærte, Social-   | 14 | 38 | 37 | 36000 | 38000 | 48 |\n",
       "| 16357 | 488 | 5 | Yes | Dansk Folkeparti - Danish People's Party              | Very good | 2013 | 50                              | Male | 1991 | Mellemlang videregående uddannelse af 3-4 års varighed. Professionsbachelorer, |  4 | 37 | 37 | 40000 |    NA | 50 |\n",
       "| 20724 |  60 | 5 | Yes | Venstre, Danmarks Liberale Parti - The Liberal Party  | Good      | 1981 | Never too young                 | Male | 1958 | Faglig uddannelse (håndværk, handel, landbrug mv.), F.eks. Faglærte, Social-   | 14 | 37 | 40 | 28000 | 34000 | 65 |\n",
       "| 24928 | 120 | 8 | Yes | Venstre, Danmarks Liberale Parti - The Liberal Party  | Very good | 1984 | Should never retire permanently | Male | 1965 | Mellemlang videregående uddannelse af 3-4 års varighed. Professionsbachelorer, | 19 | NA | 80 | 50000 |    NA | 77 |\n",
       "\n"
      ],
      "text/plain": [
       "  idno  netustm ppltrst vote\n",
       "1  5816  90     7       Yes \n",
       "2  7887 360     8       Yes \n",
       "3 12355 120     5       Yes \n",
       "4 16357 488     5       Yes \n",
       "5 20724  60     5       Yes \n",
       "6 24928 120     8       Yes \n",
       "  prtvtddk                                              health    lvpntyr\n",
       "1 SF Socialistisk Folkeparti - Socialist People's Party Good      1994   \n",
       "2 Socialdemokratiet - The Social democrats              Fair      1983   \n",
       "3 Socialdemokratiet - The Social democrats              Fair      1987   \n",
       "4 Dansk Folkeparti - Danish People's Party              Very good 2013   \n",
       "5 Venstre, Danmarks Liberale Parti - The Liberal Party  Good      1981   \n",
       "6 Venstre, Danmarks Liberale Parti - The Liberal Party  Very good 1984   \n",
       "  tygrtr                          gndr yrbrn\n",
       "1 60                              Male 1974 \n",
       "2 55                              Male 1958 \n",
       "3 60                              Male 1963 \n",
       "4 50                              Male 1991 \n",
       "5 Never too young                 Male 1958 \n",
       "6 Should never retire permanently Male 1965 \n",
       "  edlvddk                                                                       \n",
       "1 Mellemlang videregående uddannelse af 3-4 års varighed. Professionsbachelorer,\n",
       "2 Lang videregående uddannelse. Kandidatuddannelser af 5.-6. års varighed, F.eks\n",
       "3 Faglig uddannelse (håndværk, handel, landbrug mv.), F.eks. Faglærte, Social-  \n",
       "4 Mellemlang videregående uddannelse af 3-4 års varighed. Professionsbachelorer,\n",
       "5 Faglig uddannelse (håndværk, handel, landbrug mv.), F.eks. Faglærte, Social-  \n",
       "6 Mellemlang videregående uddannelse af 3-4 års varighed. Professionsbachelorer,\n",
       "  eduyrs wkhct wkhtot grspnum frlgrsp inwtm\n",
       "1 35     37    37     37000   35000   61   \n",
       "2 25     39    39     36000   42000   89   \n",
       "3 14     38    37     36000   38000   48   \n",
       "4  4     37    37     40000      NA   50   \n",
       "5 14     37    40     28000   34000   65   \n",
       "6 19     NA    80     50000      NA   77   "
      ]
     },
     "metadata": {},
     "output_type": "display_data"
    }
   ],
   "source": [
    "library(dplyr)\n",
    "\n",
    "ess18_male <- filter(ess18, gndr == 'Male') # Subset with only males\n",
    "\n",
    "head(ess18_male)"
   ]
  },
  {
   "cell_type": "markdown",
   "metadata": {},
   "source": [
    "Subset rows with people with more than 15 years of education:"
   ]
  },
  {
   "cell_type": "code",
   "execution_count": 50,
   "metadata": {},
   "outputs": [
    {
     "data": {
      "text/html": [
       "<table class=\"dataframe\">\n",
       "<caption>A tibble: 6 × 17</caption>\n",
       "<thead>\n",
       "\t<tr><th scope=col>idno</th><th scope=col>netustm</th><th scope=col>ppltrst</th><th scope=col>vote</th><th scope=col>prtvtddk</th><th scope=col>health</th><th scope=col>lvpntyr</th><th scope=col>tygrtr</th><th scope=col>gndr</th><th scope=col>yrbrn</th><th scope=col>edlvddk</th><th scope=col>eduyrs</th><th scope=col>wkhct</th><th scope=col>wkhtot</th><th scope=col>grspnum</th><th scope=col>frlgrsp</th><th scope=col>inwtm</th></tr>\n",
       "\t<tr><th scope=col>&lt;dbl&gt;</th><th scope=col>&lt;dbl&gt;</th><th scope=col>&lt;dbl&gt;</th><th scope=col>&lt;chr&gt;</th><th scope=col>&lt;chr&gt;</th><th scope=col>&lt;chr&gt;</th><th scope=col>&lt;chr&gt;</th><th scope=col>&lt;chr&gt;</th><th scope=col>&lt;chr&gt;</th><th scope=col>&lt;dbl&gt;</th><th scope=col>&lt;chr&gt;</th><th scope=col>&lt;dbl&gt;</th><th scope=col>&lt;dbl&gt;</th><th scope=col>&lt;dbl&gt;</th><th scope=col>&lt;dbl&gt;</th><th scope=col>&lt;dbl&gt;</th><th scope=col>&lt;dbl&gt;</th></tr>\n",
       "</thead>\n",
       "<tbody>\n",
       "\t<tr><td> 5816</td><td> 90</td><td>7</td><td>Yes</td><td>SF Socialistisk Folkeparti - Socialist People's Party</td><td>Good     </td><td>1994</td><td>60                             </td><td>Male  </td><td>1974</td><td>Mellemlang videregående uddannelse af 3-4 års varighed. Professionsbachelorer,</td><td>35</td><td>37</td><td>37</td><td>37000</td><td>35000</td><td>61</td></tr>\n",
       "\t<tr><td> 7887</td><td>360</td><td>8</td><td>Yes</td><td>Socialdemokratiet - The Social democrats             </td><td>Fair     </td><td>1983</td><td>55                             </td><td>Male  </td><td>1958</td><td>Lang videregående uddannelse. Kandidatuddannelser af 5.-6. års varighed, F.eks</td><td>25</td><td>39</td><td>39</td><td>36000</td><td>42000</td><td>89</td></tr>\n",
       "\t<tr><td>19970</td><td>240</td><td>9</td><td>Yes</td><td>Liberal Alliance - Liberal Alliance                  </td><td>Very good</td><td>1984</td><td>60                             </td><td>Female</td><td>1966</td><td>Lang videregående uddannelse. Kandidatuddannelser af 5.-6. års varighed, F.eks</td><td>21</td><td>36</td><td>36</td><td>85000</td><td>   NA</td><td>42</td></tr>\n",
       "\t<tr><td>22248</td><td>121</td><td>9</td><td>Yes</td><td>Socialdemokratiet - The Social democrats             </td><td>Good     </td><td>1970</td><td>Never too young                </td><td>Female</td><td>1950</td><td>Mellemlang videregående uddannelse af 3-4 års varighed. Professionsbachelorer,</td><td>19</td><td>37</td><td>37</td><td>   NA</td><td>   NA</td><td>62</td></tr>\n",
       "\t<tr><td>24928</td><td>120</td><td>8</td><td>Yes</td><td>Venstre, Danmarks Liberale Parti - The Liberal Party </td><td>Very good</td><td>1984</td><td>Should never retire permanently</td><td>Male  </td><td>1965</td><td>Mellemlang videregående uddannelse af 3-4 års varighed. Professionsbachelorer,</td><td>19</td><td>NA</td><td>80</td><td>50000</td><td>   NA</td><td>77</td></tr>\n",
       "\t<tr><td>27211</td><td>120</td><td>7</td><td>Yes</td><td>Kristendemokraterne - Christian Democrats            </td><td>Fair     </td><td>1983</td><td>60                             </td><td>Male  </td><td>1969</td><td>Mellemlang videregående uddannelse af 3-4 års varighed. Professionsbachelorer,</td><td>16</td><td>15</td><td>17</td><td>26000</td><td>   NA</td><td>99</td></tr>\n",
       "</tbody>\n",
       "</table>\n"
      ],
      "text/latex": [
       "A tibble: 6 × 17\n",
       "\\begin{tabular}{lllllllllllllllll}\n",
       " idno & netustm & ppltrst & vote & prtvtddk & health & lvpntyr & tygrtr & gndr & yrbrn & edlvddk & eduyrs & wkhct & wkhtot & grspnum & frlgrsp & inwtm\\\\\n",
       " <dbl> & <dbl> & <dbl> & <chr> & <chr> & <chr> & <chr> & <chr> & <chr> & <dbl> & <chr> & <dbl> & <dbl> & <dbl> & <dbl> & <dbl> & <dbl>\\\\\n",
       "\\hline\n",
       "\t  5816 &  90 & 7 & Yes & SF Socialistisk Folkeparti - Socialist People's Party & Good      & 1994 & 60                              & Male   & 1974 & Mellemlang videregående uddannelse af 3-4 års varighed. Professionsbachelorer, & 35 & 37 & 37 & 37000 & 35000 & 61\\\\\n",
       "\t  7887 & 360 & 8 & Yes & Socialdemokratiet - The Social democrats              & Fair      & 1983 & 55                              & Male   & 1958 & Lang videregående uddannelse. Kandidatuddannelser af 5.-6. års varighed, F.eks & 25 & 39 & 39 & 36000 & 42000 & 89\\\\\n",
       "\t 19970 & 240 & 9 & Yes & Liberal Alliance - Liberal Alliance                   & Very good & 1984 & 60                              & Female & 1966 & Lang videregående uddannelse. Kandidatuddannelser af 5.-6. års varighed, F.eks & 21 & 36 & 36 & 85000 &    NA & 42\\\\\n",
       "\t 22248 & 121 & 9 & Yes & Socialdemokratiet - The Social democrats              & Good      & 1970 & Never too young                 & Female & 1950 & Mellemlang videregående uddannelse af 3-4 års varighed. Professionsbachelorer, & 19 & 37 & 37 &    NA &    NA & 62\\\\\n",
       "\t 24928 & 120 & 8 & Yes & Venstre, Danmarks Liberale Parti - The Liberal Party  & Very good & 1984 & Should never retire permanently & Male   & 1965 & Mellemlang videregående uddannelse af 3-4 års varighed. Professionsbachelorer, & 19 & NA & 80 & 50000 &    NA & 77\\\\\n",
       "\t 27211 & 120 & 7 & Yes & Kristendemokraterne - Christian Democrats             & Fair      & 1983 & 60                              & Male   & 1969 & Mellemlang videregående uddannelse af 3-4 års varighed. Professionsbachelorer, & 16 & 15 & 17 & 26000 &    NA & 99\\\\\n",
       "\\end{tabular}\n"
      ],
      "text/markdown": [
       "\n",
       "A tibble: 6 × 17\n",
       "\n",
       "| idno &lt;dbl&gt; | netustm &lt;dbl&gt; | ppltrst &lt;dbl&gt; | vote &lt;chr&gt; | prtvtddk &lt;chr&gt; | health &lt;chr&gt; | lvpntyr &lt;chr&gt; | tygrtr &lt;chr&gt; | gndr &lt;chr&gt; | yrbrn &lt;dbl&gt; | edlvddk &lt;chr&gt; | eduyrs &lt;dbl&gt; | wkhct &lt;dbl&gt; | wkhtot &lt;dbl&gt; | grspnum &lt;dbl&gt; | frlgrsp &lt;dbl&gt; | inwtm &lt;dbl&gt; |\n",
       "|---|---|---|---|---|---|---|---|---|---|---|---|---|---|---|---|---|\n",
       "|  5816 |  90 | 7 | Yes | SF Socialistisk Folkeparti - Socialist People's Party | Good      | 1994 | 60                              | Male   | 1974 | Mellemlang videregående uddannelse af 3-4 års varighed. Professionsbachelorer, | 35 | 37 | 37 | 37000 | 35000 | 61 |\n",
       "|  7887 | 360 | 8 | Yes | Socialdemokratiet - The Social democrats              | Fair      | 1983 | 55                              | Male   | 1958 | Lang videregående uddannelse. Kandidatuddannelser af 5.-6. års varighed, F.eks | 25 | 39 | 39 | 36000 | 42000 | 89 |\n",
       "| 19970 | 240 | 9 | Yes | Liberal Alliance - Liberal Alliance                   | Very good | 1984 | 60                              | Female | 1966 | Lang videregående uddannelse. Kandidatuddannelser af 5.-6. års varighed, F.eks | 21 | 36 | 36 | 85000 |    NA | 42 |\n",
       "| 22248 | 121 | 9 | Yes | Socialdemokratiet - The Social democrats              | Good      | 1970 | Never too young                 | Female | 1950 | Mellemlang videregående uddannelse af 3-4 års varighed. Professionsbachelorer, | 19 | 37 | 37 |    NA |    NA | 62 |\n",
       "| 24928 | 120 | 8 | Yes | Venstre, Danmarks Liberale Parti - The Liberal Party  | Very good | 1984 | Should never retire permanently | Male   | 1965 | Mellemlang videregående uddannelse af 3-4 års varighed. Professionsbachelorer, | 19 | NA | 80 | 50000 |    NA | 77 |\n",
       "| 27211 | 120 | 7 | Yes | Kristendemokraterne - Christian Democrats             | Fair      | 1983 | 60                              | Male   | 1969 | Mellemlang videregående uddannelse af 3-4 års varighed. Professionsbachelorer, | 16 | 15 | 17 | 26000 |    NA | 99 |\n",
       "\n"
      ],
      "text/plain": [
       "  idno  netustm ppltrst vote\n",
       "1  5816  90     7       Yes \n",
       "2  7887 360     8       Yes \n",
       "3 19970 240     9       Yes \n",
       "4 22248 121     9       Yes \n",
       "5 24928 120     8       Yes \n",
       "6 27211 120     7       Yes \n",
       "  prtvtddk                                              health    lvpntyr\n",
       "1 SF Socialistisk Folkeparti - Socialist People's Party Good      1994   \n",
       "2 Socialdemokratiet - The Social democrats              Fair      1983   \n",
       "3 Liberal Alliance - Liberal Alliance                   Very good 1984   \n",
       "4 Socialdemokratiet - The Social democrats              Good      1970   \n",
       "5 Venstre, Danmarks Liberale Parti - The Liberal Party  Very good 1984   \n",
       "6 Kristendemokraterne - Christian Democrats             Fair      1983   \n",
       "  tygrtr                          gndr   yrbrn\n",
       "1 60                              Male   1974 \n",
       "2 55                              Male   1958 \n",
       "3 60                              Female 1966 \n",
       "4 Never too young                 Female 1950 \n",
       "5 Should never retire permanently Male   1965 \n",
       "6 60                              Male   1969 \n",
       "  edlvddk                                                                       \n",
       "1 Mellemlang videregående uddannelse af 3-4 års varighed. Professionsbachelorer,\n",
       "2 Lang videregående uddannelse. Kandidatuddannelser af 5.-6. års varighed, F.eks\n",
       "3 Lang videregående uddannelse. Kandidatuddannelser af 5.-6. års varighed, F.eks\n",
       "4 Mellemlang videregående uddannelse af 3-4 års varighed. Professionsbachelorer,\n",
       "5 Mellemlang videregående uddannelse af 3-4 års varighed. Professionsbachelorer,\n",
       "6 Mellemlang videregående uddannelse af 3-4 års varighed. Professionsbachelorer,\n",
       "  eduyrs wkhct wkhtot grspnum frlgrsp inwtm\n",
       "1 35     37    37     37000   35000   61   \n",
       "2 25     39    39     36000   42000   89   \n",
       "3 21     36    36     85000      NA   42   \n",
       "4 19     37    37        NA      NA   62   \n",
       "5 19     NA    80     50000      NA   77   \n",
       "6 16     15    17     26000      NA   99   "
      ]
     },
     "metadata": {},
     "output_type": "display_data"
    }
   ],
   "source": [
    "ess18_edusub <- filter(ess18, eduyrs > 15) \n",
    "\n",
    "head(ess18_edusub)"
   ]
  },
  {
   "cell_type": "markdown",
   "metadata": {
    "slideshow": {
     "slide_type": "slide"
    }
   },
   "source": [
    "### Filtering with booleans/logical values\n",
    "\n",
    "Normally we do not know the rowindex of the values we want to keep. Rather we want to filter observations based on a certain criteria. \n",
    "\n",
    "In R this is done via the use of \"booleans\" or \"logical values\". These are values that are either `TRUE` or `FALSE`.\n",
    "\n",
    "A number of operations in R always return a logical value:\n",
    "\n",
    "- `>`\n",
    "- `>=`\n",
    "- `<`\n",
    "- `<=`\n",
    "- `==`\n",
    "- `!=`"
   ]
  },
  {
   "cell_type": "code",
   "execution_count": 44,
   "metadata": {
    "slideshow": {
     "slide_type": "fragment"
    }
   },
   "outputs": [
    {
     "data": {
      "text/html": [
       "TRUE"
      ],
      "text/latex": [
       "TRUE"
      ],
      "text/markdown": [
       "TRUE"
      ],
      "text/plain": [
       "[1] TRUE"
      ]
     },
     "metadata": {},
     "output_type": "display_data"
    }
   ],
   "source": [
    "42 > 10"
   ]
  },
  {
   "cell_type": "code",
   "execution_count": 45,
   "metadata": {
    "slideshow": {
     "slide_type": "fragment"
    }
   },
   "outputs": [
    {
     "data": {
      "text/html": [
       "FALSE"
      ],
      "text/latex": [
       "FALSE"
      ],
      "text/markdown": [
       "FALSE"
      ],
      "text/plain": [
       "[1] FALSE"
      ]
     },
     "metadata": {},
     "output_type": "display_data"
    }
   ],
   "source": [
    "10 != 10"
   ]
  },
  {
   "cell_type": "markdown",
   "metadata": {},
   "source": [
    "### Selecting columns/variables with `select`"
   ]
  },
  {
   "cell_type": "code",
   "execution_count": 44,
   "metadata": {
    "slideshow": {
     "slide_type": "slide"
    }
   },
   "outputs": [
    {
     "data": {
      "text/html": [
       "<table class=\"dataframe\">\n",
       "<caption>A tibble: 6 × 4</caption>\n",
       "<thead>\n",
       "\t<tr><th scope=col>idno</th><th scope=col>gndr</th><th scope=col>yrbrn</th><th scope=col>edlvddk</th></tr>\n",
       "\t<tr><th scope=col>&lt;dbl&gt;</th><th scope=col>&lt;chr&gt;</th><th scope=col>&lt;dbl&gt;</th><th scope=col>&lt;chr&gt;</th></tr>\n",
       "</thead>\n",
       "<tbody>\n",
       "\t<tr><td> 5816</td><td>Male</td><td>1974</td><td>Mellemlang videregående uddannelse af 3-4 års varighed. Professionsbachelorer,</td></tr>\n",
       "\t<tr><td> 7887</td><td>Male</td><td>1958</td><td>Lang videregående uddannelse. Kandidatuddannelser af 5.-6. års varighed, F.eks</td></tr>\n",
       "\t<tr><td>12355</td><td>Male</td><td>1963</td><td>Faglig uddannelse (håndværk, handel, landbrug mv.), F.eks. Faglærte, Social-  </td></tr>\n",
       "\t<tr><td>16357</td><td>Male</td><td>1991</td><td>Mellemlang videregående uddannelse af 3-4 års varighed. Professionsbachelorer,</td></tr>\n",
       "\t<tr><td>20724</td><td>Male</td><td>1958</td><td>Faglig uddannelse (håndværk, handel, landbrug mv.), F.eks. Faglærte, Social-  </td></tr>\n",
       "\t<tr><td>24928</td><td>Male</td><td>1965</td><td>Mellemlang videregående uddannelse af 3-4 års varighed. Professionsbachelorer,</td></tr>\n",
       "</tbody>\n",
       "</table>\n"
      ],
      "text/latex": [
       "A tibble: 6 × 4\n",
       "\\begin{tabular}{llll}\n",
       " idno & gndr & yrbrn & edlvddk\\\\\n",
       " <dbl> & <chr> & <dbl> & <chr>\\\\\n",
       "\\hline\n",
       "\t  5816 & Male & 1974 & Mellemlang videregående uddannelse af 3-4 års varighed. Professionsbachelorer,\\\\\n",
       "\t  7887 & Male & 1958 & Lang videregående uddannelse. Kandidatuddannelser af 5.-6. års varighed, F.eks\\\\\n",
       "\t 12355 & Male & 1963 & Faglig uddannelse (håndværk, handel, landbrug mv.), F.eks. Faglærte, Social-  \\\\\n",
       "\t 16357 & Male & 1991 & Mellemlang videregående uddannelse af 3-4 års varighed. Professionsbachelorer,\\\\\n",
       "\t 20724 & Male & 1958 & Faglig uddannelse (håndværk, handel, landbrug mv.), F.eks. Faglærte, Social-  \\\\\n",
       "\t 24928 & Male & 1965 & Mellemlang videregående uddannelse af 3-4 års varighed. Professionsbachelorer,\\\\\n",
       "\\end{tabular}\n"
      ],
      "text/markdown": [
       "\n",
       "A tibble: 6 × 4\n",
       "\n",
       "| idno &lt;dbl&gt; | gndr &lt;chr&gt; | yrbrn &lt;dbl&gt; | edlvddk &lt;chr&gt; |\n",
       "|---|---|---|---|\n",
       "|  5816 | Male | 1974 | Mellemlang videregående uddannelse af 3-4 års varighed. Professionsbachelorer, |\n",
       "|  7887 | Male | 1958 | Lang videregående uddannelse. Kandidatuddannelser af 5.-6. års varighed, F.eks |\n",
       "| 12355 | Male | 1963 | Faglig uddannelse (håndværk, handel, landbrug mv.), F.eks. Faglærte, Social-   |\n",
       "| 16357 | Male | 1991 | Mellemlang videregående uddannelse af 3-4 års varighed. Professionsbachelorer, |\n",
       "| 20724 | Male | 1958 | Faglig uddannelse (håndværk, handel, landbrug mv.), F.eks. Faglærte, Social-   |\n",
       "| 24928 | Male | 1965 | Mellemlang videregående uddannelse af 3-4 års varighed. Professionsbachelorer, |\n",
       "\n"
      ],
      "text/plain": [
       "  idno  gndr yrbrn\n",
       "1  5816 Male 1974 \n",
       "2  7887 Male 1958 \n",
       "3 12355 Male 1963 \n",
       "4 16357 Male 1991 \n",
       "5 20724 Male 1958 \n",
       "6 24928 Male 1965 \n",
       "  edlvddk                                                                       \n",
       "1 Mellemlang videregående uddannelse af 3-4 års varighed. Professionsbachelorer,\n",
       "2 Lang videregående uddannelse. Kandidatuddannelser af 5.-6. års varighed, F.eks\n",
       "3 Faglig uddannelse (håndværk, handel, landbrug mv.), F.eks. Faglærte, Social-  \n",
       "4 Mellemlang videregående uddannelse af 3-4 års varighed. Professionsbachelorer,\n",
       "5 Faglig uddannelse (håndværk, handel, landbrug mv.), F.eks. Faglærte, Social-  \n",
       "6 Mellemlang videregående uddannelse af 3-4 års varighed. Professionsbachelorer,"
      ]
     },
     "metadata": {},
     "output_type": "display_data"
    }
   ],
   "source": [
    "ess18_male_subset <- select(ess18_male, idno, gndr, yrbrn, edlvddk) # Selecting specific variables\n",
    "\n",
    "head(ess18_male_subset)"
   ]
  },
  {
   "cell_type": "markdown",
   "metadata": {
    "slideshow": {
     "slide_type": "slide"
    }
   },
   "source": [
    "# EXERCISE 3: FILTERING AND SELECTING\n",
    "\n",
    "1. Create a subset of the data containing females born after 1980 with the variables: `idno`, `gndr`, `yrbrn`, `netustm`\n",
    "\n",
    "2. Use `head()` to check if the subset looks correct\n",
    "\n",
    "2. Calculate the mean time used on the internet per day (`netustm`) for the subset\n",
    "\n",
    "\n",
    "## Bonus exercise\n",
    "\n",
    "1. Create a subset for males born after 1980\n",
    "2. Calculate the mean time used on the internet per day for this subset - is it higher or lower than the subset for females?"
   ]
  },
  {
   "cell_type": "markdown",
   "metadata": {
    "slideshow": {
     "slide_type": "subslide"
    }
   },
   "source": [
    "# EXERCISE 3: FILTERING AND SELECTING"
   ]
  },
  {
   "cell_type": "code",
   "execution_count": 46,
   "metadata": {
    "slideshow": {
     "slide_type": "fragment"
    }
   },
   "outputs": [],
   "source": [
    "ess18_female_subset <- filter(ess18, gndr == 'Female', yrbrn > 1980)\n",
    "ess18_female_subset <- select(ess18_female_subset, idno, gndr, yrbrn, netustm)\n",
    "\n",
    "\n",
    "ess18_male_subset <- filter(ess18, gndr == 'Male', yrbrn > 1980)\n",
    "ess18_male_subset <- select(ess18_male_subset, idno, gndr, yrbrn, netustm)"
   ]
  },
  {
   "cell_type": "code",
   "execution_count": 47,
   "metadata": {
    "slideshow": {
     "slide_type": "fragment"
    }
   },
   "outputs": [
    {
     "data": {
      "text/html": [
       "305.27950310559"
      ],
      "text/latex": [
       "305.27950310559"
      ],
      "text/markdown": [
       "305.27950310559"
      ],
      "text/plain": [
       "[1] 305.2795"
      ]
     },
     "metadata": {},
     "output_type": "display_data"
    }
   ],
   "source": [
    "mean(ess18_female_subset$netustm, na.rm = TRUE)"
   ]
  },
  {
   "cell_type": "code",
   "execution_count": 48,
   "metadata": {
    "slideshow": {
     "slide_type": "fragment"
    }
   },
   "outputs": [
    {
     "data": {
      "text/html": [
       "322.831460674157"
      ],
      "text/latex": [
       "322.831460674157"
      ],
      "text/markdown": [
       "322.831460674157"
      ],
      "text/plain": [
       "[1] 322.8315"
      ]
     },
     "metadata": {},
     "output_type": "display_data"
    }
   ],
   "source": [
    "mean(ess18_male_subset$netustm, na.rm = TRUE) # Bonus"
   ]
  },
  {
   "cell_type": "code",
   "execution_count": 49,
   "metadata": {
    "scrolled": true,
    "slideshow": {
     "slide_type": "fragment"
    }
   },
   "outputs": [
    {
     "data": {
      "text/html": [
       "TRUE"
      ],
      "text/latex": [
       "TRUE"
      ],
      "text/markdown": [
       "TRUE"
      ],
      "text/plain": [
       "[1] TRUE"
      ]
     },
     "metadata": {},
     "output_type": "display_data"
    }
   ],
   "source": [
    "mean(ess18_male_subset$netustm, na.rm = TRUE) > mean(ess18_female_subset$netustm, na.rm = TRUE)"
   ]
  },
  {
   "cell_type": "markdown",
   "metadata": {
    "slideshow": {
     "slide_type": "slide"
    }
   },
   "source": [
    "## Recoding and creating variables\n",
    "\n",
    "Creating variables and (simple) recoding is usually done in the same way. The only difference being whether the recoding is assigned to a new variable or overwriting an existing (we are here only looking at recoding by arithmetic operations and not by replacing values)."
   ]
  },
  {
   "cell_type": "markdown",
   "metadata": {
    "slideshow": {
     "slide_type": "slide"
    }
   },
   "source": [
    "### Recoding and creating variables using `dplyr`\n",
    "\n",
    "The function `mutate()` in `dplyr` is use for creating and recoding variables:"
   ]
  },
  {
   "cell_type": "code",
   "execution_count": 52,
   "metadata": {
    "slideshow": {
     "slide_type": "fragment"
    }
   },
   "outputs": [
    {
     "data": {
      "text/html": [
       "<style>\n",
       ".list-inline {list-style: none; margin:0; padding: 0}\n",
       ".list-inline>li {display: inline-block}\n",
       ".list-inline>li:not(:last-child)::after {content: \"\\00b7\"; padding: 0 .5ex}\n",
       "</style>\n",
       "<ol class=list-inline><li>1.01666666666667</li><li>1.13333333333333</li><li>1.48333333333333</li><li>0.833333333333333</li><li>1.28333333333333</li><li>0.8</li></ol>\n"
      ],
      "text/latex": [
       "\\begin{enumerate*}\n",
       "\\item 1.01666666666667\n",
       "\\item 1.13333333333333\n",
       "\\item 1.48333333333333\n",
       "\\item 0.833333333333333\n",
       "\\item 1.28333333333333\n",
       "\\item 0.8\n",
       "\\end{enumerate*}\n"
      ],
      "text/markdown": [
       "1. 1.01666666666667\n",
       "2. 1.13333333333333\n",
       "3. 1.48333333333333\n",
       "4. 0.833333333333333\n",
       "5. 1.28333333333333\n",
       "6. 0.8\n",
       "\n",
       "\n"
      ],
      "text/plain": [
       "[1] 1.0166667 1.1333333 1.4833333 0.8333333 1.2833333 0.8000000"
      ]
     },
     "metadata": {},
     "output_type": "display_data"
    }
   ],
   "source": [
    "ess18 <- mutate(ess18, inwth = inwtm / 60)\n",
    "\n",
    "head(ess18$inwth)"
   ]
  },
  {
   "cell_type": "markdown",
   "metadata": {
    "slideshow": {
     "slide_type": "slide"
    }
   },
   "source": [
    "# EXERCISE 4: CREATING VARIABLES\n",
    "\n",
    "1. Create an age variable (the dataset is from 2018)\n",
    "\n",
    "2. Create a variable containing the difference between hours worked per week (`wkhtot`) and hours contracted per week (`wkhct`).\n",
    "\n",
    "3. What is the highest overtime value? (use either `summary()` or `max()`"
   ]
  },
  {
   "cell_type": "markdown",
   "metadata": {
    "slideshow": {
     "slide_type": "subslide"
    }
   },
   "source": [
    "# EXERCISE 4: CREATING VARIABLES"
   ]
  },
  {
   "cell_type": "code",
   "execution_count": 53,
   "metadata": {
    "slideshow": {
     "slide_type": "fragment"
    }
   },
   "outputs": [
    {
     "data": {
      "text/html": [
       "43"
      ],
      "text/latex": [
       "43"
      ],
      "text/markdown": [
       "43"
      ],
      "text/plain": [
       "[1] 43"
      ]
     },
     "metadata": {},
     "output_type": "display_data"
    }
   ],
   "source": [
    "ess18 <- mutate(ess18, age = 2018 - yrbrn,\n",
    "           overthrs = wkhtot - wkhct)\n",
    "\n",
    "max(ess18$overthrs, na.rm = TRUE)"
   ]
  },
  {
   "cell_type": "markdown",
   "metadata": {
    "slideshow": {
     "slide_type": "slide"
    }
   },
   "source": [
    "# Classes in R\n",
    "\n",
    "As mentioned earlier, R differentiates between objects via the \"class\" of the object.\n",
    "\n",
    "The function `class()` is used to check the class of an object:"
   ]
  },
  {
   "cell_type": "code",
   "execution_count": 54,
   "metadata": {
    "slideshow": {
     "slide_type": "fragment"
    }
   },
   "outputs": [],
   "source": [
    "name = \"keenan\"\n",
    "year = 1964"
   ]
  },
  {
   "cell_type": "code",
   "execution_count": 55,
   "metadata": {
    "slideshow": {
     "slide_type": "fragment"
    }
   },
   "outputs": [
    {
     "data": {
      "text/html": [
       "'character'"
      ],
      "text/latex": [
       "'character'"
      ],
      "text/markdown": [
       "'character'"
      ],
      "text/plain": [
       "[1] \"character\""
      ]
     },
     "metadata": {},
     "output_type": "display_data"
    }
   ],
   "source": [
    "class(name)"
   ]
  },
  {
   "cell_type": "code",
   "execution_count": 56,
   "metadata": {
    "slideshow": {
     "slide_type": "fragment"
    }
   },
   "outputs": [
    {
     "data": {
      "text/html": [
       "'numeric'"
      ],
      "text/latex": [
       "'numeric'"
      ],
      "text/markdown": [
       "'numeric'"
      ],
      "text/plain": [
       "[1] \"numeric\""
      ]
     },
     "metadata": {},
     "output_type": "display_data"
    }
   ],
   "source": [
    "class(year)"
   ]
  },
  {
   "cell_type": "markdown",
   "metadata": {
    "slideshow": {
     "slide_type": "slide"
    }
   },
   "source": [
    "Remember that single variables/vectors can only contain values of the same class. The `class()` function therefore works on vectors too.\n",
    "\n",
    "The variable `tygrtr` (Retire permanently, age too young) seems like a variable that should contain numeric values (the age). However, looking at the first couple of rows, we see that it also contains text values:"
   ]
  },
  {
   "cell_type": "code",
   "execution_count": 58,
   "metadata": {
    "slideshow": {
     "slide_type": "fragment"
    }
   },
   "outputs": [
    {
     "data": {
      "text/html": [
       "<style>\n",
       ".list-inline {list-style: none; margin:0; padding: 0}\n",
       ".list-inline>li {display: inline-block}\n",
       ".list-inline>li:not(:last-child)::after {content: \"\\00b7\"; padding: 0 .5ex}\n",
       "</style>\n",
       "<ol class=list-inline><li>'60'</li><li>'40'</li><li>'55'</li><li>'64'</li><li>'50'</li><li>'60'</li></ol>\n"
      ],
      "text/latex": [
       "\\begin{enumerate*}\n",
       "\\item '60'\n",
       "\\item '40'\n",
       "\\item '55'\n",
       "\\item '64'\n",
       "\\item '50'\n",
       "\\item '60'\n",
       "\\end{enumerate*}\n"
      ],
      "text/markdown": [
       "1. '60'\n",
       "2. '40'\n",
       "3. '55'\n",
       "4. '64'\n",
       "5. '50'\n",
       "6. '60'\n",
       "\n",
       "\n"
      ],
      "text/plain": [
       "[1] \"60\" \"40\" \"55\" \"64\" \"50\" \"60\""
      ]
     },
     "metadata": {},
     "output_type": "display_data"
    }
   ],
   "source": [
    "head(ess18$tygrtr)"
   ]
  },
  {
   "cell_type": "markdown",
   "metadata": {
    "slideshow": {
     "slide_type": "fragment"
    }
   },
   "source": [
    "When we check the class, we also see that the values are stored as text:"
   ]
  },
  {
   "cell_type": "code",
   "execution_count": 59,
   "metadata": {
    "slideshow": {
     "slide_type": "fragment"
    }
   },
   "outputs": [
    {
     "data": {
      "text/html": [
       "'character'"
      ],
      "text/latex": [
       "'character'"
      ],
      "text/markdown": [
       "'character'"
      ],
      "text/plain": [
       "[1] \"character\""
      ]
     },
     "metadata": {},
     "output_type": "display_data"
    }
   ],
   "source": [
    "class(ess18$tygrtr)"
   ]
  },
  {
   "cell_type": "markdown",
   "metadata": {
    "slideshow": {
     "slide_type": "slide"
    }
   },
   "source": [
    "This means that we cannot perform calculations with this variable:"
   ]
  },
  {
   "cell_type": "code",
   "execution_count": 60,
   "metadata": {
    "slideshow": {
     "slide_type": "fragment"
    }
   },
   "outputs": [
    {
     "data": {
      "text/html": [
       "NA"
      ],
      "text/latex": [
       "NA"
      ],
      "text/markdown": [
       "NA"
      ],
      "text/plain": [
       "[1] NA"
      ]
     },
     "metadata": {},
     "output_type": "display_data"
    }
   ],
   "source": [
    "max(ess18$tygrtr)"
   ]
  },
  {
   "cell_type": "markdown",
   "metadata": {
    "slideshow": {
     "slide_type": "slide"
    }
   },
   "source": [
    "## Class coercion\n",
    "\n",
    "In most cases, R can coerce values from one class to another. When doing this, values that are incompatible with the class are coded to missing (`NA`) so beware!\n",
    "\n",
    "Values can be coerced to character values with `as.character()`\n",
    "\n",
    "Values can be coerved to numeric values with `as.numeric()`\n",
    "\n",
    "Here we coerce the variable to be numeric (notice the warning):"
   ]
  },
  {
   "cell_type": "code",
   "execution_count": 66,
   "metadata": {
    "slideshow": {
     "slide_type": "fragment"
    }
   },
   "outputs": [
    {
     "name": "stderr",
     "output_type": "stream",
     "text": [
      "Warning message in mask$eval_all_mutate(quo):\n",
      "\"NAs introduced by coercion\"\n"
     ]
    }
   ],
   "source": [
    "ess18 <- mutate(ess18, tygrtr_num = as.numeric(tygrtr))"
   ]
  },
  {
   "cell_type": "markdown",
   "metadata": {
    "slideshow": {
     "slide_type": "fragment"
    }
   },
   "source": [
    "Now the variable can be used in calculations:"
   ]
  },
  {
   "cell_type": "code",
   "execution_count": 67,
   "metadata": {
    "slideshow": {
     "slide_type": "fragment"
    }
   },
   "outputs": [
    {
     "data": {
      "text/html": [
       "88"
      ],
      "text/latex": [
       "88"
      ],
      "text/markdown": [
       "88"
      ],
      "text/plain": [
       "[1] 88"
      ]
     },
     "metadata": {},
     "output_type": "display_data"
    }
   ],
   "source": [
    "max(ess18$tygrtr_num, na.rm = TRUE)"
   ]
  },
  {
   "cell_type": "markdown",
   "metadata": {
    "slideshow": {
     "slide_type": "slide"
    }
   },
   "source": [
    "# EXERCISE 5: CLASS COERCION\n",
    "\n",
    "Create a variable containing the number of years the respondent lived at home before living separately for 2 months or more (`lvpntyr`)\n",
    "\n",
    "Note that the variable `lvpntyr` might not be ready for calculations right away. \n",
    "\n",
    "Remember that `as.numeric()` converts values to numeric."
   ]
  },
  {
   "cell_type": "markdown",
   "metadata": {
    "slideshow": {
     "slide_type": "subslide"
    }
   },
   "source": [
    "# EXERCISE 5: CLASS COERCION"
   ]
  },
  {
   "cell_type": "code",
   "execution_count": 69,
   "metadata": {
    "slideshow": {
     "slide_type": "fragment"
    }
   },
   "outputs": [
    {
     "name": "stderr",
     "output_type": "stream",
     "text": [
      "Warning message in mask$eval_all_mutate(quo):\n",
      "\"NAs introduced by coercion\"\n"
     ]
    },
    {
     "data": {
      "text/html": [
       "<table class=\"dataframe\">\n",
       "<caption>A tibble: 6 × 23</caption>\n",
       "<thead>\n",
       "\t<tr><th scope=col>idno</th><th scope=col>netustm</th><th scope=col>ppltrst</th><th scope=col>vote</th><th scope=col>prtvtddk</th><th scope=col>health</th><th scope=col>lvpntyr</th><th scope=col>tygrtr</th><th scope=col>gndr</th><th scope=col>yrbrn</th><th scope=col>⋯</th><th scope=col>wkhtot</th><th scope=col>grspnum</th><th scope=col>frlgrsp</th><th scope=col>inwtm</th><th scope=col>inwth</th><th scope=col>age</th><th scope=col>overthrs</th><th scope=col>tygrtr_num</th><th scope=col>lvpntyr_num</th><th scope=col>yrhome</th></tr>\n",
       "\t<tr><th scope=col>&lt;dbl&gt;</th><th scope=col>&lt;dbl&gt;</th><th scope=col>&lt;dbl&gt;</th><th scope=col>&lt;chr&gt;</th><th scope=col>&lt;chr&gt;</th><th scope=col>&lt;chr&gt;</th><th scope=col>&lt;chr&gt;</th><th scope=col>&lt;chr&gt;</th><th scope=col>&lt;chr&gt;</th><th scope=col>&lt;dbl&gt;</th><th scope=col>⋯</th><th scope=col>&lt;dbl&gt;</th><th scope=col>&lt;dbl&gt;</th><th scope=col>&lt;dbl&gt;</th><th scope=col>&lt;dbl&gt;</th><th scope=col>&lt;dbl&gt;</th><th scope=col>&lt;dbl&gt;</th><th scope=col>&lt;dbl&gt;</th><th scope=col>&lt;dbl&gt;</th><th scope=col>&lt;dbl&gt;</th><th scope=col>&lt;dbl&gt;</th></tr>\n",
       "</thead>\n",
       "<tbody>\n",
       "\t<tr><td> 5816</td><td> 90</td><td>7</td><td>Yes</td><td>SF Socialistisk Folkeparti - Socialist People's Party</td><td>Good    </td><td>1994</td><td>60</td><td>Male  </td><td>1974</td><td>⋯</td><td>37</td><td>37000</td><td>35000</td><td>61</td><td>1.0166667</td><td>44</td><td> 0</td><td>60</td><td>1994</td><td>20</td></tr>\n",
       "\t<tr><td> 7251</td><td>300</td><td>5</td><td>Yes</td><td>Dansk Folkeparti - Danish People's Party             </td><td>Fair    </td><td>1993</td><td>40</td><td>Female</td><td>1975</td><td>⋯</td><td>34</td><td>22000</td><td>30000</td><td>68</td><td>1.1333333</td><td>43</td><td> 2</td><td>40</td><td>1993</td><td>18</td></tr>\n",
       "\t<tr><td> 7887</td><td>360</td><td>8</td><td>Yes</td><td>Socialdemokratiet - The Social democrats             </td><td>Fair    </td><td>1983</td><td>55</td><td>Male  </td><td>1958</td><td>⋯</td><td>39</td><td>36000</td><td>42000</td><td>89</td><td>1.4833333</td><td>60</td><td> 0</td><td>55</td><td>1983</td><td>25</td></tr>\n",
       "\t<tr><td> 9607</td><td>540</td><td>9</td><td>Yes</td><td>Alternativet - The Alternative                       </td><td>Good    </td><td>1982</td><td>64</td><td>Female</td><td>1964</td><td>⋯</td><td>34</td><td>32000</td><td>   NA</td><td>50</td><td>0.8333333</td><td>54</td><td> 2</td><td>64</td><td>1982</td><td>18</td></tr>\n",
       "\t<tr><td>11688</td><td> NA</td><td>5</td><td>Yes</td><td>Socialdemokratiet - The Social democrats             </td><td>Very bad</td><td>1968</td><td>50</td><td>Female</td><td>1952</td><td>⋯</td><td>37</td><td>   NA</td><td>   NA</td><td>77</td><td>1.2833333</td><td>66</td><td> 0</td><td>50</td><td>1968</td><td>16</td></tr>\n",
       "\t<tr><td>12355</td><td>120</td><td>5</td><td>Yes</td><td>Socialdemokratiet - The Social democrats             </td><td>Fair    </td><td>1987</td><td>60</td><td>Male  </td><td>1963</td><td>⋯</td><td>37</td><td>36000</td><td>38000</td><td>48</td><td>0.8000000</td><td>55</td><td>-1</td><td>60</td><td>1987</td><td>24</td></tr>\n",
       "</tbody>\n",
       "</table>\n"
      ],
      "text/latex": [
       "A tibble: 6 × 23\n",
       "\\begin{tabular}{lllllllllllllllllllll}\n",
       " idno & netustm & ppltrst & vote & prtvtddk & health & lvpntyr & tygrtr & gndr & yrbrn & ⋯ & wkhtot & grspnum & frlgrsp & inwtm & inwth & age & overthrs & tygrtr\\_num & lvpntyr\\_num & yrhome\\\\\n",
       " <dbl> & <dbl> & <dbl> & <chr> & <chr> & <chr> & <chr> & <chr> & <chr> & <dbl> & ⋯ & <dbl> & <dbl> & <dbl> & <dbl> & <dbl> & <dbl> & <dbl> & <dbl> & <dbl> & <dbl>\\\\\n",
       "\\hline\n",
       "\t  5816 &  90 & 7 & Yes & SF Socialistisk Folkeparti - Socialist People's Party & Good     & 1994 & 60 & Male   & 1974 & ⋯ & 37 & 37000 & 35000 & 61 & 1.0166667 & 44 &  0 & 60 & 1994 & 20\\\\\n",
       "\t  7251 & 300 & 5 & Yes & Dansk Folkeparti - Danish People's Party              & Fair     & 1993 & 40 & Female & 1975 & ⋯ & 34 & 22000 & 30000 & 68 & 1.1333333 & 43 &  2 & 40 & 1993 & 18\\\\\n",
       "\t  7887 & 360 & 8 & Yes & Socialdemokratiet - The Social democrats              & Fair     & 1983 & 55 & Male   & 1958 & ⋯ & 39 & 36000 & 42000 & 89 & 1.4833333 & 60 &  0 & 55 & 1983 & 25\\\\\n",
       "\t  9607 & 540 & 9 & Yes & Alternativet - The Alternative                        & Good     & 1982 & 64 & Female & 1964 & ⋯ & 34 & 32000 &    NA & 50 & 0.8333333 & 54 &  2 & 64 & 1982 & 18\\\\\n",
       "\t 11688 &  NA & 5 & Yes & Socialdemokratiet - The Social democrats              & Very bad & 1968 & 50 & Female & 1952 & ⋯ & 37 &    NA &    NA & 77 & 1.2833333 & 66 &  0 & 50 & 1968 & 16\\\\\n",
       "\t 12355 & 120 & 5 & Yes & Socialdemokratiet - The Social democrats              & Fair     & 1987 & 60 & Male   & 1963 & ⋯ & 37 & 36000 & 38000 & 48 & 0.8000000 & 55 & -1 & 60 & 1987 & 24\\\\\n",
       "\\end{tabular}\n"
      ],
      "text/markdown": [
       "\n",
       "A tibble: 6 × 23\n",
       "\n",
       "| idno &lt;dbl&gt; | netustm &lt;dbl&gt; | ppltrst &lt;dbl&gt; | vote &lt;chr&gt; | prtvtddk &lt;chr&gt; | health &lt;chr&gt; | lvpntyr &lt;chr&gt; | tygrtr &lt;chr&gt; | gndr &lt;chr&gt; | yrbrn &lt;dbl&gt; | ⋯ ⋯ | wkhtot &lt;dbl&gt; | grspnum &lt;dbl&gt; | frlgrsp &lt;dbl&gt; | inwtm &lt;dbl&gt; | inwth &lt;dbl&gt; | age &lt;dbl&gt; | overthrs &lt;dbl&gt; | tygrtr_num &lt;dbl&gt; | lvpntyr_num &lt;dbl&gt; | yrhome &lt;dbl&gt; |\n",
       "|---|---|---|---|---|---|---|---|---|---|---|---|---|---|---|---|---|---|---|---|---|\n",
       "|  5816 |  90 | 7 | Yes | SF Socialistisk Folkeparti - Socialist People's Party | Good     | 1994 | 60 | Male   | 1974 | ⋯ | 37 | 37000 | 35000 | 61 | 1.0166667 | 44 |  0 | 60 | 1994 | 20 |\n",
       "|  7251 | 300 | 5 | Yes | Dansk Folkeparti - Danish People's Party              | Fair     | 1993 | 40 | Female | 1975 | ⋯ | 34 | 22000 | 30000 | 68 | 1.1333333 | 43 |  2 | 40 | 1993 | 18 |\n",
       "|  7887 | 360 | 8 | Yes | Socialdemokratiet - The Social democrats              | Fair     | 1983 | 55 | Male   | 1958 | ⋯ | 39 | 36000 | 42000 | 89 | 1.4833333 | 60 |  0 | 55 | 1983 | 25 |\n",
       "|  9607 | 540 | 9 | Yes | Alternativet - The Alternative                        | Good     | 1982 | 64 | Female | 1964 | ⋯ | 34 | 32000 |    NA | 50 | 0.8333333 | 54 |  2 | 64 | 1982 | 18 |\n",
       "| 11688 |  NA | 5 | Yes | Socialdemokratiet - The Social democrats              | Very bad | 1968 | 50 | Female | 1952 | ⋯ | 37 |    NA |    NA | 77 | 1.2833333 | 66 |  0 | 50 | 1968 | 16 |\n",
       "| 12355 | 120 | 5 | Yes | Socialdemokratiet - The Social democrats              | Fair     | 1987 | 60 | Male   | 1963 | ⋯ | 37 | 36000 | 38000 | 48 | 0.8000000 | 55 | -1 | 60 | 1987 | 24 |\n",
       "\n"
      ],
      "text/plain": [
       "  idno  netustm ppltrst vote\n",
       "1  5816  90     7       Yes \n",
       "2  7251 300     5       Yes \n",
       "3  7887 360     8       Yes \n",
       "4  9607 540     9       Yes \n",
       "5 11688  NA     5       Yes \n",
       "6 12355 120     5       Yes \n",
       "  prtvtddk                                              health   lvpntyr tygrtr\n",
       "1 SF Socialistisk Folkeparti - Socialist People's Party Good     1994    60    \n",
       "2 Dansk Folkeparti - Danish People's Party              Fair     1993    40    \n",
       "3 Socialdemokratiet - The Social democrats              Fair     1983    55    \n",
       "4 Alternativet - The Alternative                        Good     1982    64    \n",
       "5 Socialdemokratiet - The Social democrats              Very bad 1968    50    \n",
       "6 Socialdemokratiet - The Social democrats              Fair     1987    60    \n",
       "  gndr   yrbrn <U+22EF>        wkhtot grspnum frlgrsp inwtm inwth     age overthrs\n",
       "1 Male   1974  <U+22EF> 37     37000   35000   61    1.0166667 44   0      \n",
       "2 Female 1975  <U+22EF> 34     22000   30000   68    1.1333333 43   2      \n",
       "3 Male   1958  <U+22EF> 39     36000   42000   89    1.4833333 60   0      \n",
       "4 Female 1964  <U+22EF> 34     32000      NA   50    0.8333333 54   2      \n",
       "5 Female 1952  <U+22EF> 37        NA      NA   77    1.2833333 66   0      \n",
       "6 Male   1963  <U+22EF> 37     36000   38000   48    0.8000000 55  -1      \n",
       "  tygrtr_num lvpntyr_num yrhome\n",
       "1 60         1994        20    \n",
       "2 40         1993        18    \n",
       "3 55         1983        25    \n",
       "4 64         1982        18    \n",
       "5 50         1968        16    \n",
       "6 60         1987        24    "
      ]
     },
     "metadata": {},
     "output_type": "display_data"
    }
   ],
   "source": [
    "ess18 <- mutate(ess18, lvpntyr_num = as.numeric(lvpntyr),\n",
    "                yrhome = lvpntyr_num - yrbrn)\n",
    "\n",
    "head(ess18)"
   ]
  },
  {
   "cell_type": "markdown",
   "metadata": {},
   "source": [
    "# Saving files \n",
    "\n",
    "The most important thing to save is the R script.\n",
    "\n",
    "Use the save icon to save your script.\n",
    "\n",
    "![save](./img/save-script.png)"
   ]
  }
 ],
 "metadata": {
  "celltoolbar": "Slideshow",
  "kernelspec": {
   "display_name": "R",
   "language": "R",
   "name": "ir"
  },
  "language_info": {
   "codemirror_mode": "r",
   "file_extension": ".r",
   "mimetype": "text/x-r-source",
   "name": "R",
   "pygments_lexer": "r",
   "version": "4.1.1"
  }
 },
 "nbformat": 4,
 "nbformat_minor": 4
}
