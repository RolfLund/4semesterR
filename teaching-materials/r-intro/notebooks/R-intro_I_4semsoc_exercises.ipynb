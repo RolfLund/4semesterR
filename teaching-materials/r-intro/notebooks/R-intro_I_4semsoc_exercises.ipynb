{
 "cells": [
  {
   "cell_type": "markdown",
   "id": "846107c9-d580-4a65-b7a0-24c56e43c807",
   "metadata": {
    "slideshow": {
     "slide_type": "slide"
    }
   },
   "source": [
    "## ØVELSE 1: OBJEKTER OG FUNKTIONER\n",
    "\n",
    "1. Dan følgende objekter:\n",
    "\n",
    "    - `name1`: `\"araya\"`\n",
    "    - `name2`: `\"townsend\"`\n",
    "    - `year1`: `1961` (uden citationstegn)\n",
    "    - `year2`: `\"1972\"` (med citationstegn)\n",
    "\n",
    "2. Forsøg at udregn alderen for `year1` og `year2` (nuværende år - year-objekt). \n",
    "\n",
    "3. Brug funktionen `toupper()` til at ændre `name1` til blokbogstaver."
   ]
  },
  {
   "cell_type": "markdown",
   "id": "b03dd1fc-8e92-42a0-bad4-3a648890dcd1",
   "metadata": {
    "slideshow": {
     "slide_type": "slide"
    }
   },
   "source": [
    "## ØVELSE 2: DESKRIPTIVE MÅL\n",
    "\n",
    "Brug forskellige funktioner til at udregne følgende:\n",
    "\n",
    "- Middelværdien (`mean()`) for tid brugt på internettet om dagen (`netustm`)\n",
    "- Den højeste værdi (`max()`) for tid brugt på internettet om dagen (`netustm`)\n",
    "- Medianen (`median()`) for brutto månedsløn (`grspnum`)\n",
    "\n",
    "BEMÆRK! Variablene indeholder muligvis missing-værdier. Tjek hjælpefilerne for at se, hvordan man tager højde for dette."
   ]
  },
  {
   "cell_type": "markdown",
   "id": "e5384398-d286-43a6-bf9c-918dc58af120",
   "metadata": {
    "slideshow": {
     "slide_type": "slide"
    }
   },
   "source": [
    "## ØVELSE 3: SUBSETTING\n",
    "\n",
    "1. Dan et subset af data, der *kun* indeholder kvinder født efter 1980 og med følgende variable: `idno`, `gndr`, `yrbrn`, `netustm`\n",
    "\n",
    "2. Brug `head()` til at tjekke om subsettet ser rigtigt ud.\n",
    "\n",
    "3. Beregn middelværdien for tid brugt på internettet om dagen (`netustm`) for subsettet.\n",
    "\n",
    "### Ekstra øvelse\n",
    "\n",
    "1. Dan et subset for mænd født efter 1980\n",
    "2. Beregn middelværdien for tid brugt på internettet om dagen (`netustm`) for subsettet. Er middelværdien højere eller lavere end det for kvinderne?"
   ]
  },
  {
   "cell_type": "markdown",
   "id": "5ea5a286-8481-4f3a-b8fe-702e7df8abd6",
   "metadata": {
    "slideshow": {
     "slide_type": "slide"
    }
   },
   "source": [
    "## ØVELSE 4: DAN NYE VARIABLE\n",
    "\n",
    "1. Dan en aldersvariabel (datasættet er fra 2018)\n",
    "\n",
    "2. Dan en overtids-variabel, der indeholder forskellen mellem faktiske arbejdstimer om ugen (`wkhtot`) og arbejdstimer ansat til om ugen (`wkhct`).\n",
    "\n",
    "3. Hvad er den højeste overtidsværdi? (brug enten `summary()` eller `max()`"
   ]
  },
  {
   "cell_type": "markdown",
   "id": "58a4d16d-b2e2-4e42-9473-934e14c416e8",
   "metadata": {
    "slideshow": {
     "slide_type": "slide"
    }
   },
   "source": [
    "## ØVELSE 5: CLASS COERCION\n",
    "\n",
    "Dan en variabel, der indeholder antal år respondenten boede hjemme, inden de flyttede hjemmefra (`lvpntyr`: first time living separately for 2 months). \n",
    "\n",
    "Bemærk at variablen `lvpntyr` muligvis ikke er klar til beregninger med det samme.\n",
    "\n",
    "Husk at `as.numeric()` tvinger værdier om til tal."
   ]
  }
 ],
 "metadata": {
  "kernelspec": {
   "display_name": "R",
   "language": "R",
   "name": "ir"
  },
  "language_info": {
   "codemirror_mode": "r",
   "file_extension": ".r",
   "mimetype": "text/x-r-source",
   "name": "R",
   "pygments_lexer": "r",
   "version": "4.1.1"
  }
 },
 "nbformat": 4,
 "nbformat_minor": 5
}
